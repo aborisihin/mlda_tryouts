{
 "cells": [
  {
   "cell_type": "code",
   "execution_count": 78,
   "metadata": {
    "ExecuteTime": {
     "end_time": "2018-04-16T20:23:38.886064Z",
     "start_time": "2018-04-16T20:23:38.870071Z"
    }
   },
   "outputs": [],
   "source": [
    "import numpy as np\n",
    "import pandas as pd\n",
    "import matplotlib.pyplot as plt\n",
    "\n",
    "from datetime import datetime\n",
    "\n",
    "from sklearn.linear_model import LogisticRegression\n",
    "from sklearn.preprocessing import StandardScaler, LabelBinarizer\n",
    "from sklearn.model_selection import train_test_split, GridSearchCV, cross_val_predict\n",
    "from sklearn.metrics import roc_auc_score\n",
    "\n",
    "from scipy import sparse\n",
    "\n",
    "from xgboost import XGBClassifier\n",
    "\n",
    "%matplotlib inline"
   ]
  },
  {
   "cell_type": "code",
   "execution_count": 76,
   "metadata": {},
   "outputs": [],
   "source": [
    "def write_submission_file(prediction, filename, timestamp=False):\n",
    "    \n",
    "    sample_submission = pd.read_csv('./../data/kaggle_flights/sample_submission.csv', index_col='id')\n",
    "    sample_submission['dep_delayed_15min'] = prediction\n",
    "    \n",
    "    if timestamp:\n",
    "        full_filename = '{}_{}.csv'.format(filename, datetime.now().strftime('%m%d_%H%M'))\n",
    "    else:\n",
    "        full_filename = '{}.csv'.format(filename)\n",
    "    \n",
    "    sample_submission.to_csv('./submissions/{}'.format(full_filename))"
   ]
  },
  {
   "cell_type": "code",
   "execution_count": 2,
   "metadata": {
    "ExecuteTime": {
     "end_time": "2018-04-16T19:56:06.093148Z",
     "start_time": "2018-04-16T19:56:05.553488Z"
    }
   },
   "outputs": [],
   "source": [
    "train_df = pd.read_csv('./../data/kaggle_flights/flight_delays_train.csv')\n",
    "test_df = pd.read_csv('./../data/kaggle_flights/flight_delays_test.csv')"
   ]
  },
  {
   "cell_type": "code",
   "execution_count": 3,
   "metadata": {
    "ExecuteTime": {
     "end_time": "2018-04-16T19:56:06.140192Z",
     "start_time": "2018-04-16T19:56:06.093148Z"
    }
   },
   "outputs": [
    {
     "data": {
      "text/html": [
       "<div>\n",
       "<style scoped>\n",
       "    .dataframe tbody tr th:only-of-type {\n",
       "        vertical-align: middle;\n",
       "    }\n",
       "\n",
       "    .dataframe tbody tr th {\n",
       "        vertical-align: top;\n",
       "    }\n",
       "\n",
       "    .dataframe thead th {\n",
       "        text-align: right;\n",
       "    }\n",
       "</style>\n",
       "<table border=\"1\" class=\"dataframe\">\n",
       "  <thead>\n",
       "    <tr style=\"text-align: right;\">\n",
       "      <th></th>\n",
       "      <th>Month</th>\n",
       "      <th>DayofMonth</th>\n",
       "      <th>DayOfWeek</th>\n",
       "      <th>DepTime</th>\n",
       "      <th>UniqueCarrier</th>\n",
       "      <th>Origin</th>\n",
       "      <th>Dest</th>\n",
       "      <th>Distance</th>\n",
       "      <th>dep_delayed_15min</th>\n",
       "    </tr>\n",
       "  </thead>\n",
       "  <tbody>\n",
       "    <tr>\n",
       "      <th>0</th>\n",
       "      <td>c-8</td>\n",
       "      <td>c-21</td>\n",
       "      <td>c-7</td>\n",
       "      <td>1934</td>\n",
       "      <td>AA</td>\n",
       "      <td>ATL</td>\n",
       "      <td>DFW</td>\n",
       "      <td>732</td>\n",
       "      <td>N</td>\n",
       "    </tr>\n",
       "    <tr>\n",
       "      <th>1</th>\n",
       "      <td>c-4</td>\n",
       "      <td>c-20</td>\n",
       "      <td>c-3</td>\n",
       "      <td>1548</td>\n",
       "      <td>US</td>\n",
       "      <td>PIT</td>\n",
       "      <td>MCO</td>\n",
       "      <td>834</td>\n",
       "      <td>N</td>\n",
       "    </tr>\n",
       "    <tr>\n",
       "      <th>2</th>\n",
       "      <td>c-9</td>\n",
       "      <td>c-2</td>\n",
       "      <td>c-5</td>\n",
       "      <td>1422</td>\n",
       "      <td>XE</td>\n",
       "      <td>RDU</td>\n",
       "      <td>CLE</td>\n",
       "      <td>416</td>\n",
       "      <td>N</td>\n",
       "    </tr>\n",
       "    <tr>\n",
       "      <th>3</th>\n",
       "      <td>c-11</td>\n",
       "      <td>c-25</td>\n",
       "      <td>c-6</td>\n",
       "      <td>1015</td>\n",
       "      <td>OO</td>\n",
       "      <td>DEN</td>\n",
       "      <td>MEM</td>\n",
       "      <td>872</td>\n",
       "      <td>N</td>\n",
       "    </tr>\n",
       "    <tr>\n",
       "      <th>4</th>\n",
       "      <td>c-10</td>\n",
       "      <td>c-7</td>\n",
       "      <td>c-6</td>\n",
       "      <td>1828</td>\n",
       "      <td>WN</td>\n",
       "      <td>MDW</td>\n",
       "      <td>OMA</td>\n",
       "      <td>423</td>\n",
       "      <td>Y</td>\n",
       "    </tr>\n",
       "  </tbody>\n",
       "</table>\n",
       "</div>"
      ],
      "text/plain": [
       "  Month DayofMonth DayOfWeek  DepTime UniqueCarrier Origin Dest  Distance  \\\n",
       "0   c-8       c-21       c-7     1934            AA    ATL  DFW       732   \n",
       "1   c-4       c-20       c-3     1548            US    PIT  MCO       834   \n",
       "2   c-9        c-2       c-5     1422            XE    RDU  CLE       416   \n",
       "3  c-11       c-25       c-6     1015            OO    DEN  MEM       872   \n",
       "4  c-10        c-7       c-6     1828            WN    MDW  OMA       423   \n",
       "\n",
       "  dep_delayed_15min  \n",
       "0                 N  \n",
       "1                 N  \n",
       "2                 N  \n",
       "3                 N  \n",
       "4                 Y  "
      ]
     },
     "execution_count": 3,
     "metadata": {},
     "output_type": "execute_result"
    }
   ],
   "source": [
    "train_df.head()"
   ]
  },
  {
   "cell_type": "code",
   "execution_count": 4,
   "metadata": {
    "ExecuteTime": {
     "end_time": "2018-04-16T19:56:07.044377Z",
     "start_time": "2018-04-16T19:56:06.979072Z"
    }
   },
   "outputs": [
    {
     "data": {
      "text/html": [
       "<div>\n",
       "<style scoped>\n",
       "    .dataframe tbody tr th:only-of-type {\n",
       "        vertical-align: middle;\n",
       "    }\n",
       "\n",
       "    .dataframe tbody tr th {\n",
       "        vertical-align: top;\n",
       "    }\n",
       "\n",
       "    .dataframe thead th {\n",
       "        text-align: right;\n",
       "    }\n",
       "</style>\n",
       "<table border=\"1\" class=\"dataframe\">\n",
       "  <thead>\n",
       "    <tr style=\"text-align: right;\">\n",
       "      <th></th>\n",
       "      <th>Month</th>\n",
       "      <th>DayofMonth</th>\n",
       "      <th>DayOfWeek</th>\n",
       "      <th>DepTime</th>\n",
       "      <th>UniqueCarrier</th>\n",
       "      <th>Origin</th>\n",
       "      <th>Dest</th>\n",
       "      <th>Distance</th>\n",
       "    </tr>\n",
       "  </thead>\n",
       "  <tbody>\n",
       "    <tr>\n",
       "      <th>0</th>\n",
       "      <td>c-7</td>\n",
       "      <td>c-25</td>\n",
       "      <td>c-3</td>\n",
       "      <td>615</td>\n",
       "      <td>YV</td>\n",
       "      <td>MRY</td>\n",
       "      <td>PHX</td>\n",
       "      <td>598</td>\n",
       "    </tr>\n",
       "    <tr>\n",
       "      <th>1</th>\n",
       "      <td>c-4</td>\n",
       "      <td>c-17</td>\n",
       "      <td>c-2</td>\n",
       "      <td>739</td>\n",
       "      <td>WN</td>\n",
       "      <td>LAS</td>\n",
       "      <td>HOU</td>\n",
       "      <td>1235</td>\n",
       "    </tr>\n",
       "    <tr>\n",
       "      <th>2</th>\n",
       "      <td>c-12</td>\n",
       "      <td>c-2</td>\n",
       "      <td>c-7</td>\n",
       "      <td>651</td>\n",
       "      <td>MQ</td>\n",
       "      <td>GSP</td>\n",
       "      <td>ORD</td>\n",
       "      <td>577</td>\n",
       "    </tr>\n",
       "    <tr>\n",
       "      <th>3</th>\n",
       "      <td>c-3</td>\n",
       "      <td>c-25</td>\n",
       "      <td>c-7</td>\n",
       "      <td>1614</td>\n",
       "      <td>WN</td>\n",
       "      <td>BWI</td>\n",
       "      <td>MHT</td>\n",
       "      <td>377</td>\n",
       "    </tr>\n",
       "    <tr>\n",
       "      <th>4</th>\n",
       "      <td>c-6</td>\n",
       "      <td>c-6</td>\n",
       "      <td>c-3</td>\n",
       "      <td>1505</td>\n",
       "      <td>UA</td>\n",
       "      <td>ORD</td>\n",
       "      <td>STL</td>\n",
       "      <td>258</td>\n",
       "    </tr>\n",
       "  </tbody>\n",
       "</table>\n",
       "</div>"
      ],
      "text/plain": [
       "  Month DayofMonth DayOfWeek  DepTime UniqueCarrier Origin Dest  Distance\n",
       "0   c-7       c-25       c-3      615            YV    MRY  PHX       598\n",
       "1   c-4       c-17       c-2      739            WN    LAS  HOU      1235\n",
       "2  c-12        c-2       c-7      651            MQ    GSP  ORD       577\n",
       "3   c-3       c-25       c-7     1614            WN    BWI  MHT       377\n",
       "4   c-6        c-6       c-3     1505            UA    ORD  STL       258"
      ]
     },
     "execution_count": 4,
     "metadata": {},
     "output_type": "execute_result"
    }
   ],
   "source": [
    "test_df.head()"
   ]
  },
  {
   "cell_type": "markdown",
   "metadata": {},
   "source": [
    "### process data"
   ]
  },
  {
   "cell_type": "code",
   "execution_count": 5,
   "metadata": {
    "ExecuteTime": {
     "end_time": "2018-04-16T19:56:08.364911Z",
     "start_time": "2018-04-16T19:56:08.356931Z"
    }
   },
   "outputs": [],
   "source": [
    "train_features = dict()\n",
    "test_features = dict()"
   ]
  },
  {
   "cell_type": "code",
   "execution_count": 6,
   "metadata": {
    "ExecuteTime": {
     "end_time": "2018-04-16T19:56:08.824259Z",
     "start_time": "2018-04-16T19:56:08.812260Z"
    }
   },
   "outputs": [],
   "source": [
    "scaler = StandardScaler()\n",
    "l_binarizer = LabelBinarizer()"
   ]
  },
  {
   "cell_type": "code",
   "execution_count": 7,
   "metadata": {
    "ExecuteTime": {
     "end_time": "2018-04-16T19:56:09.194865Z",
     "start_time": "2018-04-16T19:56:09.174860Z"
    }
   },
   "outputs": [],
   "source": [
    "train_distance = train_df['Distance'].astype('float64').values.reshape(-1, 1)\n",
    "test_distance = test_df['Distance'].astype('float64').values.reshape(-1, 1)\n",
    "\n",
    "scaler.fit(train_distance)\n",
    "\n",
    "train_features['distance_scaled'] = scaler.transform(train_distance)\n",
    "test_features['distance_scaled'] = scaler.transform(test_distance)"
   ]
  },
  {
   "cell_type": "code",
   "execution_count": 8,
   "metadata": {
    "ExecuteTime": {
     "end_time": "2018-04-16T19:56:09.623006Z",
     "start_time": "2018-04-16T19:56:09.599000Z"
    }
   },
   "outputs": [],
   "source": [
    "train_deptime = train_df['DepTime'].astype('float64').values.reshape(-1, 1)\n",
    "test_deptime = test_df['DepTime'].astype('float64').values.reshape(-1, 1)\n",
    "\n",
    "scaler.fit(train_deptime)\n",
    "\n",
    "train_features['dep_time_scaled'] = scaler.transform(train_deptime)\n",
    "test_features['dep_time_scaled'] = scaler.transform(test_deptime)"
   ]
  },
  {
   "cell_type": "code",
   "execution_count": 9,
   "metadata": {
    "ExecuteTime": {
     "end_time": "2018-04-16T19:56:57.378899Z",
     "start_time": "2018-04-16T19:56:10.082989Z"
    }
   },
   "outputs": [
    {
     "name": "stdout",
     "output_type": "stream",
     "text": [
      "Wall time: 1min 27s\n"
     ]
    }
   ],
   "source": [
    "%%time\n",
    "\n",
    "route_getter = lambda row: '{}-{}'.format(row['Origin'], row['Dest'])\n",
    "\n",
    "train_route = train_df.apply(route_getter, axis=1)\n",
    "test_route = test_df.apply(route_getter, axis=1)\n",
    "\n",
    "l_binarizer.fit(train_route)\n",
    "\n",
    "train_features['route'] = l_binarizer.transform(train_route)\n",
    "test_features['route'] = l_binarizer.transform(test_route)"
   ]
  },
  {
   "cell_type": "code",
   "execution_count": 10,
   "metadata": {
    "ExecuteTime": {
     "end_time": "2018-04-16T19:56:58.240245Z",
     "start_time": "2018-04-16T19:56:57.390903Z"
    }
   },
   "outputs": [],
   "source": [
    "train_month = train_df['Month']\n",
    "test_month = test_df['Month']\n",
    "\n",
    "l_binarizer.fit(train_month)\n",
    "\n",
    "train_features['month'] = l_binarizer.transform(train_month)\n",
    "test_features['month'] = l_binarizer.transform(test_month)"
   ]
  },
  {
   "cell_type": "code",
   "execution_count": 11,
   "metadata": {
    "ExecuteTime": {
     "end_time": "2018-04-16T19:56:59.262475Z",
     "start_time": "2018-04-16T19:56:58.240245Z"
    }
   },
   "outputs": [],
   "source": [
    "train_dayofmonth = train_df['DayofMonth']\n",
    "test_dayofmonth = test_df['DayofMonth']\n",
    "\n",
    "l_binarizer.fit(train_dayofmonth)\n",
    "\n",
    "train_features['dayofmonth'] = l_binarizer.transform(train_dayofmonth)\n",
    "test_features['dayofmonth'] = l_binarizer.transform(test_dayofmonth)"
   ]
  },
  {
   "cell_type": "code",
   "execution_count": 12,
   "metadata": {
    "ExecuteTime": {
     "end_time": "2018-04-16T19:57:00.031067Z",
     "start_time": "2018-04-16T19:56:59.262475Z"
    }
   },
   "outputs": [],
   "source": [
    "train_dayofweek = train_df['DayOfWeek']\n",
    "test_dayofweek = test_df['DayOfWeek']\n",
    "\n",
    "l_binarizer.fit(train_dayofweek)\n",
    "\n",
    "train_features['dayofweek'] = l_binarizer.transform(train_dayofweek)\n",
    "test_features['dayofweek'] = l_binarizer.transform(test_dayofweek)"
   ]
  },
  {
   "cell_type": "code",
   "execution_count": 13,
   "metadata": {
    "ExecuteTime": {
     "end_time": "2018-04-16T19:57:00.934995Z",
     "start_time": "2018-04-16T19:57:00.031406Z"
    }
   },
   "outputs": [],
   "source": [
    "train_carrier = train_df['UniqueCarrier']\n",
    "test_carrier = test_df['UniqueCarrier']\n",
    "\n",
    "l_binarizer.fit(train_carrier)\n",
    "\n",
    "train_features['carrier'] = l_binarizer.transform(train_carrier)\n",
    "test_features['carrier'] = l_binarizer.transform(test_carrier)"
   ]
  },
  {
   "cell_type": "markdown",
   "metadata": {},
   "source": [
    "### make datasets"
   ]
  },
  {
   "cell_type": "code",
   "execution_count": 14,
   "metadata": {
    "ExecuteTime": {
     "end_time": "2018-04-16T19:58:03.309502Z",
     "start_time": "2018-04-16T19:58:03.297503Z"
    }
   },
   "outputs": [
    {
     "name": "stdout",
     "output_type": "stream",
     "text": [
      "distance_scaled - <class 'numpy.ndarray'> ((100000, 1))\n",
      "dep_time_scaled - <class 'numpy.ndarray'> ((100000, 1))\n",
      "route - <class 'numpy.ndarray'> ((100000, 4429))\n",
      "month - <class 'numpy.ndarray'> ((100000, 12))\n",
      "dayofmonth - <class 'numpy.ndarray'> ((100000, 31))\n",
      "dayofweek - <class 'numpy.ndarray'> ((100000, 7))\n",
      "carrier - <class 'numpy.ndarray'> ((100000, 22))\n"
     ]
    }
   ],
   "source": [
    "for (key, val) in train_features.items():\n",
    "    print('{} - {} ({})'.format(key, type(val), val.shape))"
   ]
  },
  {
   "cell_type": "code",
   "execution_count": 15,
   "metadata": {
    "ExecuteTime": {
     "end_time": "2018-04-16T20:01:20.577623Z",
     "start_time": "2018-04-16T20:01:20.565625Z"
    }
   },
   "outputs": [
    {
     "name": "stdout",
     "output_type": "stream",
     "text": [
      "distance_scaled - <class 'numpy.ndarray'> ((100000, 1))\n",
      "dep_time_scaled - <class 'numpy.ndarray'> ((100000, 1))\n",
      "route - <class 'numpy.ndarray'> ((100000, 4429))\n",
      "month - <class 'numpy.ndarray'> ((100000, 12))\n",
      "dayofmonth - <class 'numpy.ndarray'> ((100000, 31))\n",
      "dayofweek - <class 'numpy.ndarray'> ((100000, 7))\n",
      "carrier - <class 'numpy.ndarray'> ((100000, 22))\n"
     ]
    }
   ],
   "source": [
    "for (key, val) in test_features.items():\n",
    "    print('{} - {} ({})'.format(key, type(val), val.shape))"
   ]
  },
  {
   "cell_type": "code",
   "execution_count": 16,
   "metadata": {
    "ExecuteTime": {
     "end_time": "2018-04-16T20:29:37.619145Z",
     "start_time": "2018-04-16T20:29:08.842326Z"
    }
   },
   "outputs": [
    {
     "name": "stdout",
     "output_type": "stream",
     "text": [
      "Wall time: 1min 36s\n"
     ]
    }
   ],
   "source": [
    "%%time\n",
    "\n",
    "X = sparse.csr_matrix(np.hstack(train_features.values()))\n",
    "X_test = sparse.csr_matrix(np.hstack(test_features.values()))\n",
    "y = train_df['dep_delayed_15min'].map({'Y': 1, 'N': 0}).values.astype('int')"
   ]
  },
  {
   "cell_type": "code",
   "execution_count": 17,
   "metadata": {
    "ExecuteTime": {
     "end_time": "2018-04-16T20:30:01.194777Z",
     "start_time": "2018-04-16T20:30:01.174778Z"
    }
   },
   "outputs": [
    {
     "name": "stdout",
     "output_type": "stream",
     "text": [
      "(100000, 4503)\n",
      "(100000, 4503)\n",
      "(100000,)\n"
     ]
    }
   ],
   "source": [
    "print(X.shape)\n",
    "print(X_test.shape)\n",
    "print(y.shape)"
   ]
  },
  {
   "cell_type": "code",
   "execution_count": 18,
   "metadata": {
    "ExecuteTime": {
     "end_time": "2018-04-16T20:30:02.277747Z",
     "start_time": "2018-04-16T20:30:02.193711Z"
    }
   },
   "outputs": [],
   "source": [
    "X_train, X_valid, y_train, y_valid = train_test_split(X, y, test_size=0.3, random_state=14)"
   ]
  },
  {
   "cell_type": "markdown",
   "metadata": {},
   "source": [
    "### logistic regression param search"
   ]
  },
  {
   "cell_type": "code",
   "execution_count": 19,
   "metadata": {
    "ExecuteTime": {
     "end_time": "2018-04-16T20:22:54.519580Z",
     "start_time": "2018-04-16T20:22:54.503582Z"
    }
   },
   "outputs": [],
   "source": [
    "lr_param_grid = {\n",
    "    'class_weight': [None, 'balanced'],\n",
    "    'C': np.logspace(-2, 1.5, 25)\n",
    "}"
   ]
  },
  {
   "cell_type": "code",
   "execution_count": 20,
   "metadata": {
    "ExecuteTime": {
     "end_time": "2018-04-16T20:25:15.611918Z",
     "start_time": "2018-04-16T20:25:15.595919Z"
    }
   },
   "outputs": [],
   "source": [
    "lr_gs = GridSearchCV(LogisticRegression(random_state=14), lr_param_grid, scoring='roc_auc', cv=5, verbose=True, n_jobs=-1)"
   ]
  },
  {
   "cell_type": "code",
   "execution_count": 23,
   "metadata": {
    "ExecuteTime": {
     "end_time": "2018-04-16T21:12:05.103911Z",
     "start_time": "2018-04-16T21:12:05.095930Z"
    }
   },
   "outputs": [],
   "source": [
    "%%time\n",
    "\n",
    "lr_gs.fit(X_train, y_train)"
   ]
  },
  {
   "cell_type": "code",
   "execution_count": 42,
   "metadata": {},
   "outputs": [
    {
     "name": "stdout",
     "output_type": "stream",
     "text": [
      "0.7011404569294575\n",
      "{'C': 0.14677992676220697, 'class_weight': None}\n"
     ]
    }
   ],
   "source": [
    "print(lr_gs.best_score_)\n",
    "print(lr_gs.best_params_)"
   ]
  },
  {
   "cell_type": "markdown",
   "metadata": {},
   "source": [
    "**AWS results:**<br>\n",
    "lr_gs.best_score_ = 0.7011404768621023<br>\n",
    "lr_gs.best_params_ = {'C': 0.14677992676220697, 'class_weight': None}"
   ]
  },
  {
   "cell_type": "code",
   "execution_count": 45,
   "metadata": {},
   "outputs": [],
   "source": [
    "best_lr = LogisticRegression(C=lr_gs.best_params_['C'], \n",
    "                             class_weight=lr_gs.best_params_['class_weight'])"
   ]
  },
  {
   "cell_type": "markdown",
   "metadata": {},
   "source": [
    "### xgboost param search"
   ]
  },
  {
   "cell_type": "code",
   "execution_count": 33,
   "metadata": {},
   "outputs": [],
   "source": [
    "xgb_param_grid = {\n",
    "    'max_depth': [3, 5, 7, 10, 15, 20],\n",
    "    'n_estimators': [200, 350, 500, 750, 1000]\n",
    "}"
   ]
  },
  {
   "cell_type": "code",
   "execution_count": 34,
   "metadata": {},
   "outputs": [],
   "source": [
    "xgb_gs = GridSearchCV(XGBClassifier(random_state=14), xgb_param_grid, scoring='roc_auc', cv=5, verbose=True, n_jobs=-1)"
   ]
  },
  {
   "cell_type": "code",
   "execution_count": 35,
   "metadata": {},
   "outputs": [
    {
     "name": "stdout",
     "output_type": "stream",
     "text": [
      "Fitting 5 folds for each of 30 candidates, totalling 150 fits\n"
     ]
    },
    {
     "name": "stderr",
     "output_type": "stream",
     "text": [
      "[Parallel(n_jobs=-1)]: Done  42 tasks      | elapsed:  2.0min\n",
      "[Parallel(n_jobs=-1)]: Done 150 out of 150 | elapsed: 18.7min finished\n"
     ]
    },
    {
     "name": "stdout",
     "output_type": "stream",
     "text": [
      "Wall time: 19min 6s\n"
     ]
    },
    {
     "data": {
      "text/plain": [
       "GridSearchCV(cv=5, error_score='raise',\n",
       "       estimator=XGBClassifier(base_score=0.5, booster='gbtree', colsample_bylevel=1,\n",
       "       colsample_bytree=1, gamma=0, learning_rate=0.1, max_delta_step=0,\n",
       "       max_depth=3, min_child_weight=1, missing=None, n_estimators=100,\n",
       "       n_jobs=1, nthread=None, objective='binary:logistic',\n",
       "       random_state=14, reg_alpha=0, reg_lambda=1, scale_pos_weight=1,\n",
       "       seed=None, silent=True, subsample=1),\n",
       "       fit_params=None, iid=True, n_jobs=-1,\n",
       "       param_grid={'max_depth': [3, 5, 7, 10, 15, 20], 'n_estimators': [200, 350, 500, 750, 1000]},\n",
       "       pre_dispatch='2*n_jobs', refit=True, return_train_score='warn',\n",
       "       scoring='roc_auc', verbose=True)"
      ]
     },
     "execution_count": 35,
     "metadata": {},
     "output_type": "execute_result"
    }
   ],
   "source": [
    "%%time\n",
    "\n",
    "xgb_gs.fit(X_train, y_train)"
   ]
  },
  {
   "cell_type": "code",
   "execution_count": 36,
   "metadata": {},
   "outputs": [
    {
     "name": "stdout",
     "output_type": "stream",
     "text": [
      "0.7276439649763891\n",
      "{'max_depth': 10, 'n_estimators': 500}\n"
     ]
    }
   ],
   "source": [
    "print(xgb_gs.best_score_)\n",
    "print(xgb_gs.best_params_)"
   ]
  },
  {
   "cell_type": "code",
   "execution_count": 37,
   "metadata": {},
   "outputs": [],
   "source": [
    "initial_fitted_xgb = XGBClassifier(max_depth=xgb_gs.best_params_['max_depth'], \n",
    "                                   n_estimators=xgb_gs.best_params_['n_estimators'], \n",
    "                                   random_state=14)"
   ]
  },
  {
   "cell_type": "code",
   "execution_count": 39,
   "metadata": {},
   "outputs": [],
   "source": [
    "xgb_learn_rate_gs = GridSearchCV(initial_fitted_xgb, {'learning_rate': np.logspace(-3, 1.5, 30)}, \n",
    "                                 scoring='roc_auc', cv=5, verbose=True, n_jobs=-1)"
   ]
  },
  {
   "cell_type": "code",
   "execution_count": 40,
   "metadata": {},
   "outputs": [
    {
     "name": "stdout",
     "output_type": "stream",
     "text": [
      "Fitting 5 folds for each of 30 candidates, totalling 150 fits\n"
     ]
    },
    {
     "name": "stderr",
     "output_type": "stream",
     "text": [
      "[Parallel(n_jobs=-1)]: Done  42 tasks      | elapsed:  6.6min\n",
      "[Parallel(n_jobs=-1)]: Done 150 out of 150 | elapsed: 14.6min finished\n"
     ]
    },
    {
     "data": {
      "text/plain": [
       "GridSearchCV(cv=5, error_score='raise',\n",
       "       estimator=XGBClassifier(base_score=0.5, booster='gbtree', colsample_bylevel=1,\n",
       "       colsample_bytree=1, gamma=0, learning_rate=0.1, max_delta_step=0,\n",
       "       max_depth=10, min_child_weight=1, missing=None, n_estimators=500,\n",
       "       n_jobs=1, nthread=None, objective='binary:logistic',\n",
       "       random_state=14, reg_alpha=0, reg_lambda=1, scale_pos_weight=1,\n",
       "       seed=None, silent=True, subsample=1),\n",
       "       fit_params=None, iid=True, n_jobs=-1,\n",
       "       param_grid={'learning_rate': array([1.00000e-03, 1.42946e-03, 2.04336e-03, 2.92090e-03, 4.17532e-03,\n",
       "       5.96846e-03, 8.53168e-03, 1.21957e-02, 1.74333e-02, 2.49202e-02,\n",
       "       3.56225e-02, 5.09210e-02, 7.27895e-02, 1.04050e-01, 1.48735e-01,\n",
       "       2.12611e-01, 3.03920e-01, 4.34441e-01, 6.21017e-01, 8.87720e-01,\n",
       "       1.26896e+00, 1.81393e+00, 2.59294e+00, 3.70651e+00, 5.29832e+00,\n",
       "       7.57374e+00, 1.08264e+01, 1.54759e+01, 2.21222e+01, 3.16228e+01])},\n",
       "       pre_dispatch='2*n_jobs', refit=True, return_train_score='warn',\n",
       "       scoring='roc_auc', verbose=True)"
      ]
     },
     "execution_count": 40,
     "metadata": {},
     "output_type": "execute_result"
    }
   ],
   "source": [
    "xgb_learn_rate_gs.fit(X_train, y_train)"
   ]
  },
  {
   "cell_type": "code",
   "execution_count": 44,
   "metadata": {},
   "outputs": [
    {
     "name": "stdout",
     "output_type": "stream",
     "text": [
      "0.7277872917507907\n",
      "{'learning_rate': 0.07278953843983153}\n"
     ]
    }
   ],
   "source": [
    "print(xgb_learn_rate_gs.best_score_)\n",
    "print(xgb_learn_rate_gs.best_params_)"
   ]
  },
  {
   "cell_type": "code",
   "execution_count": 46,
   "metadata": {},
   "outputs": [],
   "source": [
    "best_xgb = XGBClassifier(max_depth=xgb_gs.best_params_['max_depth'], \n",
    "                         n_estimators=xgb_gs.best_params_['n_estimators'], \n",
    "                         learning_rate=xgb_learn_rate_gs.best_params_['learning_rate'])"
   ]
  },
  {
   "cell_type": "markdown",
   "metadata": {},
   "source": [
    "### stacking param search"
   ]
  },
  {
   "cell_type": "code",
   "execution_count": 60,
   "metadata": {},
   "outputs": [
    {
     "name": "stdout",
     "output_type": "stream",
     "text": [
      "Wall time: 20.9 s\n"
     ]
    }
   ],
   "source": [
    "%%time\n",
    "\n",
    "cvp = cross_val_predict(best_xgb, X_valid, y_valid, method='predict_proba', cv=5, n_jobs=-1)"
   ]
  },
  {
   "cell_type": "code",
   "execution_count": 56,
   "metadata": {},
   "outputs": [],
   "source": [
    "alpha_space = np.linspace(0.0, 1.0, 100)"
   ]
  },
  {
   "cell_type": "code",
   "execution_count": 61,
   "metadata": {},
   "outputs": [
    {
     "name": "stdout",
     "output_type": "stream",
     "text": [
      "0 1 2 3 4 5 6 7 8 9 10 11 12 13 14 15 16 17 18 19 20 21 22 23 24 25 26 27 28 29 30 31 32 33 34 35 36 37 38 39 40 41 42 43 44 45 46 47 48 49 50 51 52 53 54 55 56 57 58 59 60 61 62 63 64 65 66 67 68 69 70 71 72 73 74 75 76 77 78 79 80 81 82 83 84 85 86 87 88 89 90 91 92 93 94 95 96 97 98 99 \n"
     ]
    }
   ],
   "source": [
    "stacked_scores = []\n",
    "\n",
    "for idx, alpha in enumerate(alpha_space):\n",
    "    lr_cvp = cross_val_predict(best_lr, X_valid, y_valid, method='predict_proba', cv=5, n_jobs=-1)\n",
    "    xgb_cvp = cross_val_predict(best_xgb, X_valid, y_valid, method='predict_proba', cv=5, n_jobs=-1)\n",
    "    stacked_prediction = alpha * lr_cvp + (1.0 - alpha) * xgb_cvp\n",
    "    current_score = roc_auc_score(y_valid, stacked_prediction[:,1])\n",
    "    stacked_scores.append(current_score)\n",
    "    print(idx, end=' ')\n",
    "print()"
   ]
  },
  {
   "cell_type": "code",
   "execution_count": 65,
   "metadata": {},
   "outputs": [
    {
     "data": {
      "image/png": "[encoded data removed]",
      "text/plain": [
       "<Figure size 1080x360 with 1 Axes>"
      ]
     },
     "metadata": {},
     "output_type": "display_data"
    }
   ],
   "source": [
    "plt.figure(figsize=(15, 5))\n",
    "\n",
    "plt.plot(alpha_space, stacked_scores, color='red', label='train')\n",
    "\n",
    "#plt.ylim(0.94, 1.01)\n",
    "#plt.xlim(18, 22)\n",
    "plt.grid()\n",
    "plt.show()"
   ]
  },
  {
   "cell_type": "code",
   "execution_count": 80,
   "metadata": {},
   "outputs": [
    {
     "name": "stdout",
     "output_type": "stream",
     "text": [
      "best score: 0.7213089618364507\n",
      "best_alpha: 0.38383838383838387\n"
     ]
    }
   ],
   "source": [
    "best_alpha = alpha_space[np.argmax(stacked_scores)]\n",
    "\n",
    "print('best score:', np.max(stacked_scores))\n",
    "print('best_alpha:', best_alpha)"
   ]
  },
  {
   "cell_type": "markdown",
   "metadata": {},
   "source": [
    "### make prediction"
   ]
  },
  {
   "cell_type": "code",
   "execution_count": 70,
   "metadata": {},
   "outputs": [
    {
     "name": "stdout",
     "output_type": "stream",
     "text": [
      "Wall time: 39.5 s\n"
     ]
    }
   ],
   "source": [
    "%%time\n",
    "\n",
    "best_lr.fit(X, y)\n",
    "best_xgb.fit(X, y)"
   ]
  },
  {
   "cell_type": "code",
   "execution_count": 72,
   "metadata": {},
   "outputs": [],
   "source": [
    "test_prediction = (best_alpha * best_lr.predict_proba(X_test) + \n",
    "                   (1.0 - best_alpha) * best_xgb.predict_proba(X_test))[:,1]"
   ]
  },
  {
   "cell_type": "code",
   "execution_count": 79,
   "metadata": {},
   "outputs": [],
   "source": [
    "write_submission_file(test_prediction, 'flights', True)"
   ]
  }
 ],
 "metadata": {
  "kernelspec": {
   "display_name": "Python 3",
   "language": "python",
   "name": "python3"
  },
  "language_info": {
   "codemirror_mode": {
    "name": "ipython",
    "version": 3
   },
   "file_extension": ".py",
   "mimetype": "text/x-python",
   "name": "python",
   "nbconvert_exporter": "python",
   "pygments_lexer": "ipython3",
   "version": "3.6.4"
  }
 },
 "nbformat": 4,
 "nbformat_minor": 2
}
