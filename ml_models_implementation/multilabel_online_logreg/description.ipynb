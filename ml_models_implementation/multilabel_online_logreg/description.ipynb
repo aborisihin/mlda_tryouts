{
 "cells": [
  {
   "cell_type": "markdown",
   "metadata": {},
   "source": [
    "## Логистическая регрессия в задаче классификации текстов"
   ]
  },
  {
   "cell_type": "markdown",
   "metadata": {},
   "source": [
    "### Описание задачи"
   ]
  },
  {
   "cell_type": "markdown",
   "metadata": {},
   "source": [
    "Реализована модель multilabel классификации текстов, использующая онлайн обучение (стохастический градиентный спуск с логистической функцией потерь). В качестве примера взят датасет вопросов на stackoverflow, задачей стоит предсказание тегов вопросов.\n",
    "\n",
    "Данные доступны для скачивания по ссылке: https://yadi.sk/d/Vvc4JmX13ZdWvk\n",
    "\n",
    "За основу было взято задание курса OpenDataScience. Автор задания - Павел Нестеров (@mephistopheies)."
   ]
  },
  {
   "cell_type": "markdown",
   "metadata": {},
   "source": [
    "### Формат входных данных"
   ]
  },
  {
   "cell_type": "markdown",
   "metadata": {},
   "source": [
    "Входные данные представляют собой файл с вопросами пользователей stackoverflow.com. В каждой строке файла содержится текст вопроса и список тегов, разделенные символом табуляции. Теги в списке разделены пробелом."
   ]
  },
  {
   "cell_type": "markdown",
   "metadata": {},
   "source": [
    "### Описание математической основы"
   ]
  },
  {
   "cell_type": "markdown",
   "metadata": {},
   "source": [
    "Рассмотрим логистическую регрессию для двух классов $\\{0, 1\\}$. Обозначим вектор признаков объекта как $\\textbf{x}$. Вероятность принадлежности объекта классу $1$, вспомнив теорему Байеса, можно записать как:\n",
    "\n",
    "$$\n",
    "p\\left(c = 1 \\mid \\textbf{x}\\right) = \n",
    "\\dfrac\n",
    "{p\\left(\\textbf{x} \\mid c = 1\\right)p\\left(c = 1\\right)}\n",
    "{p\\left(\\textbf{x}\\right)}\n",
    "$$\n",
    "\n",
    "Воспользуясь формулой полной вероятности, получаем:\n",
    "\n",
    "$$\n",
    "p\\left(c = 1 \\mid \\textbf{x}\\right) = \n",
    "\\dfrac\n",
    "{p\\left(\\textbf{x} \\mid c = 1\\right)p\\left(c = 1\\right)}\n",
    "{p\\left(\\textbf{x} \\mid c = 1\\right)p\\left(c = 1\\right) + p\\left(\\textbf{x} \\mid c = 0\\right)p\\left(c = 0\\right)}\n",
    "$$\n",
    "\n",
    "Введя параметр:\n",
    "\n",
    "$$\n",
    "a = \\log \\dfrac\n",
    "{p\\left(\\textbf{x} \\mid c = 1\\right)p\\left(c = 1\\right)}\n",
    "{p\\left(\\textbf{x} \\mid c = 0\\right)p\\left(c = 0\\right)}\n",
    "$$\n",
    "\n",
    "Мы можем наше выражение переписать в виде:\n",
    "\n",
    "$$\n",
    "p\\left(c = 1 \\mid \\textbf{x}\\right) = \\dfrac{1}{1 + e^{-a}} = \\sigma\\left(a\\right)\n",
    "$$\n",
    "\n",
    "где $\\sigma\\left(a\\right)$ - обозначение функции логистического сигмоида для скалярного аргумента.\n",
    "\n",
    "Значение же параметра $a$ мы моделируем линейной функцией от признаков объекта и параметров модели:\n",
    "\n",
    "$$\n",
    "a = \\sum_{i=0}^M w_i x_i\n",
    "$$"
   ]
  },
  {
   "cell_type": "code",
   "execution_count": null,
   "metadata": {},
   "outputs": [],
   "source": []
  }
 ],
 "metadata": {
  "kernelspec": {
   "display_name": "Python 3",
   "language": "python",
   "name": "python3"
  },
  "language_info": {
   "codemirror_mode": {
    "name": "ipython",
    "version": 3
   },
   "file_extension": ".py",
   "mimetype": "text/x-python",
   "name": "python",
   "nbconvert_exporter": "python",
   "pygments_lexer": "ipython3",
   "version": "3.6.5"
  }
 },
 "nbformat": 4,
 "nbformat_minor": 2
}
