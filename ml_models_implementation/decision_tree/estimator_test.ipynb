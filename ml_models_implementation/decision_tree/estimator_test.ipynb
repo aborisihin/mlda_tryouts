{
 "cells": [
  {
   "cell_type": "code",
   "execution_count": 1,
   "metadata": {
    "ExecuteTime": {
     "end_time": "2018-08-20T05:24:14.208383Z",
     "start_time": "2018-08-20T05:24:13.875304Z"
    }
   },
   "outputs": [],
   "source": [
    "from dt_class import DecisionTree\n",
    "\n",
    "from sklearn.datasets import make_classification\n",
    "from sklearn.model_selection import train_test_split"
   ]
  },
  {
   "cell_type": "code",
   "execution_count": 2,
   "metadata": {
    "ExecuteTime": {
     "end_time": "2018-08-20T05:24:14.213189Z",
     "start_time": "2018-08-20T05:24:14.210524Z"
    }
   },
   "outputs": [],
   "source": [
    "RANDOM_STATE = 14"
   ]
  },
  {
   "cell_type": "code",
   "execution_count": 3,
   "metadata": {
    "ExecuteTime": {
     "end_time": "2018-08-20T05:24:14.219658Z",
     "start_time": "2018-08-20T05:24:14.215551Z"
    }
   },
   "outputs": [
    {
     "name": "stdout",
     "output_type": "stream",
     "text": [
      "DecisionTree class set params:\n",
      "{'max_depth': 3, 'min_samples_split': 2, 'criterion': 'gini', 'debug': True}\n"
     ]
    }
   ],
   "source": [
    "tree = DecisionTree(max_depth=3, debug=True)"
   ]
  },
  {
   "cell_type": "code",
   "execution_count": 4,
   "metadata": {
    "ExecuteTime": {
     "end_time": "2018-08-20T05:24:14.739513Z",
     "start_time": "2018-08-20T05:24:14.222015Z"
    }
   },
   "outputs": [
    {
     "name": "stdout",
     "output_type": "stream",
     "text": [
      "node (depth=1 n_objects=800) division: feature_idx = 1 threshold = 0.11\n",
      "node (depth=2 n_objects=466) division: feature_idx = 1 threshold = -0.66\n",
      "create leaf (depth=3 n_objects=300): value = 0 labels_ratio = [0.91 0.09]\n",
      "create leaf (depth=3 n_objects=166): value = 0 labels_ratio = [0.6 0.4]\n",
      "node (depth=2 n_objects=334) division: feature_idx = 0 threshold = -2.39\n",
      "create leaf (depth=3 n_objects=11): value = 0 labels_ratio = [0.64 0.36]\n",
      "create leaf (depth=3 n_objects=323): value = 1 labels_ratio = [0.06 0.94]\n"
     ]
    },
    {
     "data": {
      "text/plain": [
       "DecisionTree(criterion='gini', debug=True, max_depth=3, min_samples_split=2)"
      ]
     },
     "execution_count": 4,
     "metadata": {},
     "output_type": "execute_result"
    }
   ],
   "source": [
    "X, y = make_classification(n_features=2, n_redundant=0, n_samples=1000, random_state=RANDOM_STATE)\n",
    "\n",
    "X_train, X_test, y_train, y_test = train_test_split(X, y, test_size=0.2, random_state=RANDOM_STATE)\n",
    "\n",
    "tree.fit(X_train, y_train)"
   ]
  },
  {
   "cell_type": "code",
   "execution_count": null,
   "metadata": {},
   "outputs": [],
   "source": []
  }
 ],
 "metadata": {
  "kernelspec": {
   "display_name": "Python 3",
   "language": "python",
   "name": "python3"
  },
  "language_info": {
   "codemirror_mode": {
    "name": "ipython",
    "version": 3
   },
   "file_extension": ".py",
   "mimetype": "text/x-python",
   "name": "python",
   "nbconvert_exporter": "python",
   "pygments_lexer": "ipython3",
   "version": "3.6.5"
  }
 },
 "nbformat": 4,
 "nbformat_minor": 2
}
