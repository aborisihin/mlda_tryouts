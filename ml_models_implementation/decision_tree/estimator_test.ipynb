{
 "cells": [
  {
   "cell_type": "code",
   "execution_count": 2,
   "metadata": {
    "ExecuteTime": {
     "end_time": "2018-08-30T17:25:26.685279Z",
     "start_time": "2018-08-30T17:25:26.101299Z"
    }
   },
   "outputs": [],
   "source": [
    "import random\n",
    "\n",
    "import numpy as np\n",
    "\n",
    "from dt_class import DecisionTree\n",
    "\n",
    "from sklearn.datasets import make_classification\n",
    "from sklearn.model_selection import train_test_split\n",
    "from sklearn.metrics import roc_auc_score"
   ]
  },
  {
   "cell_type": "code",
   "execution_count": null,
<<<<<<< HEAD
   "metadata": {},
=======
   "metadata": {
    "ExecuteTime": {
     "end_time": "2018-08-20T19:01:08.008894Z",
     "start_time": "2018-08-20T19:01:08.006193Z"
    }
   },
>>>>>>> 801d455f3d59d2c90a30a4d73914de7b3678303d
   "outputs": [],
   "source": [
    "RANDOM_STATE = 14"
   ]
  },
  {
   "cell_type": "code",
   "execution_count": null,
   "metadata": {},
   "outputs": [],
<<<<<<< HEAD
=======
   "source": [
    "def insert_null_values(X, feat_count, null_ratio):\n",
    "    for feat in range(feat_count):\n",
    "        null_indexes = random.sample(range(X.shape[0]), round(X.shape[0] * null_ratio))\n",
    "        X[:, feat][null_indexes] = np.nan"
   ]
  },
  {
   "cell_type": "code",
   "execution_count": null,
   "metadata": {
    "ExecuteTime": {
     "end_time": "2018-08-20T19:02:32.881315Z",
     "start_time": "2018-08-20T19:02:32.878141Z"
    }
   },
   "outputs": [],
>>>>>>> 801d455f3d59d2c90a30a4d73914de7b3678303d
   "source": [
    "tree = DecisionTree(criterion='entropy', max_depth=5, verbose=True)"
   ]
  },
  {
   "cell_type": "code",
   "execution_count": null,
<<<<<<< HEAD
   "metadata": {},
=======
   "metadata": {
    "ExecuteTime": {
     "end_time": "2018-08-20T19:04:37.964838Z",
     "start_time": "2018-08-20T19:04:26.514924Z"
    }
   },
>>>>>>> 801d455f3d59d2c90a30a4d73914de7b3678303d
   "outputs": [],
   "source": [
    "X, y = make_classification(n_features=30, n_redundant=5, n_samples=1000, random_state=RANDOM_STATE)\n",
    "\n",
    "# insert null values\n",
    "insert_null_values(X, 5, 0.2)\n",
    "\n",
    "X_train, X_test, y_train, y_test = train_test_split(X, y, test_size=0.05, random_state=RANDOM_STATE)"
   ]
  },
  {
   "cell_type": "code",
   "execution_count": null,
   "metadata": {},
   "outputs": [],
   "source": [
    "%%time\n",
    "\n",
    "tree.fit(X_train, y_train)"
   ]
  },
  {
   "cell_type": "code",
   "execution_count": null,
   "metadata": {},
   "outputs": [],
<<<<<<< HEAD
=======
   "source": [
    "# %prun -l dt_class.py tree.fit(X_train, y_train)\n",
    "# %prun tree.fit(X_train, y_train)"
   ]
  },
  {
   "cell_type": "code",
   "execution_count": null,
   "metadata": {
    "ExecuteTime": {
     "end_time": "2018-08-20T19:04:40.677636Z",
     "start_time": "2018-08-20T19:04:40.672947Z"
    }
   },
   "outputs": [],
>>>>>>> 801d455f3d59d2c90a30a4d73914de7b3678303d
   "source": [
    "tree.predict(X_test)[:10]"
   ]
  },
  {
   "cell_type": "code",
   "execution_count": null,
<<<<<<< HEAD
   "metadata": {},
=======
   "metadata": {
    "ExecuteTime": {
     "end_time": "2018-08-20T19:04:41.918932Z",
     "start_time": "2018-08-20T19:04:41.913081Z"
    }
   },
>>>>>>> 801d455f3d59d2c90a30a4d73914de7b3678303d
   "outputs": [],
   "source": [
    "tree.predict_proba(X_test)[:10]"
   ]
  },
  {
   "cell_type": "code",
   "execution_count": null,
<<<<<<< HEAD
   "metadata": {},
=======
   "metadata": {
    "ExecuteTime": {
     "end_time": "2018-08-20T19:04:43.014986Z",
     "start_time": "2018-08-20T19:04:43.008956Z"
    }
   },
>>>>>>> 801d455f3d59d2c90a30a4d73914de7b3678303d
   "outputs": [],
   "source": [
    "round(roc_auc_score(y_test, tree.predict_proba(X_test)[:, 1]), 2)"
   ]
  },
  {
   "cell_type": "code",
   "execution_count": null,
<<<<<<< HEAD
   "metadata": {},
=======
   "metadata": {
    "ExecuteTime": {
     "end_time": "2018-08-20T19:04:44.081545Z",
     "start_time": "2018-08-20T19:04:44.073006Z"
    }
   },
>>>>>>> 801d455f3d59d2c90a30a4d73914de7b3678303d
   "outputs": [],
   "source": [
    "round(roc_auc_score(y_train, tree.predict_proba(X_train)[:, 1]), 2)"
   ]
  },
  {
   "cell_type": "code",
   "execution_count": null,
   "metadata": {},
   "outputs": [],
   "source": []
  },
  {
   "cell_type": "code",
   "execution_count": null,
   "metadata": {},
   "outputs": [],
   "source": []
  }
 ],
 "metadata": {
  "kernelspec": {
   "display_name": "Python 3",
   "language": "python",
   "name": "python3"
  },
  "language_info": {
   "codemirror_mode": {
    "name": "ipython",
    "version": 3
   },
   "file_extension": ".py",
   "mimetype": "text/x-python",
   "name": "python",
   "nbconvert_exporter": "python",
   "pygments_lexer": "ipython3",
   "version": "3.6.5"
  }
 },
 "nbformat": 4,
 "nbformat_minor": 2
}
