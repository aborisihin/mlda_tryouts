{
 "cells": [
  {
   "cell_type": "code",
   "execution_count": 1,
   "metadata": {
    "ExecuteTime": {
     "end_time": "2018-08-20T19:01:07.618909Z",
     "start_time": "2018-08-20T19:01:07.616046Z"
    }
   },
   "outputs": [],
   "source": [
    "import numpy as np\n",
    "\n",
    "from dt_class import DecisionTree\n",
    "\n",
    "from sklearn.datasets import make_classification\n",
    "from sklearn.model_selection import train_test_split\n",
    "from sklearn.metrics import roc_auc_score"
   ]
  },
  {
   "cell_type": "code",
   "execution_count": 2,
   "metadata": {
    "ExecuteTime": {
     "end_time": "2018-08-20T19:01:08.008894Z",
     "start_time": "2018-08-20T19:01:08.006193Z"
    }
   },
   "outputs": [],
   "source": [
    "RANDOM_STATE = 14"
   ]
  },
  {
   "cell_type": "code",
   "execution_count": 3,
   "metadata": {
    "ExecuteTime": {
     "end_time": "2018-08-20T19:02:32.881315Z",
     "start_time": "2018-08-20T19:02:32.878141Z"
    }
   },
   "outputs": [
    {
     "name": "stdout",
     "output_type": "stream",
     "text": [
      "DecisionTree class set params:\n",
      "{'max_depth': 5, 'min_samples_split': 2, 'criterion': 'gini', 'verbose': True}\n"
     ]
    }
   ],
   "source": [
    "tree = DecisionTree(criterion='gini', max_depth=5, verbose=True)"
   ]
  },
  {
   "cell_type": "code",
   "execution_count": 4,
   "metadata": {
    "ExecuteTime": {
     "end_time": "2018-08-20T19:04:37.964838Z",
     "start_time": "2018-08-20T19:04:26.514924Z"
    }
   },
   "outputs": [
    {
     "name": "stdout",
     "output_type": "stream",
     "text": [
      "node (depth=1 n_objects=950) division: feature_idx = 4 threshold = -0.05\n",
      "node (depth=2 n_objects=521) division: feature_idx = 27 threshold = 0.12\n",
      "node (depth=3 n_objects=84) division: feature_idx = 16 threshold = -0.25\n",
      "node (depth=4 n_objects=58) division: feature_idx = 9 threshold = 1.49\n",
      "create leaf (depth=5 n_objects=54): value = 0 labels_ratio = [0.78 0.22]\n",
      "create leaf (depth=5 n_objects=4): value = 1 labels_ratio = [0. 1.]\n",
      "create leaf (depth=4 n_objects=26): value = 1 labels_ratio = [0. 1.]\n",
      "node (depth=3 n_objects=437) division: feature_idx = 16 threshold = 0.04\n",
      "node (depth=4 n_objects=422) division: feature_idx = 16 threshold = -0.35\n",
      "create leaf (depth=5 n_objects=183): value = 0 labels_ratio = [0.98 0.02]\n",
      "create leaf (depth=5 n_objects=239): value = 0 labels_ratio = [0.86 0.14]\n",
      "node (depth=4 n_objects=15) division: feature_idx = 5 threshold = 0.59\n",
      "create leaf (depth=5 n_objects=12): value = 1 labels_ratio = [0. 1.]\n",
      "create leaf (depth=5 n_objects=3): value = 0 labels_ratio = [1. 0.]\n",
      "node (depth=2 n_objects=429) division: feature_idx = 16 threshold = 0.16\n",
      "node (depth=3 n_objects=147) division: feature_idx = 23 threshold = -0.32\n",
      "node (depth=4 n_objects=92) division: feature_idx = 6 threshold = 0.53\n",
      "create leaf (depth=5 n_objects=87): value = 1 labels_ratio = [0.01 0.99]\n",
      "create leaf (depth=5 n_objects=5): value = 0 labels_ratio = [1. 0.]\n",
      "node (depth=4 n_objects=55) division: feature_idx = 14 threshold = 0.62\n",
      "create leaf (depth=5 n_objects=43): value = 0 labels_ratio = [0.72 0.28]\n",
      "create leaf (depth=5 n_objects=12): value = 1 labels_ratio = [0. 1.]\n",
      "node (depth=3 n_objects=282) division: feature_idx = 13 threshold = 1.89\n",
      "node (depth=4 n_objects=270) division: feature_idx = 11 threshold = -1.5\n",
      "create leaf (depth=5 n_objects=16): value = 1 labels_ratio = [0.06 0.94]\n",
      "create leaf (depth=5 n_objects=254): value = 1 labels_ratio = [0. 1.]\n",
      "node (depth=4 n_objects=12) division: feature_idx = 28 threshold = -0.18\n",
      "create leaf (depth=5 n_objects=5): value = 0 labels_ratio = [0.8 0.2]\n",
      "create leaf (depth=5 n_objects=7): value = 1 labels_ratio = [0. 1.]\n"
     ]
    },
    {
     "data": {
      "text/plain": [
       "DecisionTree(criterion='gini', max_depth=5, min_samples_split=2, verbose=True)"
      ]
     },
     "execution_count": 4,
     "metadata": {},
     "output_type": "execute_result"
    }
   ],
   "source": [
    "X, y = make_classification(n_features=30, n_redundant=5, n_samples=1000, random_state=RANDOM_STATE)\n",
    "\n",
    "X_train, X_test, y_train, y_test = train_test_split(X, y, test_size=0.05, random_state=RANDOM_STATE)\n",
    "\n",
    "tree.fit(X_train, y_train)"
   ]
  },
  {
   "cell_type": "code",
   "execution_count": 5,
   "metadata": {
    "ExecuteTime": {
     "end_time": "2018-08-20T19:04:40.677636Z",
     "start_time": "2018-08-20T19:04:40.672947Z"
    }
   },
   "outputs": [
    {
     "data": {
      "text/plain": [
       "array([1, 0, 0, 0, 0, 0, 1, 1, 0, 1], dtype=int64)"
      ]
     },
     "execution_count": 5,
     "metadata": {},
     "output_type": "execute_result"
    }
   ],
   "source": [
    "tree.predict(X_test)[:10]"
   ]
  },
  {
   "cell_type": "code",
   "execution_count": 6,
   "metadata": {
    "ExecuteTime": {
     "end_time": "2018-08-20T19:04:41.918932Z",
     "start_time": "2018-08-20T19:04:41.913081Z"
    }
   },
   "outputs": [
    {
     "data": {
      "text/plain": [
       "array([[0.01149425, 0.98850575],\n",
       "       [0.98360656, 0.01639344],\n",
       "       [0.98360656, 0.01639344],\n",
       "       [0.98360656, 0.01639344],\n",
       "       [0.98360656, 0.01639344],\n",
       "       [0.86192469, 0.13807531],\n",
       "       [0.        , 1.        ],\n",
       "       [0.01149425, 0.98850575],\n",
       "       [0.86192469, 0.13807531],\n",
       "       [0.        , 1.        ]])"
      ]
     },
     "execution_count": 6,
     "metadata": {},
     "output_type": "execute_result"
    }
   ],
   "source": [
    "tree.predict_proba(X_test)[:10]"
   ]
  },
  {
   "cell_type": "code",
   "execution_count": 7,
   "metadata": {
    "ExecuteTime": {
     "end_time": "2018-08-20T19:04:43.014986Z",
     "start_time": "2018-08-20T19:04:43.008956Z"
    }
   },
   "outputs": [
    {
     "data": {
      "text/plain": [
       "0.8701923076923077"
      ]
     },
     "execution_count": 7,
     "metadata": {},
     "output_type": "execute_result"
    }
   ],
   "source": [
    "roc_auc_score(y_test, tree.predict_proba(X_test)[:, 1])"
   ]
  },
  {
   "cell_type": "code",
   "execution_count": 8,
   "metadata": {
    "ExecuteTime": {
     "end_time": "2018-08-20T19:04:44.081545Z",
     "start_time": "2018-08-20T19:04:44.073006Z"
    }
   },
   "outputs": [
    {
     "data": {
      "text/plain": [
       "0.963959471857673"
      ]
     },
     "execution_count": 8,
     "metadata": {},
     "output_type": "execute_result"
    }
   ],
   "source": [
    "roc_auc_score(y_train, tree.predict_proba(X_train)[:, 1])"
   ]
  },
  {
   "cell_type": "code",
   "execution_count": null,
   "metadata": {},
   "outputs": [],
   "source": []
  },
  {
   "cell_type": "code",
   "execution_count": null,
   "metadata": {},
   "outputs": [],
   "source": []
  }
 ],
 "metadata": {
  "kernelspec": {
   "display_name": "Python 3",
   "language": "python",
   "name": "python3"
  },
  "language_info": {
   "codemirror_mode": {
    "name": "ipython",
    "version": 3
   },
   "file_extension": ".py",
   "mimetype": "text/x-python",
   "name": "python",
   "nbconvert_exporter": "python",
   "pygments_lexer": "ipython3",
   "version": "3.6.4"
  }
 },
 "nbformat": 4,
 "nbformat_minor": 2
}
