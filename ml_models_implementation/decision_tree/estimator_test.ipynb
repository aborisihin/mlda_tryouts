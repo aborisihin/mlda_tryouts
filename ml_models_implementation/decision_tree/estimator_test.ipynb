{
 "cells": [
  {
   "cell_type": "code",
   "execution_count": null,
   "metadata": {
    "ExecuteTime": {
     "end_time": "2018-09-02T19:14:52.555952Z",
     "start_time": "2018-09-02T19:14:52.213725Z"
    }
   },
   "outputs": [],
   "source": [
    "import random\n",
    "\n",
    "import numpy as np\n",
    "\n",
    "from dt_class import DecisionTree\n",
    "\n",
    "from sklearn.datasets import make_classification\n",
    "from sklearn.model_selection import train_test_split\n",
    "from sklearn.metrics import roc_auc_score"
   ]
  },
  {
   "cell_type": "code",
   "execution_count": null,
   "metadata": {},
   "outputs": [],
   "source": [
    "qqq = np.array([[11, 12, 13, 14, 15], \n",
    "                [21, None, 23, 24, 25], \n",
    "                [31, 32, 33, 34, 35], \n",
    "                [41, 42, 43, 44, 45], \n",
    "                [51, 52, 53, 54, 55]]).astype(np.float64)\n",
    "qqq"
   ]
  },
  {
   "cell_type": "code",
   "execution_count": null,
   "metadata": {},
   "outputs": [],
   "source": [
    "for v in qqq[:, 2]:\n",
    "    print(type(v))"
   ]
  },
  {
   "cell_type": "code",
   "execution_count": null,
   "metadata": {},
   "outputs": [],
   "source": []
  },
  {
   "cell_type": "code",
   "execution_count": null,
   "metadata": {},
   "outputs": [],
   "source": []
  },
  {
   "cell_type": "code",
   "execution_count": null,
   "metadata": {
    "ExecuteTime": {
     "end_time": "2018-09-02T19:14:52.560413Z",
     "start_time": "2018-09-02T19:14:52.557906Z"
    }
   },
   "outputs": [],
   "source": [
    "RANDOM_STATE = 14"
   ]
  },
  {
   "cell_type": "code",
   "execution_count": null,
   "metadata": {
    "ExecuteTime": {
     "end_time": "2018-09-02T19:14:52.566293Z",
     "start_time": "2018-09-02T19:14:52.562996Z"
    }
   },
   "outputs": [],
   "source": [
    "def insert_null_values(X, feat_count, null_ratio):\n",
    "    for feat in range(feat_count):\n",
    "        null_indexes = random.sample(range(X.shape[0]), round(X.shape[0] * null_ratio))\n",
    "        X[:, feat][null_indexes] = np.nan"
   ]
  },
  {
   "cell_type": "code",
   "execution_count": null,
   "metadata": {
    "ExecuteTime": {
     "end_time": "2018-09-02T19:14:52.572267Z",
     "start_time": "2018-09-02T19:14:52.568619Z"
    }
   },
   "outputs": [],
   "source": [
    "tree = DecisionTree(criterion='entropy', verbose=True)"
   ]
  },
  {
   "cell_type": "code",
   "execution_count": null,
   "metadata": {
    "ExecuteTime": {
     "end_time": "2018-09-02T19:14:52.714354Z",
     "start_time": "2018-09-02T19:14:52.574515Z"
    }
   },
   "outputs": [],
   "source": [
    "X, y = make_classification(n_features=30, n_redundant=5, n_samples=100, random_state=RANDOM_STATE)\n",
    "\n",
    "# insert null values\n",
    "insert_null_values(X, 5, 0.2)\n",
    "\n",
    "X_train, X_test, y_train, y_test = train_test_split(X, y, test_size=0.2, random_state=RANDOM_STATE)"
   ]
  },
  {
   "cell_type": "code",
   "execution_count": null,
   "metadata": {
    "ExecuteTime": {
     "end_time": "2018-09-02T19:15:03.917212Z",
     "start_time": "2018-09-02T19:14:52.716367Z"
    }
   },
   "outputs": [],
   "source": [
    "%%time\n",
    "\n",
    "tree.fit(X_train, y_train)"
   ]
  },
  {
   "cell_type": "code",
   "execution_count": null,
   "metadata": {
    "ExecuteTime": {
     "end_time": "2018-09-02T19:15:03.921952Z",
     "start_time": "2018-09-02T19:15:03.919488Z"
    }
   },
   "outputs": [],
   "source": [
    "#%prun -l dt_class.py tree.fit(X_train, y_train)\n",
    "#%prun tree.fit(X_train, y_train)"
   ]
  },
  {
   "cell_type": "code",
   "execution_count": null,
   "metadata": {
    "ExecuteTime": {
     "end_time": "2018-09-02T19:15:03.928995Z",
     "start_time": "2018-09-02T19:15:03.924622Z"
    }
   },
   "outputs": [],
   "source": [
    "tree.predict(X_test)[:10]"
   ]
  },
  {
   "cell_type": "code",
   "execution_count": null,
   "metadata": {
    "ExecuteTime": {
     "end_time": "2018-09-02T19:15:03.935971Z",
     "start_time": "2018-09-02T19:15:03.931322Z"
    }
   },
   "outputs": [],
   "source": [
    "tree.predict_proba(X_test)[:10]"
   ]
  },
  {
   "cell_type": "code",
   "execution_count": null,
   "metadata": {
    "ExecuteTime": {
     "end_time": "2018-09-02T19:15:03.944226Z",
     "start_time": "2018-09-02T19:15:03.938058Z"
    }
   },
   "outputs": [],
   "source": [
    "round(roc_auc_score(y_test, tree.predict_proba(X_test)[:, 1]), 2)"
   ]
  },
  {
   "cell_type": "code",
   "execution_count": null,
   "metadata": {
    "ExecuteTime": {
     "end_time": "2018-09-02T19:15:03.952867Z",
     "start_time": "2018-09-02T19:15:03.946096Z"
    }
   },
   "outputs": [],
   "source": [
    "round(roc_auc_score(y_train, tree.predict_proba(X_train)[:, 1]), 2)"
   ]
  },
  {
   "cell_type": "code",
   "execution_count": null,
   "metadata": {},
   "outputs": [],
   "source": []
  },
  {
   "cell_type": "code",
   "execution_count": null,
   "metadata": {},
   "outputs": [],
   "source": []
  }
 ],
 "metadata": {
  "kernelspec": {
   "display_name": "Python 3",
   "language": "python",
   "name": "python3"
  },
  "language_info": {
   "codemirror_mode": {
    "name": "ipython",
    "version": 3
   },
   "file_extension": ".py",
   "mimetype": "text/x-python",
   "name": "python",
   "nbconvert_exporter": "python",
   "pygments_lexer": "ipython3",
   "version": "3.6.4"
  }
 },
 "nbformat": 4,
 "nbformat_minor": 2
}
