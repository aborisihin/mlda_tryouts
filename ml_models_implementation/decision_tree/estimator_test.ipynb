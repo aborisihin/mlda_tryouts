{
 "cells": [
  {
   "cell_type": "code",
   "execution_count": 1,
   "metadata": {
    "ExecuteTime": {
     "end_time": "2018-08-20T19:01:07.618909Z",
     "start_time": "2018-08-20T19:01:07.616046Z"
    }
   },
   "outputs": [],
   "source": [
    "import numpy as np\n",
    "\n",
    "from dt_class import DecisionTree\n",
    "\n",
    "from sklearn.datasets import make_classification\n",
    "from sklearn.model_selection import train_test_split\n",
    "from sklearn.metrics import roc_auc_score"
   ]
  },
  {
   "cell_type": "code",
   "execution_count": null,
   "metadata": {
    "ExecuteTime": {
     "end_time": "2018-08-20T19:01:08.008894Z",
     "start_time": "2018-08-20T19:01:08.006193Z"
    }
   },
   "outputs": [],
   "source": [
    "RANDOM_STATE = 14"
   ]
  },
  {
   "cell_type": "code",
   "execution_count": null,
   "metadata": {
    "ExecuteTime": {
     "end_time": "2018-08-20T19:02:32.881315Z",
     "start_time": "2018-08-20T19:02:32.878141Z"
    }
   },
   "outputs": [],
   "source": [
    "tree = DecisionTree(criterion='entropy', max_depth=5, verbose=True)"
   ]
  },
  {
   "cell_type": "code",
   "execution_count": null,
   "metadata": {
    "ExecuteTime": {
     "end_time": "2018-08-20T19:04:37.964838Z",
     "start_time": "2018-08-20T19:04:26.514924Z"
    }
   },
   "outputs": [],
   "source": [
    "X, y = make_classification(n_features=30, n_redundant=5, n_samples=1000, random_state=RANDOM_STATE)\n",
    "\n",
    "X_train, X_test, y_train, y_test = train_test_split(X, y, test_size=0.05, random_state=RANDOM_STATE)"
   ]
  },
  {
   "cell_type": "code",
   "execution_count": null,
   "metadata": {},
   "outputs": [],
   "source": [
    "%%time\n",
    "\n",
    "tree.fit(X_train, y_train)"
   ]
  },
  {
   "cell_type": "code",
   "execution_count": null,
   "metadata": {},
   "outputs": [],
   "source": [
    "# %prun -l dt_class.py tree.fit(X_train, y_train)\n",
    "# %prun tree.fit(X_train, y_train)"
   ]
  },
  {
   "cell_type": "code",
   "execution_count": null,
   "metadata": {
    "ExecuteTime": {
     "end_time": "2018-08-20T19:04:40.677636Z",
     "start_time": "2018-08-20T19:04:40.672947Z"
    }
   },
   "outputs": [],
   "source": [
    "tree.predict(X_test)[:10]"
   ]
  },
  {
   "cell_type": "code",
   "execution_count": null,
   "metadata": {
    "ExecuteTime": {
     "end_time": "2018-08-20T19:04:41.918932Z",
     "start_time": "2018-08-20T19:04:41.913081Z"
    }
   },
   "outputs": [],
   "source": [
    "tree.predict_proba(X_test)[:10]"
   ]
  },
  {
   "cell_type": "code",
   "execution_count": null,
   "metadata": {
    "ExecuteTime": {
     "end_time": "2018-08-20T19:04:43.014986Z",
     "start_time": "2018-08-20T19:04:43.008956Z"
    }
   },
   "outputs": [],
   "source": [
    "roc_auc_score(y_test, tree.predict_proba(X_test)[:, 1])"
   ]
  },
  {
   "cell_type": "code",
   "execution_count": null,
   "metadata": {
    "ExecuteTime": {
     "end_time": "2018-08-20T19:04:44.081545Z",
     "start_time": "2018-08-20T19:04:44.073006Z"
    }
   },
   "outputs": [],
   "source": [
    "roc_auc_score(y_train, tree.predict_proba(X_train)[:, 1])"
   ]
  },
  {
   "cell_type": "code",
   "execution_count": null,
   "metadata": {},
   "outputs": [],
   "source": []
  },
  {
   "cell_type": "code",
   "execution_count": null,
   "metadata": {},
   "outputs": [],
   "source": []
  },
  {
   "cell_type": "code",
   "execution_count": null,
   "metadata": {},
   "outputs": [],
   "source": []
  },
  {
   "cell_type": "code",
   "execution_count": 2,
   "metadata": {},
   "outputs": [],
   "source": [
    "xxx = [[0.1, 0],\n",
    "       [0.2, 0],\n",
    "       [0.3, 0],\n",
    "       [0.4, 1],\n",
    "       [0.5, 1],\n",
    "       [0.6, 0],\n",
    "       [0.7, 1],\n",
    "       [0.8, 0],\n",
    "       [0.9, 1],\n",
    "       [1.0, 1],\n",
    "       [1.1, 0]]"
   ]
  },
  {
   "cell_type": "code",
   "execution_count": 25,
   "metadata": {},
   "outputs": [],
   "source": [
    "x1 = np.array([x[0] for x in xxx])\n",
    "x2 = np.array([x[1] for x in xxx])"
   ]
  },
  {
   "cell_type": "code",
   "execution_count": 39,
   "metadata": {},
   "outputs": [],
   "source": [
    "qqq = list(zip(x1, x2, np.append(x2[1:], None)))"
   ]
  },
  {
   "cell_type": "code",
   "execution_count": 42,
   "metadata": {},
   "outputs": [
    {
     "name": "stdout",
     "output_type": "stream",
     "text": [
      "(0.1, 0, 0)\n",
      "(0.2, 0, 0)\n",
      "(0.3, 0, 1)\n",
      "(0.4, 1, 1)\n",
      "(0.5, 1, 0)\n",
      "(0.6, 0, 1)\n",
      "(0.7, 1, 0)\n",
      "(0.8, 0, 1)\n",
      "(0.9, 1, 1)\n",
      "(1.0, 1, 0)\n",
      "(1.1, 0, None)\n"
     ]
    }
   ],
   "source": [
    "for q in qqq:\n",
    "    print(q)"
   ]
  },
  {
   "cell_type": "code",
   "execution_count": 45,
   "metadata": {},
   "outputs": [
    {
     "data": {
      "text/plain": [
       "[0.3, 0.5, 0.6, 0.7, 0.8, 1.0]"
      ]
     },
     "execution_count": 45,
     "metadata": {},
     "output_type": "execute_result"
    }
   ],
   "source": [
    "www = [q[0] for q in qqq[:-1] if q[1] != q[2]]\n",
    "www"
   ]
  },
  {
   "cell_type": "code",
   "execution_count": null,
   "metadata": {},
   "outputs": [],
   "source": []
  }
 ],
 "metadata": {
  "kernelspec": {
   "display_name": "Python 3",
   "language": "python",
   "name": "python3"
  },
  "language_info": {
   "codemirror_mode": {
    "name": "ipython",
    "version": 3
   },
   "file_extension": ".py",
   "mimetype": "text/x-python",
   "name": "python",
   "nbconvert_exporter": "python",
   "pygments_lexer": "ipython3",
   "version": "3.6.4"
  }
 },
 "nbformat": 4,
 "nbformat_minor": 2
}
