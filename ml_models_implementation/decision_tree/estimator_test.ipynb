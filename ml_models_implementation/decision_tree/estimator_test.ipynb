{
 "cells": [
  {
   "cell_type": "code",
   "execution_count": 1,
   "metadata": {
    "ExecuteTime": {
     "end_time": "2018-09-02T19:14:52.555952Z",
     "start_time": "2018-09-02T19:14:52.213725Z"
    }
   },
   "outputs": [],
   "source": [
    "import random\n",
    "\n",
    "import numpy as np\n",
    "\n",
    "from dt_class import DecisionTree\n",
    "\n",
    "from sklearn.datasets import make_classification\n",
    "from sklearn.model_selection import train_test_split\n",
    "from sklearn.metrics import roc_auc_score"
   ]
  },
  {
   "cell_type": "code",
   "execution_count": 2,
   "metadata": {
    "ExecuteTime": {
     "end_time": "2018-09-02T19:14:52.560413Z",
     "start_time": "2018-09-02T19:14:52.557906Z"
    }
   },
   "outputs": [],
   "source": [
    "RANDOM_STATE = 14"
   ]
  },
  {
   "cell_type": "code",
   "execution_count": 3,
   "metadata": {
    "ExecuteTime": {
     "end_time": "2018-09-02T19:14:52.566293Z",
     "start_time": "2018-09-02T19:14:52.562996Z"
    }
   },
   "outputs": [],
   "source": [
    "def insert_null_values(X, feat_count, null_ratio):\n",
    "    for feat in range(feat_count):\n",
    "        null_indexes = random.sample(range(X.shape[0]), round(X.shape[0] * null_ratio))\n",
    "        X[:, feat][null_indexes] = np.nan"
   ]
  },
  {
   "cell_type": "code",
   "execution_count": 4,
   "metadata": {
    "ExecuteTime": {
     "end_time": "2018-09-02T19:14:52.572267Z",
     "start_time": "2018-09-02T19:14:52.568619Z"
    }
   },
   "outputs": [
    {
     "name": "stdout",
     "output_type": "stream",
     "text": [
      "DecisionTree class set params:\n",
      "{'max_depth': 5, 'min_samples_split': 2, 'criterion': 'entropy', 'verbose': True}\n"
     ]
    }
   ],
   "source": [
    "tree = DecisionTree(criterion='entropy', max_depth=5, verbose=True)"
   ]
  },
  {
   "cell_type": "code",
   "execution_count": 5,
   "metadata": {
    "ExecuteTime": {
     "end_time": "2018-09-02T19:14:52.714354Z",
     "start_time": "2018-09-02T19:14:52.574515Z"
    }
   },
   "outputs": [],
   "source": [
    "X, y = make_classification(n_features=30, n_redundant=5, n_samples=1000, random_state=RANDOM_STATE)\n",
    "\n",
    "# insert null values\n",
    "insert_null_values(X, 5, 0.2)\n",
    "\n",
    "X_train, X_test, y_train, y_test = train_test_split(X, y, test_size=0.05, random_state=RANDOM_STATE)"
   ]
  },
  {
   "cell_type": "code",
   "execution_count": 6,
   "metadata": {
    "ExecuteTime": {
     "end_time": "2018-09-02T19:15:03.917212Z",
     "start_time": "2018-09-02T19:14:52.716367Z"
    }
   },
   "outputs": [
    {
     "name": "stdout",
     "output_type": "stream",
     "text": [
      "node (depth=1 n_objects=950) division: feature_idx = 21 threshold = 0.11\n",
      "node (depth=2 n_objects=546) division: feature_idx = 16 threshold = 0.11\n",
      "node (depth=3 n_objects=511) division: feature_idx = 27 threshold = 0.12\n",
      "node (depth=4 n_objects=78) division: feature_idx = 23 threshold = -1.63\n",
      "create leaf (depth=5 n_objects=43): value=0 labels_ratio=[0.79 0.21]\n",
      "create leaf (depth=5 n_objects=35): value=1 labels_ratio=[0.34 0.66]\n",
      "node (depth=4 n_objects=433) division: feature_idx = 16 threshold = -0.36\n",
      "create leaf (depth=5 n_objects=183): value=0 labels_ratio=[0.98 0.02]\n",
      "create leaf (depth=5 n_objects=250): value=0 labels_ratio=[0.84 0.16]\n",
      "create leaf (depth=3 n_objects=35): value=1 labels_ratio=[0. 1.]\n",
      "node (depth=2 n_objects=404) division: feature_idx = 16 threshold = 0.21\n",
      "node (depth=3 n_objects=167) division: feature_idx = 16 threshold = -0.28\n",
      "node (depth=4 n_objects=14) division: feature_idx = 21 threshold = 0.12\n",
      "create leaf (depth=5 n_objects=3): value=1 labels_ratio=[0. 1.]\n",
      "create leaf (depth=5 n_objects=11): value=0 labels_ratio=[1. 0.]\n",
      "node (depth=4 n_objects=153) division: feature_idx = 23 threshold = -0.67\n",
      "create leaf (depth=5 n_objects=93): value=1 labels_ratio=[0.01 0.99]\n",
      "create leaf (depth=5 n_objects=60): value=1 labels_ratio=[0.38 0.62]\n",
      "node (depth=3 n_objects=237) division: feature_idx = 10 threshold = 2.35\n",
      "create leaf (depth=4 n_objects=236): value=1 labels_ratio=[0. 1.]\n",
      "create leaf (depth=4 n_objects=1): value=0 labels_ratio=[1. 0.]\n",
      "CPU times: user 11.2 s, sys: 29.8 ms, total: 11.2 s\n",
      "Wall time: 11.2 s\n"
     ]
    },
    {
     "data": {
      "text/plain": [
       "DecisionTree(criterion='entropy', max_depth=5, min_samples_split=2,\n",
       "       verbose=True)"
      ]
     },
     "execution_count": 6,
     "metadata": {},
     "output_type": "execute_result"
    }
   ],
   "source": [
    "%%time\n",
    "\n",
    "tree.fit(X_train, y_train)"
   ]
  },
  {
   "cell_type": "code",
   "execution_count": 7,
   "metadata": {
    "ExecuteTime": {
     "end_time": "2018-09-02T19:15:03.921952Z",
     "start_time": "2018-09-02T19:15:03.919488Z"
    }
   },
   "outputs": [],
   "source": [
    "# %prun -l dt_class.py tree.fit(X_train, y_train)\n",
    "# %prun tree.fit(X_train, y_train)"
   ]
  },
  {
   "cell_type": "code",
   "execution_count": 8,
   "metadata": {
    "ExecuteTime": {
     "end_time": "2018-09-02T19:15:03.928995Z",
     "start_time": "2018-09-02T19:15:03.924622Z"
    }
   },
   "outputs": [
    {
     "data": {
      "text/plain": [
       "array([1, 0, 0, 0, 0, 0, 1, 1, 0, 1])"
      ]
     },
     "execution_count": 8,
     "metadata": {},
     "output_type": "execute_result"
    }
   ],
   "source": [
    "tree.predict(X_test)[:10]"
   ]
  },
  {
   "cell_type": "code",
   "execution_count": 9,
   "metadata": {
    "ExecuteTime": {
     "end_time": "2018-09-02T19:15:03.935971Z",
     "start_time": "2018-09-02T19:15:03.931322Z"
    }
   },
   "outputs": [
    {
     "data": {
      "text/plain": [
       "array([[0.01075269, 0.98924731],\n",
       "       [0.98360656, 0.01639344],\n",
       "       [0.98360656, 0.01639344],\n",
       "       [0.98360656, 0.01639344],\n",
       "       [0.98360656, 0.01639344],\n",
       "       [0.844     , 0.156     ],\n",
       "       [0.        , 1.        ],\n",
       "       [0.38333333, 0.61666667],\n",
       "       [0.844     , 0.156     ],\n",
       "       [0.        , 1.        ]])"
      ]
     },
     "execution_count": 9,
     "metadata": {},
     "output_type": "execute_result"
    }
   ],
   "source": [
    "tree.predict_proba(X_test)[:10]"
   ]
  },
  {
   "cell_type": "code",
   "execution_count": 10,
   "metadata": {
    "ExecuteTime": {
     "end_time": "2018-09-02T19:15:03.944226Z",
     "start_time": "2018-09-02T19:15:03.938058Z"
    }
   },
   "outputs": [
    {
     "data": {
      "text/plain": [
       "0.9"
      ]
     },
     "execution_count": 10,
     "metadata": {},
     "output_type": "execute_result"
    }
   ],
   "source": [
    "round(roc_auc_score(y_test, tree.predict_proba(X_test)[:, 1]), 2)"
   ]
  },
  {
   "cell_type": "code",
   "execution_count": 11,
   "metadata": {
    "ExecuteTime": {
     "end_time": "2018-09-02T19:15:03.952867Z",
     "start_time": "2018-09-02T19:15:03.946096Z"
    }
   },
   "outputs": [
    {
     "data": {
      "text/plain": [
       "0.96"
      ]
     },
     "execution_count": 11,
     "metadata": {},
     "output_type": "execute_result"
    }
   ],
   "source": [
    "round(roc_auc_score(y_train, tree.predict_proba(X_train)[:, 1]), 2)"
   ]
  },
  {
   "cell_type": "code",
   "execution_count": null,
   "metadata": {},
   "outputs": [],
   "source": []
  },
  {
   "cell_type": "code",
   "execution_count": null,
   "metadata": {},
   "outputs": [],
   "source": []
  }
 ],
 "metadata": {
  "kernelspec": {
   "display_name": "Python 3",
   "language": "python",
   "name": "python3"
  },
  "language_info": {
   "codemirror_mode": {
    "name": "ipython",
    "version": 3
   },
   "file_extension": ".py",
   "mimetype": "text/x-python",
   "name": "python",
   "nbconvert_exporter": "python",
   "pygments_lexer": "ipython3",
   "version": "3.6.5"
  }
 },
 "nbformat": 4,
 "nbformat_minor": 2
}
