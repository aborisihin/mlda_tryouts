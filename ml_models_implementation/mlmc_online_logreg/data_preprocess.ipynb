{
 "cells": [
  {
   "cell_type": "code",
   "execution_count": 10,
   "metadata": {
    "ExecuteTime": {
     "end_time": "2018-08-07T05:22:41.449144Z",
     "start_time": "2018-08-07T05:22:41.445990Z"
    }
   },
   "outputs": [],
   "source": [
    "import json\n",
    "import os.path\n",
    "import subprocess\n",
    "\n",
    "from collections import Counter"
   ]
  },
  {
   "cell_type": "markdown",
   "metadata": {},
   "source": [
    "#### open settings"
   ]
  },
  {
   "cell_type": "code",
   "execution_count": 11,
   "metadata": {
    "ExecuteTime": {
     "end_time": "2018-08-07T05:22:41.460075Z",
     "start_time": "2018-08-07T05:22:41.454021Z"
    }
   },
   "outputs": [
    {
     "name": "stdout",
     "output_type": "stream",
     "text": [
      "keys in settings file:\n"
     ]
    },
    {
     "data": {
      "text/plain": [
       "['data_dir',\n",
       " 'data_file',\n",
       " 'top_tags_count',\n",
       " 'top_tags_file',\n",
       " 'filtered_tmp_file',\n",
       " 'train_size',\n",
       " 'train_file',\n",
       " 'train_labels_file',\n",
       " 'test_file',\n",
       " 'test_labels_file']"
      ]
     },
     "execution_count": 11,
     "metadata": {},
     "output_type": "execute_result"
    }
   ],
   "source": [
    "with open('./settings.json', 'r') as settings_file:\n",
    "    settings = json.load(settings_file)\n",
    "\n",
    "print('keys in settings file:')\n",
    "list(settings.keys())"
   ]
  },
  {
   "cell_type": "markdown",
   "metadata": {},
   "source": [
    "#### collect top tags"
   ]
  },
  {
   "cell_type": "code",
   "execution_count": 12,
   "metadata": {
    "ExecuteTime": {
     "end_time": "2018-08-07T05:22:41.464700Z",
     "start_time": "2018-08-07T05:22:41.461850Z"
    }
   },
   "outputs": [],
   "source": [
    "data_filepath = os.path.join(settings['data_dir'], settings['data_file'])\n",
    "top_tags_filepath = os.path.join(settings['data_dir'], settings['top_tags_file'])"
   ]
  },
  {
   "cell_type": "code",
   "execution_count": 13,
   "metadata": {
    "ExecuteTime": {
     "end_time": "2018-08-07T05:22:41.534685Z",
     "start_time": "2018-08-07T05:22:41.466882Z"
    }
   },
   "outputs": [],
   "source": [
    "tags_counter = Counter()\n",
    "\n",
    "try:\n",
    "    with open(data_filepath, 'r') as data_file:\n",
    "        for line in data_file:\n",
    "            _, tags = line.strip().split('\\t')\n",
    "            tags_counter.update(tags.split(' '))         \n",
    "except EnvironmentError:\n",
    "    print('Error opening file {}'.format(data_filepath))\n",
    "\n",
    "top_tags = [tc[0] for tc in tags_counter.most_common(settings['top_tags_count'])]\n",
    "\n",
    "try:\n",
    "    with open(top_tags_filepath, 'w') as top_tags_file:\n",
    "        for tag in top_tags:\n",
    "            top_tags_file.write(tag + '\\n')\n",
    "except EnvironmentError:\n",
    "    print('Error opening file {}'.format(top_tags_filepath))"
   ]
  },
  {
   "cell_type": "markdown",
   "metadata": {},
   "source": [
    "#### make filtered data"
   ]
  },
  {
   "cell_type": "code",
   "execution_count": 14,
   "metadata": {
    "ExecuteTime": {
     "end_time": "2018-08-07T05:22:41.539388Z",
     "start_time": "2018-08-07T05:22:41.536725Z"
    }
   },
   "outputs": [],
   "source": [
    "filtered_data_filepath = os.path.join(settings['data_dir'], settings['filtered_tmp_file'])"
   ]
  },
  {
   "cell_type": "code",
   "execution_count": 15,
   "metadata": {
    "ExecuteTime": {
     "end_time": "2018-08-07T05:22:41.624072Z",
     "start_time": "2018-08-07T05:22:41.541944Z"
    }
   },
   "outputs": [],
   "source": [
    "total_lines = 0\n",
    "\n",
    "try:\n",
    "    with open(data_filepath, 'r') as data_file, open(filtered_data_filepath, 'w') as f_data_file:\n",
    "        for line in data_file:\n",
    "            sentence, tags = line.strip().split('\\t')\n",
    "            tags = tags.split()\n",
    "            \n",
    "            filtered_tags = list(set(tags) & set(top_tags))\n",
    "            if(len(filtered_tags) == 0):\n",
    "                continue\n",
    "            \n",
    "            total_lines += 1\n",
    "            f_data_file.write('{}\\t{}\\n'.format(sentence, ' '.join(filtered_tags)))\n",
    "            \n",
    "except EnvironmentError:\n",
    "    print('Error opening file {}'.format(data_filepath))"
   ]
  },
  {
   "cell_type": "markdown",
   "metadata": {},
   "source": [
    "#### make train and test datafiles"
   ]
  },
  {
   "cell_type": "code",
   "execution_count": 16,
   "metadata": {
    "ExecuteTime": {
     "end_time": "2018-08-07T05:22:41.629672Z",
     "start_time": "2018-08-07T05:22:41.626235Z"
    }
   },
   "outputs": [],
   "source": [
    "train_filepath = os.path.join(settings['data_dir'], settings['train_file'])\n",
    "train_labels_filepath = os.path.join(settings['data_dir'], settings['train_labels_file'])\n",
    "\n",
    "test_filepath = os.path.join(settings['data_dir'], settings['test_file'])\n",
    "test_labels_filepath = os.path.join(settings['data_dir'], settings['test_labels_file'])"
   ]
  },
  {
   "cell_type": "code",
   "execution_count": 17,
   "metadata": {
    "ExecuteTime": {
     "end_time": "2018-08-07T05:22:42.060778Z",
     "start_time": "2018-08-07T05:22:41.632027Z"
    }
   },
   "outputs": [],
   "source": [
    "line_number = 0\n",
    "border_index = int(float(settings['train_size']) * total_lines)\n",
    "\n",
    "try:\n",
    "    with \\\n",
    "    open(filtered_data_filepath, 'r') as f_data_file, \\\n",
    "    open(train_filepath, 'w') as train_file, \\\n",
    "    open(train_labels_filepath, 'w') as train_labels_file, \\\n",
    "    open(test_filepath, 'w') as test_file, \\\n",
    "    open(test_labels_filepath, 'w') as test_labels_file:\n",
    "        \n",
    "        for line in f_data_file:\n",
    "            sentence, tags = line.strip().split('\\t')\n",
    "            \n",
    "            if line_number <= border_index:\n",
    "                train_file.write(sentence + '\\n')\n",
    "                train_labels_file.write(tags + '\\n')\n",
    "            else:\n",
    "                test_file.write(sentence + '\\n')\n",
    "                test_labels_file.write(tags + '\\n')\n",
    "                \n",
    "            line_number += 1\n",
    "    \n",
    "except EnvironmentError:\n",
    "    print('Error opening file {}'.format(data_filepath))"
   ]
  },
  {
   "cell_type": "markdown",
   "metadata": {},
   "source": [
    "#### remove filtered data"
   ]
  },
  {
   "cell_type": "code",
   "execution_count": 18,
   "metadata": {
    "ExecuteTime": {
     "end_time": "2018-08-07T05:22:42.066467Z",
     "start_time": "2018-08-07T05:22:42.062881Z"
    }
   },
   "outputs": [],
   "source": [
    "os.remove(filtered_data_filepath)"
   ]
  },
  {
   "cell_type": "code",
   "execution_count": null,
   "metadata": {},
   "outputs": [],
   "source": []
  }
 ],
 "metadata": {
  "kernelspec": {
   "display_name": "Python 3",
   "language": "python",
   "name": "python3"
  },
  "language_info": {
   "codemirror_mode": {
    "name": "ipython",
    "version": 3
   },
   "file_extension": ".py",
   "mimetype": "text/x-python",
   "name": "python",
   "nbconvert_exporter": "python",
   "pygments_lexer": "ipython3",
   "version": "3.6.4"
  }
 },
 "nbformat": 4,
 "nbformat_minor": 2
}
