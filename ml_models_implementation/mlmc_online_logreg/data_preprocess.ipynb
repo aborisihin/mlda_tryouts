{
 "cells": [
  {
   "cell_type": "code",
   "execution_count": 1,
   "metadata": {
    "ExecuteTime": {
     "end_time": "2018-08-02T15:49:37.480297Z",
     "start_time": "2018-08-02T15:49:37.476243Z"
    }
   },
   "outputs": [],
   "source": [
    "import json\n",
    "import os.path\n",
    "\n",
    "from collections import Counter"
   ]
  },
  {
   "cell_type": "markdown",
   "metadata": {},
   "source": [
    "#### open settings"
   ]
  },
  {
   "cell_type": "code",
   "execution_count": 2,
   "metadata": {
    "ExecuteTime": {
     "end_time": "2018-08-02T15:49:38.656793Z",
     "start_time": "2018-08-02T15:49:38.652263Z"
    }
   },
   "outputs": [
    {
     "name": "stdout",
     "output_type": "stream",
     "text": [
      "keys in settings file:\n",
      "['data_dir', 'data_file', 'top_tags_count', 'top_tags_file', 'train_size', 'train_file', 'test_file']\n"
     ]
    }
   ],
   "source": [
    "with open('./settings.json', 'r') as settings_file:\n",
    "    settings = json.load(settings_file)\n",
    "\n",
    "print('keys in settings file:')\n",
    "print(list(settings.keys()))"
   ]
  },
  {
   "cell_type": "markdown",
   "metadata": {},
   "source": [
    "#### collect top tags"
   ]
  },
  {
   "cell_type": "code",
   "execution_count": 3,
   "metadata": {
    "ExecuteTime": {
     "end_time": "2018-08-02T15:49:42.678860Z",
     "start_time": "2018-08-02T15:49:42.675797Z"
    }
   },
   "outputs": [],
   "source": [
    "data_filepath = os.path.join(settings['data_dir'], settings['data_file'])\n",
    "top_tags_filepath = os.path.join(settings['data_dir'], settings['top_tags_file'])"
   ]
  },
  {
   "cell_type": "code",
   "execution_count": 4,
   "metadata": {
    "ExecuteTime": {
     "end_time": "2018-08-02T15:49:45.664254Z",
     "start_time": "2018-08-02T15:49:43.891828Z"
    }
   },
   "outputs": [],
   "source": [
    "tags_counter = Counter()\n",
    "\n",
    "try:\n",
    "    with open(data_filepath, 'r') as data_file:\n",
    "        for line in data_file:\n",
    "            _, tags = line.strip().split('\\t')\n",
    "            tags_counter.update(tags.split(' '))\n",
    "except EnvironmentError:\n",
    "    print('Error opening file {}'.format(data_filepath))\n",
    "\n",
    "top_tags = [tc[0] for tc in tags_counter.most_common(settings['top_tags_count'])]\n",
    "\n",
    "try:\n",
    "    with open(top_tags_filepath, 'w') as top_tags_file:\n",
    "        for tag in top_tags:\n",
    "            top_tags_file.write(tag + '\\n')\n",
    "except EnvironmentError:\n",
    "    print('Error opening file {}'.format(top_tags_filepath))"
   ]
  },
  {
   "cell_type": "code",
   "execution_count": null,
   "metadata": {},
   "outputs": [],
   "source": []
  }
 ],
 "metadata": {
  "kernelspec": {
   "display_name": "Python 3",
   "language": "python",
   "name": "python3"
  },
  "language_info": {
   "codemirror_mode": {
    "name": "ipython",
    "version": 3
   },
   "file_extension": ".py",
   "mimetype": "text/x-python",
   "name": "python",
   "nbconvert_exporter": "python",
   "pygments_lexer": "ipython3",
   "version": "3.6.5"
  }
 },
 "nbformat": 4,
 "nbformat_minor": 2
}
