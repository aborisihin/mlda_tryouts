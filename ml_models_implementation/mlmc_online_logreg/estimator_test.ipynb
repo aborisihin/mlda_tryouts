{
 "cells": [
  {
   "cell_type": "code",
   "execution_count": 2,
   "metadata": {},
   "outputs": [],
   "source": [
    "import json\n",
    "import os\n",
    "\n",
    "import pandas as pd\n",
    "import numpy as np\n",
    "import matplotlib.pyplot as plt\n",
    "\n",
    "from olr_class import OnlineLogisticRegression\n",
    "\n",
    "from tqdm import tqdm_notebook\n",
    "\n",
    "%matplotlib inline"
   ]
  },
  {
   "cell_type": "markdown",
   "metadata": {},
   "source": [
    "#### prepare to test"
   ]
  },
  {
   "cell_type": "code",
   "execution_count": 3,
   "metadata": {
    "ExecuteTime": {
     "end_time": "2018-08-06T05:52:10.519565Z",
     "start_time": "2018-08-06T05:52:10.513191Z"
    }
   },
   "outputs": [
    {
     "name": "stdout",
     "output_type": "stream",
     "text": [
      "keys in settings file:\n"
     ]
    },
    {
     "data": {
      "text/plain": [
       "['data_dir',\n",
       " 'data_file',\n",
       " 'top_tags_count',\n",
       " 'top_tags_file',\n",
       " 'filtered_tmp_file',\n",
       " 'train_size',\n",
       " 'train_file',\n",
       " 'test_file',\n",
       " 'test_labels_file']"
      ]
     },
     "execution_count": 3,
     "metadata": {},
     "output_type": "execute_result"
    }
   ],
   "source": [
    "# загрузка настроек\n",
    "with open('./settings.json', 'r') as settings_file:\n",
    "    settings = json.load(settings_file)\n",
    "\n",
    "print('keys in settings file:')\n",
    "list(settings.keys())"
   ]
  },
  {
   "cell_type": "code",
   "execution_count": 4,
   "metadata": {
    "ExecuteTime": {
     "end_time": "2018-08-06T05:52:11.363635Z",
     "start_time": "2018-08-06T05:52:11.360411Z"
    }
   },
   "outputs": [],
   "source": [
    "# полные пути к файлам\n",
    "top_tags_filepath = os.path.join(settings['data_dir'], settings['top_tags_file'])\n",
    "train_filepath = os.path.join(settings['data_dir'], settings['train_file'])\n",
    "test_filepath = os.path.join(settings['data_dir'], settings['test_file'])\n",
    "test_labels_filepath = os.path.join(settings['data_dir'], settings['test_labels_file'])"
   ]
  },
  {
   "cell_type": "code",
   "execution_count": 5,
   "metadata": {
    "ExecuteTime": {
     "end_time": "2018-08-06T05:52:11.988950Z",
     "start_time": "2018-08-06T05:52:11.971731Z"
    }
   },
   "outputs": [
    {
     "name": "stdout",
     "output_type": "stream",
     "text": [
      "top-10 tags:\n"
     ]
    },
    {
     "data": {
      "text/plain": [
       "['javascript',\n",
       " 'java',\n",
       " 'c#',\n",
       " 'php',\n",
       " 'android',\n",
       " 'jquery',\n",
       " 'python',\n",
       " 'html',\n",
       " 'c++',\n",
       " 'ios']"
      ]
     },
     "execution_count": 5,
     "metadata": {},
     "output_type": "execute_result"
    }
   ],
   "source": [
    "# загрузка топ тегов\n",
    "top_tags_dataframe = pd.read_csv(top_tags_filepath, header=None)\n",
    "top_tags = top_tags_dataframe[0].tolist()\n",
    "\n",
    "print('top-{} tags:'.format(settings['top_tags_count']))\n",
    "top_tags"
   ]
  },
  {
   "cell_type": "code",
   "execution_count": 6,
   "metadata": {
    "ExecuteTime": {
     "end_time": "2018-08-06T05:52:13.105737Z",
     "start_time": "2018-08-06T05:52:12.921692Z"
    }
   },
   "outputs": [
    {
     "name": "stdout",
     "output_type": "stream",
     "text": [
      "train lines count: 100001\n",
      "test lines count: 24999\n"
     ]
    }
   ],
   "source": [
    "# размер тренировочного датасета\n",
    "\n",
    "# mac os\n",
    "#train_lines_count = int(subprocess.check_output(['wc', '-l', train_filepath]).split()[0])\n",
    "#test_lines_count = int(subprocess.check_output(['wc', '-l', test_filepath]).split()[0])\n",
    "\n",
    "# windows\n",
    "with open(train_filepath) as f:\n",
    "    for i, l in enumerate(f):\n",
    "        pass\n",
    "    train_lines_count = i + 1\n",
    "    \n",
    "with open(test_filepath) as f:\n",
    "    for i, l in enumerate(f):\n",
    "        pass\n",
    "    test_lines_count = i + 1\n",
    "    \n",
    "print('train lines count:', train_lines_count)\n",
    "print('test lines count:', test_lines_count)"
   ]
  },
  {
   "cell_type": "markdown",
   "metadata": {},
   "source": [
    "#### tqdm wrapping methods"
   ]
  },
  {
   "cell_type": "code",
   "execution_count": 7,
   "metadata": {},
   "outputs": [],
   "source": [
    "# метод-обертка тренировки модели с прогресс-баром\n",
    "def fit_with_tqdm(estimator, filepath, lines_count, **fit_params):\n",
    "    with open(filepath) as train_file:\n",
    "        lines_generator = (line.strip().split('\\t') for line in train_file)\n",
    "        wrapped_lines_generator = tqdm_notebook(lines_generator, total=lines_count, mininterval=1)\n",
    "        estimator.fit(wrapped_lines_generator, **fit_params)"
   ]
  },
  {
   "cell_type": "code",
   "execution_count": 8,
   "metadata": {},
   "outputs": [],
   "source": [
    "# метод-обертка предсказания с прогресс-баром\n",
    "def score_with_tqdm(estimator, filepath, lines_count, labels_filepath, **score_params):\n",
    "    with open(filepath) as test_file, open(labels_filepath) as labels_file:\n",
    "        lines_generator = (line.strip() for line in test_file)\n",
    "        wrapped_lines_generator = tqdm_notebook(lines_generator, total=lines_count, mininterval=1)\n",
    "        labels_generator = (line.strip().split() for line in labels_file)\n",
    "        return estimator.score(wrapped_lines_generator, labels_generator, **score_params)"
   ]
  },
  {
   "cell_type": "markdown",
   "metadata": {},
   "source": [
    "#### test models"
   ]
  },
  {
   "cell_type": "code",
   "execution_count": 9,
   "metadata": {},
   "outputs": [],
   "source": [
    "# начнем с классификатора с параметрами по умолчанию (регуляризация и частотный словарь активированы)\n",
    "model_w_freq = OnlineLogisticRegression(top_tags)"
   ]
  },
  {
   "cell_type": "code",
   "execution_count": 10,
   "metadata": {},
   "outputs": [],
   "source": [
    "# сохраняем значения функции потерь и метрику качества для всех проходов по датасету\n",
    "model_w_freq_loss = dict()\n",
    "model_w_freq_score = dict()"
   ]
  },
  {
   "cell_type": "code",
   "execution_count": 11,
   "metadata": {},
   "outputs": [
    {
     "data": {
      "application/vnd.jupyter.widget-view+json": {
       "model_id": "f0fd5816f4c14f1e8f55701fb5df45d0",
       "version_major": 2,
       "version_minor": 0
      },
      "text/html": [
       "<p>Failed to display Jupyter Widget of type <code>HBox</code>.</p>\n",
       "<p>\n",
       "  If you're reading this message in the Jupyter Notebook or JupyterLab Notebook, it may mean\n",
       "  that the widgets JavaScript is still loading. If this message persists, it\n",
       "  likely means that the widgets JavaScript library is either not installed or\n",
       "  not enabled. See the <a href=\"https://ipywidgets.readthedocs.io/en/stable/user_install.html\">Jupyter\n",
       "  Widgets Documentation</a> for setup instructions.\n",
       "</p>\n",
       "<p>\n",
       "  If you're reading this message in another frontend (for example, a static\n",
       "  rendering on GitHub or <a href=\"https://nbviewer.jupyter.org/\">NBViewer</a>),\n",
       "  it may mean that your frontend doesn't currently support widgets.\n",
       "</p>\n"
      ],
      "text/plain": [
       "HBox(children=(IntProgress(value=0, max=100001), HTML(value='')))"
      ]
     },
     "metadata": {},
     "output_type": "display_data"
    },
    {
     "name": "stdout",
     "output_type": "stream",
     "text": [
      "\n"
     ]
    }
   ],
   "source": [
    "# первый проход по датасету\n",
    "fit_with_tqdm(estimator=model_w_freq, \n",
    "              filepath=train_filepath, \n",
    "              lines_count=train_lines_count)\n",
    "\n",
    "model_w_freq_loss['initial pass'] = model_w_freq.loss_"
   ]
  },
  {
   "cell_type": "code",
   "execution_count": 12,
   "metadata": {},
   "outputs": [
    {
     "data": {
      "application/vnd.jupyter.widget-view+json": {
       "model_id": "c2921e6de10e422583e5b778b5f698cf",
       "version_major": 2,
       "version_minor": 0
      },
      "text/html": [
       "<p>Failed to display Jupyter Widget of type <code>HBox</code>.</p>\n",
       "<p>\n",
       "  If you're reading this message in the Jupyter Notebook or JupyterLab Notebook, it may mean\n",
       "  that the widgets JavaScript is still loading. If this message persists, it\n",
       "  likely means that the widgets JavaScript library is either not installed or\n",
       "  not enabled. See the <a href=\"https://ipywidgets.readthedocs.io/en/stable/user_install.html\">Jupyter\n",
       "  Widgets Documentation</a> for setup instructions.\n",
       "</p>\n",
       "<p>\n",
       "  If you're reading this message in another frontend (for example, a static\n",
       "  rendering on GitHub or <a href=\"https://nbviewer.jupyter.org/\">NBViewer</a>),\n",
       "  it may mean that your frontend doesn't currently support widgets.\n",
       "</p>\n"
      ],
      "text/plain": [
       "HBox(children=(IntProgress(value=0, max=24999), HTML(value='')))"
      ]
     },
     "metadata": {},
     "output_type": "display_data"
    },
    {
     "name": "stdout",
     "output_type": "stream",
     "text": [
      "\n"
     ]
    }
   ],
   "source": [
    "# метрика качества после первого прохода\n",
    "score = score_with_tqdm(estimator=model_w_freq, \n",
    "                        filepath=test_filepath, \n",
    "                        lines_count=test_lines_count, \n",
    "                        labels_filepath=test_labels_filepath,\n",
    "                        threshold=0.8)\n",
    "\n",
    "model_w_freq_score['initial pass'] = score"
   ]
  },
  {
   "cell_type": "code",
   "execution_count": 13,
   "metadata": {},
   "outputs": [
    {
     "data": {
      "application/vnd.jupyter.widget-view+json": {
       "model_id": "09dbdf41a5524135b1900a607aa6d050",
       "version_major": 2,
       "version_minor": 0
      },
      "text/html": [
       "<p>Failed to display Jupyter Widget of type <code>HBox</code>.</p>\n",
       "<p>\n",
       "  If you're reading this message in the Jupyter Notebook or JupyterLab Notebook, it may mean\n",
       "  that the widgets JavaScript is still loading. If this message persists, it\n",
       "  likely means that the widgets JavaScript library is either not installed or\n",
       "  not enabled. See the <a href=\"https://ipywidgets.readthedocs.io/en/stable/user_install.html\">Jupyter\n",
       "  Widgets Documentation</a> for setup instructions.\n",
       "</p>\n",
       "<p>\n",
       "  If you're reading this message in another frontend (for example, a static\n",
       "  rendering on GitHub or <a href=\"https://nbviewer.jupyter.org/\">NBViewer</a>),\n",
       "  it may mean that your frontend doesn't currently support widgets.\n",
       "</p>\n"
      ],
      "text/plain": [
       "HBox(children=(IntProgress(value=0, max=100001), HTML(value='')))"
      ]
     },
     "metadata": {},
     "output_type": "display_data"
    },
    {
     "name": "stdout",
     "output_type": "stream",
     "text": [
      "\n"
     ]
    }
   ],
   "source": [
    "# фильтрация словаря (топ-10k слов)\n",
    "model_w_freq.filter_vocab(10000)\n",
    "\n",
    "# второй проход по датасету\n",
    "fit_with_tqdm(estimator=model_w_freq, \n",
    "              filepath=train_filepath, \n",
    "              lines_count=train_lines_count, \n",
    "              update_vocab=False)\n",
    "\n",
    "model_w_freq_loss['top-10k pass'] = model_w_freq.loss_"
   ]
  },
  {
   "cell_type": "code",
   "execution_count": 16,
   "metadata": {},
   "outputs": [
    {
     "data": {
      "application/vnd.jupyter.widget-view+json": {
       "model_id": "a1e9c41fb7b94eb8a13bf0d4803bce17",
       "version_major": 2,
       "version_minor": 0
      },
      "text/html": [
       "<p>Failed to display Jupyter Widget of type <code>HBox</code>.</p>\n",
       "<p>\n",
       "  If you're reading this message in the Jupyter Notebook or JupyterLab Notebook, it may mean\n",
       "  that the widgets JavaScript is still loading. If this message persists, it\n",
       "  likely means that the widgets JavaScript library is either not installed or\n",
       "  not enabled. See the <a href=\"https://ipywidgets.readthedocs.io/en/stable/user_install.html\">Jupyter\n",
       "  Widgets Documentation</a> for setup instructions.\n",
       "</p>\n",
       "<p>\n",
       "  If you're reading this message in another frontend (for example, a static\n",
       "  rendering on GitHub or <a href=\"https://nbviewer.jupyter.org/\">NBViewer</a>),\n",
       "  it may mean that your frontend doesn't currently support widgets.\n",
       "</p>\n"
      ],
      "text/plain": [
       "HBox(children=(IntProgress(value=0, max=24999), HTML(value='')))"
      ]
     },
     "metadata": {},
     "output_type": "display_data"
    },
    {
     "name": "stdout",
     "output_type": "stream",
     "text": [
      "\n"
     ]
    }
   ],
   "source": [
    "# метрика качества после второго прохода\n",
    "score = score_with_tqdm(estimator=model_w_freq, \n",
    "                        filepath=test_filepath, \n",
    "                        lines_count=test_lines_count, \n",
    "                        labels_filepath=test_labels_filepath,\n",
    "                        threshold=0.8)\n",
    "\n",
    "model_w_freq_score['top-10k pass'] = score"
   ]
  },
  {
   "cell_type": "markdown",
   "metadata": {},
   "source": [
    "#### results"
   ]
  },
  {
   "cell_type": "code",
   "execution_count": 17,
   "metadata": {},
   "outputs": [
    {
     "data": {
      "image/png": "[encoded data removed]",
      "text/plain": [
       "<Figure size 576x432 with 1 Axes>"
      ]
     },
     "metadata": {},
     "output_type": "display_data"
    }
   ],
   "source": [
    "roll = 10000\n",
    "\n",
    "plt.figure(figsize=(8,6))\n",
    "for key in model_w_freq_loss.keys():\n",
    "    plt.plot(pd.Series(model_w_freq_loss[key]).rolling(roll).mean(), \n",
    "             label='{} (J={})'.format(key, round(model_w_freq_score[key], 2)))\n",
    "plt.grid()\n",
    "plt.legend()\n",
    "\n",
    "pass"
   ]
  },
  {
   "cell_type": "code",
   "execution_count": null,
   "metadata": {},
   "outputs": [],
   "source": []
  }
 ],
 "metadata": {
  "kernelspec": {
   "display_name": "Python 3",
   "language": "python",
   "name": "python3"
  },
  "language_info": {
   "codemirror_mode": {
    "name": "ipython",
    "version": 3
   },
   "file_extension": ".py",
   "mimetype": "text/x-python",
   "name": "python",
   "nbconvert_exporter": "python",
   "pygments_lexer": "ipython3",
   "version": "3.6.4"
  }
 },
 "nbformat": 4,
 "nbformat_minor": 2
}
