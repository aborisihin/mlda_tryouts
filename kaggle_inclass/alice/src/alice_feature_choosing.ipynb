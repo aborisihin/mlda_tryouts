{
 "cells": [
  {
   "cell_type": "code",
   "execution_count": 1,
   "metadata": {
    "ExecuteTime": {
     "end_time": "2018-03-24T20:17:57.112405Z",
     "start_time": "2018-03-24T20:17:55.776156Z"
    }
   },
   "outputs": [],
   "source": [
    "import numpy as np\n",
    "import pandas as pd\n",
    "import matplotlib.pyplot as plt\n",
    "\n",
    "import os\n",
    "import itertools\n",
    "import pickle\n",
    "from copy import copy\n",
    "from datetime import datetime\n",
    "from tqdm import tqdm_notebook\n",
    "\n",
    "from scipy import sparse\n",
    "from sklearn.linear_model import LogisticRegression\n",
    "from sklearn.preprocessing import StandardScaler, MinMaxScaler\n",
    "from sklearn.feature_extraction.text import TfidfVectorizer\n",
    "from sklearn.model_selection import GridSearchCV, StratifiedKFold\n",
    "from sklearn.metrics import roc_auc_score\n",
    "\n",
    "from sklearn.pipeline import Pipeline\n",
    "from sklearn.base import BaseEstimator, TransformerMixin\n",
    "\n",
    "%matplotlib inline\n",
    "\n",
    "import warnings\n",
    "warnings.filterwarnings('ignore')"
   ]
  },
  {
   "cell_type": "markdown",
   "metadata": {},
   "source": [
    "### data preprocess"
   ]
  },
  {
   "cell_type": "code",
   "execution_count": 2,
   "metadata": {
    "ExecuteTime": {
     "end_time": "2018-03-24T20:17:59.772029Z",
     "start_time": "2018-03-24T20:17:57.116409Z"
    }
   },
   "outputs": [],
   "source": [
    "train_df = pd.read_csv('./data/train_sessions.csv', index_col='session_id')"
   ]
  },
  {
   "cell_type": "code",
   "execution_count": 3,
   "metadata": {
    "ExecuteTime": {
     "end_time": "2018-03-24T20:18:02.677392Z",
     "start_time": "2018-03-24T20:17:59.772029Z"
    }
   },
   "outputs": [],
   "source": [
    "time_columns = ['time%d' % i for i in range(1, 11)]\n",
    "train_df[time_columns] = train_df[time_columns].apply(pd.to_datetime)\n",
    "\n",
    "site_columns = ['site%d' % i for i in range(1, 11)]\n",
    "train_df[site_columns] = train_df[site_columns].fillna(0).astype('int')"
   ]
  },
  {
   "cell_type": "code",
   "execution_count": 4,
   "metadata": {
    "ExecuteTime": {
     "end_time": "2018-03-24T20:18:02.822029Z",
     "start_time": "2018-03-24T20:18:02.677392Z"
    }
   },
   "outputs": [],
   "source": [
    "train_df = train_df.sort_values('time1', axis=0, ascending=True)"
   ]
  },
  {
   "cell_type": "code",
   "execution_count": 5,
   "metadata": {
    "ExecuteTime": {
     "end_time": "2018-03-24T20:27:42.929224Z",
     "start_time": "2018-03-24T20:27:42.893226Z"
    }
   },
   "outputs": [
    {
     "data": {
      "text/plain": [
       "((253561, 20), (253561,))"
      ]
     },
     "execution_count": 5,
     "metadata": {},
     "output_type": "execute_result"
    }
   ],
   "source": [
    "X = train_df.drop('target', axis=1)\n",
    "y = train_df['target']\n",
    "\n",
    "X.shape, y.shape"
   ]
  },
  {
   "cell_type": "markdown",
   "metadata": {},
   "source": [
    "### pipeline classes and modificate methods"
   ]
  },
  {
   "cell_type": "code",
   "execution_count": 6,
   "metadata": {
    "ExecuteTime": {
     "end_time": "2018-03-24T20:40:31.613782Z",
     "start_time": "2018-03-24T20:40:31.312682Z"
    }
   },
   "outputs": [],
   "source": [
    "# data selecting\n",
    "class DataSelecting(BaseEstimator, TransformerMixin):\n",
    "    \n",
    "    def __init__(self, column_names):\n",
    "        self.column_names = column_names\n",
    "        \n",
    "    def fit(self, X, y=None):\n",
    "        return self\n",
    "        \n",
    "    def transform(self, X):\n",
    "        return X[self.column_names]\n",
    "    \n",
    "# make sites sparse matrix (one-hot-encoding)\n",
    "class SparseOneHotEncoding(BaseEstimator, TransformerMixin):\n",
    "    \n",
    "    def fit(self, X, y=None):\n",
    "        self.values_flatten = X.values.flatten()\n",
    "        return self\n",
    "    \n",
    "    def transform(self, X):\n",
    "        transformed = sparse.csr_matrix(([1] * self.values_flatten.shape[0], \n",
    "                                         self.values_flatten, \n",
    "                                         range(0, self.values_flatten.shape[0] + 10, 10)))[:, 1:]\n",
    "        return transformed\n",
    "    \n",
    "# make one feature for all sites index\n",
    "class AllSitesJoining(BaseEstimator, TransformerMixin):\n",
    "    \n",
    "    def fit(self, X, y=None):\n",
    "        return self\n",
    "    \n",
    "    def transform(self, X):\n",
    "        return X.apply(lambda row: ' '.join(np.array([x for x in row.values if x != 0]).astype('str')), axis=1)\n",
    "    \n",
    "# insert binary feature\n",
    "class BinaryFeatureInsertion(BaseEstimator, TransformerMixin):\n",
    "    \n",
    "    def __init__(self, feature_column, new_feature_name, modificate_method, use_feature=True):\n",
    "        self.feature_column = feature_column\n",
    "        self.new_feature_name = new_feature_name\n",
    "        self.modificate_method = modificate_method\n",
    "        self.use_feature = use_feature\n",
    "        \n",
    "    def fit(self, X, y=None):\n",
    "        if not self.use_feature:\n",
    "            return self\n",
    "        \n",
    "        new_feature_column = self.feature_column.apply(self.modificate_method)\n",
    "        self.feature_df = pd.DataFrame(new_feature_column.values.reshape(-1, 1), columns=[self.new_feature_name])\n",
    "        #print('BinaryFeatureInsertion: {}'.format(self.new_feature_name))\n",
    "        return self\n",
    "            \n",
    "    def transform(self, X):\n",
    "        if not self.use_feature:\n",
    "            return X\n",
    "        \n",
    "        transformed = sparse.csc_matrix(sparse.hstack([X, self.feature_df]))\n",
    "        return transformed\n",
    "    \n",
    "# insert float feature\n",
    "class FloatFeatureInsertion(BaseEstimator, TransformerMixin):\n",
    "    \n",
    "    def __init__(self, feature_column, new_feature_name, modificate_method, method_axis=0, scaler=None, use_feature=True):\n",
    "        self.feature_column = feature_column\n",
    "        self.new_feature_name = new_feature_name\n",
    "        self.modificate_method = modificate_method\n",
    "        self.method_axis = method_axis\n",
    "        self.scaler = scaler\n",
    "        self.use_feature = use_feature\n",
    "        \n",
    "    def fit(self, X, y=None):\n",
    "        if not self.use_feature:\n",
    "            return self\n",
    "        \n",
    "        # column\n",
    "        if(len(self.feature_column.shape) == 1): \n",
    "            new_feature_column = self.feature_column.apply(self.modificate_method)\n",
    "        # dataframe\n",
    "        else: \n",
    "            new_feature_column = self.feature_column.apply(self.modificate_method, axis=self.method_axis)\n",
    "        \n",
    "        new_feature_column = new_feature_column.values.reshape(-1, 1).astype('float64')\n",
    "        if self.scaler is not None:\n",
    "            new_feature_column = self.scaler.fit_transform(new_feature_column)\n",
    "        \n",
    "        self.feature_df = pd.DataFrame(new_feature_column, columns=[self.new_feature_name])\n",
    "        \n",
    "        #print('FloatFeatureInsertion: {}'.format(self.new_feature_name))\n",
    "        return self\n",
    "            \n",
    "    def transform(self, X):\n",
    "        if not self.use_feature:\n",
    "            return X\n",
    "        \n",
    "        transformed = sparse.csc_matrix(sparse.hstack([X, self.feature_df]))\n",
    "        return transformed\n",
    "        \n",
    "    \n",
    "# insert one-hot-encoded feature\n",
    "class OHEFeatureInsertion(BaseEstimator, TransformerMixin):\n",
    "    \n",
    "    def __init__(self, feature_column, new_feature_name, modificate_method, method_axis=0, use_feature=True):\n",
    "        self.feature_column = feature_column\n",
    "        self.new_feature_name = new_feature_name\n",
    "        self.modificate_method = modificate_method\n",
    "        self.method_axis = method_axis\n",
    "        self.use_feature = use_feature\n",
    "        \n",
    "    def fit(self, X, y=None):\n",
    "        if not self.use_feature:\n",
    "            return self\n",
    "        \n",
    "        # column\n",
    "        if(len(self.feature_column.shape) == 1): \n",
    "            new_feature_column = self.feature_column.apply(self.modificate_method)\n",
    "        # dataframe\n",
    "        else: \n",
    "            new_feature_column = self.feature_column.apply(self.modificate_method, axis=self.method_axis)\n",
    "            \n",
    "        self.ohe_feature_df = pd.DataFrame(new_feature_column.values.reshape(-1, 1), columns=[self.new_feature_name])\n",
    "        self.ohe_feature_df = pd.get_dummies(self.ohe_feature_df[self.new_feature_name])\n",
    "        \n",
    "        #print('OHEFeatureInsertion: {}, columns: {}'.format(self.new_feature_name, self.ohe_feature_df.shape[1]))\n",
    "        return self\n",
    "            \n",
    "    def transform(self, X):\n",
    "        if not self.use_feature:\n",
    "            return X\n",
    "        \n",
    "        transformed = sparse.csc_matrix(sparse.hstack([X, self.ohe_feature_df]))\n",
    "        return transformed"
   ]
  },
  {
   "cell_type": "code",
   "execution_count": 7,
   "metadata": {
    "ExecuteTime": {
     "end_time": "2018-03-24T20:37:35.826427Z",
     "start_time": "2018-03-24T20:37:35.814432Z"
    }
   },
   "outputs": [],
   "source": [
    "start_year_month_mod = lambda dt: dt.year*100 + dt.month\n",
    "start_hour_mod = lambda dt: dt.hour\n",
    "dayofweek_mod = lambda dt: dt.dayofweek\n",
    "\n",
    "session_length_mod = lambda row: sum([int(not pd.isnull(row[col])) for col in range(row.shape[0])])\n",
    "\n",
    "def daytime_mod(dt):\n",
    "    if dt.hour <= 11:\n",
    "        return 1\n",
    "    elif (dt.hour >= 12) & (dt.hour <= 14):\n",
    "        return 2\n",
    "    else:\n",
    "        return 3\n",
    "\n",
    "def session_duration_mod(row):\n",
    "    for col in range(row.shape[0])[::-1]:\n",
    "        if not (pd.isnull(row[col])):\n",
    "            return (row[col] - row[0]).seconds"
   ]
  },
  {
   "cell_type": "markdown",
   "metadata": {},
   "source": [
    "### feature processing pipeline"
   ]
  },
  {
   "cell_type": "code",
   "execution_count": 8,
   "metadata": {
    "ExecuteTime": {
     "end_time": "2018-03-24T20:40:32.371011Z",
     "start_time": "2018-03-24T20:40:32.323011Z"
    }
   },
   "outputs": [],
   "source": [
    "feat_processing_pipeline = Pipeline(steps = [\n",
    "    \n",
    "     ('selecting', DataSelecting(site_columns)),\n",
    "    \n",
    "     ('all_sites_joining', AllSitesJoining()),\n",
    "    \n",
    "     ('sparse_tf_idf', TfidfVectorizer(ngram_range=(1, 3), max_features=100000)),\n",
    "    \n",
    "# new features\n",
    "    \n",
    "    ('start_year_month_insertion', OHEFeatureInsertion(feature_column=X['time1'], \n",
    "                                                       new_feature_name='start_year_month', \n",
    "                                                       modificate_method=start_year_month_mod)),\n",
    "    \n",
    "    ('dayofweek_insertion', OHEFeatureInsertion(feature_column=X['time1'], \n",
    "                                                new_feature_name='dayofweek', \n",
    "                                                modificate_method=dayofweek_mod)),\n",
    "    \n",
    "    ('start_hour_insertion', OHEFeatureInsertion(feature_column=X['time1'], \n",
    "                                                 new_feature_name='start_hour', \n",
    "                                                 modificate_method=start_hour_mod)),\n",
    "    \n",
    "    ('daytime_insertion', OHEFeatureInsertion(feature_column=X['time1'], \n",
    "                                              new_feature_name='daytime', \n",
    "                                              modificate_method=daytime_mod)),\n",
    "    \n",
    "    ('session_length_insertion', OHEFeatureInsertion(feature_column=X[time_columns], \n",
    "                                                     new_feature_name='session_length', \n",
    "                                                     modificate_method=session_length_mod, \n",
    "                                                     method_axis=1)),\n",
    "    \n",
    "    ('session_duration_insertion', FloatFeatureInsertion(feature_column=X[time_columns], \n",
    "                                                         new_feature_name='session_duration', \n",
    "                                                         modificate_method=session_duration_mod, \n",
    "                                                         method_axis=1, \n",
    "                                                         scaler=MinMaxScaler(feature_range=(0, 1)))),\n",
    "])"
   ]
  },
  {
   "cell_type": "code",
   "execution_count": 9,
   "metadata": {},
   "outputs": [],
   "source": [
    "def get_score(X_transformed, y_original):\n",
    "    \n",
    "    holdout_size = 0.1\n",
    "    holdout_idx = int(round(X_transformed.shape[0] * (1 - holdout_size)))\n",
    "\n",
    "    X_train = X_transformed[:holdout_idx, :]\n",
    "    y_train = y_original[:holdout_idx]\n",
    "\n",
    "    X_holdout = X_transformed[holdout_idx:, :]\n",
    "    y_holdout = y_original[holdout_idx:]\n",
    "    \n",
    "    lr = LogisticRegression(C=1.0, class_weight='balanced', random_state=14)\n",
    "    lr.fit(X_train, y_train)\n",
    "    \n",
    "    return roc_auc_score(y_holdout, lr.predict_proba(X_holdout)[:, 1])"
   ]
  },
  {
   "cell_type": "markdown",
   "metadata": {},
   "source": [
    "### fit"
   ]
  },
  {
   "cell_type": "code",
   "execution_count": 10,
   "metadata": {},
   "outputs": [],
   "source": [
    "param_names = ['start_year_month_insertion__use_feature', \n",
    "               'dayofweek_insertion__use_feature', \n",
    "               'start_hour_insertion__use_feature', \n",
    "               'daytime_insertion__use_feature', \n",
    "               'session_length_insertion__use_feature', \n",
    "               'session_duration_insertion__use_feature']\n",
    "\n",
    "param_mask = list(itertools.product([True, False], repeat=len(param_names)))"
   ]
  },
  {
   "cell_type": "code",
   "execution_count": 11,
   "metadata": {},
   "outputs": [],
   "source": [
    "# features_bruteforce = {}\n",
    "\n",
    "# for mask in tqdm_notebook(param_mask):\n",
    "#     current_args = dict(zip(param_names, mask))\n",
    "#     feat_processing_pipeline.set_params(**current_args)\n",
    "#     score = get_score(feat_processing_pipeline.fit_transform(X), y)\n",
    "    \n",
    "#     features_bruteforce[mask] = score\n",
    "    \n",
    "#     print('mask = {} score = {}'.format(mask, score))"
   ]
  },
  {
   "cell_type": "code",
   "execution_count": 12,
   "metadata": {},
   "outputs": [],
   "source": [
    "# with open('./data/features_bruteforce_dic.pkl', 'wb') as features_bruteforce_file:\n",
    "#     pickle.dump(features_bruteforce, features_bruteforce_file)"
   ]
  },
  {
   "cell_type": "code",
   "execution_count": 13,
   "metadata": {},
   "outputs": [],
   "source": [
    "with open('./data/features_bruteforce_dic.pkl', 'rb') as features_bruteforce_file:\n",
    "    features_bruteforce = pickle.load(features_bruteforce_file)"
   ]
  },
  {
   "cell_type": "code",
   "execution_count": 14,
   "metadata": {},
   "outputs": [
    {
     "data": {
      "text/plain": [
       "[((True, True, True, False, True, True), 0.9845310167673869),\n",
       " ((True, True, True, True, True, True), 0.9845289033327053),\n",
       " ((True, True, True, False, True, False), 0.9842276634107696),\n",
       " ((True, True, True, True, True, False), 0.9842263047741885),\n",
       " ((True, True, True, False, False, True), 0.9839531433415938),\n",
       " ((True, True, True, True, False, True), 0.9839498222299513),\n",
       " ((True, True, True, False, False, False), 0.9836756040800159),\n",
       " ((True, True, True, True, False, False), 0.9836676032201499),\n",
       " ((True, True, False, True, True, True), 0.9782879307179881),\n",
       " ((True, True, False, True, True, False), 0.9781016465467685),\n",
       " ((True, True, False, True, False, True), 0.9773939478476781),\n",
       " ((True, True, False, True, False, False), 0.9771913600374863),\n",
       " ((False, True, True, False, True, True), 0.976379801119758),\n",
       " ((False, True, True, True, True, True), 0.9763742156138139),\n",
       " ((False, True, True, True, True, False), 0.9759816451217098),\n",
       " ((False, True, True, False, True, False), 0.9759787768889275),\n",
       " ((False, True, True, False, False, True), 0.9756268145346338),\n",
       " ((False, True, True, True, False, True), 0.9756227386248908),\n",
       " ((False, True, True, False, False, False), 0.9752478304083396),\n",
       " ((False, True, True, True, False, False), 0.9752452640947978),\n",
       " ((True, False, True, False, True, True), 0.9713792637035104),\n",
       " ((True, False, True, True, True, True), 0.9713769993092087),\n",
       " ((True, False, True, False, True, False), 0.9709482739880875),\n",
       " ((True, False, True, True, True, False), 0.9709481230284673),\n",
       " ((True, False, True, False, False, True), 0.9705744979686874),\n",
       " ((True, False, True, True, False, True), 0.9705571376123743),\n",
       " ((True, False, True, False, False, False), 0.9701718886618457),\n",
       " ((True, False, True, True, False, False), 0.9701589061345159),\n",
       " ((False, False, True, False, True, True), 0.9696023180151587),\n",
       " ((False, False, True, True, True, True), 0.9695977892265555),\n",
       " ((False, False, True, True, True, False), 0.9691384191025512),\n",
       " ((False, False, True, False, True, False), 0.9691367585467299),\n",
       " ((False, False, True, False, False, True), 0.9687999676342575),\n",
       " ((False, False, True, True, False, True), 0.9687871360665479),\n",
       " ((False, True, False, True, True, True), 0.9684332867170026),\n",
       " ((False, False, True, False, False, False), 0.9683534290779627),\n",
       " ((False, False, True, True, False, False), 0.9683484474104991),\n",
       " ((False, True, False, True, True, False), 0.9681075158567984),\n",
       " ((False, True, False, True, False, True), 0.967306222193238),\n",
       " ((False, True, False, True, False, False), 0.9670316266442522),\n",
       " ((True, False, False, True, True, True), 0.9634122942722296),\n",
       " ((True, False, False, True, True, False), 0.9630371596162486),\n",
       " ((True, False, False, True, False, True), 0.9621823507673579),\n",
       " ((True, False, False, True, False, False), 0.9618604293774666),\n",
       " ((False, False, False, True, True, True), 0.9611741669444324),\n",
       " ((False, False, False, True, True, False), 0.9607631038988642),\n",
       " ((False, False, False, True, False, True), 0.9601747387794732),\n",
       " ((False, False, False, True, False, False), 0.9598004344014028),\n",
       " ((True, True, False, False, True, True), 0.9577694991522108),\n",
       " ((True, True, False, False, True, False), 0.9574258395770232),\n",
       " ((True, True, False, False, False, True), 0.9567272739349497),\n",
       " ((True, True, False, False, False, False), 0.9564801530368245),\n",
       " ((False, True, False, False, True, True), 0.9381513907607882),\n",
       " ((False, True, False, False, True, False), 0.9373189239356743),\n",
       " ((False, True, False, False, False, True), 0.9366346994575115),\n",
       " ((False, True, False, False, False, False), 0.935814686801057),\n",
       " ((True, False, False, False, True, True), 0.918689902975233),\n",
       " ((True, False, False, False, True, False), 0.917838566197605),\n",
       " ((True, False, False, False, False, True), 0.9170464810708714),\n",
       " ((False, False, False, False, True, True), 0.9168521205599757),\n",
       " ((True, False, False, False, False, False), 0.9161656316875111),\n",
       " ((False, False, False, False, True, False), 0.9157966863759547),\n",
       " ((False, False, False, False, False, True), 0.9152637989169554),\n",
       " ((False, False, False, False, False, False), 0.9141643600036713)]"
      ]
     },
     "execution_count": 14,
     "metadata": {},
     "output_type": "execute_result"
    }
   ],
   "source": [
    "sorted([(k, v) for (k, v) in features_bruteforce.items()], key=lambda x: x[1], reverse=True)"
   ]
  },
  {
   "cell_type": "code",
   "execution_count": null,
   "metadata": {},
   "outputs": [],
   "source": []
  }
 ],
 "metadata": {
  "kernelspec": {
   "display_name": "Python 3",
   "language": "python",
   "name": "python3"
  },
  "language_info": {
   "codemirror_mode": {
    "name": "ipython",
    "version": 3
   },
   "file_extension": ".py",
   "mimetype": "text/x-python",
   "name": "python",
   "nbconvert_exporter": "python",
   "pygments_lexer": "ipython3",
   "version": "3.6.4"
  }
 },
 "nbformat": 4,
 "nbformat_minor": 2
}
