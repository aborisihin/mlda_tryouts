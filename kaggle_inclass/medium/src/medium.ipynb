{
 "cells": [
  {
   "cell_type": "code",
   "execution_count": 1,
   "metadata": {
    "ExecuteTime": {
     "end_time": "2018-03-29T21:27:42.506828Z",
     "start_time": "2018-03-29T21:27:34.867604Z"
    }
   },
   "outputs": [],
   "source": [
    "import numpy as np\n",
    "import pandas as pd\n",
    "import matplotlib.pyplot as plt\n",
    "\n",
    "from datetime import datetime\n",
    "from tqdm import tqdm_notebook\n",
    "\n",
    "from sklearn.linear_model import Ridge\n",
    "from sklearn.feature_extraction.text import TfidfVectorizer\n",
    "from sklearn.preprocessing import OneHotEncoder, LabelEncoder\n",
    "from sklearn.metrics import mean_absolute_error\n",
    "\n",
    "from scipy import sparse\n",
    "\n",
    "%matplotlib inline"
   ]
  },
  {
   "cell_type": "markdown",
   "metadata": {},
   "source": [
    "Идеи:\n",
    "- построение кривых обучения - нужны ли все данные?"
   ]
  },
  {
   "cell_type": "code",
   "execution_count": 2,
   "metadata": {
    "ExecuteTime": {
     "end_time": "2018-03-29T21:27:42.524603Z",
     "start_time": "2018-03-29T21:27:42.506828Z"
    }
   },
   "outputs": [],
   "source": [
    "def write_submission_file(prediction, filename, timestamp=False):\n",
    "    \n",
    "    sample_submission = pd.read_csv('./data/sample_submission.csv', index_col='id')\n",
    "    sample_submission['log_recommends'] = prediction\n",
    "    \n",
    "    if timestamp:\n",
    "        full_filename = '{}_{}.csv'.format(filename, datetime.now().strftime('%m%d_%H%M'))\n",
    "    else:\n",
    "        full_filename = '{}.csv'.format(filename)\n",
    "    \n",
    "    sample_submission.to_csv('./submissions/{}'.format(full_filename))"
   ]
  },
  {
   "cell_type": "markdown",
   "metadata": {},
   "source": [
    "<b>targets on test_data: target = log1p(recommendations) = log(1 + recommendations)</b>\n",
    "<br>inverse transformation: exp1m(x) = exp(x) -1"
   ]
  },
  {
   "cell_type": "markdown",
   "metadata": {},
   "source": [
    "Some ideas for improvement:\n",
    "- Engineer good features, this is the key to success. Some simple features will be based on publication time, authors, content length and so on\n",
    "- You may not ignore HTML and extract some features from there\n",
    "- You'd better experiment with your validation scheme. You should see a correlation between your local improvements and LB score\n",
    "- Try TF-IDF, ngrams, Word2Vec and GloVe embeddings\n",
    "- Try various NLP techniques like stemming and lemmatization\n",
    "- Tune hyperparameters. In our example, we've left only 50k features and used `C`=1 as a regularization parameter, this can be changed \n",
    "- SGD and Vowpal Wabbit will learn much faster\n",
    "- In our course, we don't cover neural nets. But it's not obliged to use GRUs or LSTMs in this competition. "
   ]
  },
  {
   "cell_type": "markdown",
   "metadata": {},
   "source": [
    "## load processed data"
   ]
  },
  {
   "cell_type": "markdown",
   "metadata": {},
   "source": [
    "### author"
   ]
  },
  {
   "cell_type": "code",
   "execution_count": 3,
   "metadata": {
    "ExecuteTime": {
     "end_time": "2018-03-29T21:27:43.308006Z",
     "start_time": "2018-03-29T21:27:42.528607Z"
    }
   },
   "outputs": [],
   "source": [
    "df_train_author = pd.read_csv('./data/processed/train_author.csv', encoding='utf-8', index_col=0)\n",
    "df_test_author = pd.read_csv('./data/processed/test_author.csv', encoding='utf-8', index_col=0)"
   ]
  },
  {
   "cell_type": "code",
   "execution_count": 4,
   "metadata": {
    "ExecuteTime": {
     "end_time": "2018-03-29T21:27:43.419455Z",
     "start_time": "2018-03-29T21:27:43.308006Z"
    }
   },
   "outputs": [],
   "source": [
    "url_to_name = lambda url: url[url.find('@') + 1:]\n",
    "\n",
    "df_train_author['name'] = df_train_author['url'].apply(url_to_name)\n",
    "df_train_author['twitter'].fillna('', inplace=True)\n",
    "\n",
    "df_test_author['name'] = df_test_author['url'].apply(url_to_name)\n",
    "df_test_author['twitter'].fillna('', inplace=True)"
   ]
  },
  {
   "cell_type": "code",
   "execution_count": 5,
   "metadata": {
    "ExecuteTime": {
     "end_time": "2018-03-29T21:27:43.443906Z",
     "start_time": "2018-03-29T21:27:43.419455Z"
    },
    "scrolled": true
   },
   "outputs": [
    {
     "data": {
      "text/html": [
       "<div>\n",
       "<style scoped>\n",
       "    .dataframe tbody tr th:only-of-type {\n",
       "        vertical-align: middle;\n",
       "    }\n",
       "\n",
       "    .dataframe tbody tr th {\n",
       "        vertical-align: top;\n",
       "    }\n",
       "\n",
       "    .dataframe thead th {\n",
       "        text-align: right;\n",
       "    }\n",
       "</style>\n",
       "<table border=\"1\" class=\"dataframe\">\n",
       "  <thead>\n",
       "    <tr style=\"text-align: right;\">\n",
       "      <th></th>\n",
       "      <th>name</th>\n",
       "      <th>twitter</th>\n",
       "      <th>url</th>\n",
       "    </tr>\n",
       "  </thead>\n",
       "  <tbody>\n",
       "    <tr>\n",
       "      <th>0</th>\n",
       "      <td>Medium</td>\n",
       "      <td>@Medium</td>\n",
       "      <td>https://medium.com/@Medium</td>\n",
       "    </tr>\n",
       "    <tr>\n",
       "      <th>1</th>\n",
       "      <td>Medium</td>\n",
       "      <td>@Medium</td>\n",
       "      <td>https://medium.com/@Medium</td>\n",
       "    </tr>\n",
       "    <tr>\n",
       "      <th>2</th>\n",
       "      <td>aelcenganda</td>\n",
       "      <td>@aelcenganda</td>\n",
       "      <td>https://medium.com/@aelcenganda</td>\n",
       "    </tr>\n",
       "    <tr>\n",
       "      <th>3</th>\n",
       "      <td>vaibhavkhulbe</td>\n",
       "      <td>@vaibhav_khulbe</td>\n",
       "      <td>https://medium.com/@vaibhavkhulbe</td>\n",
       "    </tr>\n",
       "    <tr>\n",
       "      <th>4</th>\n",
       "      <td>vaibhavkhulbe</td>\n",
       "      <td>@vaibhav_khulbe</td>\n",
       "      <td>https://medium.com/@vaibhavkhulbe</td>\n",
       "    </tr>\n",
       "  </tbody>\n",
       "</table>\n",
       "</div>"
      ],
      "text/plain": [
       "            name          twitter                                url\n",
       "0         Medium          @Medium         https://medium.com/@Medium\n",
       "1         Medium          @Medium         https://medium.com/@Medium\n",
       "2    aelcenganda     @aelcenganda    https://medium.com/@aelcenganda\n",
       "3  vaibhavkhulbe  @vaibhav_khulbe  https://medium.com/@vaibhavkhulbe\n",
       "4  vaibhavkhulbe  @vaibhav_khulbe  https://medium.com/@vaibhavkhulbe"
      ]
     },
     "execution_count": 5,
     "metadata": {},
     "output_type": "execute_result"
    }
   ],
   "source": [
    "df_train_author.head()"
   ]
  },
  {
   "cell_type": "code",
   "execution_count": 6,
   "metadata": {
    "ExecuteTime": {
     "end_time": "2018-03-29T21:27:43.467911Z",
     "start_time": "2018-03-29T21:27:43.447908Z"
    }
   },
   "outputs": [
    {
     "data": {
      "text/plain": [
       "((62313, 3), (34645, 3))"
      ]
     },
     "execution_count": 6,
     "metadata": {},
     "output_type": "execute_result"
    }
   ],
   "source": [
    "df_train_author.shape, df_test_author.shape"
   ]
  },
  {
   "cell_type": "markdown",
   "metadata": {},
   "source": [
    "### content"
   ]
  },
  {
   "cell_type": "code",
   "execution_count": 7,
   "metadata": {
    "ExecuteTime": {
     "end_time": "2018-03-29T21:27:43.479904Z",
     "start_time": "2018-03-29T21:27:43.471907Z"
    }
   },
   "outputs": [],
   "source": [
    "df_train_content = pd.read_csv('./data/processed/train_content.csv', encoding='utf-8', index_col=0)\n",
    "df_test_content = pd.read_csv('./data/processed/test_content.csv', encoding='utf-8', index_col=0)"
   ]
  },
  {
   "cell_type": "code",
   "execution_count": 8,
   "metadata": {
    "ExecuteTime": {
     "end_time": "2018-03-29T21:27:43.499906Z",
     "start_time": "2018-03-29T21:27:43.483911Z"
    }
   },
   "outputs": [
    {
     "data": {
      "text/html": [
       "<div>\n",
       "<style scoped>\n",
       "    .dataframe tbody tr th:only-of-type {\n",
       "        vertical-align: middle;\n",
       "    }\n",
       "\n",
       "    .dataframe tbody tr th {\n",
       "        vertical-align: top;\n",
       "    }\n",
       "\n",
       "    .dataframe thead th {\n",
       "        text-align: right;\n",
       "    }\n",
       "</style>\n",
       "<table border=\"1\" class=\"dataframe\">\n",
       "  <thead>\n",
       "    <tr style=\"text-align: right;\">\n",
       "      <th></th>\n",
       "      <th>content</th>\n",
       "    </tr>\n",
       "  </thead>\n",
       "  <tbody>\n",
       "    <tr>\n",
       "      <th>0</th>\n",
       "      <td>MediumEveryone’s stories and ideasAug 13, 2012...</td>\n",
       "    </tr>\n",
       "    <tr>\n",
       "      <th>1</th>\n",
       "      <td>MediumEveryone’s stories and ideasAug 2, 2015 ...</td>\n",
       "    </tr>\n",
       "    <tr>\n",
       "      <th>2</th>\n",
       "      <td>Yun-Chen Chien（簡韻真）Nobody in @g0v.tw, PM in se...</td>\n",
       "    </tr>\n",
       "    <tr>\n",
       "      <th>3</th>\n",
       "      <td>Vaibhav KhulbeAndroid App Developer | I write ...</td>\n",
       "    </tr>\n",
       "    <tr>\n",
       "      <th>4</th>\n",
       "      <td>Vaibhav KhulbeAndroid App Developer | I write ...</td>\n",
       "    </tr>\n",
       "  </tbody>\n",
       "</table>\n",
       "</div>"
      ],
      "text/plain": [
       "                                             content\n",
       "0  MediumEveryone’s stories and ideasAug 13, 2012...\n",
       "1  MediumEveryone’s stories and ideasAug 2, 2015 ...\n",
       "2  Yun-Chen Chien（簡韻真）Nobody in @g0v.tw, PM in se...\n",
       "3  Vaibhav KhulbeAndroid App Developer | I write ...\n",
       "4  Vaibhav KhulbeAndroid App Developer | I write ..."
      ]
     },
     "execution_count": 8,
     "metadata": {},
     "output_type": "execute_result"
    }
   ],
   "source": [
    "df_train_content.head()"
   ]
  },
  {
   "cell_type": "code",
   "execution_count": 9,
   "metadata": {
    "ExecuteTime": {
     "end_time": "2018-03-29T21:27:43.519905Z",
     "start_time": "2018-03-29T21:27:43.503915Z"
    }
   },
   "outputs": [
    {
     "data": {
      "text/plain": [
       "((62313, 1), (34645, 1))"
      ]
     },
     "execution_count": 9,
     "metadata": {},
     "output_type": "execute_result"
    }
   ],
   "source": [
    "df_train_content.shape, df_test_content.shape"
   ]
  },
  {
   "cell_type": "markdown",
   "metadata": {},
   "source": [
    "### published"
   ]
  },
  {
   "cell_type": "code",
   "execution_count": 10,
   "metadata": {
    "ExecuteTime": {
     "end_time": "2018-03-29T21:27:43.709690Z",
     "start_time": "2018-03-29T21:27:43.523907Z"
    }
   },
   "outputs": [],
   "source": [
    "df_train_published = pd.read_csv('./data/processed/train_published.csv', encoding='utf-8', index_col=0)\n",
    "df_test_published = pd.read_csv('./data/processed/test_published.csv', encoding='utf-8', index_col=0)"
   ]
  },
  {
   "cell_type": "code",
   "execution_count": 11,
   "metadata": {
    "ExecuteTime": {
     "end_time": "2018-03-29T21:27:52.042659Z",
     "start_time": "2018-03-29T21:27:43.709690Z"
    }
   },
   "outputs": [],
   "source": [
    "df_train_published['published'] = df_train_published['published'].apply(pd.to_datetime)\n",
    "df_test_published['published'] = df_test_published['published'].apply(pd.to_datetime)"
   ]
  },
  {
   "cell_type": "code",
   "execution_count": 12,
   "metadata": {
    "ExecuteTime": {
     "end_time": "2018-03-29T21:27:52.060506Z",
     "start_time": "2018-03-29T21:27:52.042659Z"
    }
   },
   "outputs": [
    {
     "data": {
      "text/html": [
       "<div>\n",
       "<style scoped>\n",
       "    .dataframe tbody tr th:only-of-type {\n",
       "        vertical-align: middle;\n",
       "    }\n",
       "\n",
       "    .dataframe tbody tr th {\n",
       "        vertical-align: top;\n",
       "    }\n",
       "\n",
       "    .dataframe thead th {\n",
       "        text-align: right;\n",
       "    }\n",
       "</style>\n",
       "<table border=\"1\" class=\"dataframe\">\n",
       "  <thead>\n",
       "    <tr style=\"text-align: right;\">\n",
       "      <th></th>\n",
       "      <th>published</th>\n",
       "    </tr>\n",
       "  </thead>\n",
       "  <tbody>\n",
       "    <tr>\n",
       "      <th>0</th>\n",
       "      <td>2012-08-13 22:54:53.510</td>\n",
       "    </tr>\n",
       "    <tr>\n",
       "      <th>1</th>\n",
       "      <td>2015-08-03 07:44:50.331</td>\n",
       "    </tr>\n",
       "    <tr>\n",
       "      <th>2</th>\n",
       "      <td>2017-02-05 13:08:17.410</td>\n",
       "    </tr>\n",
       "    <tr>\n",
       "      <th>3</th>\n",
       "      <td>2017-05-06 08:16:30.776</td>\n",
       "    </tr>\n",
       "    <tr>\n",
       "      <th>4</th>\n",
       "      <td>2017-06-04 14:46:25.772</td>\n",
       "    </tr>\n",
       "  </tbody>\n",
       "</table>\n",
       "</div>"
      ],
      "text/plain": [
       "                published\n",
       "0 2012-08-13 22:54:53.510\n",
       "1 2015-08-03 07:44:50.331\n",
       "2 2017-02-05 13:08:17.410\n",
       "3 2017-05-06 08:16:30.776\n",
       "4 2017-06-04 14:46:25.772"
      ]
     },
     "execution_count": 12,
     "metadata": {},
     "output_type": "execute_result"
    }
   ],
   "source": [
    "df_train_published.head()"
   ]
  },
  {
   "cell_type": "code",
   "execution_count": 13,
   "metadata": {
    "ExecuteTime": {
     "end_time": "2018-03-29T21:27:52.084503Z",
     "start_time": "2018-03-29T21:27:52.064508Z"
    }
   },
   "outputs": [
    {
     "data": {
      "text/plain": [
       "((62313, 1), (34645, 1))"
      ]
     },
     "execution_count": 13,
     "metadata": {},
     "output_type": "execute_result"
    }
   ],
   "source": [
    "df_train_published.shape, df_test_published.shape"
   ]
  },
  {
   "cell_type": "markdown",
   "metadata": {},
   "source": [
    "### title"
   ]
  },
  {
   "cell_type": "code",
   "execution_count": 14,
   "metadata": {
    "ExecuteTime": {
     "end_time": "2018-03-29T21:27:52.924823Z",
     "start_time": "2018-03-29T21:27:52.088510Z"
    }
   },
   "outputs": [],
   "source": [
    "df_train_title = pd.read_csv('./data/processed/train_title.csv', encoding='utf-8', index_col=0)\n",
    "df_test_title = pd.read_csv('./data/processed/test_title.csv', encoding='utf-8', index_col=0)"
   ]
  },
  {
   "cell_type": "code",
   "execution_count": 15,
   "metadata": {
    "ExecuteTime": {
     "end_time": "2018-03-29T21:27:52.944797Z",
     "start_time": "2018-03-29T21:27:52.928797Z"
    }
   },
   "outputs": [
    {
     "data": {
      "text/html": [
       "<div>\n",
       "<style scoped>\n",
       "    .dataframe tbody tr th:only-of-type {\n",
       "        vertical-align: middle;\n",
       "    }\n",
       "\n",
       "    .dataframe tbody tr th {\n",
       "        vertical-align: top;\n",
       "    }\n",
       "\n",
       "    .dataframe thead th {\n",
       "        text-align: right;\n",
       "    }\n",
       "</style>\n",
       "<table border=\"1\" class=\"dataframe\">\n",
       "  <thead>\n",
       "    <tr style=\"text-align: right;\">\n",
       "      <th></th>\n",
       "      <th>title</th>\n",
       "    </tr>\n",
       "  </thead>\n",
       "  <tbody>\n",
       "    <tr>\n",
       "      <th>0</th>\n",
       "      <td>Medium Terms of Service – Medium Policy – Medium</td>\n",
       "    </tr>\n",
       "    <tr>\n",
       "      <th>1</th>\n",
       "      <td>Amendment to Medium Terms of Service Applicabl...</td>\n",
       "    </tr>\n",
       "    <tr>\n",
       "      <th>2</th>\n",
       "      <td>走入山與海之間：閩東大刀會和兩岸走私 – Yun-Chen Chien（簡韻真） – Medium</td>\n",
       "    </tr>\n",
       "    <tr>\n",
       "      <th>3</th>\n",
       "      <td>How fast can a camera get? – What comes to min...</td>\n",
       "    </tr>\n",
       "    <tr>\n",
       "      <th>4</th>\n",
       "      <td>A game for the lonely fox – What comes to mind...</td>\n",
       "    </tr>\n",
       "  </tbody>\n",
       "</table>\n",
       "</div>"
      ],
      "text/plain": [
       "                                               title\n",
       "0   Medium Terms of Service – Medium Policy – Medium\n",
       "1  Amendment to Medium Terms of Service Applicabl...\n",
       "2  走入山與海之間：閩東大刀會和兩岸走私 – Yun-Chen Chien（簡韻真） – Medium\n",
       "3  How fast can a camera get? – What comes to min...\n",
       "4  A game for the lonely fox – What comes to mind..."
      ]
     },
     "execution_count": 15,
     "metadata": {},
     "output_type": "execute_result"
    }
   ],
   "source": [
    "df_train_title.head()"
   ]
  },
  {
   "cell_type": "code",
   "execution_count": 16,
   "metadata": {
    "ExecuteTime": {
     "end_time": "2018-03-29T21:27:52.980806Z",
     "start_time": "2018-03-29T21:27:52.952796Z"
    }
   },
   "outputs": [
    {
     "data": {
      "text/plain": [
       "((62313, 1), (34645, 1))"
      ]
     },
     "execution_count": 16,
     "metadata": {},
     "output_type": "execute_result"
    }
   ],
   "source": [
    "df_train_title.shape, df_test_title.shape"
   ]
  },
  {
   "cell_type": "markdown",
   "metadata": {},
   "source": [
    "### log_recommends"
   ]
  },
  {
   "cell_type": "code",
   "execution_count": 17,
   "metadata": {},
   "outputs": [],
   "source": [
    "df_log_recommends = pd.read_csv('./data/train_log1p_recommends.csv')[['log_recommends']]"
   ]
  },
  {
   "cell_type": "code",
   "execution_count": 18,
   "metadata": {},
   "outputs": [
    {
     "data": {
      "text/html": [
       "<div>\n",
       "<style scoped>\n",
       "    .dataframe tbody tr th:only-of-type {\n",
       "        vertical-align: middle;\n",
       "    }\n",
       "\n",
       "    .dataframe tbody tr th {\n",
       "        vertical-align: top;\n",
       "    }\n",
       "\n",
       "    .dataframe thead th {\n",
       "        text-align: right;\n",
       "    }\n",
       "</style>\n",
       "<table border=\"1\" class=\"dataframe\">\n",
       "  <thead>\n",
       "    <tr style=\"text-align: right;\">\n",
       "      <th></th>\n",
       "      <th>log_recommends</th>\n",
       "    </tr>\n",
       "  </thead>\n",
       "  <tbody>\n",
       "    <tr>\n",
       "      <th>0</th>\n",
       "      <td>9.01201</td>\n",
       "    </tr>\n",
       "    <tr>\n",
       "      <th>1</th>\n",
       "      <td>3.49651</td>\n",
       "    </tr>\n",
       "    <tr>\n",
       "      <th>2</th>\n",
       "      <td>0.69315</td>\n",
       "    </tr>\n",
       "    <tr>\n",
       "      <th>3</th>\n",
       "      <td>1.38629</td>\n",
       "    </tr>\n",
       "    <tr>\n",
       "      <th>4</th>\n",
       "      <td>1.94591</td>\n",
       "    </tr>\n",
       "  </tbody>\n",
       "</table>\n",
       "</div>"
      ],
      "text/plain": [
       "   log_recommends\n",
       "0         9.01201\n",
       "1         3.49651\n",
       "2         0.69315\n",
       "3         1.38629\n",
       "4         1.94591"
      ]
     },
     "execution_count": 18,
     "metadata": {},
     "output_type": "execute_result"
    }
   ],
   "source": [
    "df_log_recommends.head()"
   ]
  },
  {
   "cell_type": "code",
   "execution_count": 19,
   "metadata": {},
   "outputs": [
    {
     "data": {
      "text/plain": [
       "(62313, 1)"
      ]
     },
     "execution_count": 19,
     "metadata": {},
     "output_type": "execute_result"
    }
   ],
   "source": [
    "df_log_recommends.shape"
   ]
  },
  {
   "cell_type": "markdown",
   "metadata": {},
   "source": [
    "## merge and sort data "
   ]
  },
  {
   "cell_type": "code",
   "execution_count": 20,
   "metadata": {},
   "outputs": [],
   "source": [
    "df_train = pd.concat([df_train_author, df_train_content, df_train_published, df_train_title, df_log_recommends], axis=1)\n",
    "df_test = pd.concat([df_test_author, df_test_content, df_test_published, df_test_title], axis=1)"
   ]
  },
  {
   "cell_type": "code",
   "execution_count": 21,
   "metadata": {},
   "outputs": [],
   "source": [
    "df_train = df_train.sort_values(by='published')"
   ]
  },
  {
   "cell_type": "code",
   "execution_count": 22,
   "metadata": {},
   "outputs": [
    {
     "data": {
      "text/plain": [
       "((62313, 7), (34645, 6))"
      ]
     },
     "execution_count": 22,
     "metadata": {},
     "output_type": "execute_result"
    }
   ],
   "source": [
    "df_train.shape, df_test.shape"
   ]
  },
  {
   "cell_type": "markdown",
   "metadata": {},
   "source": [
    "## features engineering"
   ]
  },
  {
   "cell_type": "code",
   "execution_count": 23,
   "metadata": {
    "ExecuteTime": {
     "end_time": "2018-03-29T21:27:53.000806Z",
     "start_time": "2018-03-29T21:27:52.984800Z"
    }
   },
   "outputs": [],
   "source": [
    "new_features_train = []\n",
    "new_features_test = []"
   ]
  },
  {
   "cell_type": "markdown",
   "metadata": {},
   "source": [
    "### author"
   ]
  },
  {
   "cell_type": "code",
   "execution_count": 24,
   "metadata": {
    "ExecuteTime": {
     "end_time": "2018-03-29T21:27:53.020791Z",
     "start_time": "2018-03-29T21:27:53.004791Z"
    }
   },
   "outputs": [],
   "source": [
    "df_train_author_name = df_train['name']\n",
    "df_test_author_name = df_test['name']"
   ]
  },
  {
   "cell_type": "markdown",
   "metadata": {},
   "source": [
    "#### insert na_string in dataframes"
   ]
  },
  {
   "cell_type": "code",
   "execution_count": 25,
   "metadata": {
    "ExecuteTime": {
     "end_time": "2018-03-29T21:27:53.156795Z",
     "start_time": "2018-03-29T21:27:53.024794Z"
    }
   },
   "outputs": [
    {
     "name": "stdout",
     "output_type": "stream",
     "text": [
      "train and test contains na_string: False False\n",
      "unique nameis in train and test: 31540 18451\n",
      "intersection of train and test: 5746\n"
     ]
    }
   ],
   "source": [
    "na_string = 'unknown_author'\n",
    "\n",
    "print('train and test contains na_string:', na_string in df_train_author_name.values, na_string in df_test_author_name.values)\n",
    "print('unique nameis in train and test:', len(df_train_author_name.unique()), len(df_test_author_name.unique()))\n",
    "print('intersection of train and test:', len(set(df_train_author_name.values) & set(df_test_author_name.values)))"
   ]
  },
  {
   "cell_type": "code",
   "execution_count": 26,
   "metadata": {
    "ExecuteTime": {
     "end_time": "2018-03-29T21:27:53.172798Z",
     "start_time": "2018-03-29T21:27:53.160802Z"
    }
   },
   "outputs": [],
   "source": [
    "def analyse_authors(name):\n",
    "    if name not in df_train_author_name.values:\n",
    "        return na_string\n",
    "    else:\n",
    "        return name"
   ]
  },
  {
   "cell_type": "code",
   "execution_count": 27,
   "metadata": {
    "ExecuteTime": {
     "end_time": "2018-03-29T21:28:50.744233Z",
     "start_time": "2018-03-29T21:27:53.180792Z"
    }
   },
   "outputs": [],
   "source": [
    "df_train_author_name_with_na = df_train_author_name.append(pd.Series([na_string]), ignore_index=True)\n",
    "df_test_author_name_with_na = df_test_author_name.apply(analyse_authors)"
   ]
  },
  {
   "cell_type": "code",
   "execution_count": 28,
   "metadata": {
    "ExecuteTime": {
     "end_time": "2018-03-29T21:28:50.787356Z",
     "start_time": "2018-03-29T21:28:50.744233Z"
    }
   },
   "outputs": [
    {
     "name": "stdout",
     "output_type": "stream",
     "text": [
      "unique nameis in train and test after processing: 31541 5747\n"
     ]
    }
   ],
   "source": [
    "print('unique nameis in train and test after processing:', \n",
    "      len(df_train_author_name_with_na.unique()), \n",
    "      len(df_test_author_name_with_na.unique()))"
   ]
  },
  {
   "cell_type": "markdown",
   "metadata": {},
   "source": [
    "#### one-hot-encoding"
   ]
  },
  {
   "cell_type": "code",
   "execution_count": 29,
   "metadata": {
    "ExecuteTime": {
     "end_time": "2018-03-29T21:28:50.803361Z",
     "start_time": "2018-03-29T21:28:50.791359Z"
    }
   },
   "outputs": [],
   "source": [
    "author_le = LabelEncoder()"
   ]
  },
  {
   "cell_type": "code",
   "execution_count": 30,
   "metadata": {
    "ExecuteTime": {
     "end_time": "2018-03-29T21:28:51.466393Z",
     "start_time": "2018-03-29T21:28:50.807352Z"
    }
   },
   "outputs": [
    {
     "name": "stdout",
     "output_type": "stream",
     "text": [
      "Wall time: 350 ms\n"
     ]
    }
   ],
   "source": [
    "%%time\n",
    "\n",
    "author_le.fit(df_train_author_name_with_na)\n",
    "\n",
    "df_train_author_name_le = pd.DataFrame(author_le.transform(df_train_author_name_with_na), columns=['name'])\n",
    "df_test_author_name_le = pd.DataFrame(author_le.transform(df_test_author_name_with_na), columns=['name'])"
   ]
  },
  {
   "cell_type": "code",
   "execution_count": 31,
   "metadata": {
    "ExecuteTime": {
     "end_time": "2018-03-29T21:28:51.478392Z",
     "start_time": "2018-03-29T21:28:51.470399Z"
    }
   },
   "outputs": [],
   "source": [
    "author_ohe = OneHotEncoder()"
   ]
  },
  {
   "cell_type": "code",
   "execution_count": 32,
   "metadata": {
    "ExecuteTime": {
     "end_time": "2018-03-29T21:28:51.546393Z",
     "start_time": "2018-03-29T21:28:51.482390Z"
    }
   },
   "outputs": [
    {
     "name": "stdout",
     "output_type": "stream",
     "text": [
      "Wall time: 16.6 ms\n"
     ]
    }
   ],
   "source": [
    "%%time\n",
    "\n",
    "author_ohe.fit(df_train_author_name_le)\n",
    "\n",
    "# remember to remove na_string from train!\n",
    "df_train_author_name_ohe = author_ohe.transform(df_train_author_name_le.iloc[:-1, :])\n",
    "df_test_author_name_ohe = author_ohe.transform(df_test_author_name_le)"
   ]
  },
  {
   "cell_type": "code",
   "execution_count": 33,
   "metadata": {
    "ExecuteTime": {
     "end_time": "2018-03-29T21:28:51.574401Z",
     "start_time": "2018-03-29T21:28:51.550397Z"
    }
   },
   "outputs": [
    {
     "name": "stdout",
     "output_type": "stream",
     "text": [
      "ohe_df_train_author_name: (62313, 31541)\n",
      "ohe_df_test_author_name: (34645, 31541)\n"
     ]
    }
   ],
   "source": [
    "print('ohe_df_train_author_name:', df_train_author_name_ohe.shape)\n",
    "print('ohe_df_test_author_name:', df_test_author_name_ohe.shape)"
   ]
  },
  {
   "cell_type": "code",
   "execution_count": 34,
   "metadata": {
    "ExecuteTime": {
     "end_time": "2018-03-29T21:28:51.586391Z",
     "start_time": "2018-03-29T21:28:51.578396Z"
    }
   },
   "outputs": [],
   "source": [
    "new_features_train.append(df_train_author_name_ohe)\n",
    "new_features_test.append(df_test_author_name_ohe)"
   ]
  },
  {
   "cell_type": "markdown",
   "metadata": {},
   "source": [
    "### content"
   ]
  },
  {
   "cell_type": "code",
   "execution_count": 35,
   "metadata": {
    "ExecuteTime": {
     "end_time": "2018-03-29T21:28:51.602395Z",
     "start_time": "2018-03-29T21:28:51.590394Z"
    }
   },
   "outputs": [],
   "source": [
    "# %%time\n",
    "\n",
    "# content_tfidf = TfidfVectorizer(ngram_range=(1, 2), max_features=100000)\n",
    "\n",
    "# content_tfidf.fit(df_train['content'])\n",
    "\n",
    "# train_content_tfidf = content_tfidf.transform(df_train['content'])\n",
    "# test_content_tfidf = content_tfidf.transform(df_test['content'])\n",
    "\n",
    "# sparse.save_npz('./data/processed/train_content_tfidf.npz', train_content_tfidf)\n",
    "# sparse.save_npz('./data/processed/test_content_tfidf.npz', test_content_tfidf)"
   ]
  },
  {
   "cell_type": "code",
   "execution_count": 36,
   "metadata": {
    "ExecuteTime": {
     "end_time": "2018-03-29T21:29:04.103503Z",
     "start_time": "2018-03-29T21:28:51.606398Z"
    }
   },
   "outputs": [],
   "source": [
    "new_features_train.append(sparse.load_npz('./data/processed/train_content_tfidf.npz'))\n",
    "new_features_test.append(sparse.load_npz('./data/processed/test_content_tfidf.npz'))"
   ]
  },
  {
   "cell_type": "markdown",
   "metadata": {},
   "source": [
    "### published"
   ]
  },
  {
   "cell_type": "markdown",
   "metadata": {},
   "source": [
    "#### hour"
   ]
  },
  {
   "cell_type": "code",
   "execution_count": 37,
   "metadata": {
    "ExecuteTime": {
     "end_time": "2018-03-29T21:29:04.116204Z",
     "start_time": "2018-03-29T21:29:04.103503Z"
    }
   },
   "outputs": [],
   "source": [
    "hour_ohe = OneHotEncoder()"
   ]
  },
  {
   "cell_type": "code",
   "execution_count": 38,
   "metadata": {
    "ExecuteTime": {
     "end_time": "2018-03-29T21:29:04.583473Z",
     "start_time": "2018-03-29T21:29:04.116204Z"
    }
   },
   "outputs": [],
   "source": [
    "df_train_published_hour = df_train['published'].apply(lambda dt: dt.hour).values.reshape(-1, 1)\n",
    "df_test_published_hour = df_test['published'].apply(lambda dt: dt.hour).values.reshape(-1, 1)"
   ]
  },
  {
   "cell_type": "code",
   "execution_count": 39,
   "metadata": {
    "ExecuteTime": {
     "end_time": "2018-03-29T21:29:04.615936Z",
     "start_time": "2018-03-29T21:29:04.583473Z"
    }
   },
   "outputs": [],
   "source": [
    "hour_ohe.fit(df_train_published_hour)\n",
    "\n",
    "new_features_train.append(hour_ohe.transform(df_train_published_hour))\n",
    "new_features_test.append(hour_ohe.transform(df_test_published_hour))"
   ]
  },
  {
   "cell_type": "markdown",
   "metadata": {},
   "source": [
    "#### daytime"
   ]
  },
  {
   "cell_type": "code",
   "execution_count": 40,
   "metadata": {
    "ExecuteTime": {
     "end_time": "2018-03-29T21:29:04.635934Z",
     "start_time": "2018-03-29T21:29:04.615936Z"
    }
   },
   "outputs": [],
   "source": [
    "def get_daytime(dt):\n",
    "    # morning\n",
    "    if (dt.hour >= 5) & (dt.hour <=12):\n",
    "        return 1 \n",
    "    # day\n",
    "    elif (dt.hour >=13) & (dt.hour <=21):\n",
    "        return 2 \n",
    "    # night\n",
    "    else:\n",
    "        return 3 "
   ]
  },
  {
   "cell_type": "code",
   "execution_count": 41,
   "metadata": {},
   "outputs": [],
   "source": [
    "daytime_ohe = OneHotEncoder()"
   ]
  },
  {
   "cell_type": "code",
   "execution_count": 42,
   "metadata": {
    "ExecuteTime": {
     "end_time": "2018-03-29T21:29:05.121648Z",
     "start_time": "2018-03-29T21:29:04.639937Z"
    }
   },
   "outputs": [],
   "source": [
    "df_train_published_daytime = df_train['published'].apply(get_daytime).values.reshape(-1, 1)\n",
    "df_test_published_daytime = df_test['published'].apply(get_daytime).values.reshape(-1, 1)"
   ]
  },
  {
   "cell_type": "code",
   "execution_count": 43,
   "metadata": {
    "ExecuteTime": {
     "end_time": "2018-03-29T21:29:05.158465Z",
     "start_time": "2018-03-29T21:29:05.121648Z"
    }
   },
   "outputs": [],
   "source": [
    "daytime_ohe.fit(df_train_published_daytime)\n",
    "\n",
    "new_features_train.append(daytime_ohe.transform(df_train_published_daytime))\n",
    "new_features_test.append(daytime_ohe.transform(df_test_published_daytime))"
   ]
  },
  {
   "cell_type": "markdown",
   "metadata": {},
   "source": [
    "#### weekend"
   ]
  },
  {
   "cell_type": "code",
   "execution_count": 44,
   "metadata": {
    "ExecuteTime": {
     "end_time": "2018-03-29T21:29:05.170465Z",
     "start_time": "2018-03-29T21:29:05.158465Z"
    }
   },
   "outputs": [],
   "source": [
    "def get_weekend_flag(dt):\n",
    "    if dt.dayofweek == 5 | dt.dayofweek == 6:\n",
    "        return 1\n",
    "    else:\n",
    "        return 0"
   ]
  },
  {
   "cell_type": "code",
   "execution_count": 45,
   "metadata": {
    "ExecuteTime": {
     "end_time": "2018-03-29T21:29:05.675439Z",
     "start_time": "2018-03-29T21:29:05.178464Z"
    }
   },
   "outputs": [],
   "source": [
    "df_train_published_weekend = pd.DataFrame(df_train['published'].apply(get_weekend_flag).values.reshape(-1, 1), \n",
    "                                          columns=['published_weekend'])\n",
    "\n",
    "df_test_published_weekend = pd.DataFrame(df_test['published'].apply(get_weekend_flag).values.reshape(-1, 1), \n",
    "                                         columns=['published_weekend'])"
   ]
  },
  {
   "cell_type": "code",
   "execution_count": 46,
   "metadata": {
    "ExecuteTime": {
     "end_time": "2018-03-29T21:29:05.688174Z",
     "start_time": "2018-03-29T21:29:05.675439Z"
    }
   },
   "outputs": [],
   "source": [
    "new_features_train.append(df_train_published_weekend)\n",
    "new_features_test.append(df_test_published_weekend)"
   ]
  },
  {
   "cell_type": "markdown",
   "metadata": {},
   "source": [
    "### title"
   ]
  },
  {
   "cell_type": "code",
   "execution_count": 47,
   "metadata": {
    "ExecuteTime": {
     "end_time": "2018-03-29T21:29:05.704173Z",
     "start_time": "2018-03-29T21:29:05.688174Z"
    }
   },
   "outputs": [],
   "source": [
    "title_tfidf = TfidfVectorizer(ngram_range=(1, 2), max_features=100000)"
   ]
  },
  {
   "cell_type": "code",
   "execution_count": 48,
   "metadata": {
    "ExecuteTime": {
     "end_time": "2018-03-29T21:29:12.473870Z",
     "start_time": "2018-03-29T21:29:05.708171Z"
    }
   },
   "outputs": [
    {
     "name": "stdout",
     "output_type": "stream",
     "text": [
      "Wall time: 4.22 s\n"
     ]
    }
   ],
   "source": [
    "%%time\n",
    "\n",
    "title_tfidf.fit(df_train['title'])\n",
    "\n",
    "new_features_train.append(title_tfidf.transform(df_train['title']))\n",
    "new_features_test.append(title_tfidf.transform(df_test['title']))"
   ]
  },
  {
   "cell_type": "markdown",
   "metadata": {},
   "source": [
    "## join features and load target data"
   ]
  },
  {
   "cell_type": "code",
   "execution_count": 49,
   "metadata": {
    "ExecuteTime": {
     "end_time": "2018-03-29T21:29:12.529868Z",
     "start_time": "2018-03-29T21:29:12.477881Z"
    }
   },
   "outputs": [
    {
     "name": "stdout",
     "output_type": "stream",
     "text": [
      "<class 'scipy.sparse.csr.csr_matrix'> (62313, 31541)\n",
      "<class 'scipy.sparse.csr.csr_matrix'> (62313, 100000)\n",
      "<class 'scipy.sparse.csr.csr_matrix'> (62313, 24)\n",
      "<class 'scipy.sparse.csr.csr_matrix'> (62313, 3)\n",
      "<class 'pandas.core.frame.DataFrame'> (62313, 1)\n",
      "<class 'scipy.sparse.csr.csr_matrix'> (62313, 100000)\n"
     ]
    }
   ],
   "source": [
    "for feat in new_features_train:\n",
    "    print(type(feat), feat.shape)"
   ]
  },
  {
   "cell_type": "code",
   "execution_count": 50,
   "metadata": {
    "ExecuteTime": {
     "end_time": "2018-03-29T21:29:12.605873Z",
     "start_time": "2018-03-29T21:29:12.533876Z"
    }
   },
   "outputs": [
    {
     "name": "stdout",
     "output_type": "stream",
     "text": [
      "<class 'scipy.sparse.csr.csr_matrix'> (34645, 31541)\n",
      "<class 'scipy.sparse.csr.csr_matrix'> (34645, 100000)\n",
      "<class 'scipy.sparse.csr.csr_matrix'> (34645, 24)\n",
      "<class 'scipy.sparse.csr.csr_matrix'> (34645, 3)\n",
      "<class 'pandas.core.frame.DataFrame'> (34645, 1)\n",
      "<class 'scipy.sparse.csr.csr_matrix'> (34645, 100000)\n"
     ]
    }
   ],
   "source": [
    "for feat in new_features_test:\n",
    "    print(type(feat), feat.shape)"
   ]
  },
  {
   "cell_type": "code",
   "execution_count": 51,
   "metadata": {
    "ExecuteTime": {
     "end_time": "2018-03-29T21:29:26.729312Z",
     "start_time": "2018-03-29T21:29:12.609872Z"
    }
   },
   "outputs": [
    {
     "name": "stdout",
     "output_type": "stream",
     "text": [
      "X_train_full: (62313, 231569)\n",
      "X_test_full: (34645, 231569)\n",
      "y_train_full: (62313,)\n"
     ]
    }
   ],
   "source": [
    "X_train_full = sparse.csr_matrix(sparse.hstack(new_features_train))\n",
    "X_test_full = sparse.csr_matrix(sparse.hstack(new_features_test))\n",
    "\n",
    "y_train_full = df_train['log_recommends'].values\n",
    "\n",
    "print('X_train_full:', X_train_full.shape)\n",
    "print('X_test_full:', X_test_full.shape)\n",
    "print('y_train_full:', y_train_full.shape)"
   ]
  },
  {
   "cell_type": "markdown",
   "metadata": {},
   "source": [
    "### split data to validation"
   ]
  },
  {
   "cell_type": "code",
   "execution_count": 52,
   "metadata": {
    "ExecuteTime": {
     "end_time": "2018-03-29T21:29:28.257106Z",
     "start_time": "2018-03-29T21:29:26.733314Z"
    }
   },
   "outputs": [],
   "source": [
    "train_size = 0.7\n",
    "\n",
    "train_idx = int(X_train_full.shape[0] * train_size)\n",
    "\n",
    "X_train = X_train_full[:train_idx, :]\n",
    "y_train = y_train_full[:train_idx]\n",
    "X_holdout = X_train_full[train_idx:, :]\n",
    "y_holdout = y_train_full[train_idx:]"
   ]
  },
  {
   "cell_type": "code",
   "execution_count": 53,
   "metadata": {},
   "outputs": [],
   "source": [
    "### split data to validation\n",
    "\n",
    "train_size = 0.7\n",
    "\n",
    "train_idx = int(X_train_full.shape[0] * train_size)\n",
    "\n",
    "X_train = X_train_full[:train_idx, :]\n",
    "y_train = y_train_full[:train_idx]\n",
    "X_holdout = X_train_full[train_idx:, :]\n",
    "y_holdout = y_train_full[train_idx:]"
   ]
  },
  {
   "cell_type": "markdown",
   "metadata": {},
   "source": [
    "### ridge estimator"
   ]
  },
  {
   "cell_type": "code",
   "execution_count": 54,
   "metadata": {
    "ExecuteTime": {
     "end_time": "2018-03-29T21:29:28.267210Z",
     "start_time": "2018-03-29T21:29:28.257106Z"
    }
   },
   "outputs": [],
   "source": [
    "estimator = Ridge(alpha=1.0, random_state=14)"
   ]
  },
  {
   "cell_type": "code",
   "execution_count": 55,
   "metadata": {
    "ExecuteTime": {
     "end_time": "2018-03-29T21:30:55.294635Z",
     "start_time": "2018-03-29T21:29:28.271214Z"
    }
   },
   "outputs": [
    {
     "name": "stdout",
     "output_type": "stream",
     "text": [
      "Wall time: 50.2 s\n"
     ]
    },
    {
     "data": {
      "text/plain": [
       "Ridge(alpha=1.0, copy_X=True, fit_intercept=True, max_iter=None,\n",
       "   normalize=False, random_state=14, solver='auto', tol=0.001)"
      ]
     },
     "execution_count": 55,
     "metadata": {},
     "output_type": "execute_result"
    }
   ],
   "source": [
    "%%time\n",
    "\n",
    "estimator.fit(X_train, y_train)"
   ]
  },
  {
   "cell_type": "code",
   "execution_count": 56,
   "metadata": {
    "ExecuteTime": {
     "end_time": "2018-03-29T21:30:55.454095Z",
     "start_time": "2018-03-29T21:30:55.298641Z"
    }
   },
   "outputs": [
    {
     "name": "stdout",
     "output_type": "stream",
     "text": [
      "holdout_mae = 1.1418147859541334 expm1_holdout_mae = 2.1324479325378722\n"
     ]
    }
   ],
   "source": [
    "ridge_holdout_prediction = estimator.predict(X_holdout)\n",
    "\n",
    "holdout_mae = mean_absolute_error(y_holdout, ridge_holdout_prediction)\n",
    "print('holdout_mae = {} expm1_holdout_mae = {}'.format(holdout_mae, np.expm1(holdout_mae)))"
   ]
  },
  {
   "cell_type": "markdown",
   "metadata": {},
   "source": [
    "### ridge manual param search"
   ]
  },
  {
   "cell_type": "code",
   "execution_count": 57,
   "metadata": {
    "ExecuteTime": {
     "end_time": "2018-03-29T21:30:55.490098Z",
     "start_time": "2018-03-29T21:30:55.458099Z"
    }
   },
   "outputs": [],
   "source": [
    "# alpha_range = np.logspace(-1.5, 1.5, 15)\n",
    "\n",
    "# for idx, alpha in enumerate(alpha_range):\n",
    "#     print('{} -> {}'.format(idx, alpha))"
   ]
  },
  {
   "cell_type": "code",
   "execution_count": 58,
   "metadata": {
    "ExecuteTime": {
     "end_time": "2018-03-29T21:40:16.341128Z",
     "start_time": "2018-03-29T21:30:55.494102Z"
    }
   },
   "outputs": [],
   "source": [
    "# %%time\n",
    "\n",
    "# ridges = []\n",
    "# train_scores = []\n",
    "# holdout_scores = []\n",
    "\n",
    "# for alpha in tqdm_notebook(alpha_range):\n",
    "    \n",
    "#     cur_ridge = Ridge(alpha=alpha)\n",
    "#     cur_ridge.fit(X_train, y_train)\n",
    "    \n",
    "#     train_score = mean_absolute_error(y_train, cur_ridge.predict(X_train))\n",
    "#     holdout_score = mean_absolute_error(y_holdout, cur_ridge.predict(X_holdout))\n",
    "    \n",
    "#     ridges.append(cur_ridge)\n",
    "#     train_scores.append(train_score)\n",
    "#     holdout_scores.append(holdout_score)"
   ]
  },
  {
   "cell_type": "code",
   "execution_count": 59,
   "metadata": {
    "ExecuteTime": {
     "end_time": "2018-03-29T21:40:16.689931Z",
     "start_time": "2018-03-29T21:40:16.345126Z"
    }
   },
   "outputs": [],
   "source": [
    "# plt.figure(figsize=(15, 5))\n",
    "\n",
    "# plt.plot(range(len(alpha_range)), train_scores, color='red', label='train')\n",
    "# plt.plot(range(len(alpha_range)), holdout_scores, color='blue', label='holdout')\n",
    "\n",
    "# #plt.ylim(0.94, 1.01)\n",
    "# #plt.xlim(18, 22)\n",
    "# plt.xlabel(\"alpha index\")\n",
    "# plt.ylabel(\"MAE\")\n",
    "# plt.legend()\n",
    "# plt.grid()\n",
    "# plt.show()"
   ]
  },
  {
   "cell_type": "code",
   "execution_count": 60,
   "metadata": {
    "ExecuteTime": {
     "end_time": "2018-03-29T21:40:16.729956Z",
     "start_time": "2018-03-29T21:40:16.689931Z"
    }
   },
   "outputs": [],
   "source": [
    "# print('best holdout score:', np.max(holdout_scores))\n",
    "# print('best alpha:', alpha_range[np.argmax(holdout_scores)])\n",
    "# print('best alpha index:', np.argmax(holdout_scores))\n",
    "\n",
    "# ms_best_estimator = ridges[np.argmax(holdout_scores)]"
   ]
  },
  {
   "cell_type": "markdown",
   "metadata": {},
   "source": [
    "### refit and make prediction file"
   ]
  },
  {
   "cell_type": "code",
   "execution_count": 84,
   "metadata": {},
   "outputs": [
    {
     "name": "stdout",
     "output_type": "stream",
     "text": [
      "Wall time: 56.4 s\n"
     ]
    }
   ],
   "source": [
    "%%time\n",
    "\n",
    "estimator.fit(X_train_full, y_train_full)"
   ]
  },
  {
   "cell_type": "code",
   "execution_count": 90,
   "metadata": {},
   "outputs": [],
   "source": [
    "ridge_test_prediction = estimator.predict(X_test_full)\n",
    "\n",
    "write_submission_file(ridge_test_prediction, 'prediction', timestamp=True)"
   ]
  },
  {
   "cell_type": "markdown",
   "metadata": {},
   "source": [
    "### make null submission"
   ]
  },
  {
   "cell_type": "code",
   "execution_count": null,
   "metadata": {
    "ExecuteTime": {
     "end_time": "2018-03-29T21:43:40.051211Z",
     "start_time": "2018-03-29T21:43:39.590312Z"
    }
   },
   "outputs": [],
   "source": [
    "# private lb result: 4.33328\n",
    "\n",
    "#zeros_prediction = np.zeros_like(ridge_test_prediction)\n",
    "\n",
    "#write_submission_file(zeros_prediction, 'zeros_prediction', timestamp=False)"
   ]
  },
  {
   "cell_type": "markdown",
   "metadata": {},
   "source": [
    "### prediction exploration"
   ]
  },
  {
   "cell_type": "code",
   "execution_count": 65,
   "metadata": {},
   "outputs": [
    {
     "data": {
      "image/png": "[encoded data removed]",
      "text/plain": [
       "<Figure size 864x432 with 1 Axes>"
      ]
     },
     "metadata": {},
     "output_type": "display_data"
    }
   ],
   "source": [
    "plt.figure(figsize=(12, 6))\n",
    "plt.hist(y_holdout, bins=40, alpha=0.5, color='red', label='true', range=(0, 10))\n",
    "plt.hist(ridge_holdout_prediction, bins=40, alpha=0.5, color='green', label='pred', range=(0, 10))\n",
    "plt.legend()\n",
    "plt.show()"
   ]
  },
  {
   "cell_type": "code",
   "execution_count": 80,
   "metadata": {},
   "outputs": [
    {
     "name": "stdout",
     "output_type": "stream",
     "text": [
      "y_holdout mean: 2.8765493436396703\n",
      "ridge_holdout_prediction mean: 3.007800809889073\n",
      "median_delta: 0.41272376762590746\n",
      "mae: 1.1418147859541334\n"
     ]
    }
   ],
   "source": [
    "median_delta = np.median(ridge_holdout_prediction) - np.median(y_holdout)\n",
    "mae = mean_absolute_error(y_holdout, ridge_holdout_prediction)\n",
    "\n",
    "print('y_holdout mean:', np.mean(y_holdout))\n",
    "print('ridge_holdout_prediction mean:', np.mean(ridge_holdout_prediction))\n",
    "print('median_delta:', median_delta)\n",
    "print('mae:', mae)"
   ]
  },
  {
   "cell_type": "code",
   "execution_count": 87,
   "metadata": {},
   "outputs": [
    {
     "name": "stdout",
     "output_type": "stream",
     "text": [
      "mae_offset: 1.1158746987815245\n"
     ]
    }
   ],
   "source": [
    "ridge_holdout_prediction_offset = ridge_holdout_prediction - median_delta\n",
    "mae_offset = mean_absolute_error(y_holdout, ridge_holdout_prediction_offset)\n",
    "\n",
    "print('mae_offset:', mae_offset)"
   ]
  },
  {
   "cell_type": "code",
   "execution_count": 88,
   "metadata": {},
   "outputs": [
    {
     "data": {
      "image/png": "[encoded data removed]",
      "text/plain": [
       "<Figure size 864x432 with 1 Axes>"
      ]
     },
     "metadata": {},
     "output_type": "display_data"
    }
   ],
   "source": [
    "plt.figure(figsize=(12, 6))\n",
    "plt.hist(y_holdout, bins=40, alpha=0.5, color='red', label='true', range=(0, 10))\n",
    "plt.hist(ridge_holdout_prediction_offset, bins=40, alpha=0.5, color='green', label='pred', range=(0, 10))\n",
    "plt.legend()\n",
    "plt.show()"
   ]
  },
  {
   "cell_type": "code",
   "execution_count": 100,
   "metadata": {},
   "outputs": [
    {
     "name": "stdout",
     "output_type": "stream",
     "text": [
      "test_mean_delta: 1.1503067512219958\n"
     ]
    }
   ],
   "source": [
    "test_mean_delta = 4.33328 - np.mean(ridge_test_prediction)\n",
    "\n",
    "print('test_mean_delta:', test_mean_delta)"
   ]
  },
  {
   "cell_type": "code",
   "execution_count": null,
   "metadata": {},
   "outputs": [],
   "source": [
    "ridge_test_prediction_offset = ridge_test_prediction + test_mean_delta"
   ]
  },
  {
   "cell_type": "code",
   "execution_count": 99,
   "metadata": {},
   "outputs": [],
   "source": [
    "write_submission_file(ridge_test_prediction_offset, 'prediction_offset', timestamp=False)"
   ]
  }
 ],
 "metadata": {
  "kernelspec": {
   "display_name": "Python 3",
   "language": "python",
   "name": "python3"
  },
  "language_info": {
   "codemirror_mode": {
    "name": "ipython",
    "version": 3
   },
   "file_extension": ".py",
   "mimetype": "text/x-python",
   "name": "python",
   "nbconvert_exporter": "python",
   "pygments_lexer": "ipython3",
   "version": "3.6.4"
  }
 },
 "nbformat": 4,
 "nbformat_minor": 2
}
