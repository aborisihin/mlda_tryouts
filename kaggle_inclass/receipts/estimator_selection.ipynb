{
 "cells": [
  {
   "cell_type": "code",
   "execution_count": 1,
   "metadata": {
    "ExecuteTime": {
     "end_time": "2018-04-07T19:32:52.471274Z",
     "start_time": "2018-04-07T19:32:52.067236Z"
    }
   },
   "outputs": [],
   "source": [
    "import numpy as np\n",
    "import pandas as pd\n",
    "\n",
    "from sklearn.linear_model import LogisticRegression\n",
    "from sklearn.svm import SVC\n",
    "from sklearn.model_selection import cross_val_score, GroupShuffleSplit, GridSearchCV\n",
    "from scipy import sparse\n",
    "\n",
    "import warnings\n",
    "warnings.filterwarnings(\"ignore\")"
   ]
  },
  {
   "cell_type": "code",
   "execution_count": 2,
   "metadata": {
    "ExecuteTime": {
     "end_time": "2018-04-07T09:22:25.605342Z",
     "start_time": "2018-04-07T09:22:25.599343Z"
    }
   },
   "outputs": [],
   "source": [
    "PATH_TO_PROCESSED_DATA = './../data/kaggle_receipts/processed/'"
   ]
  },
  {
   "cell_type": "markdown",
   "metadata": {},
   "source": [
    "## load data"
   ]
  },
  {
   "cell_type": "code",
   "execution_count": 3,
   "metadata": {
    "ExecuteTime": {
     "end_time": "2018-04-07T09:22:26.359121Z",
     "start_time": "2018-04-07T09:22:26.350119Z"
    }
   },
   "outputs": [],
   "source": [
    "loaded_train = []\n",
    "loaded_test = []\n",
    "\n",
    "features_to_load = [\n",
    "    ('name_cvect', 'npz'),\n",
    "    #('name_cvect_tw', 'npz'),\n",
    "    #('name_tfidf', 'npz'),\n",
    "    ('shop_name', 'npz'),\n",
    "    ('price', 'csv'),\n",
    "    #('dayofweek', 'npz'),\n",
    "    #('hour', 'npz'),\n",
    "]"
   ]
  },
  {
   "cell_type": "code",
   "execution_count": 4,
   "metadata": {
    "ExecuteTime": {
     "end_time": "2018-04-07T09:22:27.171977Z",
     "start_time": "2018-04-07T09:22:26.857834Z"
    }
   },
   "outputs": [],
   "source": [
    "for (name, tp) in features_to_load:\n",
    "    if tp == 'npz':\n",
    "        loaded_train.append(sparse.load_npz(PATH_TO_PROCESSED_DATA + name + '_train.npz'))\n",
    "        loaded_test.append(sparse.load_npz(PATH_TO_PROCESSED_DATA + name + '_test.npz'))\n",
    "    elif tp == 'csv':\n",
    "        loaded_train.append(pd.read_csv(PATH_TO_PROCESSED_DATA + name + '_train.csv', index_col=0))\n",
    "        loaded_test.append(pd.read_csv(PATH_TO_PROCESSED_DATA + name + '_test.csv', index_col=0))\n",
    "        \n",
    "categories_train = pd.read_csv(PATH_TO_PROCESSED_DATA + 'categories_train.csv', index_col=0)\n",
    "check_id_train = pd.read_csv(PATH_TO_PROCESSED_DATA + 'check_id_train.csv', index_col=0)"
   ]
  },
  {
   "cell_type": "code",
   "execution_count": 5,
   "metadata": {
    "ExecuteTime": {
     "end_time": "2018-04-07T09:22:38.952292Z",
     "start_time": "2018-04-07T09:22:38.930287Z"
    }
   },
   "outputs": [],
   "source": [
    "X_train_full = sparse.csr_matrix(sparse.hstack(loaded_train))\n",
    "X_test_full = sparse.csr_matrix(sparse.hstack(loaded_test))\n",
    "y_train = categories_train['category']\n",
    "check_id_train = check_id_train['check_id']"
   ]
  },
  {
   "cell_type": "code",
   "execution_count": 6,
   "metadata": {
    "ExecuteTime": {
     "end_time": "2018-04-07T09:22:40.610927Z",
     "start_time": "2018-04-07T09:22:40.572951Z"
    }
   },
   "outputs": [
    {
     "name": "stdout",
     "output_type": "stream",
     "text": [
      "(13682, 14432)\n",
      "(3000, 14432)\n",
      "(13682,)\n",
      "(13682,)\n"
     ]
    }
   ],
   "source": [
    "print(X_train_full.shape)\n",
    "print(X_test_full.shape)\n",
    "print(y_train.shape)\n",
    "print(check_id_train.shape)"
   ]
  },
  {
   "cell_type": "markdown",
   "metadata": {},
   "source": [
    "## slpit data to cross validation (GroupShuffleSplit)"
   ]
  },
  {
   "cell_type": "code",
   "execution_count": 7,
   "metadata": {
    "ExecuteTime": {
     "end_time": "2018-04-07T09:22:42.710641Z",
     "start_time": "2018-04-07T09:22:42.705639Z"
    }
   },
   "outputs": [],
   "source": [
    "gss = GroupShuffleSplit(n_splits=5, random_state=0)"
   ]
  },
  {
   "cell_type": "code",
   "execution_count": 8,
   "metadata": {
    "ExecuteTime": {
     "end_time": "2018-04-07T09:22:43.447669Z",
     "start_time": "2018-04-07T09:22:43.425668Z"
    }
   },
   "outputs": [],
   "source": [
    "gss_splits = list(gss.split(X_train_full, y_train, check_id_train))"
   ]
  },
  {
   "cell_type": "markdown",
   "metadata": {},
   "source": [
    "## LogisticRegression CV param search"
   ]
  },
  {
   "cell_type": "code",
   "execution_count": 9,
   "metadata": {
    "ExecuteTime": {
     "end_time": "2018-04-07T09:22:54.680578Z",
     "start_time": "2018-04-07T09:22:54.673583Z"
    },
    "collapsed": true
   },
   "outputs": [],
   "source": [
    "lr_gs_params = {\n",
    "    'penalty': ['l1', 'l2'],\n",
    "    'class_weight': [None, 'balanced'],\n",
    "    'multi_class': ['multinomial', 'ovr'],\n",
    "    'solver': ['sag', 'saga', 'newton-cg', 'lbfgs', 'liblinear'],\n",
    "    'C': np.logspace(-2, 3, 30)\n",
    "}"
   ]
  },
  {
   "cell_type": "code",
   "execution_count": 10,
   "metadata": {
    "ExecuteTime": {
     "end_time": "2018-04-07T09:22:54.962098Z",
     "start_time": "2018-04-07T09:22:54.957108Z"
    },
    "collapsed": true
   },
   "outputs": [],
   "source": [
    "lr_estimator = LogisticRegression(random_state=14)"
   ]
  },
  {
   "cell_type": "code",
   "execution_count": 11,
   "metadata": {
    "ExecuteTime": {
     "end_time": "2018-04-07T09:23:58.110530Z",
     "start_time": "2018-04-07T09:23:58.102549Z"
    },
    "collapsed": true
   },
   "outputs": [],
   "source": [
    "lr_gs = GridSearchCV(estimator=lr_estimator, \n",
    "                     param_grid=lr_gs_params, \n",
    "                     cv=gss_splits, \n",
    "                     scoring='neg_log_loss', \n",
    "                     return_train_score=True,\n",
    "                     verbose=10,\n",
    "                     error_score=-100.0,\n",
    "                     refit=False,\n",
    "                     n_jobs=-1)"
   ]
  },
  {
   "cell_type": "code",
   "execution_count": 12,
   "metadata": {
    "ExecuteTime": {
     "end_time": "2018-04-07T09:24:28.753954Z",
     "start_time": "2018-04-07T09:24:13.767957Z"
    }
   },
   "outputs": [
    {
     "name": "stdout",
     "output_type": "stream",
     "text": [
      "Fitting 5 folds for each of 1200 candidates, totalling 6000 fits\n"
     ]
    },
    {
     "name": "stderr",
     "output_type": "stream",
     "text": [
      "[Parallel(n_jobs=-1)]: Done 719 tasks      | elapsed:  6.0min\n",
      "[Parallel(n_jobs=-1)]: Done 4763 tasks      | elapsed: 109.2min\n",
      "[Parallel(n_jobs=-1)]: Done 5224 tasks      | elapsed: 134.4min\n",
      "[Parallel(n_jobs=-1)]: Done 5589 tasks      | elapsed: 165.0min\n"
     ]
    },
    {
     "name": "stdout",
     "output_type": "stream",
     "text": [
      "CPU times: user 23.9 s, sys: 4.02 s, total: 27.9 s\n",
      "Wall time: 3h 33min 17s\n"
     ]
    },
    {
     "name": "stderr",
     "output_type": "stream",
     "text": [
      "[Parallel(n_jobs=-1)]: Done 6000 out of 6000 | elapsed: 213.3min finished\n"
     ]
    },
    {
     "data": {
      "text/plain": [
       "GridSearchCV(cv=[(array([    0,     1, ..., 13678, 13679]), array([    9,    10, ..., 13680, 13681])), (array([    0,     1, ..., 13680, 13681]), array([    9,    10, ..., 13604, 13606])), (array([    0,     1, ..., 13680, 13681]), array([   40,    41, ..., 13667, 13668])), (array([    0,     1, ..., 13680, 13681]), array([    9,    10, ..., 13603, 13604])), (array([    0,     1, ..., 13680, 13681]), array([   14,    15, ..., 13665, 13666]))],\n",
       "       error_score=-100.0,\n",
       "       estimator=LogisticRegression(C=1.0, class_weight=None, dual=False, fit_intercept=True,\n",
       "          intercept_scaling=1, max_iter=100, multi_class='ovr', n_jobs=1,\n",
       "          penalty='l2', random_state=14, solver='liblinear', tol=0.0001,\n",
       "          verbose=0, warm_start=False),\n",
       "       fit_params=None, iid=True, n_jobs=-1,\n",
       "       param_grid={'penalty': ['l1', 'l2'], 'multi_class': ['multinomial', 'ovr'], 'C': array([  1.00000e-02,   1.48735e-02,   2.21222e-02,   3.29034e-02,\n",
       "         4.89390e-02,   7.27895e-02,   1.08264e-01,   1.61026e-01,\n",
       "         2.39503e-01,   3.56225e-01,   5.29832e-01,   7.88046e-01,\n",
       "         1.17210e+...), 'solver': ['sag', 'saga', 'newton-cg', 'lbfgs', 'liblinear'], 'class_weight': [None, 'balanced']},\n",
       "       pre_dispatch='2*n_jobs', refit=False, return_train_score=True,\n",
       "       scoring='neg_log_loss', verbose=True)"
      ]
     },
     "execution_count": 12,
     "metadata": {},
     "output_type": "execute_result"
    }
   ],
   "source": [
    "%%time\n",
    "\n",
    "gs.fit(X_train_full, y_train)"
   ]
  },
  {
   "cell_type": "code",
   "execution_count": 13,
   "metadata": {
    "ExecuteTime": {
     "end_time": "2018-04-07T09:24:54.375452Z",
     "start_time": "2018-04-07T09:24:54.350464Z"
    }
   },
   "outputs": [
    {
     "name": "stdout",
     "output_type": "stream",
     "text": [
      "('best score:', 0.48803143994009479)\n",
      "('best params:', {'penalty': 'l2', 'multi_class': 'ovr', 'C': 18.873918221350976, 'solver': 'liblinear', 'class_weight': 'balanced'})\n"
     ]
    }
   ],
   "source": [
    "print('best score:', -1 * lr_gs.best_score_)\n",
    "print('best params:', lr_gs.best_params_)"
   ]
  },
  {
   "cell_type": "markdown",
   "metadata": {
    "ExecuteTime": {
     "end_time": "2018-04-07T19:32:34.262075Z",
     "start_time": "2018-04-07T19:32:34.255096Z"
    }
   },
   "source": [
    "## LinearSVC CV param search"
   ]
  },
  {
   "cell_type": "code",
   "execution_count": 9,
   "metadata": {
    "ExecuteTime": {
     "end_time": "2018-04-07T19:35:06.114707Z",
     "start_time": "2018-04-07T19:35:06.107705Z"
    }
   },
   "outputs": [],
   "source": [
    "svc_gs_params = {\n",
    "    'C': np.logspace(-3, 3, 30),\n",
    "    'class_weight': [None, 'balanced'],\n",
    "}"
   ]
  },
  {
   "cell_type": "code",
   "execution_count": 10,
   "metadata": {
    "ExecuteTime": {
     "end_time": "2018-04-07T19:35:33.915416Z",
     "start_time": "2018-04-07T19:35:33.909439Z"
    }
   },
   "outputs": [],
   "source": [
    "#svc_estimator = LinearSVC(random_state=14)\n",
    "svc_estimator = SVC(kernel='linear', decision_function_shape='ovr', probability=True, random_state=14)"
   ]
  },
  {
   "cell_type": "code",
   "execution_count": 11,
   "metadata": {},
   "outputs": [],
   "source": [
    "svc_gs = GridSearchCV(estimator=svc_estimator, \n",
    "                      param_grid=svc_gs_params, \n",
    "                      cv=gss_splits, \n",
    "                      scoring='neg_log_loss', \n",
    "                      return_train_score=True,\n",
    "                      verbose=True,\n",
    "                      error_score=-100.0,\n",
    "                      refit=False,\n",
    "                      n_jobs=-1)"
   ]
  },
  {
   "cell_type": "code",
   "execution_count": 12,
   "metadata": {},
   "outputs": [
    {
     "name": "stdout",
     "output_type": "stream",
     "text": [
      "Fitting 5 folds for each of 60 candidates, totalling 300 fits\n"
     ]
    },
    {
     "name": "stderr",
     "output_type": "stream",
     "text": [
      "[Parallel(n_jobs=-1)]: Done  18 tasks      | elapsed:  3.5min\n",
      "[Parallel(n_jobs=-1)]: Done 168 tasks      | elapsed: 18.9min\n"
     ]
    },
    {
     "name": "stdout",
     "output_type": "stream",
     "text": [
      "CPU times: user 2.47 s, sys: 1.63 s, total: 4.1 s\n",
      "Wall time: 30min 2s\n"
     ]
    },
    {
     "name": "stderr",
     "output_type": "stream",
     "text": [
      "[Parallel(n_jobs=-1)]: Done 300 out of 300 | elapsed: 30.0min finished\n"
     ]
    },
    {
     "data": {
      "text/plain": [
       "GridSearchCV(cv=[(array([    0,     1, ..., 13678, 13679]), array([    9,    10, ..., 13680, 13681])), (array([    0,     1, ..., 13680, 13681]), array([    9,    10, ..., 13604, 13606])), (array([    0,     1, ..., 13680, 13681]), array([   40,    41, ..., 13667, 13668])), (array([    0,     1, ..., 13680, 13681]), array([    9,    10, ..., 13603, 13604])), (array([    0,     1, ..., 13680, 13681]), array([   14,    15, ..., 13665, 13666]))],\n",
       "       error_score=-100.0,\n",
       "       estimator=SVC(C=1.0, cache_size=200, class_weight=None, coef0=0.0,\n",
       "  decision_function_shape='ovr', degree=3, gamma='auto', kernel='linear',\n",
       "  max_iter=-1, probability=True, random_state=14, shrinking=True,\n",
       "  tol=0.001, verbose=False),\n",
       "       fit_params=None, iid=True, n_jobs=-1,\n",
       "       param_grid={'C': array([1.00000e-03, 1.61026e-03, 2.59294e-03, 4.17532e-03, 6.72336e-03,\n",
       "       1.08264e-02, 1.74333e-02, 2.80722e-02, 4.52035e-02, 7.27895e-02,\n",
       "       1.17210e-01, 1.88739e-01, 3.03920e-01, 4.89390e-01, 7.88046e-01,\n",
       "       1.26896e+00, 2.04336e+00, 3.29034e+00, 5.29832e+00, 8.53168e+00,\n",
       "       1.37382e+01, 2.21222e+01, 3.56225e+01, 5.73615e+01, 9.23671e+01,\n",
       "       1.48735e+02, 2.39503e+02, 3.85662e+02, 6.21017e+02, 1.00000e+03]), 'class_weight': [None, 'balanced']},\n",
       "       pre_dispatch='2*n_jobs', refit=False, return_train_score=True,\n",
       "       scoring='neg_log_loss', verbose=True)"
      ]
     },
     "execution_count": 12,
     "metadata": {},
     "output_type": "execute_result"
    }
   ],
   "source": [
    "%%time\n",
    "\n",
    "svc_gs.fit(X_train_full, y_train)"
   ]
  },
  {
   "cell_type": "code",
   "execution_count": 13,
   "metadata": {},
   "outputs": [
    {
     "name": "stdout",
     "output_type": "stream",
     "text": [
      "best score: 0.5418458743935469\n",
      "best params: {'C': 0.4893900918477494, 'class_weight': None}\n"
     ]
    }
   ],
   "source": [
    "print('best score:', -1 * svc_gs.best_score_)\n",
    "print('best params:', svc_gs.best_params_)"
   ]
  }
 ],
 "metadata": {
  "kernelspec": {
   "display_name": "Python 3",
   "language": "python",
   "name": "python3"
  },
  "language_info": {
   "codemirror_mode": {
    "name": "ipython",
    "version": 3
   },
   "file_extension": ".py",
   "mimetype": "text/x-python",
   "name": "python",
   "nbconvert_exporter": "python",
   "pygments_lexer": "ipython3",
   "version": "3.6.4"
  }
 },
 "nbformat": 4,
 "nbformat_minor": 2
}
