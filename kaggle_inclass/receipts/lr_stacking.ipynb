{
 "cells": [
  {
   "cell_type": "code",
   "execution_count": 1,
   "metadata": {
    "ExecuteTime": {
     "end_time": "2018-04-03T18:56:27.839087Z",
     "start_time": "2018-04-03T18:56:17.476236Z"
    }
   },
   "outputs": [],
   "source": [
    "import numpy as np\n",
    "import pandas as pd\n",
    "import matplotlib.pyplot as plt\n",
    "\n",
    "from datetime import datetime\n",
    "from tqdm import tqdm_notebook\n",
    "\n",
    "from sklearn.linear_model import LogisticRegression\n",
    "from sklearn.feature_extraction.text import CountVectorizer, TfidfVectorizer\n",
    "from sklearn.preprocessing import LabelEncoder, MinMaxScaler, OneHotEncoder\n",
    "from sklearn.model_selection import cross_val_score, GroupShuffleSplit\n",
    "\n",
    "from scipy import sparse\n",
    "\n",
    "%matplotlib inline"
   ]
  },
  {
   "cell_type": "code",
   "execution_count": 2,
   "metadata": {
    "ExecuteTime": {
     "end_time": "2018-04-03T19:02:19.648397Z",
     "start_time": "2018-04-03T19:02:19.643406Z"
    }
   },
   "outputs": [],
   "source": [
    "PATH_TO_DATA = './../data/kaggle_receipts/'"
   ]
  },
  {
   "cell_type": "markdown",
   "metadata": {},
   "source": [
    "## load data train"
   ]
  },
  {
   "cell_type": "code",
   "execution_count": 3,
   "metadata": {
    "ExecuteTime": {
     "end_time": "2018-04-03T19:02:21.123868Z",
     "start_time": "2018-04-03T19:02:21.045847Z"
    }
   },
   "outputs": [],
   "source": [
    "train_df = pd.read_csv(PATH_TO_DATA + 'train.csv')\n",
    "train_checks_df = pd.read_csv(PATH_TO_DATA + 'train_checks.csv')\n",
    "\n",
    "train_full_df = pd.merge(train_df, train_checks_df, on='check_id')\n",
    "\n",
    "train_full_df['name'].fillna('', inplace=True)\n",
    "train_full_df['shop_name'].fillna('', inplace=True)"
   ]
  },
  {
   "cell_type": "markdown",
   "metadata": {},
   "source": [
    "## load data test"
   ]
  },
  {
   "cell_type": "code",
   "execution_count": 4,
   "metadata": {},
   "outputs": [],
   "source": [
    "test_df = pd.read_csv(PATH_TO_DATA + 'test.csv')\n",
    "test_checks_df = pd.read_csv(PATH_TO_DATA + 'test_checks.csv')\n",
    "\n",
    "test_full_df = pd.merge(test_df, test_checks_df, on='check_id')\n",
    "\n",
    "test_full_df['name'].fillna('', inplace=True)\n",
    "test_full_df['shop_name'].fillna('', inplace=True)"
   ]
  },
  {
   "cell_type": "markdown",
   "metadata": {},
   "source": [
    "## features engineering"
   ]
  },
  {
   "cell_type": "code",
   "execution_count": 5,
   "metadata": {},
   "outputs": [],
   "source": [
    "features_train = dict()\n",
    "features_test = dict()"
   ]
  },
  {
   "cell_type": "markdown",
   "metadata": {},
   "source": [
    "### name"
   ]
  },
  {
   "cell_type": "code",
   "execution_count": 6,
   "metadata": {},
   "outputs": [],
   "source": [
    "def contain_digits(name):\n",
    "    digits_list = [str(i) for i in range(10)]\n",
    "    for symbol in name:\n",
    "        if symbol in digits_list:\n",
    "            return True\n",
    "    return False\n",
    "\n",
    "def name_processing(name):\n",
    "    result = name\n",
    "    \n",
    "    result = result.lower()\n",
    "    result = ' '.join([token for token in result.split() if (not contain_digits(token)) and (len(token) > 2)])\n",
    "    result = result.strip()\n",
    "    \n",
    "    return result"
   ]
  },
  {
   "cell_type": "code",
   "execution_count": 7,
   "metadata": {},
   "outputs": [],
   "source": [
    "train_name = train_full_df['name'].apply(name_processing)\n",
    "test_name = test_full_df['name'].apply(name_processing)"
   ]
  },
  {
   "cell_type": "markdown",
   "metadata": {},
   "source": [
    "#### count vectorizer"
   ]
  },
  {
   "cell_type": "code",
   "execution_count": 8,
   "metadata": {},
   "outputs": [
    {
     "name": "stdout",
     "output_type": "stream",
     "text": [
      "(13682, 10713) (3000, 10713)\n"
     ]
    }
   ],
   "source": [
    "#count_vectorizer = CountVectorizer(ngram_range=(1, 3), max_features=10000)\n",
    "count_vectorizer = CountVectorizer()\n",
    "\n",
    "count_vectorizer.fit(train_name)\n",
    "\n",
    "train_name_cvect = count_vectorizer.transform(train_name)\n",
    "test_name_cvect = count_vectorizer.transform(test_name)\n",
    "\n",
    "print(train_name_cvect.shape, test_name_cvect.shape)"
   ]
  },
  {
   "cell_type": "code",
   "execution_count": 9,
   "metadata": {},
   "outputs": [],
   "source": [
    "features_train['name_cvect'] = train_name_cvect\n",
    "features_test['name_cvect'] = test_name_cvect"
   ]
  },
  {
   "cell_type": "markdown",
   "metadata": {},
   "source": [
    "### price"
   ]
  },
  {
   "cell_type": "code",
   "execution_count": 10,
   "metadata": {},
   "outputs": [],
   "source": [
    "PERCENTILE_VALUE = 95\n",
    "\n",
    "category_percentiles = {cat: np.percentile(train_full_df[train_full_df['category'] == cat]['price'], \n",
    "                                           PERCENTILE_VALUE) \n",
    "                        for cat in pd.unique(train_full_df['category'])}\n",
    "\n",
    "def cut_percentile(row):\n",
    "    return min(row['price'], category_percentiles[row['category']])"
   ]
  },
  {
   "cell_type": "code",
   "execution_count": 11,
   "metadata": {},
   "outputs": [],
   "source": [
    "train_price = train_full_df.apply(cut_percentile, axis=1)\n",
    "\n",
    "#test_price = test_full_df.apply(cut_percentile, axis=1)\n",
    "test_price = test_full_df['price']"
   ]
  },
  {
   "cell_type": "code",
   "execution_count": 12,
   "metadata": {},
   "outputs": [],
   "source": [
    "min_max_scaler = MinMaxScaler(feature_range=(0, 1))"
   ]
  },
  {
   "cell_type": "code",
   "execution_count": 13,
   "metadata": {},
   "outputs": [],
   "source": [
    "train_price = min_max_scaler.fit_transform(train_price.values.reshape(-1, 1))\n",
    "train_price = pd.DataFrame(train_price, columns=['percentile_filtered_price'])\n",
    "\n",
    "test_price = min_max_scaler.fit_transform(test_price.values.reshape(-1, 1))\n",
    "test_price = pd.DataFrame(test_price, columns=['percentile_filtered_price'])"
   ]
  },
  {
   "cell_type": "code",
   "execution_count": 14,
   "metadata": {},
   "outputs": [],
   "source": [
    "features_train['price'] = train_price\n",
    "features_test['price'] = test_price"
   ]
  },
  {
   "cell_type": "markdown",
   "metadata": {},
   "source": [
    "### shop_name"
   ]
  },
  {
   "cell_type": "code",
   "execution_count": 15,
   "metadata": {},
   "outputs": [],
   "source": [
    "train_shop_name = train_full_df['shop_name']\n",
    "test_shop_name = test_full_df['shop_name']"
   ]
  },
  {
   "cell_type": "code",
   "execution_count": 16,
   "metadata": {},
   "outputs": [
    {
     "name": "stdout",
     "output_type": "stream",
     "text": [
      "train and test contains na_string: False False\n",
      "unique nameis in train and test: 525 129\n",
      "intersection of train and test: 74\n"
     ]
    }
   ],
   "source": [
    "na_string = 'unknown'\n",
    "\n",
    "print('train and test contains na_string:', na_string in train_shop_name.values, na_string in test_shop_name.values)\n",
    "print('unique nameis in train and test:', len(train_shop_name.unique()), len(test_shop_name.unique()))\n",
    "print('intersection of train and test:', len(set(train_shop_name.values) & set(test_shop_name.values)))"
   ]
  },
  {
   "cell_type": "code",
   "execution_count": 17,
   "metadata": {},
   "outputs": [],
   "source": [
    "def analyse_shop_name(name):\n",
    "    if name in train_shop_name.values:\n",
    "        return name\n",
    "    else:\n",
    "        return na_string"
   ]
  },
  {
   "cell_type": "code",
   "execution_count": 18,
   "metadata": {},
   "outputs": [],
   "source": [
    "train_shop_name_with_na = train_shop_name.append(pd.Series([na_string]), ignore_index=True)\n",
    "test_shop_name_with_na = test_shop_name.apply(analyse_shop_name)"
   ]
  },
  {
   "cell_type": "code",
   "execution_count": 19,
   "metadata": {},
   "outputs": [
    {
     "name": "stdout",
     "output_type": "stream",
     "text": [
      "unique nameis in train and test after processing: 526 75\n"
     ]
    }
   ],
   "source": [
    "print('unique nameis in train and test after processing:', \n",
    "      len(train_shop_name_with_na.unique()), \n",
    "      len(test_shop_name_with_na.unique()))"
   ]
  },
  {
   "cell_type": "code",
   "execution_count": 20,
   "metadata": {},
   "outputs": [],
   "source": [
    "shop_name_labeler = LabelEncoder()"
   ]
  },
  {
   "cell_type": "code",
   "execution_count": 21,
   "metadata": {},
   "outputs": [
    {
     "name": "stdout",
     "output_type": "stream",
     "text": [
      "Wall time: 16 ms\n"
     ]
    }
   ],
   "source": [
    "%%time\n",
    "\n",
    "shop_name_labeler.fit(train_shop_name_with_na)\n",
    "\n",
    "train_shop_name_le = pd.DataFrame(shop_name_labeler.transform(train_shop_name_with_na), columns=['shop_name'])\n",
    "test_shop_name_le = pd.DataFrame(shop_name_labeler.transform(test_shop_name_with_na), columns=['shop_name'])"
   ]
  },
  {
   "cell_type": "code",
   "execution_count": 22,
   "metadata": {},
   "outputs": [],
   "source": [
    "shop_name_ohe = OneHotEncoder()"
   ]
  },
  {
   "cell_type": "code",
   "execution_count": 23,
   "metadata": {},
   "outputs": [
    {
     "name": "stdout",
     "output_type": "stream",
     "text": [
      "Wall time: 7 ms\n"
     ]
    }
   ],
   "source": [
    "%%time\n",
    "\n",
    "shop_name_ohe.fit(train_shop_name_le)\n",
    "\n",
    "# remember to remove na_string from train!\n",
    "train_shop_name_ohe = shop_name_ohe.transform(train_shop_name_le.iloc[:-1, :])\n",
    "test_shop_name_ohe = shop_name_ohe.transform(test_shop_name_le)"
   ]
  },
  {
   "cell_type": "code",
   "execution_count": 24,
   "metadata": {},
   "outputs": [
    {
     "name": "stdout",
     "output_type": "stream",
     "text": [
      "train_shop_name_ohe: (13682, 526)\n",
      "test_shop_name_ohe: (3000, 526)\n"
     ]
    }
   ],
   "source": [
    "print('train_shop_name_ohe:', train_shop_name_ohe.shape)\n",
    "print('test_shop_name_ohe:', test_shop_name_ohe.shape)"
   ]
  },
  {
   "cell_type": "code",
   "execution_count": 25,
   "metadata": {},
   "outputs": [],
   "source": [
    "features_train['shop_name'] = train_shop_name_ohe\n",
    "features_test['shop_name'] = test_shop_name_ohe"
   ]
  },
  {
   "cell_type": "markdown",
   "metadata": {},
   "source": [
    "### datetime"
   ]
  },
  {
   "cell_type": "code",
   "execution_count": 26,
   "metadata": {},
   "outputs": [],
   "source": [
    "one_hot_encoder = OneHotEncoder()"
   ]
  },
  {
   "cell_type": "code",
   "execution_count": 27,
   "metadata": {},
   "outputs": [],
   "source": [
    "train_datetime = train_full_df['datetime'].apply(pd.to_datetime)\n",
    "test_datetime = test_full_df['datetime'].apply(pd.to_datetime)"
   ]
  },
  {
   "cell_type": "code",
   "execution_count": 28,
   "metadata": {},
   "outputs": [],
   "source": [
    "train_hour = train_datetime.apply(lambda dt: dt.hour).values.reshape(-1, 1)\n",
    "test_hour = test_datetime.apply(lambda dt: dt.hour).values.reshape(-1, 1)\n",
    "\n",
    "one_hot_encoder.fit(train_hour)\n",
    "\n",
    "train_hour = one_hot_encoder.transform(train_hour)\n",
    "test_hour = one_hot_encoder.transform(test_hour)"
   ]
  },
  {
   "cell_type": "code",
   "execution_count": 29,
   "metadata": {},
   "outputs": [],
   "source": [
    "features_train['hour'] = train_hour\n",
    "features_test['hour'] = test_hour"
   ]
  },
  {
   "cell_type": "code",
   "execution_count": 30,
   "metadata": {},
   "outputs": [],
   "source": [
    "train_dayofweek = train_datetime.apply(lambda dt: dt.dayofweek).values.reshape(-1, 1)\n",
    "test_dayofweek = test_datetime.apply(lambda dt: dt.dayofweek).values.reshape(-1, 1)\n",
    "\n",
    "one_hot_encoder.fit(train_dayofweek)\n",
    "\n",
    "train_dayofweek = one_hot_encoder.transform(train_dayofweek)\n",
    "test_dayofweek = one_hot_encoder.transform(test_dayofweek)"
   ]
  },
  {
   "cell_type": "code",
   "execution_count": 31,
   "metadata": {},
   "outputs": [],
   "source": [
    "features_train['dayofweek'] = train_dayofweek\n",
    "features_test['dayofweek'] = test_dayofweek"
   ]
  },
  {
   "cell_type": "markdown",
   "metadata": {},
   "source": [
    "### category"
   ]
  },
  {
   "cell_type": "code",
   "execution_count": 32,
   "metadata": {},
   "outputs": [],
   "source": [
    "category_labeler = LabelEncoder()"
   ]
  },
  {
   "cell_type": "code",
   "execution_count": 33,
   "metadata": {},
   "outputs": [
    {
     "name": "stdout",
     "output_type": "stream",
     "text": [
      "Wall time: 12 ms\n"
     ]
    }
   ],
   "source": [
    "%%time\n",
    "\n",
    "train_category = category_labeler.fit_transform(train_full_df['category'])\n",
    "#train_category = pd.DataFrame(train_category, columns=['category'])"
   ]
  },
  {
   "cell_type": "code",
   "execution_count": 34,
   "metadata": {},
   "outputs": [
    {
     "data": {
      "text/plain": [
       "array([ 0,  1,  2,  3,  4,  5,  6,  7,  8,  9, 10, 11, 12, 13, 14, 15, 16,\n",
       "       17, 18, 19, 20, 21, 22, 23, 24], dtype=int64)"
      ]
     },
     "execution_count": 34,
     "metadata": {},
     "output_type": "execute_result"
    }
   ],
   "source": [
    "np.unique(train_category)"
   ]
  },
  {
   "cell_type": "code",
   "execution_count": 35,
   "metadata": {},
   "outputs": [],
   "source": [
    "y_train = train_category"
   ]
  },
  {
   "cell_type": "markdown",
   "metadata": {},
   "source": [
    "## join features"
   ]
  },
  {
   "cell_type": "code",
   "execution_count": 36,
   "metadata": {},
   "outputs": [
    {
     "name": "stdout",
     "output_type": "stream",
     "text": [
      "name_cvect : <class 'scipy.sparse.csr.csr_matrix'>, (13682, 10713)\n",
      "price : <class 'pandas.core.frame.DataFrame'>, (13682, 1)\n",
      "shop_name : <class 'scipy.sparse.csr.csr_matrix'>, (13682, 526)\n",
      "hour : <class 'scipy.sparse.csr.csr_matrix'>, (13682, 23)\n",
      "dayofweek : <class 'scipy.sparse.csr.csr_matrix'>, (13682, 7)\n"
     ]
    }
   ],
   "source": [
    "for name, feat in features_train.items():\n",
    "    print('{} : {}, {}'.format(name, type(feat), feat.shape))"
   ]
  },
  {
   "cell_type": "code",
   "execution_count": 37,
   "metadata": {},
   "outputs": [
    {
     "name": "stdout",
     "output_type": "stream",
     "text": [
      "name_cvect : <class 'scipy.sparse.csr.csr_matrix'>, (3000, 10713)\n",
      "price : <class 'pandas.core.frame.DataFrame'>, (3000, 1)\n",
      "shop_name : <class 'scipy.sparse.csr.csr_matrix'>, (3000, 526)\n",
      "hour : <class 'scipy.sparse.csr.csr_matrix'>, (3000, 23)\n",
      "dayofweek : <class 'scipy.sparse.csr.csr_matrix'>, (3000, 7)\n"
     ]
    }
   ],
   "source": [
    "for name, feat in features_test.items():\n",
    "    print('{} : {}, {}'.format(name, type(feat), feat.shape))"
   ]
  },
  {
   "cell_type": "code",
   "execution_count": 38,
   "metadata": {},
   "outputs": [
    {
     "name": "stdout",
     "output_type": "stream",
     "text": [
      "X_train_full: (13682, 10713) (13682, 557)\n",
      "X_test_full: (3000, 10713) (3000, 557)\n",
      "y_train_full: (13682,)\n"
     ]
    }
   ],
   "source": [
    "full_use_list = [\n",
    "    [\n",
    "        'name_cvect'\n",
    "    ],\n",
    "    [\n",
    "        'price', \n",
    "        'shop_name', \n",
    "        'hour', \n",
    "        'dayofweek'\n",
    "    ]\n",
    "]\n",
    "\n",
    "selected_features_train = [[feat for (name, feat) in features_train.items() if name in use_list] for use_list in full_use_list]\n",
    "selected_features_test = [[feat for (name, feat) in features_test.items() if name in use_list] for use_list in full_use_list]\n",
    "\n",
    "X_train_full = [sparse.csr_matrix(sparse.hstack(features)) for features in selected_features_train]\n",
    "X_test_full = [sparse.csr_matrix(sparse.hstack(features)) for features in selected_features_test]\n",
    "\n",
    "y_train_full = y_train\n",
    "\n",
    "print('X_train_full:', X_train_full[0].shape, X_train_full[1].shape)\n",
    "print('X_test_full:', X_test_full[0].shape, X_test_full[1].shape)\n",
    "print('y_train_full:', y_train_full.shape)"
   ]
  },
  {
   "cell_type": "markdown",
   "metadata": {},
   "source": [
    "## manual param search"
   ]
  },
  {
   "cell_type": "code",
   "execution_count": 39,
   "metadata": {},
   "outputs": [
    {
     "name": "stdout",
     "output_type": "stream",
     "text": [
      "0 -> 0.01\n",
      "1 -> 0.01778279410038923\n",
      "2 -> 0.03162277660168379\n",
      "3 -> 0.05623413251903491\n",
      "4 -> 0.1\n",
      "5 -> 0.1778279410038923\n",
      "6 -> 0.31622776601683794\n",
      "7 -> 0.5623413251903491\n",
      "8 -> 1.0\n",
      "9 -> 1.7782794100389228\n",
      "10 -> 3.1622776601683795\n",
      "11 -> 5.623413251903491\n",
      "12 -> 10.0\n",
      "13 -> 17.78279410038923\n",
      "14 -> 31.622776601683793\n",
      "15 -> 56.23413251903491\n",
      "16 -> 100.0\n",
      "17 -> 177.82794100389228\n",
      "18 -> 316.22776601683796\n",
      "19 -> 562.341325190349\n",
      "20 -> 1000.0\n",
      "21 -> 1778.2794100389228\n",
      "22 -> 3162.2776601683795\n",
      "23 -> 5623.413251903491\n",
      "24 -> 10000.0\n"
     ]
    }
   ],
   "source": [
    "C_range = np.logspace(-2, 4, 25)\n",
    "\n",
    "for idx, C in enumerate(C_range):\n",
    "    print('{} -> {}'.format(idx, C))"
   ]
  },
  {
   "cell_type": "code",
   "execution_count": 41,
   "metadata": {},
   "outputs": [],
   "source": [
    "gss = GroupShuffleSplit(n_splits=5, random_state=0)\n",
    "gss_splits = [list(gss.split(X, y_train_full, train_full_df['check_id'].values)) for X in X_train_full]"
   ]
  },
  {
   "cell_type": "code",
   "execution_count": 42,
   "metadata": {},
   "outputs": [],
   "source": [
    "total_lrs = []\n",
    "total_cv_scores = []"
   ]
  },
  {
   "cell_type": "code",
   "execution_count": 43,
   "metadata": {},
   "outputs": [
    {
     "data": {
      "application/vnd.jupyter.widget-view+json": {
       "model_id": "942b21bd1e9547f083d413675c277547",
       "version_major": 2,
       "version_minor": 0
      },
      "text/html": [
       "<p>Failed to display Jupyter Widget of type <code>HBox</code>.</p>\n",
       "<p>\n",
       "  If you're reading this message in the Jupyter Notebook or JupyterLab Notebook, it may mean\n",
       "  that the widgets JavaScript is still loading. If this message persists, it\n",
       "  likely means that the widgets JavaScript library is either not installed or\n",
       "  not enabled. See the <a href=\"https://ipywidgets.readthedocs.io/en/stable/user_install.html\">Jupyter\n",
       "  Widgets Documentation</a> for setup instructions.\n",
       "</p>\n",
       "<p>\n",
       "  If you're reading this message in another frontend (for example, a static\n",
       "  rendering on GitHub or <a href=\"https://nbviewer.jupyter.org/\">NBViewer</a>),\n",
       "  it may mean that your frontend doesn't currently support widgets.\n",
       "</p>\n"
      ],
      "text/plain": [
       "HBox(children=(IntProgress(value=0, max=25), HTML(value='')))"
      ]
     },
     "metadata": {},
     "output_type": "display_data"
    },
    {
     "name": "stdout",
     "output_type": "stream",
     "text": [
      "\n"
     ]
    },
    {
     "data": {
      "application/vnd.jupyter.widget-view+json": {
       "model_id": "adae2f7704e145f2b75fd9c7317f43dd",
       "version_major": 2,
       "version_minor": 0
      },
      "text/html": [
       "<p>Failed to display Jupyter Widget of type <code>HBox</code>.</p>\n",
       "<p>\n",
       "  If you're reading this message in the Jupyter Notebook or JupyterLab Notebook, it may mean\n",
       "  that the widgets JavaScript is still loading. If this message persists, it\n",
       "  likely means that the widgets JavaScript library is either not installed or\n",
       "  not enabled. See the <a href=\"https://ipywidgets.readthedocs.io/en/stable/user_install.html\">Jupyter\n",
       "  Widgets Documentation</a> for setup instructions.\n",
       "</p>\n",
       "<p>\n",
       "  If you're reading this message in another frontend (for example, a static\n",
       "  rendering on GitHub or <a href=\"https://nbviewer.jupyter.org/\">NBViewer</a>),\n",
       "  it may mean that your frontend doesn't currently support widgets.\n",
       "</p>\n"
      ],
      "text/plain": [
       "HBox(children=(IntProgress(value=0, max=25), HTML(value='')))"
      ]
     },
     "metadata": {},
     "output_type": "display_data"
    },
    {
     "name": "stdout",
     "output_type": "stream",
     "text": [
      "\n"
     ]
    }
   ],
   "source": [
    "for idx in range(2):\n",
    "    \n",
    "    lrs = []\n",
    "    cv_scores = []\n",
    "    \n",
    "    for C in tqdm_notebook(C_range):\n",
    "\n",
    "        cur_lr = LogisticRegression(C=C, random_state=14)\n",
    "\n",
    "        cv_score = cross_val_score(cur_lr, \n",
    "                                   X_train_full[idx], \n",
    "                                   y_train_full, \n",
    "                                   scoring='neg_log_loss', \n",
    "                                   cv=gss_splits[idx], \n",
    "                                   n_jobs=-1)\n",
    "\n",
    "        lrs.append(cur_lr)\n",
    "        cv_scores.append(-1 * cv_score.mean())\n",
    "    \n",
    "    total_lrs.append(lrs)\n",
    "    total_cv_scores.append(cv_scores)"
   ]
  },
  {
   "cell_type": "code",
   "execution_count": 44,
   "metadata": {},
   "outputs": [
    {
     "data": {
      "image/png": "[encoded data removed]",
      "text/plain": [
       "<Figure size 1080x360 with 1 Axes>"
      ]
     },
     "metadata": {},
     "output_type": "display_data"
    }
   ],
   "source": [
    "plt.figure(figsize=(15, 5))\n",
    "\n",
    "plt.plot(range(len(C_range)), total_cv_scores[0], color='red', label='cv')\n",
    "plt.plot(range(len(C_range)), total_cv_scores[1], color='blue', label='cv')\n",
    "\n",
    "#plt.ylim(0.94, 1.01)\n",
    "#plt.xlim(18, 22)\n",
    "plt.xlabel(\"C index\")\n",
    "plt.ylabel(\"log_loss\")\n",
    "plt.legend()\n",
    "plt.grid()\n",
    "plt.show()"
   ]
  },
  {
   "cell_type": "code",
   "execution_count": 46,
   "metadata": {},
   "outputs": [
    {
     "name": "stdout",
     "output_type": "stream",
     "text": [
      "estimator 0\n",
      "best cv score: 0.648467317835492\n",
      "best C: 17.78279410038923\n",
      "best C index: 13\n",
      "estimator 1\n",
      "best cv score: 2.715785430911935\n",
      "best C: 1.7782794100389228\n",
      "best C index: 9\n"
     ]
    }
   ],
   "source": [
    "for idx in range(2):\n",
    "    print('estimator', idx)\n",
    "    print('best cv score:', np.min(total_cv_scores[idx]))\n",
    "    print('best C:', C_range[np.argmin(total_cv_scores[idx])])\n",
    "    print('best C index:', np.argmin(total_cv_scores[idx]))\n",
    "\n",
    "ms_best_estimators = [lrs[np.argmin(total_cv_scores[idx])] for idx in range(2)] "
   ]
  },
  {
   "cell_type": "markdown",
   "metadata": {},
   "source": [
    "## make submission"
   ]
  },
  {
   "cell_type": "code",
   "execution_count": 47,
   "metadata": {},
   "outputs": [],
   "source": [
    "best_estimators = ms_best_estimators"
   ]
  },
  {
   "cell_type": "code",
   "execution_count": 50,
   "metadata": {},
   "outputs": [
    {
     "name": "stdout",
     "output_type": "stream",
     "text": [
      "Wall time: 1.69 s\n"
     ]
    }
   ],
   "source": [
    "%%time\n",
    "\n",
    "for idx in range(2):\n",
    "    best_estimators[idx].fit(X_train_full[idx], y_train_full)"
   ]
  },
  {
   "cell_type": "code",
   "execution_count": 51,
   "metadata": {},
   "outputs": [],
   "source": [
    "predictions = (0.5 * best_estimators[0].predict_proba(X_test_full[0]) + \n",
    "               0.5 * best_estimators[1].predict_proba(X_test_full[1]))"
   ]
  },
  {
   "cell_type": "code",
   "execution_count": 52,
   "metadata": {},
   "outputs": [],
   "source": [
    "predictions_df = test_df[['id']]\n",
    "\n",
    "for idx, category in enumerate(category_labeler.classes_):\n",
    "    predictions_df = pd.concat([predictions_df, pd.Series(predictions[:, idx], name=category)], axis=1)"
   ]
  },
  {
   "cell_type": "code",
   "execution_count": 53,
   "metadata": {},
   "outputs": [],
   "source": [
    "timestamp = datetime.now().strftime('%m%d_%H%M')\n",
    "predictions_df.to_csv('./submissions/submission_{}.csv'.format(timestamp), encoding='utf-8', index=False)"
   ]
  }
 ],
 "metadata": {
  "kernelspec": {
   "display_name": "Python 3",
   "language": "python",
   "name": "python3"
  },
  "language_info": {
   "codemirror_mode": {
    "name": "ipython",
    "version": 3
   },
   "file_extension": ".py",
   "mimetype": "text/x-python",
   "name": "python",
   "nbconvert_exporter": "python",
   "pygments_lexer": "ipython3",
   "version": "3.6.4"
  }
 },
 "nbformat": 4,
 "nbformat_minor": 2
}
