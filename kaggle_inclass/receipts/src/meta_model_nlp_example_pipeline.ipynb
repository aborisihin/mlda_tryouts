{
 "cells": [
  {
   "cell_type": "code",
   "execution_count": null,
   "metadata": {
    "_cell_guid": "17b18ee0-aa2c-4aed-9128-3c22e8763888",
    "_uuid": "46c8c06d51b77cfa62c6ee2162675d7ff8881222",
    "collapsed": true
   },
   "outputs": [],
   "source": [
    "import pandas as pd\n",
    "import numpy as np"
   ]
  },
  {
   "cell_type": "code",
   "execution_count": null,
   "metadata": {
    "_cell_guid": "f4305f7d-f091-444f-a995-14ef1e1da119",
    "_uuid": "879b6a5185b47d082556736d1d6338bac4f1c746",
    "collapsed": true
   },
   "outputs": [],
   "source": [
    "train = pd.read_csv('../input/train.csv.gz')\n",
    "test = pd.read_csv('../input/test.csv.gz')"
   ]
  },
  {
   "cell_type": "code",
   "execution_count": null,
   "metadata": {
    "_cell_guid": "fc72569c-655a-45eb-8505-c2664342e641",
    "_uuid": "28e615b9d73400f6bc0a68b1c147b0ddaae4c38a",
    "collapsed": true
   },
   "outputs": [],
   "source": [
    "train_checks = pd.read_csv('../input/train_checks.csv.gz')\n",
    "test_checks = pd.read_csv('../input/test_checks.csv.gz')"
   ]
  },
  {
   "cell_type": "code",
   "execution_count": null,
   "metadata": {
    "_cell_guid": "4c981299-87f0-484b-9356-c2c5424a1c1a",
    "_uuid": "7d59dd3a32eac0a6509ce2e77388cd064972a39c",
    "collapsed": true
   },
   "outputs": [],
   "source": [
    "train = train.merge(train_checks, on = 'check_id', how = 'left')\n",
    "test = test.merge(test_checks, on = 'check_id', how = 'left')"
   ]
  },
  {
   "cell_type": "code",
   "execution_count": null,
   "metadata": {
    "_cell_guid": "e8abbcc0-59ac-4e8a-a68b-dce9eae36419",
    "_uuid": "d23afb88120be4e239a31442f0e0ce5271e15d84",
    "collapsed": true
   },
   "outputs": [],
   "source": [
    "print(train.shape, train_checks.shape)\n",
    "print(train.columns.values)\n",
    "print(train_checks.columns.values)"
   ]
  },
  {
   "cell_type": "code",
   "execution_count": null,
   "metadata": {
    "_cell_guid": "f4c782d5-5b42-44b3-a1ad-53bfbaa8c880",
    "_uuid": "5e55183f166173c3530ac864433b84785c2781c3",
    "collapsed": true
   },
   "outputs": [],
   "source": [
    "print(test.shape, test_checks.shape)\n",
    "print(test.columns.values)"
   ]
  },
  {
   "cell_type": "code",
   "execution_count": null,
   "metadata": {
    "_cell_guid": "a4defab7-5ce8-491a-bb99-4d352d9c4fe3",
    "_uuid": "302e503cf6f2ef6df99265be89f43db493b5b753",
    "collapsed": true
   },
   "outputs": [],
   "source": [
    "train.fillna('', inplace=True)\n",
    "test.fillna('', inplace=True)"
   ]
  },
  {
   "cell_type": "code",
   "execution_count": null,
   "metadata": {
    "_cell_guid": "6264b537-055f-49e2-ac8a-d4f83c743db5",
    "_uuid": "97739f052effe32ddb4781830818dd60d709845d",
    "collapsed": true
   },
   "outputs": [],
   "source": [
    "catalog = pd.read_csv('../input/catalog2.csv.gz')\n",
    "catalog.shape"
   ]
  },
  {
   "cell_type": "code",
   "execution_count": null,
   "metadata": {
    "_cell_guid": "1074e2e2-d3d0-4d2b-bcbc-44b3b3031a44",
    "_uuid": "99df9bcff61dc558678f91352fd5d9f6d56476b8",
    "collapsed": true
   },
   "outputs": [],
   "source": [
    "from sklearn.feature_extraction.text import CountVectorizer\n",
    "\n",
    "vectorizer = CountVectorizer()\n",
    "\n",
    "X = vectorizer.fit_transform(train['name'])\n",
    "X_test = vectorizer.transform(test['name'])"
   ]
  },
  {
   "cell_type": "code",
   "execution_count": null,
   "metadata": {
    "_cell_guid": "3f0a8b88-cd85-409a-8643-319aa2f3e5f2",
    "_uuid": "f2312c8bc81100e49ea23d8cf55004ce5ef09536",
    "collapsed": true
   },
   "outputs": [],
   "source": [
    "X_catalog = vectorizer.transform(catalog.description.fillna(\"\"))"
   ]
  },
  {
   "cell_type": "code",
   "execution_count": null,
   "metadata": {
    "_cell_guid": "03b775d6-9fe4-4079-a5a2-86b7960cb08b",
    "_uuid": "42880cf7947b366e5aab3340fb06eaa6ff055fed",
    "collapsed": true
   },
   "outputs": [],
   "source": [
    "from sklearn.preprocessing import LabelEncoder\n",
    "\n",
    "catalog_labeler = LabelEncoder()\n",
    "y_catalog = catalog_labeler.fit_transform(catalog.category)"
   ]
  },
  {
   "cell_type": "code",
   "execution_count": null,
   "metadata": {
    "_cell_guid": "dc1ab7f4-36c0-4989-bf44-a4f2ee53a4d8",
    "_uuid": "5b4ed9fe9cb370bf6d9af1bc3395bef69688082f",
    "collapsed": true
   },
   "outputs": [],
   "source": [
    "X.shape"
   ]
  },
  {
   "cell_type": "code",
   "execution_count": null,
   "metadata": {
    "_cell_guid": "0cf7ff1b-98e9-420b-9c07-cf7c9e04f185",
    "_uuid": "622ef05892a9b5ee624c7d99855142f56e8bd04c",
    "collapsed": true
   },
   "outputs": [],
   "source": [
    "from sklearn.preprocessing import LabelEncoder\n",
    "\n",
    "labeler = LabelEncoder()"
   ]
  },
  {
   "cell_type": "code",
   "execution_count": null,
   "metadata": {
    "_cell_guid": "9b924a93-45ae-4d3e-b5df-0145b4b33bce",
    "_uuid": "db1c74b7793e75c3eaccfb2c489d7c604821c7b5",
    "collapsed": true
   },
   "outputs": [],
   "source": [
    "y = labeler.fit_transform(train.category)"
   ]
  },
  {
   "cell_type": "markdown",
   "metadata": {
    "_cell_guid": "8db58a5a-7b58-45ef-bd2a-94f0efdfbb8d",
    "_uuid": "fc6b28f78e0eaa6f8acdb387a4f7058d15e6aba9"
   },
   "source": [
    "# Часто бывает полезно загрубить предсказания, чтобы не получать большие штрафы в случае ошибок, такое загрубление называется clipping"
   ]
  },
  {
   "cell_type": "code",
   "execution_count": null,
   "metadata": {
    "_cell_guid": "c9ab6c28-810c-4dd8-afe7-044e13358c32",
    "_uuid": "5556f485188b4746310dee2116e3417ec3a19765",
    "collapsed": true
   },
   "outputs": [],
   "source": [
    "from sklearn.metrics import log_loss, make_scorer\n",
    "clipping = 0.001\n",
    "\n",
    "clipped_log_loss = make_scorer(log_loss, eps = clipping, greater_is_better = False, needs_proba = True)"
   ]
  },
  {
   "cell_type": "code",
   "execution_count": null,
   "metadata": {
    "_cell_guid": "8f169bd5-3bfa-4021-98d9-0def89b370ba",
    "_uuid": "9751bf6e2cbb716a438952b1d83292b12bd351ab",
    "collapsed": true
   },
   "outputs": [],
   "source": [
    "from sklearn.linear_model import LogisticRegression\n",
    "from sklearn.model_selection import GroupKFold\n",
    "from sklearn.model_selection import cross_val_score\n"
   ]
  },
  {
   "cell_type": "code",
   "execution_count": null,
   "metadata": {
    "_cell_guid": "7b39eb71-84d7-4ef1-9498-b3ceba6aee62",
    "_uuid": "4cc451466f33d5a54f1f07e63a8c38bf04015e1a",
    "collapsed": true
   },
   "outputs": [],
   "source": [
    "parameters = {\n",
    "    'C' : np.logspace(0, 3, 4),\n",
    "}\n",
    "\n",
    "gkf = list(GroupKFold(n_splits=4).split(X, y, train.check_id.values))\n",
    "score = cross_val_score(LogisticRegression(C = 100), X, y, cv = gkf, scoring=clipped_log_loss)\n",
    "-np.mean(score)"
   ]
  },
  {
   "cell_type": "code",
   "execution_count": null,
   "metadata": {
    "_cell_guid": "80b70866-108b-497f-b08b-50cbb363eb9c",
    "_uuid": "858eb849739686d0f3169a49d3e653eae2c40cb0",
    "collapsed": true
   },
   "outputs": [],
   "source": [
    "from sklearn.model_selection import cross_val_predict"
   ]
  },
  {
   "cell_type": "code",
   "execution_count": null,
   "metadata": {
    "_cell_guid": "ae55b5df-fba8-462b-80d1-962a8fc05531",
    "_uuid": "22e743296902edad35d1657345f7e670c489d4b6",
    "collapsed": true
   },
   "outputs": [],
   "source": [
    "X_meta = cross_val_predict(LogisticRegression(C = 100), X, y, cv=gkf, n_jobs = -1, method = 'predict_proba')"
   ]
  },
  {
   "cell_type": "code",
   "execution_count": null,
   "metadata": {
    "_cell_guid": "356f3d66-9ad4-4ccb-a6e9-4a90179a6363",
    "_uuid": "bc100d91269f06a2d67fad8bb9cd08d591469c0e",
    "collapsed": true
   },
   "outputs": [],
   "source": [
    "X_meta.shape"
   ]
  },
  {
   "cell_type": "markdown",
   "metadata": {
    "_cell_guid": "aa30b59e-9e98-4c44-81d2-afc039a0ce6c",
    "_uuid": "e855581159798f449b6406d0e27b79f19725d131"
   },
   "source": [
    "# Мета модель уточняющая предсказания логистической регрессии"
   ]
  },
  {
   "cell_type": "code",
   "execution_count": null,
   "metadata": {
    "_cell_guid": "5da21d5c-544e-4763-a733-2f6967f45cbc",
    "_uuid": "d9bccda8299964a560f637c599b84db0810b83bd",
    "collapsed": true
   },
   "outputs": [],
   "source": [
    "from xgboost import XGBClassifier\n",
    "\n",
    "xgb = XGBClassifier(n_estimators = 40)\n",
    "\n",
    "score = cross_val_score(xgb, X_meta, y, cv = gkf, scoring=clipped_log_loss)"
   ]
  },
  {
   "cell_type": "code",
   "execution_count": null,
   "metadata": {
    "_cell_guid": "c4ac685d-1ee0-412b-9f55-cbcc0e393d15",
    "_uuid": "80ba5d80fd2b65c83eaef1159a8f91e8b4c229c7",
    "collapsed": true
   },
   "outputs": [],
   "source": [
    "-np.mean(score)"
   ]
  },
  {
   "cell_type": "markdown",
   "metadata": {
    "_cell_guid": "40985f36-652e-4db6-a186-752db9a833b3",
    "_uuid": "d4dc649aa5070d6513a122419f04fc5774f2541e"
   },
   "source": [
    "# Смесь предсказаний двух моделей с _разными_ наборами категорий через мета модель"
   ]
  },
  {
   "cell_type": "code",
   "execution_count": null,
   "metadata": {
    "_cell_guid": "2b454051-6a14-4492-9c16-c1de2f24b57a",
    "_uuid": "828960f648ee28f640ea9916e23ec75ca62ccc23",
    "collapsed": true
   },
   "outputs": [],
   "source": [
    "model_catalog = LogisticRegression(C = 100)\n",
    "model_catalog.fit(X_catalog, y_catalog)\n",
    "\n",
    "X_meta_catalog = model_catalog.predict_proba(X)"
   ]
  },
  {
   "cell_type": "code",
   "execution_count": null,
   "metadata": {
    "_cell_guid": "8c5d6cb4-2c71-44a1-ab88-44f5299936f2",
    "_uuid": "a908f6600fc7d087d3bcca60ec10087db48b2dc1",
    "collapsed": true
   },
   "outputs": [],
   "source": [
    "X_meta_catalog.shape"
   ]
  },
  {
   "cell_type": "code",
   "execution_count": null,
   "metadata": {
    "_cell_guid": "77ab9b34-0460-4d4c-9fdc-2a85670e22e0",
    "_uuid": "76c2cea4160b3f3fb3c0b0503a9efc7bc2833546",
    "collapsed": true
   },
   "outputs": [],
   "source": [
    "score = cross_val_score(xgb, np.hstack([X_meta, X_meta_catalog]), y, cv = gkf, scoring=clipped_log_loss)\n",
    "\n",
    "-np.mean(score)"
   ]
  },
  {
   "cell_type": "markdown",
   "metadata": {
    "_cell_guid": "a62ec9eb-099c-473b-9a9a-3ad578fec631",
    "_uuid": "64da037faa453f513affb96fe6f792b6816a4d4c"
   },
   "source": [
    "# Пример сабмита\n",
    "## На train предсказываем на манер cross_var_predict, на test предсказываем моделями каждого из фолдов и усредняем"
   ]
  },
  {
   "cell_type": "code",
   "execution_count": null,
   "metadata": {
    "_cell_guid": "0c3b727a-0769-4bc5-b227-3406ae5d2621",
    "_uuid": "ab3e5f43e01741d198a7b2aaca6495b7f2f98b2c",
    "collapsed": true
   },
   "outputs": [],
   "source": [
    "X_meta = np.zeros((X.shape[0], 25))\n",
    "X_test_meta = []\n",
    "\n",
    "for fold_i, (train_i, test_i) in enumerate(gkf):\n",
    "    print(fold_i)\n",
    "    model = LogisticRegression(C = 100)\n",
    "    model.fit(X.tocsr()[train_i], y[train_i])\n",
    "    X_meta[test_i, :] = model.predict_proba(X.tocsr()[test_i])\n",
    "    X_test_meta.append(model.predict_proba(X_test))"
   ]
  },
  {
   "cell_type": "code",
   "execution_count": null,
   "metadata": {
    "_cell_guid": "abe5dfe0-7eda-4344-8c38-039a23943179",
    "_uuid": "0c7d61c6c96832ed0f324e980085f14556415fad",
    "collapsed": true
   },
   "outputs": [],
   "source": [
    "X_test_meta = np.stack(X_test_meta)\n",
    "X_test_meta.shape"
   ]
  },
  {
   "cell_type": "code",
   "execution_count": null,
   "metadata": {
    "_cell_guid": "f9990ee2-68b7-4ced-8e00-60dbc200fd56",
    "_uuid": "16e6b73268717441dea14db78e9eb0d43329ba05",
    "collapsed": true
   },
   "outputs": [],
   "source": [
    "X_test_meta_mean = np.mean(X_test_meta, axis = 0)"
   ]
  },
  {
   "cell_type": "code",
   "execution_count": null,
   "metadata": {
    "_cell_guid": "801f44e7-50e6-4e0c-a2b9-cd93e72cb011",
    "_uuid": "9ee44b20849d8e78b4bc9ea0710c23cbdc3a7cca",
    "collapsed": true
   },
   "outputs": [],
   "source": [
    "X_test_meta_mean.shape"
   ]
  },
  {
   "cell_type": "markdown",
   "metadata": {
    "_cell_guid": "a1658d0e-ac62-4ba2-8468-3589cba6f7b5",
    "_uuid": "f0e39c445c1ab8ddc3f3ac3e316bf6fce9324bbd"
   },
   "source": [
    "# Собираем предсказания разных моделей в мета-признаки на train и test"
   ]
  },
  {
   "cell_type": "code",
   "execution_count": null,
   "metadata": {
    "_cell_guid": "09d333e0-0598-43af-b00a-763f772124c7",
    "_uuid": "1b3aa095024e34d6b0cdf8baa45e43d25c0b5b8d",
    "collapsed": true
   },
   "outputs": [],
   "source": [
    "X_meta = np.hstack([X_meta, X_meta_catalog])"
   ]
  },
  {
   "cell_type": "code",
   "execution_count": null,
   "metadata": {
    "_cell_guid": "7470bc45-5e1a-4573-aedd-7d441e50cccd",
    "_uuid": "655d3558618ce93d8154bd9641a38dc7fe7e94aa",
    "collapsed": true
   },
   "outputs": [],
   "source": [
    "X_test_meta_catalog = model_catalog.predict_proba(vectorizer.transform(test.name))"
   ]
  },
  {
   "cell_type": "code",
   "execution_count": null,
   "metadata": {
    "_cell_guid": "f437618b-66db-483f-96ef-c597c22a1830",
    "_uuid": "ee91568eac9256ea52d9f21f1231cb9bd81af44b",
    "collapsed": true
   },
   "outputs": [],
   "source": [
    "X_test_meta = np.hstack([X_test_meta_mean, X_test_meta_catalog])"
   ]
  },
  {
   "cell_type": "code",
   "execution_count": null,
   "metadata": {
    "_cell_guid": "36e2c49c-c3ad-40a1-9301-1513f133592b",
    "_uuid": "d91234e2343f5e984789f3698cba9f597b20ca30",
    "collapsed": true
   },
   "outputs": [],
   "source": [
    "xgb.fit(X_meta, y)"
   ]
  },
  {
   "cell_type": "code",
   "execution_count": null,
   "metadata": {
    "_cell_guid": "b8b7d88a-2052-4efc-83a3-1e8d172ff6af",
    "_uuid": "9eced80ddbede84af2e1a8c1e22346b6c5f3d15c",
    "collapsed": true
   },
   "outputs": [],
   "source": [
    "p_test = xgb.predict_proba(X_test_meta)"
   ]
  },
  {
   "cell_type": "code",
   "execution_count": null,
   "metadata": {
    "_cell_guid": "e8a46b7e-1e32-47a3-9438-b98d9b3dc141",
    "_uuid": "c3e0068b2ef678912435037d49ce1abda256261b",
    "collapsed": true
   },
   "outputs": [],
   "source": [
    "def form_predictions(p):\n",
    "    return ['%.6f' % x for x in p]"
   ]
  },
  {
   "cell_type": "code",
   "execution_count": null,
   "metadata": {
    "_cell_guid": "53092d09-1888-448b-9248-d12d3eb6cc2f",
    "_uuid": "4fe1b42d5ef417dcedde9747233fb0fccc73aaf5",
    "collapsed": true
   },
   "outputs": [],
   "source": [
    "test_submission = test[['id']]\n",
    "\n",
    "for i, c in enumerate(labeler.classes_):\n",
    "    p = p_test[:, i]\n",
    "    p[p < clipping] = clipping\n",
    "    p[p > (1.0 - clipping)] = (1.0 - clipping)\n",
    "    test_submission[c] = form_predictions(p)"
   ]
  },
  {
   "cell_type": "code",
   "execution_count": null,
   "metadata": {
    "_cell_guid": "8cdae8ae-0c78-4523-890d-fc4d209f466d",
    "_uuid": "8d63132ea9b6a3df25f1234d2eeda774d3153426",
    "collapsed": true
   },
   "outputs": [],
   "source": [
    "test_submission.to_csv('meta_model_extended.csv.gz', compression='gzip', index = False)"
   ]
  }
 ],
 "metadata": {
  "kernelspec": {
   "display_name": "Python 3",
   "language": "python",
   "name": "python3"
  },
  "language_info": {
   "codemirror_mode": {
    "name": "ipython",
    "version": 3
   },
   "file_extension": ".py",
   "mimetype": "text/x-python",
   "name": "python",
   "nbconvert_exporter": "python",
   "pygments_lexer": "ipython3",
   "version": "3.6.3"
  }
 },
 "nbformat": 4,
 "nbformat_minor": 1
}
