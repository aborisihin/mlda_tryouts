{
 "cells": [
  {
   "cell_type": "code",
   "execution_count": 1,
   "metadata": {
    "ExecuteTime": {
     "end_time": "2018-04-07T19:22:04.088762Z",
     "start_time": "2018-04-07T19:22:04.077755Z"
    }
   },
   "outputs": [],
   "source": [
    "import numpy as np\n",
    "import pandas as pd\n",
    "\n",
    "import operator\n",
    "import pickle\n",
    "from datetime import datetime\n",
    "\n",
    "from sklearn.feature_extraction.text import CountVectorizer, TfidfVectorizer\n",
    "from sklearn.preprocessing import LabelEncoder, OneHotEncoder, PolynomialFeatures\n",
    "from sklearn.preprocessing import MinMaxScaler, MaxAbsScaler, Normalizer\n",
    "\n",
    "from scipy import sparse"
   ]
  },
  {
   "cell_type": "code",
   "execution_count": 2,
   "metadata": {
    "ExecuteTime": {
     "end_time": "2018-04-07T19:16:28.235736Z",
     "start_time": "2018-04-07T19:16:28.229752Z"
    }
   },
   "outputs": [],
   "source": [
    "PATH_TO_DATA = './../data/kaggle_receipts/'\n",
    "PATH_TO_PROCESSED_DATA = PATH_TO_DATA + 'processed/'"
   ]
  },
  {
   "cell_type": "markdown",
   "metadata": {},
   "source": [
    "## load data train"
   ]
  },
  {
   "cell_type": "code",
   "execution_count": 3,
   "metadata": {
    "ExecuteTime": {
     "end_time": "2018-04-07T19:16:28.311751Z",
     "start_time": "2018-04-07T19:16:28.241737Z"
    }
   },
   "outputs": [],
   "source": [
    "train_df = pd.read_csv(PATH_TO_DATA + 'train.csv')\n",
    "#train_df.head(15)"
   ]
  },
  {
   "cell_type": "code",
   "execution_count": 4,
   "metadata": {
    "ExecuteTime": {
     "end_time": "2018-04-07T19:16:28.334735Z",
     "start_time": "2018-04-07T19:16:28.314738Z"
    }
   },
   "outputs": [
    {
     "data": {
      "text/plain": [
       "(13682, 5)"
      ]
     },
     "execution_count": 4,
     "metadata": {},
     "output_type": "execute_result"
    }
   ],
   "source": [
    "train_df.shape"
   ]
  },
  {
   "cell_type": "code",
   "execution_count": 5,
   "metadata": {
    "ExecuteTime": {
     "end_time": "2018-04-07T19:16:28.365738Z",
     "start_time": "2018-04-07T19:16:28.343743Z"
    }
   },
   "outputs": [],
   "source": [
    "train_checks_df = pd.read_csv(PATH_TO_DATA + 'train_checks.csv')\n",
    "#train_checks_df.head()"
   ]
  },
  {
   "cell_type": "code",
   "execution_count": 6,
   "metadata": {
    "ExecuteTime": {
     "end_time": "2018-04-07T19:16:28.381740Z",
     "start_time": "2018-04-07T19:16:28.369741Z"
    }
   },
   "outputs": [
    {
     "data": {
      "text/plain": [
       "(2042, 4)"
      ]
     },
     "execution_count": 6,
     "metadata": {},
     "output_type": "execute_result"
    }
   ],
   "source": [
    "train_checks_df.shape"
   ]
  },
  {
   "cell_type": "code",
   "execution_count": 7,
   "metadata": {
    "ExecuteTime": {
     "end_time": "2018-04-07T19:16:28.444751Z",
     "start_time": "2018-04-07T19:16:28.385736Z"
    }
   },
   "outputs": [
    {
     "data": {
      "text/html": [
       "<div>\n",
       "<style scoped>\n",
       "    .dataframe tbody tr th:only-of-type {\n",
       "        vertical-align: middle;\n",
       "    }\n",
       "\n",
       "    .dataframe tbody tr th {\n",
       "        vertical-align: top;\n",
       "    }\n",
       "\n",
       "    .dataframe thead th {\n",
       "        text-align: right;\n",
       "    }\n",
       "</style>\n",
       "<table border=\"1\" class=\"dataframe\">\n",
       "  <thead>\n",
       "    <tr style=\"text-align: right;\">\n",
       "      <th></th>\n",
       "      <th>check_id</th>\n",
       "      <th>name</th>\n",
       "      <th>category</th>\n",
       "      <th>price</th>\n",
       "      <th>count</th>\n",
       "      <th>shop_name</th>\n",
       "      <th>datetime</th>\n",
       "      <th>sum</th>\n",
       "    </tr>\n",
       "  </thead>\n",
       "  <tbody>\n",
       "    <tr>\n",
       "      <th>0</th>\n",
       "      <td>0</td>\n",
       "      <td>*3479755 ТRUF.Конф.кр.корп.гл.вк.шок180г</td>\n",
       "      <td>Чай и сладкое</td>\n",
       "      <td>49.0</td>\n",
       "      <td>2.000</td>\n",
       "      <td>Не известно</td>\n",
       "      <td>2017-12-30 19:15:00</td>\n",
       "      <td>520.1</td>\n",
       "    </tr>\n",
       "    <tr>\n",
       "      <th>1</th>\n",
       "      <td>0</td>\n",
       "      <td>3408392 ECONTA Мешки д/мусора 30л  30шт</td>\n",
       "      <td>Для дома</td>\n",
       "      <td>21.0</td>\n",
       "      <td>1.000</td>\n",
       "      <td>Не известно</td>\n",
       "      <td>2017-12-30 19:15:00</td>\n",
       "      <td>520.1</td>\n",
       "    </tr>\n",
       "    <tr>\n",
       "      <th>2</th>\n",
       "      <td>0</td>\n",
       "      <td>3260497 ЯШКИНО Рулет С ВАР.СГУЩ. 200г</td>\n",
       "      <td>Чай и сладкое</td>\n",
       "      <td>39.0</td>\n",
       "      <td>1.000</td>\n",
       "      <td>Не известно</td>\n",
       "      <td>2017-12-30 19:15:00</td>\n",
       "      <td>520.1</td>\n",
       "    </tr>\n",
       "    <tr>\n",
       "      <th>3</th>\n",
       "      <td>0</td>\n",
       "      <td>3300573 Пакет ПЯТЕРОЧКА 65х40см</td>\n",
       "      <td>Упаковка</td>\n",
       "      <td>4.0</td>\n",
       "      <td>1.000</td>\n",
       "      <td>Не известно</td>\n",
       "      <td>2017-12-30 19:15:00</td>\n",
       "      <td>520.1</td>\n",
       "    </tr>\n",
       "    <tr>\n",
       "      <th>4</th>\n",
       "      <td>0</td>\n",
       "      <td>3413607 ЗЕР/СЕЛ.Сухари с изюмом 250г</td>\n",
       "      <td>Чай и сладкое</td>\n",
       "      <td>35.0</td>\n",
       "      <td>1.000</td>\n",
       "      <td>Не известно</td>\n",
       "      <td>2017-12-30 19:15:00</td>\n",
       "      <td>520.1</td>\n",
       "    </tr>\n",
       "    <tr>\n",
       "      <th>5</th>\n",
       "      <td>0</td>\n",
       "      <td>3221388 ШАРЛ.Печенье вафел.рассыпч.225г</td>\n",
       "      <td>Чай и сладкое</td>\n",
       "      <td>38.0</td>\n",
       "      <td>1.000</td>\n",
       "      <td>Не известно</td>\n",
       "      <td>2017-12-30 19:15:00</td>\n",
       "      <td>520.1</td>\n",
       "    </tr>\n",
       "    <tr>\n",
       "      <th>6</th>\n",
       "      <td>0</td>\n",
       "      <td>*97452 ПРОСТ.Кефир 3,2% 930г</td>\n",
       "      <td>Молочка</td>\n",
       "      <td>55.0</td>\n",
       "      <td>1.000</td>\n",
       "      <td>Не известно</td>\n",
       "      <td>2017-12-30 19:15:00</td>\n",
       "      <td>520.1</td>\n",
       "    </tr>\n",
       "    <tr>\n",
       "      <th>7</th>\n",
       "      <td>0</td>\n",
       "      <td>57575 MILFORD Зам.сахара доз.  650таб</td>\n",
       "      <td>Бакалея</td>\n",
       "      <td>119.0</td>\n",
       "      <td>1.000</td>\n",
       "      <td>Не известно</td>\n",
       "      <td>2017-12-30 19:15:00</td>\n",
       "      <td>520.1</td>\n",
       "    </tr>\n",
       "    <tr>\n",
       "      <th>8</th>\n",
       "      <td>0</td>\n",
       "      <td>29880 ПИСК.Ацидоб.2.2%сл.пюр-пак0.5л</td>\n",
       "      <td>Молочка</td>\n",
       "      <td>34.0</td>\n",
       "      <td>1.000</td>\n",
       "      <td>Не известно</td>\n",
       "      <td>2017-12-30 19:15:00</td>\n",
       "      <td>520.1</td>\n",
       "    </tr>\n",
       "    <tr>\n",
       "      <th>9</th>\n",
       "      <td>1</td>\n",
       "      <td>ШОКОЛАДНОЕ ЯЙЦО 20Г КИНДЕР СЮРПРИЗ ФЕРРЕ</td>\n",
       "      <td>Дети</td>\n",
       "      <td>49.0</td>\n",
       "      <td>1.000</td>\n",
       "      <td>ЕВРОПА</td>\n",
       "      <td>2018-01-03 18:01:29</td>\n",
       "      <td>188.0</td>\n",
       "    </tr>\n",
       "    <tr>\n",
       "      <th>10</th>\n",
       "      <td>1</td>\n",
       "      <td>СОК ФРУТОНЯНЯ 200МЛ ЯБЛОКО ОСВЕТЛЕННЫЙ Г</td>\n",
       "      <td>Дети</td>\n",
       "      <td>18.0</td>\n",
       "      <td>1.000</td>\n",
       "      <td>ЕВРОПА</td>\n",
       "      <td>2018-01-03 18:01:29</td>\n",
       "      <td>188.0</td>\n",
       "    </tr>\n",
       "    <tr>\n",
       "      <th>11</th>\n",
       "      <td>1</td>\n",
       "      <td>ПОМЕЛО ВЕС</td>\n",
       "      <td>Овощи и фрукты</td>\n",
       "      <td>55.0</td>\n",
       "      <td>1.278</td>\n",
       "      <td>ЕВРОПА</td>\n",
       "      <td>2018-01-03 18:01:29</td>\n",
       "      <td>188.0</td>\n",
       "    </tr>\n",
       "    <tr>\n",
       "      <th>12</th>\n",
       "      <td>1</td>\n",
       "      <td>НЕКТАР СОЧНАЯ ДОЛИНА 0,95Л ГРАНАТ</td>\n",
       "      <td>Напитки</td>\n",
       "      <td>48.0</td>\n",
       "      <td>1.000</td>\n",
       "      <td>ЕВРОПА</td>\n",
       "      <td>2018-01-03 18:01:29</td>\n",
       "      <td>188.0</td>\n",
       "    </tr>\n",
       "    <tr>\n",
       "      <th>13</th>\n",
       "      <td>2</td>\n",
       "      <td>РАСТВОР ДЛЯ ЛИНЗ RE</td>\n",
       "      <td>Здоровье</td>\n",
       "      <td>377.0</td>\n",
       "      <td>1.000</td>\n",
       "      <td>ПродвижениеФарм</td>\n",
       "      <td>2017-12-23 11:37:00</td>\n",
       "      <td>377.0</td>\n",
       "    </tr>\n",
       "    <tr>\n",
       "      <th>14</th>\n",
       "      <td>3</td>\n",
       "      <td>Always Ultra Прокладки Нормал 30шт(П</td>\n",
       "      <td>Здоровье</td>\n",
       "      <td>175.0</td>\n",
       "      <td>1.000</td>\n",
       "      <td>Не известно</td>\n",
       "      <td>2017-12-23 14:01:00</td>\n",
       "      <td>1024.0</td>\n",
       "    </tr>\n",
       "  </tbody>\n",
       "</table>\n",
       "</div>"
      ],
      "text/plain": [
       "    check_id                                      name        category  price  \\\n",
       "0          0  *3479755 ТRUF.Конф.кр.корп.гл.вк.шок180г   Чай и сладкое   49.0   \n",
       "1          0   3408392 ECONTA Мешки д/мусора 30л  30шт        Для дома   21.0   \n",
       "2          0     3260497 ЯШКИНО Рулет С ВАР.СГУЩ. 200г   Чай и сладкое   39.0   \n",
       "3          0           3300573 Пакет ПЯТЕРОЧКА 65х40см        Упаковка    4.0   \n",
       "4          0      3413607 ЗЕР/СЕЛ.Сухари с изюмом 250г   Чай и сладкое   35.0   \n",
       "5          0   3221388 ШАРЛ.Печенье вафел.рассыпч.225г   Чай и сладкое   38.0   \n",
       "6          0              *97452 ПРОСТ.Кефир 3,2% 930г         Молочка   55.0   \n",
       "7          0     57575 MILFORD Зам.сахара доз.  650таб         Бакалея  119.0   \n",
       "8          0      29880 ПИСК.Ацидоб.2.2%сл.пюр-пак0.5л         Молочка   34.0   \n",
       "9          1  ШОКОЛАДНОЕ ЯЙЦО 20Г КИНДЕР СЮРПРИЗ ФЕРРЕ            Дети   49.0   \n",
       "10         1  СОК ФРУТОНЯНЯ 200МЛ ЯБЛОКО ОСВЕТЛЕННЫЙ Г            Дети   18.0   \n",
       "11         1                                ПОМЕЛО ВЕС  Овощи и фрукты   55.0   \n",
       "12         1         НЕКТАР СОЧНАЯ ДОЛИНА 0,95Л ГРАНАТ         Напитки   48.0   \n",
       "13         2                       РАСТВОР ДЛЯ ЛИНЗ RE        Здоровье  377.0   \n",
       "14         3      Always Ultra Прокладки Нормал 30шт(П        Здоровье  175.0   \n",
       "\n",
       "    count        shop_name             datetime     sum  \n",
       "0   2.000      Не известно  2017-12-30 19:15:00   520.1  \n",
       "1   1.000      Не известно  2017-12-30 19:15:00   520.1  \n",
       "2   1.000      Не известно  2017-12-30 19:15:00   520.1  \n",
       "3   1.000      Не известно  2017-12-30 19:15:00   520.1  \n",
       "4   1.000      Не известно  2017-12-30 19:15:00   520.1  \n",
       "5   1.000      Не известно  2017-12-30 19:15:00   520.1  \n",
       "6   1.000      Не известно  2017-12-30 19:15:00   520.1  \n",
       "7   1.000      Не известно  2017-12-30 19:15:00   520.1  \n",
       "8   1.000      Не известно  2017-12-30 19:15:00   520.1  \n",
       "9   1.000           ЕВРОПА  2018-01-03 18:01:29   188.0  \n",
       "10  1.000           ЕВРОПА  2018-01-03 18:01:29   188.0  \n",
       "11  1.278           ЕВРОПА  2018-01-03 18:01:29   188.0  \n",
       "12  1.000           ЕВРОПА  2018-01-03 18:01:29   188.0  \n",
       "13  1.000  ПродвижениеФарм  2017-12-23 11:37:00   377.0  \n",
       "14  1.000      Не известно  2017-12-23 14:01:00  1024.0  "
      ]
     },
     "execution_count": 7,
     "metadata": {},
     "output_type": "execute_result"
    }
   ],
   "source": [
    "train_full_df = pd.merge(train_df, train_checks_df, on='check_id')\n",
    "train_full_df.head(15)"
   ]
  },
  {
   "cell_type": "code",
   "execution_count": 8,
   "metadata": {
    "ExecuteTime": {
     "end_time": "2018-04-07T19:16:28.463735Z",
     "start_time": "2018-04-07T19:16:28.450739Z"
    }
   },
   "outputs": [
    {
     "data": {
      "text/plain": [
       "(13682, 8)"
      ]
     },
     "execution_count": 8,
     "metadata": {},
     "output_type": "execute_result"
    }
   ],
   "source": [
    "train_full_df.shape"
   ]
  },
  {
   "cell_type": "markdown",
   "metadata": {},
   "source": [
    "## load data test"
   ]
  },
  {
   "cell_type": "code",
   "execution_count": 9,
   "metadata": {
    "ExecuteTime": {
     "end_time": "2018-04-07T19:16:28.508733Z",
     "start_time": "2018-04-07T19:16:28.469737Z"
    }
   },
   "outputs": [],
   "source": [
    "#test_df = pd.read_csv('./data/test.csv', index_col=0)\n",
    "test_df = pd.read_csv(PATH_TO_DATA + 'test.csv')\n",
    "test_checks_df = pd.read_csv(PATH_TO_DATA + 'test_checks.csv')"
   ]
  },
  {
   "cell_type": "code",
   "execution_count": 10,
   "metadata": {
    "ExecuteTime": {
     "end_time": "2018-04-07T19:16:28.520738Z",
     "start_time": "2018-04-07T19:16:28.511741Z"
    }
   },
   "outputs": [
    {
     "data": {
      "text/plain": [
       "((3000, 5), (933, 4))"
      ]
     },
     "execution_count": 10,
     "metadata": {},
     "output_type": "execute_result"
    }
   ],
   "source": [
    "test_df.shape, test_checks_df.shape"
   ]
  },
  {
   "cell_type": "code",
   "execution_count": 11,
   "metadata": {
    "ExecuteTime": {
     "end_time": "2018-04-07T19:16:28.577738Z",
     "start_time": "2018-04-07T19:16:28.525737Z"
    }
   },
   "outputs": [
    {
     "data": {
      "text/html": [
       "<div>\n",
       "<style scoped>\n",
       "    .dataframe tbody tr th:only-of-type {\n",
       "        vertical-align: middle;\n",
       "    }\n",
       "\n",
       "    .dataframe tbody tr th {\n",
       "        vertical-align: top;\n",
       "    }\n",
       "\n",
       "    .dataframe thead th {\n",
       "        text-align: right;\n",
       "    }\n",
       "</style>\n",
       "<table border=\"1\" class=\"dataframe\">\n",
       "  <thead>\n",
       "    <tr style=\"text-align: right;\">\n",
       "      <th></th>\n",
       "      <th>id</th>\n",
       "      <th>check_id</th>\n",
       "      <th>name</th>\n",
       "      <th>price</th>\n",
       "      <th>count</th>\n",
       "      <th>shop_name</th>\n",
       "      <th>datetime</th>\n",
       "      <th>sum</th>\n",
       "    </tr>\n",
       "  </thead>\n",
       "  <tbody>\n",
       "    <tr>\n",
       "      <th>0</th>\n",
       "      <td>0</td>\n",
       "      <td>3947</td>\n",
       "      <td>П/Ф д/чахохбили и шашлыка охл. 1</td>\n",
       "      <td>119.90</td>\n",
       "      <td>0.778</td>\n",
       "      <td>Тандер</td>\n",
       "      <td>2018-02-03 12:40:00</td>\n",
       "      <td>222.0</td>\n",
       "    </tr>\n",
       "    <tr>\n",
       "      <th>1</th>\n",
       "      <td>1</td>\n",
       "      <td>3947</td>\n",
       "      <td>АПЕЛЬСИНЫ свеж. (цена за 1кг)</td>\n",
       "      <td>48.90</td>\n",
       "      <td>1.054</td>\n",
       "      <td>Тандер</td>\n",
       "      <td>2018-02-03 12:40:00</td>\n",
       "      <td>222.0</td>\n",
       "    </tr>\n",
       "    <tr>\n",
       "      <th>2</th>\n",
       "      <td>2</td>\n",
       "      <td>3947</td>\n",
       "      <td>Масло подсолнечное раф/ дез 0,9л</td>\n",
       "      <td>49.40</td>\n",
       "      <td>1.000</td>\n",
       "      <td>Тандер</td>\n",
       "      <td>2018-02-03 12:40:00</td>\n",
       "      <td>222.0</td>\n",
       "    </tr>\n",
       "    <tr>\n",
       "      <th>3</th>\n",
       "      <td>3</td>\n",
       "      <td>3947</td>\n",
       "      <td>Макаронные изделия Рожки 400гр п</td>\n",
       "      <td>13.90</td>\n",
       "      <td>2.000</td>\n",
       "      <td>Тандер</td>\n",
       "      <td>2018-02-03 12:40:00</td>\n",
       "      <td>222.0</td>\n",
       "    </tr>\n",
       "    <tr>\n",
       "      <th>4</th>\n",
       "      <td>4</td>\n",
       "      <td>3948</td>\n",
       "      <td>*стм помада гигиеническая 4.5г яблоко</td>\n",
       "      <td>37.00</td>\n",
       "      <td>1.000</td>\n",
       "      <td>Нытва-Фарм</td>\n",
       "      <td>2018-02-02 10:59:00</td>\n",
       "      <td>137.0</td>\n",
       "    </tr>\n",
       "    <tr>\n",
       "      <th>5</th>\n",
       "      <td>5</td>\n",
       "      <td>3948</td>\n",
       "      <td>*страна детства помада детская гигиеническая 4...</td>\n",
       "      <td>37.00</td>\n",
       "      <td>1.000</td>\n",
       "      <td>Нытва-Фарм</td>\n",
       "      <td>2018-02-02 10:59:00</td>\n",
       "      <td>137.0</td>\n",
       "    </tr>\n",
       "    <tr>\n",
       "      <th>6</th>\n",
       "      <td>6</td>\n",
       "      <td>3948</td>\n",
       "      <td>hartmann omniplast пластырь фиксирующий тексти...</td>\n",
       "      <td>63.00</td>\n",
       "      <td>1.000</td>\n",
       "      <td>Нытва-Фарм</td>\n",
       "      <td>2018-02-02 10:59:00</td>\n",
       "      <td>137.0</td>\n",
       "    </tr>\n",
       "    <tr>\n",
       "      <th>7</th>\n",
       "      <td>7</td>\n",
       "      <td>3949</td>\n",
       "      <td>3219524 КР/ЦЕНА Хлеб БЕЛЫЙ в/с 380г</td>\n",
       "      <td>12.54</td>\n",
       "      <td>2.000</td>\n",
       "      <td>Агроторг</td>\n",
       "      <td>2018-02-03 12:33:00</td>\n",
       "      <td>160.0</td>\n",
       "    </tr>\n",
       "    <tr>\n",
       "      <th>8</th>\n",
       "      <td>8</td>\n",
       "      <td>3949</td>\n",
       "      <td>3074383 Картофель 1кг</td>\n",
       "      <td>20.80</td>\n",
       "      <td>1.405</td>\n",
       "      <td>Агроторг</td>\n",
       "      <td>2018-02-03 12:33:00</td>\n",
       "      <td>160.0</td>\n",
       "    </tr>\n",
       "    <tr>\n",
       "      <th>9</th>\n",
       "      <td>9</td>\n",
       "      <td>3949</td>\n",
       "      <td>197 Лук репчатый 1кг</td>\n",
       "      <td>21.75</td>\n",
       "      <td>0.600</td>\n",
       "      <td>Агроторг</td>\n",
       "      <td>2018-02-03 12:33:00</td>\n",
       "      <td>160.0</td>\n",
       "    </tr>\n",
       "    <tr>\n",
       "      <th>10</th>\n",
       "      <td>10</td>\n",
       "      <td>3949</td>\n",
       "      <td>3021051 ОЗОР.ПЧЕЛ.Конф.жел.негл.1кг</td>\n",
       "      <td>189.00</td>\n",
       "      <td>0.135</td>\n",
       "      <td>Агроторг</td>\n",
       "      <td>2018-02-03 12:33:00</td>\n",
       "      <td>160.0</td>\n",
       "    </tr>\n",
       "    <tr>\n",
       "      <th>11</th>\n",
       "      <td>11</td>\n",
       "      <td>3949</td>\n",
       "      <td>43347 Перец красный сладкий 1кг</td>\n",
       "      <td>151.00</td>\n",
       "      <td>0.185</td>\n",
       "      <td>Агроторг</td>\n",
       "      <td>2018-02-03 12:33:00</td>\n",
       "      <td>160.0</td>\n",
       "    </tr>\n",
       "    <tr>\n",
       "      <th>12</th>\n",
       "      <td>12</td>\n",
       "      <td>3949</td>\n",
       "      <td>*3053144 Молоко МОЛ.РЕЧ.у/паст 3,2%876мл</td>\n",
       "      <td>39.90</td>\n",
       "      <td>1.000</td>\n",
       "      <td>Агроторг</td>\n",
       "      <td>2018-02-03 12:33:00</td>\n",
       "      <td>160.0</td>\n",
       "    </tr>\n",
       "    <tr>\n",
       "      <th>13</th>\n",
       "      <td>13</td>\n",
       "      <td>3950</td>\n",
       "      <td>Гель Гиалуроновый NOVOSVIT очищающий для умыва...</td>\n",
       "      <td>102.50</td>\n",
       "      <td>1.000</td>\n",
       "      <td>NaN</td>\n",
       "      <td>2018-01-31 15:38:00</td>\n",
       "      <td>265.5</td>\n",
       "    </tr>\n",
       "    <tr>\n",
       "      <th>14</th>\n",
       "      <td>14</td>\n",
       "      <td>3950</td>\n",
       "      <td>ЗП COLGATE 100мл \"Тройное действие\" 1*48, шт)</td>\n",
       "      <td>49.00</td>\n",
       "      <td>1.000</td>\n",
       "      <td>NaN</td>\n",
       "      <td>2018-01-31 15:38:00</td>\n",
       "      <td>265.5</td>\n",
       "    </tr>\n",
       "  </tbody>\n",
       "</table>\n",
       "</div>"
      ],
      "text/plain": [
       "    id  check_id                                               name   price  \\\n",
       "0    0      3947                   П/Ф д/чахохбили и шашлыка охл. 1  119.90   \n",
       "1    1      3947                      АПЕЛЬСИНЫ свеж. (цена за 1кг)   48.90   \n",
       "2    2      3947                   Масло подсолнечное раф/ дез 0,9л   49.40   \n",
       "3    3      3947                   Макаронные изделия Рожки 400гр п   13.90   \n",
       "4    4      3948              *стм помада гигиеническая 4.5г яблоко   37.00   \n",
       "5    5      3948  *страна детства помада детская гигиеническая 4...   37.00   \n",
       "6    6      3948  hartmann omniplast пластырь фиксирующий тексти...   63.00   \n",
       "7    7      3949                3219524 КР/ЦЕНА Хлеб БЕЛЫЙ в/с 380г   12.54   \n",
       "8    8      3949                              3074383 Картофель 1кг   20.80   \n",
       "9    9      3949                               197 Лук репчатый 1кг   21.75   \n",
       "10  10      3949                3021051 ОЗОР.ПЧЕЛ.Конф.жел.негл.1кг  189.00   \n",
       "11  11      3949                    43347 Перец красный сладкий 1кг  151.00   \n",
       "12  12      3949           *3053144 Молоко МОЛ.РЕЧ.у/паст 3,2%876мл   39.90   \n",
       "13  13      3950  Гель Гиалуроновый NOVOSVIT очищающий для умыва...  102.50   \n",
       "14  14      3950      ЗП COLGATE 100мл \"Тройное действие\" 1*48, шт)   49.00   \n",
       "\n",
       "    count   shop_name             datetime    sum  \n",
       "0   0.778      Тандер  2018-02-03 12:40:00  222.0  \n",
       "1   1.054      Тандер  2018-02-03 12:40:00  222.0  \n",
       "2   1.000      Тандер  2018-02-03 12:40:00  222.0  \n",
       "3   2.000      Тандер  2018-02-03 12:40:00  222.0  \n",
       "4   1.000  Нытва-Фарм  2018-02-02 10:59:00  137.0  \n",
       "5   1.000  Нытва-Фарм  2018-02-02 10:59:00  137.0  \n",
       "6   1.000  Нытва-Фарм  2018-02-02 10:59:00  137.0  \n",
       "7   2.000    Агроторг  2018-02-03 12:33:00  160.0  \n",
       "8   1.405    Агроторг  2018-02-03 12:33:00  160.0  \n",
       "9   0.600    Агроторг  2018-02-03 12:33:00  160.0  \n",
       "10  0.135    Агроторг  2018-02-03 12:33:00  160.0  \n",
       "11  0.185    Агроторг  2018-02-03 12:33:00  160.0  \n",
       "12  1.000    Агроторг  2018-02-03 12:33:00  160.0  \n",
       "13  1.000         NaN  2018-01-31 15:38:00  265.5  \n",
       "14  1.000         NaN  2018-01-31 15:38:00  265.5  "
      ]
     },
     "execution_count": 11,
     "metadata": {},
     "output_type": "execute_result"
    }
   ],
   "source": [
    "test_full_df = pd.merge(test_df, test_checks_df, on='check_id')\n",
    "test_full_df.head(15)"
   ]
  },
  {
   "cell_type": "code",
   "execution_count": 12,
   "metadata": {
    "ExecuteTime": {
     "end_time": "2018-04-07T19:16:28.589735Z",
     "start_time": "2018-04-07T19:16:28.581739Z"
    }
   },
   "outputs": [
    {
     "data": {
      "text/plain": [
       "(3000, 8)"
      ]
     },
     "execution_count": 12,
     "metadata": {},
     "output_type": "execute_result"
    }
   ],
   "source": [
    "test_full_df.shape"
   ]
  },
  {
   "cell_type": "markdown",
   "metadata": {},
   "source": [
    "## features engineering"
   ]
  },
  {
   "cell_type": "code",
   "execution_count": 13,
   "metadata": {
    "ExecuteTime": {
     "end_time": "2018-04-07T19:16:28.603740Z",
     "start_time": "2018-04-07T19:16:28.593736Z"
    }
   },
   "outputs": [],
   "source": [
    "features_train = dict()\n",
    "features_test = dict()"
   ]
  },
  {
   "cell_type": "markdown",
   "metadata": {},
   "source": [
    "### name"
   ]
  },
  {
   "cell_type": "code",
   "execution_count": 14,
   "metadata": {
    "ExecuteTime": {
     "end_time": "2018-04-07T19:16:28.630740Z",
     "start_time": "2018-04-07T19:16:28.609739Z"
    }
   },
   "outputs": [],
   "source": [
    "train_full_df['name'].fillna('', inplace=True)\n",
    "test_full_df['name'].fillna('', inplace=True)"
   ]
  },
  {
   "cell_type": "code",
   "execution_count": 15,
   "metadata": {
    "ExecuteTime": {
     "end_time": "2018-04-07T19:16:28.664734Z",
     "start_time": "2018-04-07T19:16:28.635737Z"
    }
   },
   "outputs": [],
   "source": [
    "def contain_digits(name):\n",
    "    digits_list = [str(i) for i in range(10)]\n",
    "    for symbol in name:\n",
    "        if symbol in digits_list:\n",
    "            return True\n",
    "    return False\n",
    "\n",
    "def name_processing(name):\n",
    "    result = name\n",
    "    \n",
    "    #result = result.lower()\n",
    "    #result = ' '.join([token for token in result.split() if (not contain_digits(token)) and (len(token) > 2)])\n",
    "    #result = result.strip()\n",
    "    \n",
    "    result = result.replace('*', '')\n",
    "    result = ' '.join([token for token in result.split() if (not str.isdigit(token))])\n",
    "    \n",
    "    return result"
   ]
  },
  {
   "cell_type": "code",
   "execution_count": 16,
   "metadata": {
    "ExecuteTime": {
     "end_time": "2018-04-07T19:16:28.754747Z",
     "start_time": "2018-04-07T19:16:28.670737Z"
    }
   },
   "outputs": [],
   "source": [
    "train_name = train_full_df['name'].apply(name_processing)\n",
    "test_name = test_full_df['name'].apply(name_processing)"
   ]
  },
  {
   "cell_type": "markdown",
   "metadata": {},
   "source": [
    "#### tf-idf"
   ]
  },
  {
   "cell_type": "code",
   "execution_count": 17,
   "metadata": {
    "ExecuteTime": {
     "end_time": "2018-04-07T19:16:29.521738Z",
     "start_time": "2018-04-07T19:16:28.758737Z"
    }
   },
   "outputs": [
    {
     "name": "stdout",
     "output_type": "stream",
     "text": [
      "(13682, 10000) (3000, 10000)\n"
     ]
    }
   ],
   "source": [
    "tfidf_vectorizer = TfidfVectorizer(ngram_range=(1, 2), max_features=10000)\n",
    "\n",
    "tfidf_vectorizer.fit(train_name)\n",
    "\n",
    "train_name_tfidf = tfidf_vectorizer.transform(train_name)\n",
    "test_name_tfidf = tfidf_vectorizer.transform(test_name)\n",
    "\n",
    "print(train_name_tfidf.shape, test_name_tfidf.shape)"
   ]
  },
  {
   "cell_type": "code",
   "execution_count": 18,
   "metadata": {
    "ExecuteTime": {
     "end_time": "2018-04-07T19:16:29.533736Z",
     "start_time": "2018-04-07T19:16:29.526742Z"
    }
   },
   "outputs": [],
   "source": [
    "features_train['name_tfidf'] = train_name_tfidf\n",
    "features_test['name_tfidf'] = test_name_tfidf"
   ]
  },
  {
   "cell_type": "markdown",
   "metadata": {},
   "source": [
    "#### count vectorizer "
   ]
  },
  {
   "cell_type": "code",
   "execution_count": 19,
   "metadata": {
    "ExecuteTime": {
     "end_time": "2018-04-07T19:16:29.921816Z",
     "start_time": "2018-04-07T19:16:29.537738Z"
    }
   },
   "outputs": [],
   "source": [
    "#count_vectorizer = CountVectorizer(ngram_range=(1, 3), max_features=10000)\n",
    "count_vectorizer = CountVectorizer()\n",
    "\n",
    "count_vectorizer.fit(train_name)\n",
    "\n",
    "train_name_cvect = count_vectorizer.transform(train_name)\n",
    "test_name_cvect = count_vectorizer.transform(test_name)"
   ]
  },
  {
   "cell_type": "code",
   "execution_count": 20,
   "metadata": {},
   "outputs": [],
   "source": [
    "features_train['name_cvect'] = train_name_cvect\n",
    "features_test['name_cvect'] = test_name_cvect"
   ]
  },
  {
   "cell_type": "markdown",
   "metadata": {},
   "source": [
    "#### count vectorizer with minmaxscaler"
   ]
  },
  {
   "cell_type": "code",
   "execution_count": 21,
   "metadata": {
    "ExecuteTime": {
     "end_time": "2018-04-07T19:16:29.945739Z",
     "start_time": "2018-04-07T19:16:29.925737Z"
    }
   },
   "outputs": [],
   "source": [
    "max_abs_scaler = MaxAbsScaler()\n",
    "max_abs_scaler.fit(train_name_cvect)\n",
    "\n",
    "train_name_cvect_mms = max_abs_scaler.transform(train_name_cvect)\n",
    "test_name_cvect_mms = max_abs_scaler.transform(test_name_cvect)"
   ]
  },
  {
   "cell_type": "code",
   "execution_count": 22,
   "metadata": {
    "ExecuteTime": {
     "end_time": "2018-04-07T19:16:29.962754Z",
     "start_time": "2018-04-07T19:16:29.949741Z"
    }
   },
   "outputs": [],
   "source": [
    "features_train['name_cvect_mms'] = train_name_cvect_mms\n",
    "features_test['name_cvect_mms'] = test_name_cvect_mms"
   ]
  },
  {
   "cell_type": "markdown",
   "metadata": {},
   "source": [
    "#### count vectorizer with normalizer"
   ]
  },
  {
   "cell_type": "code",
   "execution_count": 23,
   "metadata": {},
   "outputs": [],
   "source": [
    "norm = Normalizer()\n",
    "norm.fit(train_name_cvect)\n",
    "\n",
    "train_name_cvect_norm = norm.transform(train_name_cvect)\n",
    "test_name_cvect_norm = norm.transform(test_name_cvect)"
   ]
  },
  {
   "cell_type": "code",
   "execution_count": 24,
   "metadata": {},
   "outputs": [],
   "source": [
    "features_train['name_cvect_norm'] = train_name_cvect_norm\n",
    "features_test['name_cvect_norm'] = test_name_cvect_norm"
   ]
  },
  {
   "cell_type": "markdown",
   "metadata": {},
   "source": [
    "#### count vectorizer with custom dictionary"
   ]
  },
  {
   "cell_type": "code",
   "execution_count": 25,
   "metadata": {
    "ExecuteTime": {
     "end_time": "2018-04-07T19:16:30.616757Z",
     "start_time": "2018-04-07T19:16:29.967737Z"
    }
   },
   "outputs": [
    {
     "name": "stdout",
     "output_type": "stream",
     "text": [
      "top words for 25 categories size: 2016 \n"
     ]
    }
   ],
   "source": [
    "top_words_count = 100\n",
    "\n",
    "top_words_all_categories = set()\n",
    "\n",
    "for category in np.unique(train_full_df['category']):\n",
    "    \n",
    "    train_name_by_category = train_full_df[train_full_df['category'] == category]['name'].apply(name_processing)\n",
    "    \n",
    "    count_vectorizer = CountVectorizer(ngram_range=(1, 2), max_features=top_words_count * 10)\n",
    "    train_name_by_category = count_vectorizer.fit_transform(train_name_by_category)\n",
    "    \n",
    "    reverse_cv_vocabulary = {v: k for (k, v) in count_vectorizer.vocabulary_.items()}\n",
    "    sums_for_feature = np.sum(train_name_by_category, axis=0)\n",
    "    frequency_vocabulary = {reverse_cv_vocabulary[col]: sums_for_feature[0, col] for col in range(sums_for_feature.shape[1])}\n",
    "    \n",
    "    top_words = {word[0] for word in sorted(frequency_vocabulary.items(), key=lambda x: x[1], reverse=True)[:top_words_count]}\n",
    "    \n",
    "    top_words_all_categories = top_words_all_categories | top_words\n",
    "    \n",
    "print('top words for {} categories size: {} '.format(len(np.unique(train_full_df['category'])), \n",
    "                                                     len(top_words_all_categories)))"
   ]
  },
  {
   "cell_type": "code",
   "execution_count": 26,
   "metadata": {
    "ExecuteTime": {
     "end_time": "2018-04-07T19:16:30.959776Z",
     "start_time": "2018-04-07T19:16:30.620740Z"
    }
   },
   "outputs": [],
   "source": [
    "count_vectorizer_topwords = CountVectorizer(vocabulary=top_words_all_categories)\n",
    "\n",
    "count_vectorizer_topwords.fit(train_name)\n",
    "\n",
    "train_name_cvect_tw = count_vectorizer_topwords.transform(train_name)\n",
    "test_name_cvect_tw = count_vectorizer_topwords.transform(test_name)"
   ]
  },
  {
   "cell_type": "code",
   "execution_count": 27,
   "metadata": {
    "ExecuteTime": {
     "end_time": "2018-04-07T19:16:30.979734Z",
     "start_time": "2018-04-07T19:16:30.962739Z"
    }
   },
   "outputs": [],
   "source": [
    "max_abs_scaler = MaxAbsScaler()\n",
    "max_abs_scaler.fit(train_name_cvect_tw)\n",
    "\n",
    "train_name_cvect_tw = max_abs_scaler.transform(train_name_cvect_tw)\n",
    "test_name_cvect_tw = max_abs_scaler.transform(test_name_cvect_tw)"
   ]
  },
  {
   "cell_type": "code",
   "execution_count": 28,
   "metadata": {
    "ExecuteTime": {
     "end_time": "2018-04-07T19:16:30.993754Z",
     "start_time": "2018-04-07T19:16:30.983741Z"
    }
   },
   "outputs": [],
   "source": [
    "features_train['name_cvect_tw'] = train_name_cvect_tw\n",
    "features_test['name_cvect_tw'] = test_name_cvect_tw"
   ]
  },
  {
   "cell_type": "markdown",
   "metadata": {},
   "source": [
    "### price"
   ]
  },
  {
   "cell_type": "code",
   "execution_count": 29,
   "metadata": {
    "ExecuteTime": {
     "end_time": "2018-04-07T19:16:31.103748Z",
     "start_time": "2018-04-07T19:16:30.996741Z"
    }
   },
   "outputs": [],
   "source": [
    "PERCENTILE_VALUE = 95\n",
    "\n",
    "category_percentiles = {cat: np.percentile(train_full_df[train_full_df['category'] == cat]['price'], \n",
    "                                           PERCENTILE_VALUE) \n",
    "                        for cat in pd.unique(train_full_df['category'])}\n",
    "\n",
    "def cut_percentile(row):\n",
    "    return min(row['price'], category_percentiles[row['category']])"
   ]
  },
  {
   "cell_type": "code",
   "execution_count": 30,
   "metadata": {
    "ExecuteTime": {
     "end_time": "2018-04-07T19:16:31.560756Z",
     "start_time": "2018-04-07T19:16:31.106736Z"
    }
   },
   "outputs": [],
   "source": [
    "train_price = train_full_df.apply(cut_percentile, axis=1)\n",
    "\n",
    "#test_price = test_full_df.apply(cut_percentile, axis=1)\n",
    "test_price = test_full_df['price']"
   ]
  },
  {
   "cell_type": "code",
   "execution_count": 31,
   "metadata": {},
   "outputs": [],
   "source": [
    "features_train['price'] = train_price\n",
    "features_test['price'] = test_price"
   ]
  },
  {
   "cell_type": "code",
   "execution_count": 32,
   "metadata": {
    "ExecuteTime": {
     "end_time": "2018-04-07T19:16:31.574746Z",
     "start_time": "2018-04-07T19:16:31.563739Z"
    }
   },
   "outputs": [
    {
     "data": {
      "text/plain": [
       "MinMaxScaler(copy=True, feature_range=(0, 1))"
      ]
     },
     "execution_count": 32,
     "metadata": {},
     "output_type": "execute_result"
    }
   ],
   "source": [
    "min_max_scaler = MinMaxScaler(feature_range=(0, 1))\n",
    "min_max_scaler.fit(train_price.values.reshape(-1, 1))"
   ]
  },
  {
   "cell_type": "code",
   "execution_count": 33,
   "metadata": {
    "ExecuteTime": {
     "end_time": "2018-04-07T19:16:31.596741Z",
     "start_time": "2018-04-07T19:16:31.578739Z"
    }
   },
   "outputs": [],
   "source": [
    "train_price = min_max_scaler.transform(train_price.values.reshape(-1, 1))\n",
    "train_price = pd.DataFrame(train_price, columns=['percentile_filtered_price'])\n",
    "\n",
    "test_price = min_max_scaler.transform(test_price.values.reshape(-1, 1))\n",
    "test_price = pd.DataFrame(test_price, columns=['percentile_filtered_price'])"
   ]
  },
  {
   "cell_type": "code",
   "execution_count": 34,
   "metadata": {
    "ExecuteTime": {
     "end_time": "2018-04-07T19:16:31.616733Z",
     "start_time": "2018-04-07T19:16:31.602743Z"
    }
   },
   "outputs": [],
   "source": [
    "features_train['price_mms'] = train_price\n",
    "features_test['price_mms'] = test_price"
   ]
  },
  {
   "cell_type": "markdown",
   "metadata": {},
   "source": [
    "### count"
   ]
  },
  {
   "cell_type": "code",
   "execution_count": 35,
   "metadata": {},
   "outputs": [],
   "source": [
    "train_count = train_full_df['count']\n",
    "test_count = test_full_df['count']"
   ]
  },
  {
   "cell_type": "code",
   "execution_count": 36,
   "metadata": {},
   "outputs": [
    {
     "data": {
      "text/plain": [
       "MinMaxScaler(copy=True, feature_range=(0, 1))"
      ]
     },
     "execution_count": 36,
     "metadata": {},
     "output_type": "execute_result"
    }
   ],
   "source": [
    "min_max_scaler = MinMaxScaler(feature_range=(0, 1))\n",
    "min_max_scaler.fit(train_count.values.reshape(-1, 1))"
   ]
  },
  {
   "cell_type": "code",
   "execution_count": 37,
   "metadata": {},
   "outputs": [],
   "source": [
    "train_count = min_max_scaler.transform(train_count.values.reshape(-1, 1))\n",
    "train_count = pd.DataFrame(train_count, columns=['scaled_count'])\n",
    "\n",
    "test_count = min_max_scaler.transform(test_count.values.reshape(-1, 1))\n",
    "test_count = pd.DataFrame(test_count, columns=['scaled_count'])"
   ]
  },
  {
   "cell_type": "code",
   "execution_count": 38,
   "metadata": {},
   "outputs": [],
   "source": [
    "features_train['count'] = train_count\n",
    "features_test['count'] = test_count"
   ]
  },
  {
   "cell_type": "markdown",
   "metadata": {},
   "source": [
    "### shop_name"
   ]
  },
  {
   "cell_type": "code",
   "execution_count": 39,
   "metadata": {
    "ExecuteTime": {
     "end_time": "2018-04-07T19:16:31.639750Z",
     "start_time": "2018-04-07T19:16:31.620742Z"
    }
   },
   "outputs": [],
   "source": [
    "train_full_df['shop_name'].fillna('', inplace=True)\n",
    "test_full_df['shop_name'].fillna('', inplace=True)"
   ]
  },
  {
   "cell_type": "code",
   "execution_count": 40,
   "metadata": {
    "ExecuteTime": {
     "end_time": "2018-04-07T19:16:31.664734Z",
     "start_time": "2018-04-07T19:16:31.643739Z"
    }
   },
   "outputs": [],
   "source": [
    "train_shop_name = train_full_df['shop_name']\n",
    "test_shop_name = test_full_df['shop_name']"
   ]
  },
  {
   "cell_type": "code",
   "execution_count": 41,
   "metadata": {
    "ExecuteTime": {
     "end_time": "2018-04-07T19:16:31.698743Z",
     "start_time": "2018-04-07T19:16:31.668742Z"
    }
   },
   "outputs": [
    {
     "name": "stdout",
     "output_type": "stream",
     "text": [
      "train and test contains na_string: False False\n",
      "unique nameis in train and test: 525 129\n",
      "intersection of train and test: 74\n"
     ]
    }
   ],
   "source": [
    "na_string = 'unknown'\n",
    "\n",
    "print('train and test contains na_string:', na_string in train_shop_name.values, na_string in test_shop_name.values)\n",
    "print('unique nameis in train and test:', len(train_shop_name.unique()), len(test_shop_name.unique()))\n",
    "print('intersection of train and test:', len(set(train_shop_name.values) & set(test_shop_name.values)))"
   ]
  },
  {
   "cell_type": "code",
   "execution_count": 42,
   "metadata": {
    "ExecuteTime": {
     "end_time": "2018-04-07T19:16:31.712740Z",
     "start_time": "2018-04-07T19:16:31.702741Z"
    }
   },
   "outputs": [],
   "source": [
    "def analyse_shop_name(name):\n",
    "    if name in train_shop_name.values:\n",
    "        return name\n",
    "    else:\n",
    "        return na_string"
   ]
  },
  {
   "cell_type": "code",
   "execution_count": 43,
   "metadata": {
    "ExecuteTime": {
     "end_time": "2018-04-07T19:16:32.885781Z",
     "start_time": "2018-04-07T19:16:31.716739Z"
    }
   },
   "outputs": [],
   "source": [
    "train_shop_name_with_na = train_shop_name.append(pd.Series([na_string]), ignore_index=True)\n",
    "test_shop_name_with_na = test_shop_name.apply(analyse_shop_name)"
   ]
  },
  {
   "cell_type": "code",
   "execution_count": 44,
   "metadata": {
    "ExecuteTime": {
     "end_time": "2018-04-07T19:16:32.898738Z",
     "start_time": "2018-04-07T19:16:32.888742Z"
    }
   },
   "outputs": [
    {
     "name": "stdout",
     "output_type": "stream",
     "text": [
      "unique nameis in train and test after processing: 526 75\n"
     ]
    }
   ],
   "source": [
    "print('unique nameis in train and test after processing:', \n",
    "      len(train_shop_name_with_na.unique()), \n",
    "      len(test_shop_name_with_na.unique()))"
   ]
  },
  {
   "cell_type": "code",
   "execution_count": 45,
   "metadata": {
    "ExecuteTime": {
     "end_time": "2018-04-07T19:16:32.914735Z",
     "start_time": "2018-04-07T19:16:32.903740Z"
    }
   },
   "outputs": [],
   "source": [
    "shop_name_labeler = LabelEncoder()"
   ]
  },
  {
   "cell_type": "code",
   "execution_count": 46,
   "metadata": {
    "ExecuteTime": {
     "end_time": "2018-04-07T19:16:32.981743Z",
     "start_time": "2018-04-07T19:16:32.919740Z"
    }
   },
   "outputs": [
    {
     "name": "stdout",
     "output_type": "stream",
     "text": [
      "Wall time: 30 ms\n"
     ]
    }
   ],
   "source": [
    "%%time\n",
    "\n",
    "shop_name_labeler.fit(train_shop_name_with_na)\n",
    "\n",
    "train_shop_name_le = pd.DataFrame(shop_name_labeler.transform(train_shop_name_with_na), columns=['shop_name'])\n",
    "test_shop_name_le = pd.DataFrame(shop_name_labeler.transform(test_shop_name_with_na), columns=['shop_name'])"
   ]
  },
  {
   "cell_type": "code",
   "execution_count": 47,
   "metadata": {
    "ExecuteTime": {
     "end_time": "2018-04-07T19:16:32.998739Z",
     "start_time": "2018-04-07T19:16:32.985741Z"
    }
   },
   "outputs": [],
   "source": [
    "shop_name_ohe = OneHotEncoder()"
   ]
  },
  {
   "cell_type": "code",
   "execution_count": 48,
   "metadata": {
    "ExecuteTime": {
     "end_time": "2018-04-07T19:16:33.031739Z",
     "start_time": "2018-04-07T19:16:33.002742Z"
    }
   },
   "outputs": [
    {
     "name": "stdout",
     "output_type": "stream",
     "text": [
      "Wall time: 11 ms\n"
     ]
    }
   ],
   "source": [
    "%%time\n",
    "\n",
    "shop_name_ohe.fit(train_shop_name_le)\n",
    "\n",
    "# remember to remove na_string from train!\n",
    "train_shop_name_ohe = shop_name_ohe.transform(train_shop_name_le.iloc[:-1, :])\n",
    "test_shop_name_ohe = shop_name_ohe.transform(test_shop_name_le)"
   ]
  },
  {
   "cell_type": "code",
   "execution_count": 49,
   "metadata": {
    "ExecuteTime": {
     "end_time": "2018-04-07T19:16:33.054741Z",
     "start_time": "2018-04-07T19:16:33.035746Z"
    }
   },
   "outputs": [
    {
     "name": "stdout",
     "output_type": "stream",
     "text": [
      "train_shop_name_ohe: (13682, 526)\n",
      "test_shop_name_ohe: (3000, 526)\n"
     ]
    }
   ],
   "source": [
    "print('train_shop_name_ohe:', train_shop_name_ohe.shape)\n",
    "print('test_shop_name_ohe:', test_shop_name_ohe.shape)"
   ]
  },
  {
   "cell_type": "code",
   "execution_count": 50,
   "metadata": {
    "ExecuteTime": {
     "end_time": "2018-04-07T19:16:33.070739Z",
     "start_time": "2018-04-07T19:16:33.060746Z"
    }
   },
   "outputs": [],
   "source": [
    "features_train['shop_name'] = train_shop_name_ohe\n",
    "features_test['shop_name'] = test_shop_name_ohe"
   ]
  },
  {
   "cell_type": "markdown",
   "metadata": {},
   "source": [
    "### datetime"
   ]
  },
  {
   "cell_type": "code",
   "execution_count": 51,
   "metadata": {
    "ExecuteTime": {
     "end_time": "2018-04-07T19:16:33.087736Z",
     "start_time": "2018-04-07T19:16:33.074742Z"
    }
   },
   "outputs": [],
   "source": [
    "one_hot_encoder = OneHotEncoder()"
   ]
  },
  {
   "cell_type": "code",
   "execution_count": 52,
   "metadata": {
    "ExecuteTime": {
     "end_time": "2018-04-07T19:16:34.683742Z",
     "start_time": "2018-04-07T19:16:33.092739Z"
    }
   },
   "outputs": [],
   "source": [
    "train_datetime = train_full_df['datetime'].apply(pd.to_datetime)\n",
    "test_datetime = test_full_df['datetime'].apply(pd.to_datetime)"
   ]
  },
  {
   "cell_type": "code",
   "execution_count": 53,
   "metadata": {
    "ExecuteTime": {
     "end_time": "2018-04-07T19:16:34.815740Z",
     "start_time": "2018-04-07T19:16:34.689736Z"
    }
   },
   "outputs": [],
   "source": [
    "train_hour = train_datetime.apply(lambda dt: dt.hour).values.reshape(-1, 1)\n",
    "test_hour = test_datetime.apply(lambda dt: dt.hour).values.reshape(-1, 1)\n",
    "\n",
    "one_hot_encoder.fit(train_hour)\n",
    "\n",
    "train_hour = one_hot_encoder.transform(train_hour)\n",
    "test_hour = one_hot_encoder.transform(test_hour)"
   ]
  },
  {
   "cell_type": "code",
   "execution_count": 54,
   "metadata": {
    "ExecuteTime": {
     "end_time": "2018-04-07T19:16:34.826742Z",
     "start_time": "2018-04-07T19:16:34.818744Z"
    }
   },
   "outputs": [],
   "source": [
    "features_train['hour'] = train_hour\n",
    "features_test['hour'] = test_hour"
   ]
  },
  {
   "cell_type": "code",
   "execution_count": 55,
   "metadata": {
    "ExecuteTime": {
     "end_time": "2018-04-07T19:16:34.972744Z",
     "start_time": "2018-04-07T19:16:34.832752Z"
    }
   },
   "outputs": [],
   "source": [
    "train_dayofweek = train_datetime.apply(lambda dt: dt.dayofweek).values.reshape(-1, 1)\n",
    "test_dayofweek = test_datetime.apply(lambda dt: dt.dayofweek).values.reshape(-1, 1)\n",
    "\n",
    "one_hot_encoder.fit(train_dayofweek)\n",
    "\n",
    "train_dayofweek = one_hot_encoder.transform(train_dayofweek)\n",
    "test_dayofweek = one_hot_encoder.transform(test_dayofweek)"
   ]
  },
  {
   "cell_type": "code",
   "execution_count": 56,
   "metadata": {
    "ExecuteTime": {
     "end_time": "2018-04-07T19:16:34.984739Z",
     "start_time": "2018-04-07T19:16:34.976742Z"
    }
   },
   "outputs": [],
   "source": [
    "features_train['dayofweek'] = train_dayofweek\n",
    "features_test['dayofweek'] = test_dayofweek"
   ]
  },
  {
   "cell_type": "markdown",
   "metadata": {},
   "source": [
    "#### polynomial (hour + dayofweek)"
   ]
  },
  {
   "cell_type": "code",
   "execution_count": 57,
   "metadata": {},
   "outputs": [],
   "source": [
    "poly_transformer = PolynomialFeatures(degree=2)"
   ]
  },
  {
   "cell_type": "code",
   "execution_count": 58,
   "metadata": {},
   "outputs": [],
   "source": [
    "train_hour_dayofweek = sparse.hstack([train_hour, train_dayofweek]).toarray()\n",
    "test_hour_dayofweek = sparse.hstack([test_hour, test_dayofweek]).toarray()"
   ]
  },
  {
   "cell_type": "code",
   "execution_count": 59,
   "metadata": {},
   "outputs": [
    {
     "name": "stdout",
     "output_type": "stream",
     "text": [
      "(13682, 23) (13682, 7) (13682, 30)\n",
      "(3000, 23) (3000, 7) (3000, 30)\n"
     ]
    }
   ],
   "source": [
    "print(train_hour.shape, train_dayofweek.shape, train_hour_dayofweek.shape)\n",
    "print(test_hour.shape, test_dayofweek.shape, test_hour_dayofweek.shape)"
   ]
  },
  {
   "cell_type": "code",
   "execution_count": 60,
   "metadata": {},
   "outputs": [],
   "source": [
    "poly_transformer.fit(train_hour_dayofweek)\n",
    "\n",
    "train_hour_dayofweek_poly = poly_transformer.transform(train_hour_dayofweek)\n",
    "train_hour_dayofweek_poly = pd.DataFrame(train_hour_dayofweek_poly, \n",
    "                                         columns=['h_dow_poly{}'.format(i) for i in range(train_hour_dayofweek_poly.shape[1])])\n",
    "\n",
    "test_hour_dayofweek_poly = poly_transformer.transform(test_hour_dayofweek)\n",
    "test_hour_dayofweek_poly = pd.DataFrame(test_hour_dayofweek_poly, \n",
    "                                         columns=['h_dow_poly{}'.format(i) for i in range(train_hour_dayofweek_poly.shape[1])])"
   ]
  },
  {
   "cell_type": "code",
   "execution_count": 61,
   "metadata": {},
   "outputs": [
    {
     "data": {
      "text/plain": [
       "((13682, 496), (3000, 496))"
      ]
     },
     "execution_count": 61,
     "metadata": {},
     "output_type": "execute_result"
    }
   ],
   "source": [
    "train_hour_dayofweek_poly.shape, test_hour_dayofweek_poly.shape"
   ]
  },
  {
   "cell_type": "code",
   "execution_count": 62,
   "metadata": {},
   "outputs": [],
   "source": [
    "features_train['hour_dayofweek_poly'] = train_hour_dayofweek_poly\n",
    "features_test['hour_dayofweek_poly'] = test_hour_dayofweek_poly"
   ]
  },
  {
   "cell_type": "markdown",
   "metadata": {},
   "source": [
    "### category"
   ]
  },
  {
   "cell_type": "code",
   "execution_count": 63,
   "metadata": {
    "ExecuteTime": {
     "end_time": "2018-04-07T19:16:35.000758Z",
     "start_time": "2018-04-07T19:16:34.988737Z"
    }
   },
   "outputs": [],
   "source": [
    "category_labeler = LabelEncoder()"
   ]
  },
  {
   "cell_type": "code",
   "execution_count": 64,
   "metadata": {
    "ExecuteTime": {
     "end_time": "2018-04-07T19:16:35.028736Z",
     "start_time": "2018-04-07T19:16:35.004736Z"
    }
   },
   "outputs": [
    {
     "name": "stdout",
     "output_type": "stream",
     "text": [
      "Wall time: 12 ms\n"
     ]
    }
   ],
   "source": [
    "%%time\n",
    "\n",
    "train_category = category_labeler.fit_transform(train_full_df['category'])\n",
    "#train_category = pd.DataFrame(train_category, columns=['category'])"
   ]
  },
  {
   "cell_type": "code",
   "execution_count": 65,
   "metadata": {
    "ExecuteTime": {
     "end_time": "2018-04-07T19:16:35.050738Z",
     "start_time": "2018-04-07T19:16:35.032741Z"
    }
   },
   "outputs": [
    {
     "data": {
      "text/plain": [
       "array([ 0,  1,  2,  3,  4,  5,  6,  7,  8,  9, 10, 11, 12, 13, 14, 15, 16,\n",
       "       17, 18, 19, 20, 21, 22, 23, 24], dtype=int64)"
      ]
     },
     "execution_count": 65,
     "metadata": {},
     "output_type": "execute_result"
    }
   ],
   "source": [
    "np.unique(train_category)"
   ]
  },
  {
   "cell_type": "code",
   "execution_count": 66,
   "metadata": {
    "ExecuteTime": {
     "end_time": "2018-04-07T19:16:35.066751Z",
     "start_time": "2018-04-07T19:16:35.054737Z"
    }
   },
   "outputs": [],
   "source": [
    "y_train = train_category"
   ]
  },
  {
   "cell_type": "markdown",
   "metadata": {},
   "source": [
    "## save features"
   ]
  },
  {
   "cell_type": "code",
   "execution_count": 67,
   "metadata": {
    "ExecuteTime": {
     "end_time": "2018-04-07T19:16:35.086736Z",
     "start_time": "2018-04-07T19:16:35.070741Z"
    }
   },
   "outputs": [
    {
     "name": "stdout",
     "output_type": "stream",
     "text": [
      "name_tfidf : <class 'scipy.sparse.csr.csr_matrix'>, (13682, 10000)\n",
      "name_cvect : <class 'scipy.sparse.csr.csr_matrix'>, (13682, 13905)\n",
      "name_cvect_mms : <class 'scipy.sparse.csr.csr_matrix'>, (13682, 13905)\n",
      "name_cvect_norm : <class 'scipy.sparse.csr.csr_matrix'>, (13682, 13905)\n",
      "name_cvect_tw : <class 'scipy.sparse.csr.csr_matrix'>, (13682, 2016)\n",
      "price : <class 'pandas.core.series.Series'>, (13682,)\n",
      "price_mms : <class 'pandas.core.frame.DataFrame'>, (13682, 1)\n",
      "count : <class 'pandas.core.frame.DataFrame'>, (13682, 1)\n",
      "shop_name : <class 'scipy.sparse.csr.csr_matrix'>, (13682, 526)\n",
      "hour : <class 'scipy.sparse.csr.csr_matrix'>, (13682, 23)\n",
      "dayofweek : <class 'scipy.sparse.csr.csr_matrix'>, (13682, 7)\n",
      "hour_dayofweek_poly : <class 'pandas.core.frame.DataFrame'>, (13682, 496)\n"
     ]
    }
   ],
   "source": [
    "for name, feat in features_train.items():\n",
    "    print('{} : {}, {}'.format(name, type(feat), feat.shape))"
   ]
  },
  {
   "cell_type": "code",
   "execution_count": 68,
   "metadata": {
    "ExecuteTime": {
     "end_time": "2018-04-07T19:16:35.108737Z",
     "start_time": "2018-04-07T19:16:35.090741Z"
    }
   },
   "outputs": [
    {
     "data": {
      "text/plain": [
       "0    49.0\n",
       "1    21.0\n",
       "2    39.0\n",
       "3     4.0\n",
       "4    35.0\n",
       "dtype: float64"
      ]
     },
     "execution_count": 68,
     "metadata": {},
     "output_type": "execute_result"
    }
   ],
   "source": [
    "features_train['price'].head()"
   ]
  },
  {
   "cell_type": "code",
   "execution_count": 69,
   "metadata": {
    "ExecuteTime": {
     "end_time": "2018-04-07T19:16:35.944552Z",
     "start_time": "2018-04-07T19:16:35.112740Z"
    }
   },
   "outputs": [],
   "source": [
    "for name, feat in features_train.items():\n",
    "    if 'csr_matrix' in str(type(feat)):\n",
    "        sparse.save_npz(PATH_TO_PROCESSED_DATA + name + '_train.npz', feat)\n",
    "    elif 'DataFrame' in str(type(feat)):\n",
    "        feat.to_csv(PATH_TO_PROCESSED_DATA + name + '_train.csv')"
   ]
  },
  {
   "cell_type": "code",
   "execution_count": 70,
   "metadata": {
    "ExecuteTime": {
     "end_time": "2018-04-07T19:16:35.966553Z",
     "start_time": "2018-04-07T19:16:35.949559Z"
    }
   },
   "outputs": [
    {
     "name": "stdout",
     "output_type": "stream",
     "text": [
      "name_tfidf : <class 'scipy.sparse.csr.csr_matrix'>, (3000, 10000)\n",
      "name_cvect : <class 'scipy.sparse.csr.csr_matrix'>, (3000, 13905)\n",
      "name_cvect_mms : <class 'scipy.sparse.csr.csr_matrix'>, (3000, 13905)\n",
      "name_cvect_norm : <class 'scipy.sparse.csr.csr_matrix'>, (3000, 13905)\n",
      "name_cvect_tw : <class 'scipy.sparse.csr.csr_matrix'>, (3000, 2016)\n",
      "price : <class 'pandas.core.series.Series'>, (3000,)\n",
      "price_mms : <class 'pandas.core.frame.DataFrame'>, (3000, 1)\n",
      "count : <class 'pandas.core.frame.DataFrame'>, (3000, 1)\n",
      "shop_name : <class 'scipy.sparse.csr.csr_matrix'>, (3000, 526)\n",
      "hour : <class 'scipy.sparse.csr.csr_matrix'>, (3000, 23)\n",
      "dayofweek : <class 'scipy.sparse.csr.csr_matrix'>, (3000, 7)\n",
      "hour_dayofweek_poly : <class 'pandas.core.frame.DataFrame'>, (3000, 496)\n"
     ]
    }
   ],
   "source": [
    "for name, feat in features_test.items():\n",
    "    print('{} : {}, {}'.format(name, type(feat), feat.shape))"
   ]
  },
  {
   "cell_type": "code",
   "execution_count": 71,
   "metadata": {
    "ExecuteTime": {
     "end_time": "2018-04-07T19:16:36.150545Z",
     "start_time": "2018-04-07T19:16:35.971557Z"
    }
   },
   "outputs": [],
   "source": [
    "for name, feat in features_test.items():\n",
    "    if 'csr_matrix' in str(type(feat)):\n",
    "        sparse.save_npz(PATH_TO_PROCESSED_DATA + name + '_test.npz', feat)\n",
    "    elif 'DataFrame' in str(type(feat)):\n",
    "        feat.to_csv(PATH_TO_PROCESSED_DATA + name + '_test.csv')"
   ]
  },
  {
   "cell_type": "code",
   "execution_count": 72,
   "metadata": {
    "ExecuteTime": {
     "end_time": "2018-04-07T19:16:36.265556Z",
     "start_time": "2018-04-07T19:16:36.158550Z"
    }
   },
   "outputs": [],
   "source": [
    "y_train_df = pd.DataFrame(y_train, columns=['category'])\n",
    "y_train_df.to_csv(PATH_TO_PROCESSED_DATA + 'categories_train.csv')"
   ]
  },
  {
   "cell_type": "code",
   "execution_count": 73,
   "metadata": {
    "ExecuteTime": {
     "end_time": "2018-04-07T19:18:50.601984Z",
     "start_time": "2018-04-07T19:18:50.504990Z"
    }
   },
   "outputs": [],
   "source": [
    "check_id_train_df = train_full_df[['check_id']]\n",
    "check_id_train_df.to_csv(PATH_TO_PROCESSED_DATA + 'check_id_train.csv')"
   ]
  },
  {
   "cell_type": "code",
   "execution_count": 74,
   "metadata": {
    "ExecuteTime": {
     "end_time": "2018-04-07T19:18:51.130570Z",
     "start_time": "2018-04-07T19:18:51.087571Z"
    }
   },
   "outputs": [],
   "source": [
    "id_test_df = test_df[['id']]\n",
    "id_test_df.to_csv(PATH_TO_PROCESSED_DATA + 'id_test.csv')"
   ]
  },
  {
   "cell_type": "code",
   "execution_count": 75,
   "metadata": {
    "ExecuteTime": {
     "end_time": "2018-04-07T19:25:48.034143Z",
     "start_time": "2018-04-07T19:25:48.018136Z"
    }
   },
   "outputs": [],
   "source": [
    "with open(PATH_TO_PROCESSED_DATA + 'category_labeler.pkl', 'wb') as category_labeler_file:\n",
    "    pickle.dump(category_labeler, category_labeler_file)"
   ]
  },
  {
   "cell_type": "code",
   "execution_count": null,
   "metadata": {},
   "outputs": [],
   "source": []
  }
 ],
 "metadata": {
  "kernelspec": {
   "display_name": "Python 3",
   "language": "python",
   "name": "python3"
  },
  "language_info": {
   "codemirror_mode": {
    "name": "ipython",
    "version": 3
   },
   "file_extension": ".py",
   "mimetype": "text/x-python",
   "name": "python",
   "nbconvert_exporter": "python",
   "pygments_lexer": "ipython3",
   "version": "3.6.4"
  }
 },
 "nbformat": 4,
 "nbformat_minor": 2
}
