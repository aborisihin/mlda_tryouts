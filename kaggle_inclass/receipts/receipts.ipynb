{
 "cells": [
  {
   "cell_type": "code",
   "execution_count": 1,
   "metadata": {
    "ExecuteTime": {
     "end_time": "2018-04-07T19:28:14.017110Z",
     "start_time": "2018-04-07T19:28:13.994115Z"
    },
    "collapsed": true
   },
   "outputs": [],
   "source": [
    "import numpy as np\n",
    "import pandas as pd\n",
    "import matplotlib.pyplot as plt\n",
    "import seaborn as sns\n",
    "\n",
    "import pickle\n",
    "from datetime import datetime\n",
    "from tqdm import tqdm_notebook\n",
    "\n",
    "from sklearn.linear_model import LogisticRegression\n",
    "from sklearn.model_selection import cross_val_score, GroupShuffleSplit\n",
    "from sklearn.metrics import confusion_matrix, make_scorer, log_loss\n",
    "from scipy import sparse\n",
    "\n",
    "from sklearn.preprocessing import Normalizer\n",
    "\n",
    "%matplotlib inline"
   ]
  },
  {
   "cell_type": "code",
   "execution_count": 2,
   "metadata": {
    "ExecuteTime": {
     "end_time": "2018-04-07T19:27:31.020377Z",
     "start_time": "2018-04-07T19:27:31.014375Z"
    },
    "collapsed": true
   },
   "outputs": [],
   "source": [
    "PATH_TO_PROCESSED_DATA = './../data/kaggle_receipts/processed/'"
   ]
  },
  {
   "cell_type": "markdown",
   "metadata": {},
   "source": [
    "## load data"
   ]
  },
  {
   "cell_type": "code",
   "execution_count": 3,
   "metadata": {
    "ExecuteTime": {
     "end_time": "2018-04-07T19:27:31.763544Z",
     "start_time": "2018-04-07T19:27:31.753541Z"
    },
    "collapsed": true
   },
   "outputs": [],
   "source": [
    "loaded_train = []\n",
    "loaded_test = []\n",
    "\n",
    "features_to_load = [\n",
    "    ('name_cvect', 'npz'),\n",
    "    #('name_cvect_mms', 'npz'),\n",
    "    #('name_cvect_norm', 'npz'),\n",
    "    #('name_cvect_tw', 'npz'),\n",
    "    #('name_tfidf', 'npz'),\n",
    "    ('shop_name', 'npz'),\n",
    "    ('price', 'csv'),\n",
    "    #('price_mms', 'csv'),\n",
    "    #('count' , 'csv'),\n",
    "    #('dayofweek', 'npz'),\n",
    "    #('hour', 'npz'),\n",
    "    #('hour_dayofweek_poly', 'csv'),\n",
    "]"
   ]
  },
  {
   "cell_type": "code",
   "execution_count": 4,
   "metadata": {
    "ExecuteTime": {
     "end_time": "2018-04-07T19:27:32.255193Z",
     "start_time": "2018-04-07T19:27:32.158176Z"
    },
    "collapsed": true
   },
   "outputs": [],
   "source": [
    "for (name, tp) in features_to_load:\n",
    "    if tp == 'npz':\n",
    "        loaded_train.append(sparse.load_npz(PATH_TO_PROCESSED_DATA + name + '_train.npz'))\n",
    "        loaded_test.append(sparse.load_npz(PATH_TO_PROCESSED_DATA + name + '_test.npz'))\n",
    "    elif tp == 'csv':\n",
    "        loaded_train.append(pd.read_csv(PATH_TO_PROCESSED_DATA + name + '_train.csv', index_col=0))\n",
    "        loaded_test.append(pd.read_csv(PATH_TO_PROCESSED_DATA + name + '_test.csv', index_col=0))\n",
    "        \n",
    "categories_train = pd.read_csv(PATH_TO_PROCESSED_DATA + 'categories_train.csv', index_col=0)\n",
    "check_id_train = pd.read_csv(PATH_TO_PROCESSED_DATA + 'check_id_train.csv', index_col=0)\n",
    "id_test = pd.read_csv(PATH_TO_PROCESSED_DATA + 'id_test.csv', index_col=0)"
   ]
  },
  {
   "cell_type": "code",
   "execution_count": 5,
   "metadata": {
    "ExecuteTime": {
     "end_time": "2018-04-07T19:27:32.407576Z",
     "start_time": "2018-04-07T19:27:32.386572Z"
    },
    "collapsed": true
   },
   "outputs": [],
   "source": [
    "X_train_full = sparse.csr_matrix(sparse.hstack(loaded_train))\n",
    "X_test_full = sparse.csr_matrix(sparse.hstack(loaded_test))\n",
    "y_train = categories_train['category']\n",
    "check_id_train = check_id_train['check_id']\n",
    "id_test = id_test[['id']]"
   ]
  },
  {
   "cell_type": "code",
   "execution_count": 6,
   "metadata": {
    "ExecuteTime": {
     "end_time": "2018-04-07T19:27:32.755648Z",
     "start_time": "2018-04-07T19:27:32.715671Z"
    }
   },
   "outputs": [
    {
     "name": "stdout",
     "output_type": "stream",
     "text": [
      "(13682, 14432)\n",
      "(3000, 14432)\n",
      "(13682,)\n",
      "(13682,)\n",
      "(3000, 1)\n"
     ]
    }
   ],
   "source": [
    "print(X_train_full.shape)\n",
    "print(X_test_full.shape)\n",
    "print(y_train.shape)\n",
    "print(check_id_train.shape)\n",
    "print(id_test.shape)"
   ]
  },
  {
   "cell_type": "code",
   "execution_count": 7,
   "metadata": {
    "ExecuteTime": {
     "end_time": "2018-04-07T19:27:33.523391Z",
     "start_time": "2018-04-07T19:27:33.516414Z"
    },
    "collapsed": true
   },
   "outputs": [],
   "source": [
    "with open(PATH_TO_PROCESSED_DATA + 'category_labeler.pkl', 'rb') as category_labeler_file:\n",
    "    category_labeler = pickle.load(category_labeler_file)"
   ]
  },
  {
   "cell_type": "markdown",
   "metadata": {},
   "source": [
    "## normalizing dataset"
   ]
  },
  {
   "cell_type": "code",
   "execution_count": 8,
   "metadata": {
    "collapsed": true
   },
   "outputs": [],
   "source": [
    "# norm = Normalizer()\n",
    "\n",
    "# norm.fit(X_train_full)\n",
    "\n",
    "# X_train_full = norm.transform(X_train_full)\n",
    "# X_test_full = norm.transform(X_test_full)"
   ]
  },
  {
   "cell_type": "markdown",
   "metadata": {},
   "source": [
    "## slpit data to cross validation (GroupShuffleSplit)"
   ]
  },
  {
   "cell_type": "code",
   "execution_count": 9,
   "metadata": {
    "ExecuteTime": {
     "end_time": "2018-04-07T19:27:37.336418Z",
     "start_time": "2018-04-07T19:27:37.329419Z"
    },
    "collapsed": true
   },
   "outputs": [],
   "source": [
    "gss = GroupShuffleSplit(n_splits=5, random_state=0)"
   ]
  },
  {
   "cell_type": "code",
   "execution_count": 10,
   "metadata": {
    "ExecuteTime": {
     "end_time": "2018-04-07T19:27:37.678152Z",
     "start_time": "2018-04-07T19:27:37.653150Z"
    },
    "collapsed": true
   },
   "outputs": [],
   "source": [
    "gss_splits = list(gss.split(X_train_full, y_train, check_id_train))"
   ]
  },
  {
   "cell_type": "markdown",
   "metadata": {},
   "source": [
    "## manual param search"
   ]
  },
  {
   "cell_type": "code",
   "execution_count": null,
   "metadata": {
    "collapsed": true
   },
   "outputs": [],
   "source": [
    "lr_params = [\n",
    "    {'multi_class': 'multinomial', 'solver': 'sag'},\n",
    "    {'multi_class': 'multinomial', 'solver': 'saga'},\n",
    "    {'multi_class': 'multinomial', 'solver': 'newton-cg'},\n",
    "    {'multi_class': 'multinomial', 'solver': 'lbfgs'},\n",
    "    {'multi_class': 'ovr', 'solver': 'liblinear'}\n",
    "]"
   ]
  },
  {
   "cell_type": "code",
   "execution_count": null,
   "metadata": {
    "collapsed": true
   },
   "outputs": [],
   "source": [
    "for params in tqdm_notebook(lr_params):\n",
    "    \n",
    "    estimator = LogisticRegression(**params)\n",
    "\n",
    "    score = cross_val_score(estimator, \n",
    "                            X_train_full, \n",
    "                            y_train, \n",
    "                            scoring='neg_log_loss', \n",
    "                            cv=gss_splits, \n",
    "                            n_jobs=-1)\n",
    "\n",
    "    print(params)\n",
    "    print('score: mean = {} std = {}'.format(-score.mean(), score.std()))"
   ]
  },
  {
   "cell_type": "markdown",
   "metadata": {},
   "source": [
    "## 'C' range"
   ]
  },
  {
   "cell_type": "code",
   "execution_count": 64,
   "metadata": {},
   "outputs": [
    {
     "name": "stdout",
     "output_type": "stream",
     "text": [
      "0 -> 1.0\n",
      "1 -> 1.3975903614457832\n",
      "2 -> 1.7951807228915664\n",
      "3 -> 2.192771084337349\n",
      "4 -> 2.5903614457831328\n",
      "5 -> 2.9879518072289155\n",
      "6 -> 3.3855421686746987\n",
      "7 -> 3.783132530120482\n",
      "8 -> 4.1807228915662655\n",
      "9 -> 4.578313253012048\n",
      "10 -> 4.975903614457831\n",
      "11 -> 5.373493975903615\n",
      "12 -> 5.771084337349397\n",
      "13 -> 6.168674698795181\n",
      "14 -> 6.566265060240964\n",
      "15 -> 6.963855421686747\n",
      "16 -> 7.36144578313253\n",
      "17 -> 7.759036144578313\n",
      "18 -> 8.156626506024097\n",
      "19 -> 8.55421686746988\n",
      "20 -> 8.951807228915662\n",
      "21 -> 9.349397590361447\n",
      "22 -> 9.74698795180723\n",
      "23 -> 10.144578313253012\n",
      "24 -> 10.542168674698795\n",
      "25 -> 10.939759036144578\n",
      "26 -> 11.337349397590362\n",
      "27 -> 11.734939759036145\n",
      "28 -> 12.132530120481928\n",
      "29 -> 12.53012048192771\n",
      "30 -> 12.927710843373495\n",
      "31 -> 13.325301204819278\n",
      "32 -> 13.72289156626506\n",
      "33 -> 14.120481927710843\n",
      "34 -> 14.518072289156626\n",
      "35 -> 14.91566265060241\n",
      "36 -> 15.313253012048193\n",
      "37 -> 15.710843373493976\n",
      "38 -> 16.10843373493976\n",
      "39 -> 16.506024096385545\n",
      "40 -> 16.903614457831324\n",
      "41 -> 17.301204819277107\n",
      "42 -> 17.698795180722893\n",
      "43 -> 18.096385542168676\n",
      "44 -> 18.49397590361446\n",
      "45 -> 18.89156626506024\n",
      "46 -> 19.289156626506024\n",
      "47 -> 19.686746987951807\n",
      "48 -> 20.08433734939759\n",
      "49 -> 20.481927710843372\n",
      "50 -> 20.879518072289155\n",
      "51 -> 21.27710843373494\n",
      "52 -> 21.674698795180724\n",
      "53 -> 22.072289156626507\n",
      "54 -> 22.46987951807229\n",
      "55 -> 22.867469879518072\n",
      "56 -> 23.265060240963855\n",
      "57 -> 23.662650602409638\n",
      "58 -> 24.06024096385542\n",
      "59 -> 24.457831325301203\n",
      "60 -> 24.85542168674699\n",
      "61 -> 25.253012048192772\n",
      "62 -> 25.650602409638555\n",
      "63 -> 26.048192771084338\n",
      "64 -> 26.44578313253012\n",
      "65 -> 26.843373493975903\n",
      "66 -> 27.240963855421686\n",
      "67 -> 27.63855421686747\n",
      "68 -> 28.03614457831325\n",
      "69 -> 28.433734939759038\n",
      "70 -> 28.83132530120482\n",
      "71 -> 29.228915662650603\n",
      "72 -> 29.626506024096386\n",
      "73 -> 30.02409638554217\n",
      "74 -> 30.42168674698795\n",
      "75 -> 30.819277108433734\n",
      "76 -> 31.216867469879517\n",
      "77 -> 31.6144578313253\n",
      "78 -> 32.01204819277109\n",
      "79 -> 32.40963855421687\n",
      "80 -> 32.80722891566265\n",
      "81 -> 33.204819277108435\n",
      "82 -> 33.602409638554214\n",
      "83 -> 34.0\n",
      "84 -> 34.397590361445786\n",
      "85 -> 34.795180722891565\n",
      "86 -> 35.19277108433735\n",
      "87 -> 35.59036144578313\n",
      "88 -> 35.98795180722892\n",
      "89 -> 36.3855421686747\n",
      "90 -> 36.78313253012048\n",
      "91 -> 37.18072289156626\n",
      "92 -> 37.57831325301205\n",
      "93 -> 37.975903614457835\n",
      "94 -> 38.373493975903614\n",
      "95 -> 38.7710843373494\n",
      "96 -> 39.16867469879518\n",
      "97 -> 39.566265060240966\n",
      "98 -> 39.963855421686745\n",
      "99 -> 40.36144578313253\n",
      "100 -> 40.75903614457831\n",
      "101 -> 41.1566265060241\n",
      "102 -> 41.55421686746988\n",
      "103 -> 41.95180722891566\n",
      "104 -> 42.34939759036145\n",
      "105 -> 42.74698795180723\n",
      "106 -> 43.144578313253014\n",
      "107 -> 43.54216867469879\n",
      "108 -> 43.93975903614458\n",
      "109 -> 44.33734939759036\n",
      "110 -> 44.734939759036145\n",
      "111 -> 45.13253012048193\n",
      "112 -> 45.53012048192771\n",
      "113 -> 45.9277108433735\n",
      "114 -> 46.325301204819276\n",
      "115 -> 46.72289156626506\n",
      "116 -> 47.12048192771084\n",
      "117 -> 47.51807228915663\n",
      "118 -> 47.91566265060241\n",
      "119 -> 48.31325301204819\n",
      "120 -> 48.71084337349398\n",
      "121 -> 49.10843373493976\n",
      "122 -> 49.506024096385545\n",
      "123 -> 49.903614457831324\n",
      "124 -> 50.30120481927711\n",
      "125 -> 50.69879518072289\n",
      "126 -> 51.096385542168676\n",
      "127 -> 51.493975903614455\n",
      "128 -> 51.89156626506024\n",
      "129 -> 52.28915662650603\n",
      "130 -> 52.68674698795181\n",
      "131 -> 53.08433734939759\n",
      "132 -> 53.48192771084337\n",
      "133 -> 53.87951807228916\n",
      "134 -> 54.27710843373494\n",
      "135 -> 54.674698795180724\n",
      "136 -> 55.0722891566265\n",
      "137 -> 55.46987951807229\n",
      "138 -> 55.867469879518076\n",
      "139 -> 56.265060240963855\n",
      "140 -> 56.66265060240964\n",
      "141 -> 57.06024096385542\n",
      "142 -> 57.45783132530121\n",
      "143 -> 57.855421686746986\n",
      "144 -> 58.25301204819277\n",
      "145 -> 58.65060240963855\n",
      "146 -> 59.04819277108434\n",
      "147 -> 59.445783132530124\n",
      "148 -> 59.8433734939759\n",
      "149 -> 60.24096385542169\n",
      "150 -> 60.63855421686747\n",
      "151 -> 61.036144578313255\n",
      "152 -> 61.433734939759034\n",
      "153 -> 61.83132530120482\n",
      "154 -> 62.2289156626506\n",
      "155 -> 62.626506024096386\n",
      "156 -> 63.02409638554217\n",
      "157 -> 63.42168674698795\n",
      "158 -> 63.81927710843374\n",
      "159 -> 64.21686746987952\n",
      "160 -> 64.6144578313253\n",
      "161 -> 65.01204819277109\n",
      "162 -> 65.40963855421687\n",
      "163 -> 65.80722891566265\n",
      "164 -> 66.20481927710843\n",
      "165 -> 66.60240963855422\n",
      "166 -> 67.0\n",
      "167 -> 67.39759036144578\n",
      "168 -> 67.79518072289157\n",
      "169 -> 68.19277108433735\n",
      "170 -> 68.59036144578313\n",
      "171 -> 68.98795180722891\n",
      "172 -> 69.3855421686747\n",
      "173 -> 69.78313253012048\n",
      "174 -> 70.18072289156626\n",
      "175 -> 70.57831325301206\n",
      "176 -> 70.97590361445783\n",
      "177 -> 71.37349397590361\n",
      "178 -> 71.7710843373494\n",
      "179 -> 72.16867469879519\n",
      "180 -> 72.56626506024097\n",
      "181 -> 72.96385542168674\n",
      "182 -> 73.36144578313252\n",
      "183 -> 73.75903614457832\n",
      "184 -> 74.1566265060241\n",
      "185 -> 74.55421686746988\n",
      "186 -> 74.95180722891567\n",
      "187 -> 75.34939759036145\n",
      "188 -> 75.74698795180723\n",
      "189 -> 76.144578313253\n",
      "190 -> 76.5421686746988\n",
      "191 -> 76.93975903614458\n",
      "192 -> 77.33734939759036\n",
      "193 -> 77.73493975903615\n",
      "194 -> 78.13253012048193\n",
      "195 -> 78.53012048192771\n",
      "196 -> 78.92771084337349\n",
      "197 -> 79.32530120481928\n",
      "198 -> 79.72289156626506\n",
      "199 -> 80.12048192771084\n",
      "200 -> 80.51807228915662\n",
      "201 -> 80.91566265060241\n",
      "202 -> 81.3132530120482\n",
      "203 -> 81.71084337349397\n",
      "204 -> 82.10843373493977\n",
      "205 -> 82.50602409638554\n",
      "206 -> 82.90361445783132\n",
      "207 -> 83.3012048192771\n",
      "208 -> 83.6987951807229\n",
      "209 -> 84.09638554216868\n",
      "210 -> 84.49397590361446\n",
      "211 -> 84.89156626506025\n",
      "212 -> 85.28915662650603\n",
      "213 -> 85.6867469879518\n",
      "214 -> 86.08433734939759\n",
      "215 -> 86.48192771084338\n",
      "216 -> 86.87951807228916\n",
      "217 -> 87.27710843373494\n",
      "218 -> 87.67469879518072\n",
      "219 -> 88.07228915662651\n",
      "220 -> 88.46987951807229\n",
      "221 -> 88.86746987951807\n",
      "222 -> 89.26506024096386\n",
      "223 -> 89.66265060240964\n",
      "224 -> 90.06024096385542\n",
      "225 -> 90.4578313253012\n",
      "226 -> 90.855421686747\n",
      "227 -> 91.25301204819277\n",
      "228 -> 91.65060240963855\n",
      "229 -> 92.04819277108435\n",
      "230 -> 92.44578313253012\n",
      "231 -> 92.8433734939759\n",
      "232 -> 93.24096385542168\n",
      "233 -> 93.63855421686748\n",
      "234 -> 94.03614457831326\n",
      "235 -> 94.43373493975903\n",
      "236 -> 94.83132530120481\n",
      "237 -> 95.2289156626506\n",
      "238 -> 95.62650602409639\n",
      "239 -> 96.02409638554217\n",
      "240 -> 96.42168674698796\n",
      "241 -> 96.81927710843374\n",
      "242 -> 97.21686746987952\n",
      "243 -> 97.6144578313253\n",
      "244 -> 98.01204819277109\n",
      "245 -> 98.40963855421687\n",
      "246 -> 98.80722891566265\n",
      "247 -> 99.20481927710844\n",
      "248 -> 99.60240963855422\n",
      "249 -> 100.0\n"
     ]
    }
   ],
   "source": [
    "#C_range = np.logspace(-0.5, 2.5, 25)\n",
    "C_range = np.linspace(1.0, 100.0, 250)\n",
    "\n",
    "for idx, C in enumerate(C_range):\n",
    "    print('{} -> {}'.format(idx, C))"
   ]
  },
  {
   "cell_type": "markdown",
   "metadata": {},
   "source": [
    "## manual cross validation"
   ]
  },
  {
   "cell_type": "code",
   "execution_count": 37,
   "metadata": {},
   "outputs": [
    {
     "data": {
      "application/vnd.jupyter.widget-view+json": {
       "model_id": "d982dfa7322443c29b2d33116af43bc0",
       "version_major": 2,
       "version_minor": 0
      },
      "text/html": [
       "<p>Failed to display Jupyter Widget of type <code>HBox</code>.</p>\n",
       "<p>\n",
       "  If you're reading this message in the Jupyter Notebook or JupyterLab Notebook, it may mean\n",
       "  that the widgets JavaScript is still loading. If this message persists, it\n",
       "  likely means that the widgets JavaScript library is either not installed or\n",
       "  not enabled. See the <a href=\"https://ipywidgets.readthedocs.io/en/stable/user_install.html\">Jupyter\n",
       "  Widgets Documentation</a> for setup instructions.\n",
       "</p>\n",
       "<p>\n",
       "  If you're reading this message in another frontend (for example, a static\n",
       "  rendering on GitHub or <a href=\"https://nbviewer.jupyter.org/\">NBViewer</a>),\n",
       "  it may mean that your frontend doesn't currently support widgets.\n",
       "</p>\n"
      ],
      "text/plain": [
       "HBox(children=(IntProgress(value=0, max=25), HTML(value='')))"
      ]
     },
     "metadata": {},
     "output_type": "display_data"
    },
    {
     "name": "stdout",
     "output_type": "stream",
     "text": [
      "\n",
      "Wall time: 1min 50s\n"
     ]
    }
   ],
   "source": [
    "%%time\n",
    "\n",
    "lrs = []\n",
    "cv_scores = []\n",
    "\n",
    "for C in tqdm_notebook(C_range):\n",
    "    \n",
    "    cur_lr = LogisticRegression(C=C, class_weight='balanced', random_state=14)\n",
    "    \n",
    "    cv_score = cross_val_score(cur_lr, X_train_full, y_train, scoring='neg_log_loss', cv=gss_splits, n_jobs=-1)\n",
    "    \n",
    "    lrs.append(cur_lr)\n",
    "    cv_scores.append(-1 * cv_score.mean())"
   ]
  },
  {
   "cell_type": "code",
   "execution_count": 38,
   "metadata": {},
   "outputs": [
    {
     "data": {
      "image/png": "[encoded data removed]",
      "text/plain": [
       "<Figure size 1080x360 with 1 Axes>"
      ]
     },
     "metadata": {},
     "output_type": "display_data"
    }
   ],
   "source": [
    "plt.figure(figsize=(15, 5))\n",
    "\n",
    "plt.plot(range(len(C_range)), cv_scores, color='red', label='cv')\n",
    "\n",
    "#plt.ylim(0.94, 1.01)\n",
    "#plt.xlim(18, 22)\n",
    "plt.xlabel(\"C index\")\n",
    "plt.ylabel(\"log_loss\")\n",
    "plt.legend()\n",
    "plt.grid()\n",
    "plt.show()"
   ]
  },
  {
   "cell_type": "code",
   "execution_count": 39,
   "metadata": {},
   "outputs": [
    {
     "name": "stdout",
     "output_type": "stream",
     "text": [
      "best cv score: 0.4892725562567941\n",
      "best C: 17.78279410038923\n",
      "best C index: 14\n"
     ]
    }
   ],
   "source": [
    "print('best cv score:', np.min(cv_scores))\n",
    "print('best C:', C_range[np.argmin(cv_scores)])\n",
    "print('best C index:', np.argmin(cv_scores))\n",
    "\n",
    "ms_best_estimator = lrs[np.argmin(cv_scores)]"
   ]
  },
  {
   "cell_type": "markdown",
   "metadata": {},
   "source": [
    "## manual log_loss function"
   ]
  },
  {
   "cell_type": "code",
   "execution_count": 48,
   "metadata": {
    "collapsed": true
   },
   "outputs": [],
   "source": [
    "manual_log_loss = make_scorer(log_loss, needs_proba=True, greater_is_better=False, eps=1e-2)"
   ]
  },
  {
   "cell_type": "code",
   "execution_count": 49,
   "metadata": {},
   "outputs": [
    {
     "data": {
      "application/vnd.jupyter.widget-view+json": {
       "model_id": "cc01325eb9b94b358a991103a40cf530",
       "version_major": 2,
       "version_minor": 0
      },
      "text/html": [
       "<p>Failed to display Jupyter Widget of type <code>HBox</code>.</p>\n",
       "<p>\n",
       "  If you're reading this message in the Jupyter Notebook or JupyterLab Notebook, it may mean\n",
       "  that the widgets JavaScript is still loading. If this message persists, it\n",
       "  likely means that the widgets JavaScript library is either not installed or\n",
       "  not enabled. See the <a href=\"https://ipywidgets.readthedocs.io/en/stable/user_install.html\">Jupyter\n",
       "  Widgets Documentation</a> for setup instructions.\n",
       "</p>\n",
       "<p>\n",
       "  If you're reading this message in another frontend (for example, a static\n",
       "  rendering on GitHub or <a href=\"https://nbviewer.jupyter.org/\">NBViewer</a>),\n",
       "  it may mean that your frontend doesn't currently support widgets.\n",
       "</p>\n"
      ],
      "text/plain": [
       "HBox(children=(IntProgress(value=0, max=25), HTML(value='')))"
      ]
     },
     "metadata": {},
     "output_type": "display_data"
    },
    {
     "name": "stdout",
     "output_type": "stream",
     "text": [
      "\n",
      "Wall time: 1min 48s\n"
     ]
    }
   ],
   "source": [
    "%%time\n",
    "\n",
    "mll_lrs = []\n",
    "mll_cv_scores = []\n",
    "\n",
    "for C in tqdm_notebook(C_range):\n",
    "    \n",
    "    cur_lr = LogisticRegression(C=C, class_weight='balanced', random_state=14)\n",
    "    \n",
    "    cv_score = cross_val_score(cur_lr, X_train_full, y_train, scoring=manual_log_loss, cv=gss_splits, n_jobs=-1)\n",
    "    \n",
    "    mll_lrs.append(cur_lr)\n",
    "    mll_cv_scores.append(-1 * cv_score.mean())"
   ]
  },
  {
   "cell_type": "code",
   "execution_count": 50,
   "metadata": {},
   "outputs": [
    {
     "data": {
      "image/png": "[encoded data removed]",
      "text/plain": [
       "<Figure size 1080x360 with 1 Axes>"
      ]
     },
     "metadata": {},
     "output_type": "display_data"
    }
   ],
   "source": [
    "plt.figure(figsize=(15, 5))\n",
    "\n",
    "plt.plot(range(len(C_range)), mll_cv_scores, color='red', label='cv')\n",
    "\n",
    "#plt.ylim(0.94, 1.01)\n",
    "#plt.xlim(18, 22)\n",
    "plt.xlabel(\"C index\")\n",
    "plt.ylabel(\"log_loss\")\n",
    "plt.legend()\n",
    "plt.grid()\n",
    "plt.show()"
   ]
  },
  {
   "cell_type": "code",
   "execution_count": 51,
   "metadata": {},
   "outputs": [
    {
     "name": "stdout",
     "output_type": "stream",
     "text": [
      "best cv score: 0.6355262734228597\n",
      "best C: 23.71373705661655\n",
      "best C index: 15\n"
     ]
    }
   ],
   "source": [
    "print('best cv score:', np.min(mll_cv_scores))\n",
    "print('best C:', C_range[np.argmin(mll_cv_scores)])\n",
    "print('best C index:', np.argmin(mll_cv_scores))\n",
    "\n",
    "ms_mll_best_estimator = mll_lrs[np.argmin(mll_cv_scores)]"
   ]
  },
  {
   "cell_type": "markdown",
   "metadata": {},
   "source": [
    "## custom estimator"
   ]
  },
  {
   "cell_type": "code",
   "execution_count": 11,
   "metadata": {
    "ExecuteTime": {
     "end_time": "2018-04-07T19:27:41.034244Z",
     "start_time": "2018-04-07T19:27:41.027250Z"
    }
   },
   "outputs": [
    {
     "name": "stdout",
     "output_type": "stream",
     "text": [
      "custom_cv_score: 0.5372982920146528\n"
     ]
    }
   ],
   "source": [
    "# custom_estimator = LogisticRegression(penalty='l2', \n",
    "#                                       multi_class='ovr', \n",
    "#                                       solver='liblinear', \n",
    "#                                       class_weight='balanced', \n",
    "#                                       C=18.87391)\n",
    "\n",
    "custom_estimator = LogisticRegression(class_weight='balanced', C=17.78279)\n",
    "\n",
    "custom_cv_score = cross_val_score(custom_estimator, X_train_full, y_train, scoring='neg_log_loss', cv=gss_splits, n_jobs=-1)\n",
    "\n",
    "print('custom_cv_score:', -1 * custom_cv_score.mean())"
   ]
  },
  {
   "cell_type": "markdown",
   "metadata": {},
   "source": [
    "## refit and analysis"
   ]
  },
  {
   "cell_type": "code",
   "execution_count": 12,
   "metadata": {
    "ExecuteTime": {
     "end_time": "2018-04-07T19:27:41.856895Z",
     "start_time": "2018-04-07T19:27:41.851894Z"
    },
    "collapsed": true
   },
   "outputs": [],
   "source": [
    "best_estimator = custom_estimator\n",
    "#best_estimator = ms_mll_best_estimator"
   ]
  },
  {
   "cell_type": "code",
   "execution_count": 13,
   "metadata": {
    "ExecuteTime": {
     "end_time": "2018-04-07T19:27:45.129089Z",
     "start_time": "2018-04-07T19:27:42.169088Z"
    }
   },
   "outputs": [
    {
     "name": "stdout",
     "output_type": "stream",
     "text": [
      "Wall time: 1.28 s\n"
     ]
    },
    {
     "data": {
      "text/plain": [
       "LogisticRegression(C=17.78279, class_weight='balanced', dual=False,\n",
       "          fit_intercept=True, intercept_scaling=1, max_iter=100,\n",
       "          multi_class='ovr', n_jobs=1, penalty='l2', random_state=None,\n",
       "          solver='liblinear', tol=0.0001, verbose=0, warm_start=False)"
      ]
     },
     "execution_count": 13,
     "metadata": {},
     "output_type": "execute_result"
    }
   ],
   "source": [
    "%%time\n",
    "\n",
    "best_estimator.fit(X_train_full, y_train)"
   ]
  },
  {
   "cell_type": "code",
   "execution_count": 15,
   "metadata": {
    "collapsed": true
   },
   "outputs": [],
   "source": [
    "# conf_matrix = confusion_matrix(y_train, best_estimator.predict(X_train_full))\n",
    "\n",
    "# errors_matrix = []\n",
    "\n",
    "# for true_lbl in range(conf_matrix.shape[0]):\n",
    "#     for pred_lbl in range(conf_matrix.shape[1]):\n",
    "#         if true_lbl == pred_lbl: \n",
    "#             continue\n",
    "#         if conf_matrix[true_lbl, pred_lbl] == 0:\n",
    "#             continue\n",
    "#         errors_matrix.append([category_labeler.classes_[true_lbl], \n",
    "#                               category_labeler.classes_[pred_lbl], \n",
    "#                               conf_matrix[true_lbl, pred_lbl]])\n",
    "    \n",
    "# errors_df = pd.DataFrame(errors_matrix, columns=['true', 'pred', 'error_count'])\n",
    "# errors_df = errors_df.sort_values(by=['error_count'], ascending=False)\n",
    "# errors_df"
   ]
  },
  {
   "cell_type": "markdown",
   "metadata": {},
   "source": [
    "## make prediction"
   ]
  },
  {
   "cell_type": "code",
   "execution_count": 14,
   "metadata": {
    "ExecuteTime": {
     "end_time": "2018-04-07T19:27:45.955587Z",
     "start_time": "2018-04-07T19:27:45.947582Z"
    },
    "collapsed": true
   },
   "outputs": [],
   "source": [
    "predictions = best_estimator.predict_proba(X_test_full)"
   ]
  },
  {
   "cell_type": "code",
   "execution_count": 15,
   "metadata": {
    "ExecuteTime": {
     "end_time": "2018-04-07T19:27:46.669969Z",
     "start_time": "2018-04-07T19:27:46.595932Z"
    },
    "collapsed": true
   },
   "outputs": [],
   "source": [
    "predictions_df = id_test\n",
    "\n",
    "for idx, category in enumerate(category_labeler.classes_):\n",
    "    predictions_df = pd.concat([predictions_df, pd.Series(predictions[:, idx], name=category)], axis=1)"
   ]
  },
  {
   "cell_type": "code",
   "execution_count": 16,
   "metadata": {
    "ExecuteTime": {
     "end_time": "2018-04-07T19:28:16.746871Z",
     "start_time": "2018-04-07T19:28:16.478826Z"
    },
    "collapsed": true
   },
   "outputs": [],
   "source": [
    "timestamp = datetime.now().strftime('%m%d_%H%M')\n",
    "predictions_df.to_csv('./submissions/submission_{}.csv'.format(timestamp), encoding='utf-8', index=False)"
   ]
  },
  {
   "cell_type": "code",
   "execution_count": null,
   "metadata": {
    "collapsed": true
   },
   "outputs": [],
   "source": []
  }
 ],
 "metadata": {
  "kernelspec": {
   "display_name": "Python 3",
   "language": "python",
   "name": "python3"
  },
  "language_info": {
   "codemirror_mode": {
    "name": "ipython",
    "version": 3
   },
   "file_extension": ".py",
   "mimetype": "text/x-python",
   "name": "python",
   "nbconvert_exporter": "python",
   "pygments_lexer": "ipython3",
   "version": "3.6.3"
  }
 },
 "nbformat": 4,
 "nbformat_minor": 2
}
