{
 "cells": [
  {
   "cell_type": "code",
   "execution_count": 2,
   "metadata": {
    "ExecuteTime": {
     "end_time": "2018-03-27T05:59:43.154660Z",
     "start_time": "2018-03-27T05:59:43.134654Z"
    }
   },
   "outputs": [],
   "source": [
    "import numpy as np\n",
    "import pandas as pd\n",
    "import matplotlib.pyplot as plt\n",
    "import seaborn as sns\n",
    "\n",
    "from collections import Counter\n",
    "import pickle\n",
    "\n",
    "%matplotlib inline"
   ]
  },
  {
   "cell_type": "code",
   "execution_count": 3,
   "metadata": {
    "ExecuteTime": {
     "end_time": "2018-03-27T05:51:54.829038Z",
     "start_time": "2018-03-27T05:51:51.685467Z"
    }
   },
   "outputs": [],
   "source": [
    "train_df = pd.read_csv('./data/train_sessions.csv', index_col='session_id')\n",
    "test_df = pd.read_csv('./data/test_sessions.csv', index_col='session_id')"
   ]
  },
  {
   "cell_type": "code",
   "execution_count": 4,
   "metadata": {
    "ExecuteTime": {
     "end_time": "2018-03-27T05:51:57.703963Z",
     "start_time": "2018-03-27T05:51:54.829038Z"
    }
   },
   "outputs": [],
   "source": [
    "time_columns = ['time%d' % i for i in range(1, 11)]\n",
    "train_df[time_columns] = train_df[time_columns].apply(pd.to_datetime)\n",
    "test_df[time_columns] = test_df[time_columns].apply(pd.to_datetime)\n",
    "\n",
    "site_columns = ['site%d' % i for i in range(1, 11)]\n",
    "train_df[site_columns] = train_df[site_columns].fillna(0).astype('int')"
   ]
  },
  {
   "cell_type": "code",
   "execution_count": 5,
   "metadata": {
    "ExecuteTime": {
     "end_time": "2018-03-27T05:51:57.733107Z",
     "start_time": "2018-03-27T05:51:57.703963Z"
    }
   },
   "outputs": [
    {
     "data": {
      "text/plain": [
       "0    251264\n",
       "1      2297\n",
       "Name: target, dtype: int64"
      ]
     },
     "execution_count": 5,
     "metadata": {},
     "output_type": "execute_result"
    }
   ],
   "source": [
    "train_df['target'].value_counts()"
   ]
  },
  {
   "cell_type": "code",
   "execution_count": 6,
   "metadata": {
    "ExecuteTime": {
     "end_time": "2018-03-27T05:51:58.713862Z",
     "start_time": "2018-03-27T05:51:58.629864Z"
    }
   },
   "outputs": [
    {
     "data": {
      "text/plain": [
       "109"
      ]
     },
     "execution_count": 6,
     "metadata": {},
     "output_type": "execute_result"
    }
   ],
   "source": [
    "target_proportion = int(train_df[train_df['target'] == 0].shape[0] / \n",
    "                        train_df[train_df['target'] == 1].shape[0])\n",
    "target_proportion"
   ]
  },
  {
   "cell_type": "code",
   "execution_count": 7,
   "metadata": {
    "ExecuteTime": {
     "end_time": "2018-03-27T05:51:59.385559Z",
     "start_time": "2018-03-27T05:51:59.301543Z"
    }
   },
   "outputs": [],
   "source": [
    "train_df_alice = train_df[train_df['target'] == 1].copy()\n",
    "train_df_non_alice = train_df[train_df['target'] == 0].copy()"
   ]
  },
  {
   "cell_type": "markdown",
   "metadata": {},
   "source": [
    "### time in train and test"
   ]
  },
  {
   "cell_type": "code",
   "execution_count": 8,
   "metadata": {},
   "outputs": [
    {
     "name": "stdout",
     "output_type": "stream",
     "text": [
      "[201301, 201302, 201303, 201304, 201305, 201306, 201307, 201308, 201309, 201310, 201311, 201312, 201401, 201402, 201403, 201404]\n"
     ]
    }
   ],
   "source": [
    "print(sorted(train_df['time1'].apply(lambda dt: dt.year * 100 + dt.month).unique()))"
   ]
  },
  {
   "cell_type": "code",
   "execution_count": 9,
   "metadata": {},
   "outputs": [
    {
     "name": "stdout",
     "output_type": "stream",
     "text": [
      "[201405, 201406, 201407, 201408, 201409, 201410, 201411, 201412]\n"
     ]
    }
   ],
   "source": [
    "print(sorted(test_df['time1'].apply(lambda dt: dt.year * 100 + dt.month).unique()))"
   ]
  },
  {
   "cell_type": "markdown",
   "metadata": {},
   "source": [
    "### month in years"
   ]
  },
  {
   "cell_type": "code",
   "execution_count": 10,
   "metadata": {},
   "outputs": [],
   "source": [
    "train_df_alice['time1_year'] = train_df_alice['time1'].apply(lambda dt: dt.year).astype('int')\n",
    "train_df_alice_2013_month = train_df_alice[train_df_alice['time1_year'] == 2013]['time1'].apply(lambda dt: dt.month).astype('int')\n",
    "train_df_alice_2014_month = train_df_alice[train_df_alice['time1_year'] == 2014]['time1'].apply(lambda dt: dt.month).astype('int')"
   ]
  },
  {
   "cell_type": "code",
   "execution_count": 11,
   "metadata": {},
   "outputs": [],
   "source": [
    "train_df_non_alice['time1_year'] = train_df_non_alice['time1'].apply(lambda dt: dt.year).astype('int')\n",
    "train_df_non_alice_2013_month = train_df_non_alice[train_df_non_alice['time1_year'] == 2013]['time1'].apply(lambda dt: dt.month).astype('int')\n",
    "train_df_non_alice_2014_month = train_df_non_alice[train_df_non_alice['time1_year'] == 2014]['time1'].apply(lambda dt: dt.month).astype('int')"
   ]
  },
  {
   "cell_type": "code",
   "execution_count": 12,
   "metadata": {},
   "outputs": [
    {
     "data": {
      "image/png": "[encoded data removed]",
      "text/plain": [
       "<Figure size 864x576 with 2 Axes>"
      ]
     },
     "metadata": {},
     "output_type": "display_data"
    }
   ],
   "source": [
    "plt.figure(figsize=(12, 8))\n",
    "\n",
    "plt.subplot(411)\n",
    "plt.title('train_df_alice_2013_month')\n",
    "plt.hist(train_df_alice_2013_month, bins=12)\n",
    "plt.xlim(1, 12)\n",
    "\n",
    "plt.subplot(413)\n",
    "plt.title('train_df_non_alice_2013_month')\n",
    "plt.hist(train_df_non_alice_2013_month, bins=12)\n",
    "plt.xlim(1, 12)\n",
    "\n",
    "plt.show()"
   ]
  },
  {
   "cell_type": "code",
   "execution_count": 13,
   "metadata": {},
   "outputs": [
    {
     "data": {
      "image/png": "[encoded data removed]",
      "text/plain": [
       "<Figure size 864x576 with 2 Axes>"
      ]
     },
     "metadata": {},
     "output_type": "display_data"
    }
   ],
   "source": [
    "plt.figure(figsize=(12, 8))\n",
    "\n",
    "plt.subplot(412)\n",
    "plt.title('train_df_alice_2014_month')\n",
    "plt.hist(train_df_alice_2014_month, bins=12)\n",
    "plt.xlim(1, 12)\n",
    "\n",
    "plt.subplot(414)\n",
    "plt.title('train_df_non_alice_2014_month')\n",
    "plt.hist(train_df_non_alice_2014_month, bins=12)\n",
    "plt.xlim(1, 12)\n",
    "\n",
    "plt.show()"
   ]
  },
  {
   "cell_type": "markdown",
   "metadata": {},
   "source": [
    "### year_month days"
   ]
  },
  {
   "cell_type": "code",
   "execution_count": 14,
   "metadata": {
    "ExecuteTime": {
     "end_time": "2018-03-26T20:35:27.248886Z",
     "start_time": "2018-03-26T20:35:26.000750Z"
    }
   },
   "outputs": [],
   "source": [
    "lambda_func = lambda dt: dt.year * 100 + dt.month\n",
    "\n",
    "train_df_alice['year_month'] = train_df_alice['time1'].apply(lambda_func)\n",
    "train_df_non_alice['year_month'] = train_df_non_alice['time1'].apply(lambda_func)"
   ]
  },
  {
   "cell_type": "code",
   "execution_count": 15,
   "metadata": {
    "ExecuteTime": {
     "end_time": "2018-03-26T20:35:38.555182Z",
     "start_time": "2018-03-26T20:35:38.543182Z"
    }
   },
   "outputs": [
    {
     "data": {
      "text/plain": [
       "201311    446\n",
       "201402    410\n",
       "201403    400\n",
       "201309    377\n",
       "201404    302\n",
       "201312    134\n",
       "201401    129\n",
       "201302     61\n",
       "201304     38\n",
       "Name: year_month, dtype: int64"
      ]
     },
     "execution_count": 15,
     "metadata": {},
     "output_type": "execute_result"
    }
   ],
   "source": [
    "train_df_alice['year_month'].value_counts()"
   ]
  },
  {
   "cell_type": "code",
   "execution_count": 16,
   "metadata": {
    "ExecuteTime": {
     "end_time": "2018-03-26T20:42:04.120639Z",
     "start_time": "2018-03-26T20:42:01.978176Z"
    }
   },
   "outputs": [
    {
     "data": {
      "image/png": "[encoded data removed]",
      "text/plain": [
       "<Figure size 576x720 with 2 Axes>"
      ]
     },
     "metadata": {},
     "output_type": "display_data"
    },
    {
     "data": {
      "image/png": "[encoded data removed]",
      "text/plain": [
       "<Figure size 576x720 with 2 Axes>"
      ]
     },
     "metadata": {},
     "output_type": "display_data"
    },
    {
     "data": {
      "image/png": "[encoded data removed]",
      "text/plain": [
       "<Figure size 576x720 with 2 Axes>"
      ]
     },
     "metadata": {},
     "output_type": "display_data"
    }
   ],
   "source": [
    "days_to_show = [201311, 201402, 201403]\n",
    "\n",
    "for pos, days in enumerate(days_to_show):\n",
    "\n",
    "    alice_index = train_df_alice[train_df_alice['year_month'] == days].index\n",
    "    non_alice_index = train_df_non_alice[train_df_non_alice['year_month'] == days].index\n",
    "    \n",
    "    plt.figure(figsize=(8, 10))\n",
    "\n",
    "    plt.subplot(610 + pos*2 + 1)\n",
    "    plt.title(str(days))\n",
    "    plt.hist(train_df_alice.loc[alice_index]['time1'].apply(lambda dt: dt.day), bins=62)\n",
    "\n",
    "    plt.subplot(610 + pos*2 + 2)\n",
    "    plt.hist(train_df_non_alice.loc[non_alice_index]['time1'].apply(lambda dt: dt.day), bins=62)\n",
    "\n",
    "    plt.show()"
   ]
  },
  {
   "cell_type": "code",
   "execution_count": 17,
   "metadata": {
    "ExecuteTime": {
     "end_time": "2018-03-26T20:36:22.851729Z",
     "start_time": "2018-03-26T20:36:22.092771Z"
    }
   },
   "outputs": [
    {
     "data": {
      "image/png": "[encoded data removed]",
      "text/plain": [
       "<Figure size 432x288 with 2 Axes>"
      ]
     },
     "metadata": {},
     "output_type": "display_data"
    }
   ],
   "source": [
    "alice_index_201402 = train_df_alice[train_df_alice['year_month'] == 201402].index\n",
    "non_alice_index_201402 = train_df_non_alice[train_df_non_alice['year_month'] == 201402].index\n",
    "\n",
    "plt.subplot(211)\n",
    "plt.hist(train_df_alice.loc[alice_index_201402]['time1'].apply(lambda dt: dt.day), bins=62)\n",
    "\n",
    "plt.subplot(212)\n",
    "plt.hist(train_df_non_alice.loc[non_alice_index_201402]['time1'].apply(lambda dt: dt.day), bins=62)\n",
    "\n",
    "plt.show()"
   ]
  },
  {
   "cell_type": "code",
   "execution_count": 18,
   "metadata": {},
   "outputs": [
    {
     "data": {
      "image/png": "[encoded data removed]",
      "text/plain": [
       "<Figure size 432x288 with 2 Axes>"
      ]
     },
     "metadata": {},
     "output_type": "display_data"
    }
   ],
   "source": [
    "alice_index_201402 = train_df_alice[train_df_alice['year_month'] == 201402].index\n",
    "non_alice_index_201402 = train_df_non_alice[train_df_non_alice['year_month'] == 201402].index\n",
    "\n",
    "plt.subplot(211)\n",
    "plt.hist(train_df_alice.loc[alice_index_201402]['time1'].apply(lambda dt: dt.day), bins=62)\n",
    "\n",
    "plt.subplot(212)\n",
    "plt.hist(train_df_non_alice.loc[non_alice_index_201402]['time1'].apply(lambda dt: dt.day), bins=62)\n",
    "\n",
    "plt.show()"
   ]
  },
  {
   "cell_type": "markdown",
   "metadata": {},
   "source": [
    "### year_month"
   ]
  },
  {
   "cell_type": "code",
   "execution_count": 19,
   "metadata": {
    "ExecuteTime": {
     "end_time": "2018-03-26T20:23:47.817269Z",
     "start_time": "2018-03-26T20:23:47.554333Z"
    }
   },
   "outputs": [
    {
     "data": {
      "image/png": "[encoded data removed]",
      "text/plain": [
       "<Figure size 864x288 with 2 Axes>"
      ]
     },
     "metadata": {},
     "output_type": "display_data"
    }
   ],
   "source": [
    "plt.figure(figsize=(12, 4))\n",
    "\n",
    "plt.subplot(211)\n",
    "plt.hist(train_df_alice['year_month'], color='red', alpha=0.5)\n",
    "\n",
    "plt.subplot(212)\n",
    "plt.hist(train_df_alice['year_month'], color='blue', alpha=0.5)\n",
    "\n",
    "plt.show()"
   ]
  },
  {
   "cell_type": "markdown",
   "metadata": {},
   "source": [
    "### dayofweek"
   ]
  },
  {
   "cell_type": "code",
   "execution_count": 43,
   "metadata": {
    "ExecuteTime": {
     "end_time": "2018-03-25T18:29:22.175018Z",
     "start_time": "2018-03-25T18:29:20.758297Z"
    }
   },
   "outputs": [
    {
     "data": {
      "image/png": "[encoded data removed]",
      "text/plain": [
       "<Figure size 864x288 with 2 Axes>"
      ]
     },
     "metadata": {},
     "output_type": "display_data"
    }
   ],
   "source": [
    "# Monday=0, Sunday=6\n",
    "\n",
    "lambda_func = lambda dt: dt.dayofweek\n",
    "\n",
    "plt.figure(figsize=(12, 4))\n",
    "\n",
    "plt.subplot(211)\n",
    "plt.hist(train_df_alice['time1'].apply(lambda_func), color='red', alpha=0.5, bins=7)\n",
    "\n",
    "plt.subplot(212)\n",
    "plt.hist(train_df_non_alice['time1'].apply(lambda_func), color='blue', alpha=0.5, bins=7)\n",
    "plt.show()"
   ]
  },
  {
   "cell_type": "code",
   "execution_count": 54,
   "metadata": {},
   "outputs": [
    {
     "data": {
      "text/plain": [
       "6      1\n",
       "2     38\n",
       "5     41\n",
       "4    346\n",
       "3    487\n",
       "1    508\n",
       "0    876\n",
       "Name: time1, dtype: int64"
      ]
     },
     "execution_count": 54,
     "metadata": {},
     "output_type": "execute_result"
    }
   ],
   "source": [
    "train_df_alice['time1'].apply(lambda_func).value_counts().sort_values()"
   ]
  },
  {
   "cell_type": "code",
   "execution_count": 45,
   "metadata": {},
   "outputs": [
    {
     "data": {
      "text/plain": [
       "(array([10581., 15125.,  8078., 12361., 16515.,  9869., 10268.]),\n",
       " array([0.        , 0.85714286, 1.71428571, 2.57142857, 3.42857143,\n",
       "        4.28571429, 5.14285714, 6.        ]),\n",
       " <a list of 7 Patch objects>)"
      ]
     },
     "execution_count": 45,
     "metadata": {},
     "output_type": "execute_result"
    },
    {
     "data": {
      "image/png": "[encoded data removed]",
      "text/plain": [
       "<Figure size 864x144 with 1 Axes>"
      ]
     },
     "metadata": {},
     "output_type": "display_data"
    }
   ],
   "source": [
    "# Monday=0, Sunday=6\n",
    "\n",
    "lambda_func = lambda dt: dt.dayofweek\n",
    "\n",
    "plt.figure(figsize=(12, 2))\n",
    "\n",
    "plt.hist(test_df['time1'].apply(lambda_func), color='red', alpha=0.5, bins=7)"
   ]
  },
  {
   "cell_type": "markdown",
   "metadata": {},
   "source": [
    "### start_hour"
   ]
  },
  {
   "cell_type": "code",
   "execution_count": 21,
   "metadata": {
    "ExecuteTime": {
     "end_time": "2018-03-25T18:29:08.067397Z",
     "start_time": "2018-03-25T18:29:06.470923Z"
    }
   },
   "outputs": [
    {
     "data": {
      "image/png": "[encoded data removed]",
      "text/plain": [
       "<Figure size 864x288 with 2 Axes>"
      ]
     },
     "metadata": {},
     "output_type": "display_data"
    }
   ],
   "source": [
    "lambda_func = lambda dt: dt.hour\n",
    "\n",
    "plt.figure(figsize=(12, 4))\n",
    "\n",
    "plt.subplot(211)\n",
    "plt.hist(train_df_alice['time1'].apply(lambda_func), color='red', alpha=0.5, bins=48)\n",
    "\n",
    "plt.subplot(212)\n",
    "plt.hist(train_df_non_alice['time1'].apply(lambda_func), color='blue', alpha=0.5, bins=48)\n",
    "\n",
    "plt.show()"
   ]
  },
  {
   "cell_type": "code",
   "execution_count": 22,
   "metadata": {
    "ExecuteTime": {
     "end_time": "2018-03-26T20:46:35.207057Z",
     "start_time": "2018-03-26T20:46:35.183082Z"
    }
   },
   "outputs": [
    {
     "data": {
      "text/plain": [
       "16    879\n",
       "17    618\n",
       "12    340\n",
       "13    196\n",
       "18    179\n",
       "15     40\n",
       "9      38\n",
       "14      4\n",
       "11      3\n",
       "Name: time1, dtype: int64"
      ]
     },
     "execution_count": 22,
     "metadata": {},
     "output_type": "execute_result"
    }
   ],
   "source": [
    "train_df_alice['time1'].apply(lambda dt: dt.hour).value_counts()"
   ]
  },
  {
   "cell_type": "markdown",
   "metadata": {
    "ExecuteTime": {
     "end_time": "2018-03-24T14:21:56.465654Z",
     "start_time": "2018-03-24T14:21:56.461671Z"
    }
   },
   "source": [
    "### session_duration"
   ]
  },
  {
   "cell_type": "code",
   "execution_count": 23,
   "metadata": {
    "ExecuteTime": {
     "end_time": "2018-03-25T18:13:32.062099Z",
     "start_time": "2018-03-25T18:13:03.018034Z"
    }
   },
   "outputs": [],
   "source": [
    "def get_session_duration(row):\n",
    "    last_valid_time = None\n",
    "    for col in range(len(row), 0, -1):\n",
    "        current_time_col = 'time{}'.format(col)\n",
    "        if not (pd.isnull(row[current_time_col])):\n",
    "            return (row[current_time_col] - row['time1']).seconds\n",
    "        \n",
    "alice_session_durations = train_df_alice[time_columns].apply(get_session_duration, axis=1)\n",
    "non_alice_session_durations = train_df_non_alice[time_columns].apply(get_session_duration, axis=1)"
   ]
  },
  {
   "cell_type": "code",
   "execution_count": 24,
   "metadata": {
    "ExecuteTime": {
     "end_time": "2018-03-25T18:32:53.502985Z",
     "start_time": "2018-03-25T18:32:52.919969Z"
    }
   },
   "outputs": [
    {
     "data": {
      "image/png": "[encoded data removed]",
      "text/plain": [
       "<Figure size 864x288 with 2 Axes>"
      ]
     },
     "metadata": {},
     "output_type": "display_data"
    }
   ],
   "source": [
    "plt.figure(figsize=(12, 4))\n",
    "\n",
    "plt.subplot(211)\n",
    "plt.hist(alice_session_durations, color='red', alpha=0.5, bins=100)\n",
    "plt.ylim(0, 75)\n",
    "\n",
    "plt.subplot(212)\n",
    "plt.hist(non_alice_session_durations, color='blue', alpha=0.5, bins=100)\n",
    "plt.ylim(0, 75 * target_proportion)\n",
    "\n",
    "plt.show()"
   ]
  },
  {
   "cell_type": "markdown",
   "metadata": {},
   "source": [
    "### session_length"
   ]
  },
  {
   "cell_type": "code",
   "execution_count": 25,
   "metadata": {
    "ExecuteTime": {
     "end_time": "2018-03-25T19:01:52.058325Z",
     "start_time": "2018-03-25T19:00:48.265294Z"
    }
   },
   "outputs": [],
   "source": [
    "def get_session_length(row):\n",
    "    notnulls = [int(not pd.isnull(row[col])) for col in range(row.shape[0])]\n",
    "    return sum(notnulls)\n",
    "\n",
    "alice_session_lengths = train_df_alice[time_columns].apply(get_session_length, axis=1)\n",
    "non_alice_session_lengths = train_df_non_alice[time_columns].apply(get_session_length, axis=1)"
   ]
  },
  {
   "cell_type": "code",
   "execution_count": 26,
   "metadata": {
    "ExecuteTime": {
     "end_time": "2018-03-25T19:02:20.540773Z",
     "start_time": "2018-03-25T19:02:20.529772Z"
    }
   },
   "outputs": [
    {
     "data": {
      "text/plain": [
       "2"
      ]
     },
     "execution_count": 26,
     "metadata": {},
     "output_type": "execute_result"
    }
   ],
   "source": [
    "len(train_df_alice[['time1', 'time2']].shape)"
   ]
  },
  {
   "cell_type": "code",
   "execution_count": 27,
   "metadata": {
    "ExecuteTime": {
     "end_time": "2018-03-25T18:38:38.455686Z",
     "start_time": "2018-03-25T18:38:38.096684Z"
    }
   },
   "outputs": [
    {
     "data": {
      "image/png": "[encoded data removed]",
      "text/plain": [
       "<Figure size 864x288 with 2 Axes>"
      ]
     },
     "metadata": {},
     "output_type": "display_data"
    }
   ],
   "source": [
    "plt.figure(figsize=(12, 4))\n",
    "\n",
    "plt.subplot(211)\n",
    "plt.hist(alice_session_lengths, color='red', alpha=0.5)\n",
    "plt.ylim(0, 40)\n",
    "\n",
    "plt.subplot(212)\n",
    "plt.hist(non_alice_session_lengths, color='blue', alpha=0.5)\n",
    "plt.ylim(0, 40 * target_proportion)\n",
    "\n",
    "plt.show()"
   ]
  },
  {
   "cell_type": "markdown",
   "metadata": {
    "collapsed": true
   },
   "source": [
    "### unique_sites"
   ]
  },
  {
   "cell_type": "code",
   "execution_count": 28,
   "metadata": {
    "ExecuteTime": {
     "end_time": "2018-03-26T21:19:46.978915Z",
     "start_time": "2018-03-26T21:19:46.970919Z"
    }
   },
   "outputs": [],
   "source": [
    "def count_unique_sites(row):\n",
    "    sites = [row[col] for col in range(row.shape[0])]\n",
    "    return len(set(sites))"
   ]
  },
  {
   "cell_type": "code",
   "execution_count": 29,
   "metadata": {
    "ExecuteTime": {
     "end_time": "2018-03-26T21:22:11.450421Z",
     "start_time": "2018-03-26T21:20:33.714760Z"
    }
   },
   "outputs": [],
   "source": [
    "train_df_alice['unique_sites'] = train_df_alice[site_columns].apply(count_unique_sites, axis=1)\n",
    "train_df_non_alice['unique_sites'] = train_df_non_alice[site_columns].apply(count_unique_sites, axis=1)"
   ]
  },
  {
   "cell_type": "code",
   "execution_count": 30,
   "metadata": {
    "ExecuteTime": {
     "end_time": "2018-03-26T21:22:20.811811Z",
     "start_time": "2018-03-26T21:22:20.203153Z"
    }
   },
   "outputs": [
    {
     "data": {
      "image/png": "[encoded data removed]",
      "text/plain": [
       "<Figure size 864x288 with 2 Axes>"
      ]
     },
     "metadata": {},
     "output_type": "display_data"
    }
   ],
   "source": [
    "plt.figure(figsize=(12, 4))\n",
    "\n",
    "plt.subplot(211)\n",
    "plt.hist(train_df_alice['unique_sites'], color='red', alpha=0.5)\n",
    "#plt.ylim(0, 40)\n",
    "\n",
    "plt.subplot(212)\n",
    "plt.hist(train_df_non_alice['unique_sites'], color='blue', alpha=0.5)\n",
    "#plt.ylim(0, 40 * target_proportion)\n",
    "\n",
    "plt.show()"
   ]
  },
  {
   "cell_type": "markdown",
   "metadata": {},
   "source": [
    "### mean time per site"
   ]
  },
  {
   "cell_type": "code",
   "execution_count": 31,
   "metadata": {},
   "outputs": [],
   "source": [
    "def mean_time_per_site(row):\n",
    "    times = []\n",
    "    for col in range(2, len(row) + 1):\n",
    "        current_time = row['time{}'.format(col)]\n",
    "        prev_time = row['time{}'.format(col - 1)]\n",
    "        if(pd.isnull(current_time)):\n",
    "            break\n",
    "        times.append((current_time - prev_time).seconds)\n",
    "    if(len(times) == 0):\n",
    "        return 30.0*60.0 # one site for 30-minute session\n",
    "    else:\n",
    "        return np.mean(times)"
   ]
  },
  {
   "cell_type": "code",
   "execution_count": 32,
   "metadata": {},
   "outputs": [],
   "source": [
    "train_df_alice['mean_time_per_site'] = train_df_alice[time_columns].apply(mean_time_per_site, axis=1)\n",
    "train_df_non_alice['mean_time_per_site'] = train_df_non_alice[time_columns].apply(mean_time_per_site, axis=1)"
   ]
  },
  {
   "cell_type": "code",
   "execution_count": 33,
   "metadata": {},
   "outputs": [
    {
     "data": {
      "image/png": "[encoded data removed]",
      "text/plain": [
       "<Figure size 864x288 with 2 Axes>"
      ]
     },
     "metadata": {},
     "output_type": "display_data"
    }
   ],
   "source": [
    "plt.figure(figsize=(12, 4))\n",
    "\n",
    "plt.subplot(211)\n",
    "plt.hist(train_df_alice['mean_time_per_site'], color='red', alpha=0.5, bins=250)\n",
    "plt.ylim(0, 30)\n",
    "plt.xlim(0, 300)\n",
    "\n",
    "plt.subplot(212)\n",
    "plt.hist(train_df_non_alice['mean_time_per_site'], color='blue', alpha=0.5, bins=250)\n",
    "plt.ylim(0, 30 * target_proportion)\n",
    "plt.xlim(0, 300)\n",
    "\n",
    "plt.show()"
   ]
  },
  {
   "cell_type": "markdown",
   "metadata": {},
   "source": [
    "### top alice sites"
   ]
  },
  {
   "cell_type": "code",
   "execution_count": 34,
   "metadata": {},
   "outputs": [],
   "source": [
    "with open('./data/site_dic.pkl', 'rb') as sites_file:\n",
    "    sites_dict = pickle.load(sites_file)\n",
    "    \n",
    "sites_dict[''] = 0\n",
    "    \n",
    "reverse_sites_dict = {val: key for (key, val) in sites_dict.items()}"
   ]
  },
  {
   "cell_type": "code",
   "execution_count": 35,
   "metadata": {
    "ExecuteTime": {
     "end_time": "2018-03-27T05:56:08.438678Z",
     "start_time": "2018-03-27T05:56:07.722497Z"
    }
   },
   "outputs": [],
   "source": [
    "alice_sites = Counter()\n",
    "for idx, row in train_df_alice.iterrows():\n",
    "    row_sites = [int(row['site{}'.format(index)]) for index in range(1, 11)]\n",
    "    alice_sites += Counter(row_sites)"
   ]
  },
  {
   "cell_type": "code",
   "execution_count": 36,
   "metadata": {
    "ExecuteTime": {
     "end_time": "2018-03-27T06:00:06.536493Z",
     "start_time": "2018-03-27T06:00:06.528513Z"
    }
   },
   "outputs": [
    {
     "data": {
      "text/plain": [
       "1054"
      ]
     },
     "execution_count": 36,
     "metadata": {},
     "output_type": "execute_result"
    }
   ],
   "source": [
    "len(alice_sites)"
   ]
  },
  {
   "cell_type": "code",
   "execution_count": 37,
   "metadata": {},
   "outputs": [
    {
     "data": {
      "text/plain": [
       "[(77, 1382),\n",
       " (80, 1354),\n",
       " (76, 1307),\n",
       " (29, 897),\n",
       " (21, 857),\n",
       " (81, 609),\n",
       " (22, 522),\n",
       " (879, 522),\n",
       " (75, 451),\n",
       " (82, 447)]"
      ]
     },
     "execution_count": 37,
     "metadata": {},
     "output_type": "execute_result"
    }
   ],
   "source": [
    "alice_sites.most_common(10)"
   ]
  },
  {
   "cell_type": "code",
   "execution_count": 38,
   "metadata": {
    "ExecuteTime": {
     "end_time": "2018-03-27T06:03:34.673659Z",
     "start_time": "2018-03-27T06:03:34.661681Z"
    }
   },
   "outputs": [
    {
     "data": {
      "text/plain": [
       "{'apis.google.com': 522,\n",
       " 'i1.ytimg.com': 1382,\n",
       " 'r1---sn-gxo5uxg-jqbe.googlevideo.com': 522,\n",
       " 'r2---sn-gxo5uxg-jqbe.googlevideo.com': 447,\n",
       " 'r4---sn-gxo5uxg-jqbe.googlevideo.com': 609,\n",
       " 's.youtube.com': 1354,\n",
       " 's.ytimg.com': 451,\n",
       " 'www.facebook.com': 897,\n",
       " 'www.google.fr': 857,\n",
       " 'www.youtube.com': 1307}"
      ]
     },
     "execution_count": 38,
     "metadata": {},
     "output_type": "execute_result"
    }
   ],
   "source": [
    "top_10_alice_sites = {reverse_sites_dict[key]: val for (key, val) in alice_sites.most_common(10)}\n",
    "top_10_alice_sites"
   ]
  },
  {
   "cell_type": "markdown",
   "metadata": {},
   "source": [
    "### top non-alice sites"
   ]
  },
  {
   "cell_type": "code",
   "execution_count": 39,
   "metadata": {},
   "outputs": [],
   "source": [
    "non_alice_sites = Counter()\n",
    "for idx, row in train_df_non_alice.iterrows():\n",
    "    row_sites = [int(row['site{}'.format(index)]) for index in range(1, 11)]\n",
    "    non_alice_sites += Counter(row_sites)"
   ]
  },
  {
   "cell_type": "code",
   "execution_count": 40,
   "metadata": {},
   "outputs": [
    {
     "data": {
      "text/plain": [
       "41412"
      ]
     },
     "execution_count": 40,
     "metadata": {},
     "output_type": "execute_result"
    }
   ],
   "source": [
    "len(non_alice_sites)"
   ]
  },
  {
   "cell_type": "code",
   "execution_count": 41,
   "metadata": {},
   "outputs": [
    {
     "data": {
      "text/plain": [
       "[(21, 122919),\n",
       " (0, 122529),\n",
       " (23, 87182),\n",
       " (782, 77055),\n",
       " (22, 57736),\n",
       " (29, 53197),\n",
       " (167, 46355),\n",
       " (780, 43841),\n",
       " (778, 38194),\n",
       " (52, 35879)]"
      ]
     },
     "execution_count": 41,
     "metadata": {},
     "output_type": "execute_result"
    }
   ],
   "source": [
    "non_alice_sites.most_common(10)"
   ]
  },
  {
   "cell_type": "code",
   "execution_count": 42,
   "metadata": {},
   "outputs": [
    {
     "data": {
      "text/plain": [
       "{'': 122529,\n",
       " 'annotathon.org': 77055,\n",
       " 'apis.google.com': 57736,\n",
       " 'blast.ncbi.nlm.nih.gov': 43841,\n",
       " 'clients1.google.com': 35879,\n",
       " 'www.bing.com': 46355,\n",
       " 'www.facebook.com': 53197,\n",
       " 'www.google.com': 87182,\n",
       " 'www.google.fr': 122919,\n",
       " 'www.ncbi.nlm.nih.gov': 38194}"
      ]
     },
     "execution_count": 42,
     "metadata": {},
     "output_type": "execute_result"
    }
   ],
   "source": [
    "top_10_non_alice_sites = {reverse_sites_dict[key]: val for (key, val) in non_alice_sites.most_common(10)}\n",
    "top_10_non_alice_sites"
   ]
  },
  {
   "cell_type": "code",
   "execution_count": null,
   "metadata": {},
   "outputs": [],
   "source": []
  }
 ],
 "metadata": {
  "kernelspec": {
   "display_name": "Python 3",
   "language": "python",
   "name": "python3"
  },
  "language_info": {
   "codemirror_mode": {
    "name": "ipython",
    "version": 3
   },
   "file_extension": ".py",
   "mimetype": "text/x-python",
   "name": "python",
   "nbconvert_exporter": "python",
   "pygments_lexer": "ipython3",
   "version": "3.6.4"
  }
 },
 "nbformat": 4,
 "nbformat_minor": 2
}
