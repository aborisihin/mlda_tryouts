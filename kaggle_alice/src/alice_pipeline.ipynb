{
 "cells": [
  {
   "cell_type": "code",
   "execution_count": 1,
   "metadata": {
    "ExecuteTime": {
     "end_time": "2018-03-28T20:27:33.523974Z",
     "start_time": "2018-03-28T20:27:31.819785Z"
    }
   },
   "outputs": [],
   "source": [
    "import numpy as np\n",
    "import pandas as pd\n",
    "import pickle\n",
    "import matplotlib.pyplot as plt\n",
    "\n",
    "import os\n",
    "from datetime import datetime\n",
    "from tqdm import tqdm_notebook\n",
    "\n",
    "from scipy import sparse\n",
    "from sklearn.linear_model import LogisticRegression\n",
    "from sklearn.preprocessing import StandardScaler, MinMaxScaler\n",
    "from sklearn.feature_extraction.text import TfidfVectorizer\n",
    "from sklearn.model_selection import GridSearchCV, StratifiedKFold, TimeSeriesSplit\n",
    "from sklearn.metrics import roc_auc_score\n",
    "\n",
    "from sklearn.pipeline import Pipeline\n",
    "from sklearn.base import BaseEstimator, TransformerMixin\n",
    "\n",
    "%matplotlib inline"
   ]
  },
  {
   "cell_type": "markdown",
   "metadata": {},
   "source": [
    "Идеи:\n",
    "- среднее время пребывания за сессию на (top30_alice & top30_non_alice)\n",
    "- количество посещений в сессии top30_alice\n",
    "- количество посещений в сессии top30_non_alice\n",
    "- уменьшить размер обучающей выборки (старые данные)"
   ]
  },
  {
   "cell_type": "code",
   "execution_count": 2,
   "metadata": {
    "ExecuteTime": {
     "end_time": "2018-03-28T20:27:33.575679Z",
     "start_time": "2018-03-28T20:27:33.539682Z"
    }
   },
   "outputs": [],
   "source": [
    "def write_to_submission_file(predicted_proba, \n",
    "                             filename, \n",
    "                             out_folder='./submissions', \n",
    "                             timestamp=False,\n",
    "                             target='target', \n",
    "                             index_label=\"session_id\"):\n",
    "    \n",
    "    if timestamp:\n",
    "        out_filename = '{}_{}.csv'.format(filename, datetime.now().strftime('%m%d_%H%M'))\n",
    "    else:\n",
    "        out_filename = '{}.csv'.format(filename)\n",
    "        \n",
    "    out_full_path = os.path.join(out_folder, out_filename)    \n",
    "    \n",
    "    predicted_df = pd.DataFrame(predicted_proba[:, 1], \n",
    "                                index=np.arange(1, predicted_proba.shape[0] + 1), \n",
    "                                columns=[target])\n",
    "    \n",
    "    predicted_df.to_csv(out_full_path, index_label=index_label)"
   ]
  },
  {
   "cell_type": "markdown",
   "metadata": {},
   "source": [
    "### data preprocess"
   ]
  },
  {
   "cell_type": "code",
   "execution_count": 3,
   "metadata": {
    "ExecuteTime": {
     "end_time": "2018-03-28T20:27:37.909926Z",
     "start_time": "2018-03-28T20:27:34.454169Z"
    }
   },
   "outputs": [],
   "source": [
    "train_df = pd.read_csv('./data/train_sessions.csv', index_col='session_id')\n",
    "test_df = pd.read_csv('./data/test_sessions.csv', index_col='session_id')"
   ]
  },
  {
   "cell_type": "code",
   "execution_count": 4,
   "metadata": {
    "ExecuteTime": {
     "end_time": "2018-03-28T20:27:37.945891Z",
     "start_time": "2018-03-28T20:27:37.909926Z"
    }
   },
   "outputs": [
    {
     "name": "stdout",
     "output_type": "stream",
     "text": [
      "train_df: (253561, 21)\n",
      "test_df: (82797, 20)\n"
     ]
    }
   ],
   "source": [
    "print('train_df:', train_df.shape)\n",
    "print('test_df:', test_df.shape)"
   ]
  },
  {
   "cell_type": "code",
   "execution_count": 5,
   "metadata": {
    "ExecuteTime": {
     "end_time": "2018-03-28T20:27:38.863907Z",
     "start_time": "2018-03-28T20:27:37.949893Z"
    }
   },
   "outputs": [],
   "source": [
    "train_df = train_df.sort_values('time1', axis=0, ascending=True)"
   ]
  },
  {
   "cell_type": "code",
   "execution_count": 6,
   "metadata": {
    "ExecuteTime": {
     "end_time": "2018-03-28T20:27:39.504082Z",
     "start_time": "2018-03-28T20:27:38.863907Z"
    }
   },
   "outputs": [],
   "source": [
    "train_test_split_idx = train_df.shape[0]\n",
    "\n",
    "X_train_test = pd.concat([train_df.drop('target', axis=1), test_df])\n",
    "y_train = train_df['target']"
   ]
  },
  {
   "cell_type": "code",
   "execution_count": 7,
   "metadata": {
    "ExecuteTime": {
     "end_time": "2018-03-28T20:27:44.395906Z",
     "start_time": "2018-03-28T20:27:39.508063Z"
    }
   },
   "outputs": [],
   "source": [
    "site_columns = ['site{}'.format(n) for n in range(1, 11)]\n",
    "time_columns = ['time{}'.format(n) for n in range(1, 11)]\n",
    "\n",
    "X_train_test[site_columns] = X_train_test[site_columns].fillna(0).astype('int')\n",
    "X_train_test[time_columns] = X_train_test[time_columns].apply(pd.to_datetime)"
   ]
  },
  {
   "cell_type": "code",
   "execution_count": 8,
   "metadata": {
    "ExecuteTime": {
     "end_time": "2018-03-28T20:27:44.443908Z",
     "start_time": "2018-03-28T20:27:44.399910Z"
    }
   },
   "outputs": [],
   "source": [
    "with open('./data/site_dic.pkl', 'rb') as sites_file:\n",
    "    sites_dict = pickle.load(sites_file)\n",
    "    \n",
    "# empty site\n",
    "sites_dict[''] = 0"
   ]
  },
  {
   "cell_type": "markdown",
   "metadata": {},
   "source": [
    "### pipeline classes and modificate methods"
   ]
  },
  {
   "cell_type": "code",
   "execution_count": 9,
   "metadata": {
    "ExecuteTime": {
     "end_time": "2018-03-28T20:28:47.202727Z",
     "start_time": "2018-03-28T20:28:46.418606Z"
    }
   },
   "outputs": [],
   "source": [
    "# FeaturesUnion to DataFrame\n",
    "class DataFrameFeaturesUnion(BaseEstimator, TransformerMixin):\n",
    "    \n",
    "    def __init__(self, transformer_list, verbose=False):\n",
    "        self.transformer_list = transformer_list\n",
    "        self.verbose = verbose\n",
    "        \n",
    "    def fit(self, X, y=None):\n",
    "        for transformer in self.transformer_list:\n",
    "            transformer[1].fit(X, y)\n",
    "            if self.verbose:\n",
    "                print('fitted {}'.format(transformer[0]))\n",
    "        return self\n",
    "    \n",
    "    def transform(self, X):\n",
    "        Xs = []\n",
    "        for transformer in self.transformer_list:\n",
    "            Xs.append(transformer[1].transform(X))\n",
    "            if self.verbose:\n",
    "                print('transformed {}: {}'.format(transformer[0], Xs[-1].shape))\n",
    "        transformed = pd.concat(Xs, axis=1)\n",
    "        if self.verbose:\n",
    "            print('output shape: {}'.format(transformed.shape))\n",
    "        return transformed\n",
    "\n",
    "# data selecting\n",
    "class DataSelect(BaseEstimator, TransformerMixin):\n",
    "    \n",
    "    def __init__(self, column_names):\n",
    "        self.column_names = column_names\n",
    "        \n",
    "    def fit(self, X, y=None):\n",
    "        return self\n",
    "        \n",
    "    def transform(self, X):\n",
    "        return X[self.column_names]\n",
    "    \n",
    "# insert float feature\n",
    "class FloatFeatureInsert(BaseEstimator, TransformerMixin):\n",
    "    \n",
    "    def __init__(self, feature_name, new_feature_name, modificate_method, method_axis=0, scaler=None):\n",
    "        self.feature_name = feature_name\n",
    "        self.new_feature_name = new_feature_name\n",
    "        self.modificate_method = modificate_method\n",
    "        self.method_axis = method_axis\n",
    "        self.scaler = scaler\n",
    "        \n",
    "    def fit(self, X, y=None):\n",
    "        # column\n",
    "        if len(X[self.feature_name].shape) == 1: \n",
    "            self.new_feature = X[self.feature_name].apply(self.modificate_method)\n",
    "        # dataframe\n",
    "        else: \n",
    "            self.new_feature = X[self.feature_name].apply(self.modificate_method, axis=self.method_axis)\n",
    "        \n",
    "        if self.scaler is not None:\n",
    "            self.new_feature = self.new_feature.astype('float64').values.reshape(-1, 1)\n",
    "            self.new_feature = self.scaler.fit_transform(self.new_feature)\n",
    "        \n",
    "        return self\n",
    "            \n",
    "    def transform(self, X):\n",
    "        return pd.DataFrame(self.new_feature, columns=[self.new_feature_name], index=X.index)\n",
    "        \n",
    "    \n",
    "# insert one-hot-encoded feature\n",
    "class OHEFeatureInsert(BaseEstimator, TransformerMixin):\n",
    "    \n",
    "    def __init__(self, feature_name, new_feature_name, modificate_method, method_axis=0):\n",
    "        self.feature_name = feature_name\n",
    "        self.new_feature_name = new_feature_name\n",
    "        self.modificate_method = modificate_method\n",
    "        self.method_axis = method_axis\n",
    "        \n",
    "    def fit(self, X, y=None):\n",
    "        # column\n",
    "        if len(X[self.feature_name].shape) == 1: \n",
    "            self.new_feature = X[self.feature_name].apply(self.modificate_method)\n",
    "        # dataframe\n",
    "        else: \n",
    "            self.new_feature = X[self.feature_name].apply(self.modificate_method, axis=self.method_axis)\n",
    "            \n",
    "        return self\n",
    "            \n",
    "    def transform(self, X):\n",
    "        return pd.get_dummies(self.new_feature, prefix=self.new_feature_name)\n",
    "    \n",
    "# tf-idf for selected features\n",
    "class TfIdfEncode(BaseEstimator, TransformerMixin):\n",
    "    \n",
    "    def __init__(self, features_name, ngram_range, max_features):\n",
    "        self.features_name = features_name\n",
    "        self.ngram_range = ngram_range\n",
    "        self.max_features = max_features\n",
    "    \n",
    "    def fit(self, X, y=None):\n",
    "        join_method = lambda row: ' '.join(np.array([x*10 for x in row.values if x != 0]).astype('str'))\n",
    "        self.all_for_tfidf_column = X[self.features_name].apply(join_method, axis=1)\n",
    "        return self\n",
    "        \n",
    "    def transform(self, X):\n",
    "        vectorizer = TfidfVectorizer(ngram_range=self.ngram_range, max_features=self.max_features)\n",
    "        tfidf_sparse = vectorizer.fit_transform(self.all_for_tfidf_column)\n",
    "        transformed = sparse.csc_matrix(sparse.hstack([X.drop(self.features_name), tfidf_sparse]))\n",
    "        return transformed\n",
    "    \n",
    "# make sites sparse matrix (one-hot-encoding)\n",
    "# class SparseOneHotEncode(BaseEstimator, TransformerMixin):\n",
    "    \n",
    "#     def fit(self, X, y=None):\n",
    "#         self.values_flatten = X.values.flatten()\n",
    "#         return self\n",
    "    \n",
    "#     def transform(self, X):\n",
    "#         transformed = sparse.csr_matrix(([1] * self.values_flatten.shape[0], \n",
    "#                                          self.values_flatten, \n",
    "#                                          range(0, self.values_flatten.shape[0] + 10, 10)))[:, 1:]\n",
    "#         return transformed\n",
    "\n",
    "# insert binary feature\n",
    "# class BinaryFeatureInsert(BaseEstimator, TransformerMixin):\n",
    "    \n",
    "#     def __init__(self, feature_column, new_feature_name, modificate_method):\n",
    "#         self.feature_column = feature_column\n",
    "#         self.new_feature_name = new_feature_name\n",
    "#         self.modificate_method = modificate_method\n",
    "        \n",
    "#     def fit(self, X, y=None):\n",
    "#         new_feature_column = self.feature_column.apply(self.modificate_method)\n",
    "#         self.feature_df = pd.DataFrame(new_feature_column.values.reshape(-1, 1), columns=[self.new_feature_name])\n",
    "#         print('BinaryFeatureInsertion: {}'.format(self.new_feature_name))\n",
    "#         return self\n",
    "            \n",
    "#     def transform(self, X):\n",
    "#         transformed = sparse.csc_matrix(sparse.hstack([X, self.feature_df]))\n",
    "#         return transformed"
   ]
  },
  {
   "cell_type": "code",
   "execution_count": 10,
   "metadata": {
    "ExecuteTime": {
     "end_time": "2018-03-28T20:28:47.327205Z",
     "start_time": "2018-03-28T20:28:47.283201Z"
    }
   },
   "outputs": [],
   "source": [
    "start_year_month_mod = lambda dt: dt.year * 100 + dt.month\n",
    "start_YMD_mod = lambda dt: (dt.year * 100 + dt.month) * 100 + dt.day\n",
    "start_hour_mod = lambda dt: dt.hour\n",
    "dayofweek_mod = lambda dt: dt.dayofweek\n",
    "\n",
    "session_length_mod = lambda row: sum([int(not pd.isnull(row[col])) for col in range(row.shape[0])])\n",
    "\n",
    "def daytime_mod(dt):\n",
    "    if dt.hour <= 11:\n",
    "        return 1\n",
    "    elif (dt.hour >= 12) & (dt.hour <= 15):\n",
    "        return 2\n",
    "    else:\n",
    "        return 3\n",
    "\n",
    "def session_duration_mod(row):\n",
    "    for col in range(row.shape[0])[::-1]:\n",
    "        if not (pd.isnull(row[col])):\n",
    "            return (row[col] - row[0]).seconds"
   ]
  },
  {
   "cell_type": "markdown",
   "metadata": {},
   "source": [
    "### feature processing pipeline"
   ]
  },
  {
   "cell_type": "code",
   "execution_count": 11,
   "metadata": {
    "ExecuteTime": {
     "end_time": "2018-03-28T20:28:48.606680Z",
     "start_time": "2018-03-28T20:28:48.562704Z"
    }
   },
   "outputs": [],
   "source": [
    "feat_processing_pipeline = Pipeline(steps = [\n",
    "    \n",
    "    ('feature_engineering', DataFrameFeaturesUnion(verbose=True, transformer_list = [\n",
    "        \n",
    "        # selecting\n",
    "    \n",
    "        ('selecting', DataSelect(site_columns)),\n",
    "    \n",
    "        # new features\n",
    "        \n",
    "        ('start_year_month_insertion', OHEFeatureInsert(feature_name='time1', \n",
    "                                                        new_feature_name='start_year_month', \n",
    "                                                        modificate_method=start_year_month_mod)),\n",
    "\n",
    "#         ('start_YMD_insertion', OHEFeatureInsert(feature_name='time1', \n",
    "#                                                  new_feature_name='start_YMD', \n",
    "#                                                  modificate_method=start_YMD_mod)),\n",
    "\n",
    "        ('dayofweek_insertion', OHEFeatureInsert(feature_name='time1', \n",
    "                                                 new_feature_name='dayofweek', \n",
    "                                                 modificate_method=dayofweek_mod)),\n",
    "\n",
    "        ('start_hour_insertion', OHEFeatureInsert(feature_name='time1', \n",
    "                                                  new_feature_name='start_hour', \n",
    "                                                  modificate_method=start_hour_mod)),\n",
    "\n",
    "        ('daytime_insertion', OHEFeatureInsert(feature_name='time1', \n",
    "                                               new_feature_name='daytime', \n",
    "                                               modificate_method=daytime_mod)),\n",
    "\n",
    "#         ('session_length_insertion', OHEFeatureInsert(feature_name=time_columns, \n",
    "#                                                       new_feature_name='session_length', \n",
    "#                                                       modificate_method=session_length_mod, \n",
    "#                                                       method_axis=1)),\n",
    "\n",
    "#         ('session_duration_insertion', FloatFeatureInsert(feature_name=time_columns,\n",
    "#                                                           new_feature_name='session_duration', \n",
    "#                                                           modificate_method=session_duration_mod, \n",
    "#                                                           method_axis=1, \n",
    "#                                                           scaler=MinMaxScaler(feature_range=(0, 1)))),\n",
    "    ])),\n",
    "    \n",
    "# tf-idf\n",
    "    \n",
    "    ('sparse_tf_idf', TfIdfEncode(features_name=site_columns, \n",
    "                                  ngram_range=(1, 3), \n",
    "                                  max_features=100000))\n",
    "])"
   ]
  },
  {
   "cell_type": "code",
   "execution_count": 12,
   "metadata": {
    "ExecuteTime": {
     "end_time": "2018-03-28T20:31:42.150909Z",
     "start_time": "2018-03-28T20:28:50.385549Z"
    }
   },
   "outputs": [
    {
     "name": "stdout",
     "output_type": "stream",
     "text": [
      "X_train_test: (336358, 20)\n",
      "fitted selecting\n",
      "fitted start_year_month_insertion\n",
      "fitted dayofweek_insertion\n",
      "fitted start_hour_insertion\n",
      "fitted daytime_insertion\n",
      "transformed selecting: (336358, 10)\n",
      "transformed start_year_month_insertion: (336358, 24)\n",
      "transformed dayofweek_insertion: (336358, 7)\n",
      "transformed start_hour_insertion: (336358, 17)\n",
      "transformed daytime_insertion: (336358, 3)\n",
      "output shape: (336358, 61)\n",
      "X_transformed: <class 'scipy.sparse.csc.csc_matrix'> (336358, 100061)\n",
      "Wall time: 23.3 s\n"
     ]
    }
   ],
   "source": [
    "%%time\n",
    "\n",
    "print('X_train_test:', X_train_test.shape)\n",
    "\n",
    "X_transformed = feat_processing_pipeline.fit_transform(X_train_test)\n",
    "\n",
    "print('X_transformed:', type(X_transformed), X_transformed.shape)"
   ]
  },
  {
   "cell_type": "code",
   "execution_count": 13,
   "metadata": {
    "ExecuteTime": {
     "end_time": "2018-03-28T20:37:55.244828Z",
     "start_time": "2018-03-28T20:37:54.937669Z"
    }
   },
   "outputs": [],
   "source": [
    "X_train_full = X_transformed[:train_test_split_idx, :]\n",
    "y_train_full = y_train\n",
    "\n",
    "X_test = X_transformed[train_test_split_idx:, :]"
   ]
  },
  {
   "cell_type": "code",
   "execution_count": 46,
   "metadata": {
    "ExecuteTime": {
     "end_time": "2018-03-28T20:37:56.158787Z",
     "start_time": "2018-03-28T20:37:55.945217Z"
    }
   },
   "outputs": [],
   "source": [
    "# holdout\n",
    "holdout_size = 0.3\n",
    "holdout_idx = int(round(X_train_full.shape[0] * (1 - holdout_size)))\n",
    "\n",
    "X_train = X_train_full[:holdout_idx, :]\n",
    "y_train = y_train_full[:holdout_idx]\n",
    "\n",
    "X_holdout = X_train_full[holdout_idx:, :]\n",
    "y_holdout = y_train_full[holdout_idx:]\n",
    "\n",
    "# truncated final train\n",
    "truncated_size = 0.7\n",
    "truncated_idx = int(round(X_train_full.shape[0] * (1 - truncated_size)))\n",
    "\n",
    "X_train_truncated = X_train_full[truncated_idx:, :]\n",
    "y_train_truncated = y_train_full[truncated_idx:]"
   ]
  },
  {
   "cell_type": "markdown",
   "metadata": {},
   "source": [
    "### range for C"
   ]
  },
  {
   "cell_type": "code",
   "execution_count": 15,
   "metadata": {
    "ExecuteTime": {
     "end_time": "2018-03-26T21:16:01.342528Z",
     "start_time": "2018-03-26T21:16:01.218545Z"
    }
   },
   "outputs": [
    {
     "name": "stdout",
     "output_type": "stream",
     "text": [
      "0 -> 0.001\n",
      "1 -> 0.0017782794100389228\n",
      "2 -> 0.0031622776601683794\n",
      "3 -> 0.005623413251903491\n",
      "4 -> 0.01\n",
      "5 -> 0.01778279410038923\n",
      "6 -> 0.03162277660168379\n",
      "7 -> 0.05623413251903491\n",
      "8 -> 0.1\n",
      "9 -> 0.1778279410038923\n",
      "10 -> 0.31622776601683794\n",
      "11 -> 0.5623413251903491\n",
      "12 -> 1.0\n",
      "13 -> 1.7782794100389228\n",
      "14 -> 3.1622776601683795\n",
      "15 -> 5.623413251903491\n",
      "16 -> 10.0\n",
      "17 -> 17.78279410038923\n",
      "18 -> 31.622776601683793\n",
      "19 -> 56.23413251903491\n",
      "20 -> 100.0\n",
      "21 -> 177.82794100389228\n",
      "22 -> 316.22776601683796\n",
      "23 -> 562.341325190349\n",
      "24 -> 1000.0\n"
     ]
    }
   ],
   "source": [
    "C_range = np.logspace(-3, 3, 25)\n",
    "\n",
    "for idx, C in enumerate(C_range):\n",
    "    print('{} -> {}'.format(idx, C))"
   ]
  },
  {
   "cell_type": "markdown",
   "metadata": {},
   "source": [
    "### logit manual param search"
   ]
  },
  {
   "cell_type": "code",
   "execution_count": 16,
   "metadata": {
    "ExecuteTime": {
     "end_time": "2018-03-26T21:20:34.880929Z",
     "start_time": "2018-03-26T21:16:01.346535Z"
    }
   },
   "outputs": [
    {
     "data": {
      "application/vnd.jupyter.widget-view+json": {
       "model_id": "a9e1262295fa46479875b54f4e16924c",
       "version_major": 2,
       "version_minor": 0
      },
      "text/html": [
       "<p>Failed to display Jupyter Widget of type <code>HBox</code>.</p>\n",
       "<p>\n",
       "  If you're reading this message in the Jupyter Notebook or JupyterLab Notebook, it may mean\n",
       "  that the widgets JavaScript is still loading. If this message persists, it\n",
       "  likely means that the widgets JavaScript library is either not installed or\n",
       "  not enabled. See the <a href=\"https://ipywidgets.readthedocs.io/en/stable/user_install.html\">Jupyter\n",
       "  Widgets Documentation</a> for setup instructions.\n",
       "</p>\n",
       "<p>\n",
       "  If you're reading this message in another frontend (for example, a static\n",
       "  rendering on GitHub or <a href=\"https://nbviewer.jupyter.org/\">NBViewer</a>),\n",
       "  it may mean that your frontend doesn't currently support widgets.\n",
       "</p>\n"
      ],
      "text/plain": [
       "HBox(children=(IntProgress(value=0, max=25), HTML(value='')))"
      ]
     },
     "metadata": {},
     "output_type": "display_data"
    },
    {
     "name": "stdout",
     "output_type": "stream",
     "text": [
      "\n",
      "Wall time: 14min 31s\n"
     ]
    }
   ],
   "source": [
    "%%time\n",
    "\n",
    "lrs = []\n",
    "train_scores = []\n",
    "holdout_scores = []\n",
    "\n",
    "for C in tqdm_notebook(C_range):\n",
    "    \n",
    "    cur_lr = LogisticRegression(C=C, class_weight='balanced', random_state=14)\n",
    "    cur_lr.fit(X_train, y_train)\n",
    "    \n",
    "    train_score = roc_auc_score(y_train, cur_lr.predict_proba(X_train)[:, 1])\n",
    "    holdout_score = roc_auc_score(y_holdout, cur_lr.predict_proba(X_holdout)[:, 1])\n",
    "    \n",
    "    lrs.append(cur_lr)\n",
    "    train_scores.append(train_score)\n",
    "    holdout_scores.append(holdout_score)"
   ]
  },
  {
   "cell_type": "code",
   "execution_count": 17,
   "metadata": {
    "ExecuteTime": {
     "end_time": "2018-03-26T21:20:35.144043Z",
     "start_time": "2018-03-26T21:20:34.884255Z"
    }
   },
   "outputs": [
    {
     "data": {
      "image/png": "[encoded data removed]",
      "text/plain": [
       "<Figure size 1080x360 with 1 Axes>"
      ]
     },
     "metadata": {},
     "output_type": "display_data"
    }
   ],
   "source": [
    "plt.figure(figsize=(15, 5))\n",
    "\n",
    "plt.plot(range(len(C_range)), train_scores, color='red', label='train')\n",
    "plt.plot(range(len(C_range)), holdout_scores, color='blue', label='holdout')\n",
    "\n",
    "plt.ylim(0.94, 1.01)\n",
    "#plt.xlim(18, 22)\n",
    "plt.xlabel(\"C index\")\n",
    "plt.ylabel(\"roc_auc\")\n",
    "plt.legend()\n",
    "plt.grid()\n",
    "plt.show()"
   ]
  },
  {
   "cell_type": "code",
   "execution_count": 38,
   "metadata": {
    "ExecuteTime": {
     "end_time": "2018-03-26T21:20:35.193635Z",
     "start_time": "2018-03-26T21:20:35.144043Z"
    }
   },
   "outputs": [
    {
     "name": "stdout",
     "output_type": "stream",
     "text": [
      "best holdout score: 0.9601740731663095\n",
      "best C: 17.78279410038923\n",
      "best C index: 17\n"
     ]
    }
   ],
   "source": [
    "print('best holdout score:', np.max(holdout_scores))\n",
    "print('best C:', C_range[np.argmax(holdout_scores)])\n",
    "print('best C index:', np.argmax(holdout_scores))\n",
    "\n",
    "ms_best_estimator = lrs[np.argmax(holdout_scores)]"
   ]
  },
  {
   "cell_type": "markdown",
   "metadata": {},
   "source": [
    "### logit GridSearchCV"
   ]
  },
  {
   "cell_type": "code",
   "execution_count": 26,
   "metadata": {
    "ExecuteTime": {
     "end_time": "2018-03-26T21:20:35.240505Z",
     "start_time": "2018-03-26T21:20:35.209259Z"
    }
   },
   "outputs": [],
   "source": [
    "lr = LogisticRegression(class_weight='balanced', random_state=14)\n",
    "lr_grid = {'C': C_range}"
   ]
  },
  {
   "cell_type": "code",
   "execution_count": 27,
   "metadata": {
    "ExecuteTime": {
     "end_time": "2018-03-26T21:25:32.451084Z",
     "start_time": "2018-03-26T21:20:35.240505Z"
    }
   },
   "outputs": [
    {
     "name": "stdout",
     "output_type": "stream",
     "text": [
      "Fitting 5 folds for each of 25 candidates, totalling 125 fits\n"
     ]
    },
    {
     "name": "stderr",
     "output_type": "stream",
     "text": [
      "[Parallel(n_jobs=-1)]: Done   5 tasks      | elapsed:   22.2s\n",
      "[Parallel(n_jobs=-1)]: Done  10 tasks      | elapsed:   38.7s\n",
      "[Parallel(n_jobs=-1)]: Done  17 tasks      | elapsed:  1.1min\n",
      "[Parallel(n_jobs=-1)]: Done  24 tasks      | elapsed:  1.6min\n",
      "[Parallel(n_jobs=-1)]: Done  33 tasks      | elapsed:  2.3min\n",
      "[Parallel(n_jobs=-1)]: Done  42 tasks      | elapsed:  3.3min\n",
      "[Parallel(n_jobs=-1)]: Done  53 tasks      | elapsed:  4.8min\n",
      "[Parallel(n_jobs=-1)]: Done  64 tasks      | elapsed:  6.5min\n",
      "[Parallel(n_jobs=-1)]: Done  77 tasks      | elapsed:  9.3min\n",
      "[Parallel(n_jobs=-1)]: Done  90 tasks      | elapsed: 12.6min\n",
      "[Parallel(n_jobs=-1)]: Done 105 tasks      | elapsed: 16.2min\n",
      "[Parallel(n_jobs=-1)]: Done 125 out of 125 | elapsed: 20.7min finished\n"
     ]
    },
    {
     "name": "stdout",
     "output_type": "stream",
     "text": [
      "Wall time: 21min 47s\n"
     ]
    }
   ],
   "source": [
    "%%time\n",
    "\n",
    "tss = TimeSeriesSplit(n_splits=5)\n",
    "\n",
    "gs = GridSearchCV(lr, lr_grid, scoring='roc_auc', cv=tss, n_jobs=-1, verbose=10, return_train_score=True)\n",
    "gs.fit(X_train_full, y_train_full)"
   ]
  },
  {
   "cell_type": "code",
   "execution_count": 33,
   "metadata": {
    "ExecuteTime": {
     "end_time": "2018-03-26T21:25:32.708437Z",
     "start_time": "2018-03-26T21:25:32.455091Z"
    }
   },
   "outputs": [
    {
     "data": {
      "image/png": "[encoded data removed]",
      "text/plain": [
       "<Figure size 720x360 with 1 Axes>"
      ]
     },
     "metadata": {},
     "output_type": "display_data"
    }
   ],
   "source": [
    "plt.figure(figsize=(10, 5))\n",
    "\n",
    "# train\n",
    "plt.plot(range(len(lr_grid['C'])), gs.cv_results_['mean_train_score'], color='red', label='train')\n",
    "plt.fill_between(range(len(lr_grid['C'])), \n",
    "                 gs.cv_results_['mean_train_score'] - gs.cv_results_['std_train_score'], \n",
    "                 gs.cv_results_['mean_train_score'] + gs.cv_results_['std_train_score'], \n",
    "                 color='red', alpha=0.2)\n",
    "\n",
    "# test\n",
    "plt.plot(range(len(lr_grid['C'])), gs.cv_results_['mean_test_score'], color='blue', label='test')\n",
    "plt.fill_between(range(len(lr_grid['C'])), \n",
    "                 gs.cv_results_['mean_test_score'] - gs.cv_results_['std_test_score'], \n",
    "                 gs.cv_results_['mean_test_score'] + gs.cv_results_['std_test_score'], \n",
    "                 color='blue', alpha=0.2)\n",
    "\n",
    "# holdout\n",
    "plt.plot(range(len(C_range)), holdout_scores, color='green', label='holdout')\n",
    "\n",
    "plt.ylim(0.83, 1.01)\n",
    "plt.xlabel(\"C index\")\n",
    "plt.ylabel(\"roc_auc\")\n",
    "plt.legend()\n",
    "plt.grid()\n",
    "plt.show()"
   ]
  },
  {
   "cell_type": "code",
   "execution_count": 34,
   "metadata": {
    "ExecuteTime": {
     "end_time": "2018-03-26T21:25:32.747523Z",
     "start_time": "2018-03-26T21:25:32.708437Z"
    }
   },
   "outputs": [
    {
     "name": "stdout",
     "output_type": "stream",
     "text": [
      "gs best params: {'C': 316.22776601683796}\n",
      "gs best score: 0.9246775133615484\n"
     ]
    }
   ],
   "source": [
    "print('gs best params:', gs.best_params_)\n",
    "print('gs best score:', gs.best_score_)"
   ]
  },
  {
   "cell_type": "code",
   "execution_count": 35,
   "metadata": {},
   "outputs": [
    {
     "name": "stdout",
     "output_type": "stream",
     "text": [
      "Fitting 5 folds for each of 25 candidates, totalling 125 fits\n"
     ]
    },
    {
     "name": "stderr",
     "output_type": "stream",
     "text": [
      "[Parallel(n_jobs=-1)]: Done   5 tasks      | elapsed:    6.7s\n",
      "[Parallel(n_jobs=-1)]: Done  10 tasks      | elapsed:   10.9s\n",
      "[Parallel(n_jobs=-1)]: Done  17 tasks      | elapsed:   19.3s\n",
      "[Parallel(n_jobs=-1)]: Done  24 tasks      | elapsed:   27.3s\n",
      "[Parallel(n_jobs=-1)]: Done  33 tasks      | elapsed:   38.0s\n",
      "[Parallel(n_jobs=-1)]: Done  42 tasks      | elapsed:   51.2s\n",
      "[Parallel(n_jobs=-1)]: Done  53 tasks      | elapsed:  1.2min\n",
      "[Parallel(n_jobs=-1)]: Done  64 tasks      | elapsed:  1.5min\n",
      "[Parallel(n_jobs=-1)]: Done  77 tasks      | elapsed:  1.9min\n",
      "[Parallel(n_jobs=-1)]: Done  90 tasks      | elapsed:  2.4min\n",
      "[Parallel(n_jobs=-1)]: Done 105 tasks      | elapsed:  3.0min\n",
      "[Parallel(n_jobs=-1)]: Done 125 out of 125 | elapsed:  3.7min finished\n"
     ]
    },
    {
     "name": "stdout",
     "output_type": "stream",
     "text": [
      "Wall time: 4min 43s\n"
     ]
    }
   ],
   "source": [
    "%%time\n",
    "\n",
    "tss_mts = TimeSeriesSplit(n_splits=5, max_train_size=X_train.shape[0] // 6)\n",
    "\n",
    "gs_mts = GridSearchCV(lr, lr_grid, scoring='roc_auc', cv=tss_mts, n_jobs=-1, verbose=10, return_train_score=True)\n",
    "gs_mts.fit(X_train_full, y_train_full)"
   ]
  },
  {
   "cell_type": "code",
   "execution_count": 36,
   "metadata": {},
   "outputs": [
    {
     "data": {
      "image/png": "[encoded data removed]",
      "text/plain": [
       "<Figure size 720x360 with 1 Axes>"
      ]
     },
     "metadata": {},
     "output_type": "display_data"
    }
   ],
   "source": [
    "plt.figure(figsize=(10, 5))\n",
    "\n",
    "# train\n",
    "plt.plot(range(len(lr_grid['C'])), gs_mts.cv_results_['mean_train_score'], color='red', label='train')\n",
    "plt.fill_between(range(len(lr_grid['C'])), \n",
    "                 gs_mts.cv_results_['mean_train_score'] - gs_mts.cv_results_['std_train_score'], \n",
    "                 gs_mts.cv_results_['mean_train_score'] + gs_mts.cv_results_['std_train_score'], \n",
    "                 color='red', alpha=0.2)\n",
    "\n",
    "# test\n",
    "plt.plot(range(len(lr_grid['C'])), gs_mts.cv_results_['mean_test_score'], color='blue', label='test')\n",
    "plt.fill_between(range(len(lr_grid['C'])), \n",
    "                 gs_mts.cv_results_['mean_test_score'] - gs_mts.cv_results_['std_test_score'], \n",
    "                 gs_mts.cv_results_['mean_test_score'] + gs_mts.cv_results_['std_test_score'], \n",
    "                 color='blue', alpha=0.2)\n",
    "\n",
    "# holdout\n",
    "plt.plot(range(len(C_range)), holdout_scores, color='green', label='holdout')\n",
    "\n",
    "plt.ylim(0.83, 1.01)\n",
    "plt.xlabel(\"C index\")\n",
    "plt.ylabel(\"roc_auc\")\n",
    "plt.legend()\n",
    "plt.grid()\n",
    "plt.show()"
   ]
  },
  {
   "cell_type": "code",
   "execution_count": 37,
   "metadata": {},
   "outputs": [
    {
     "name": "stdout",
     "output_type": "stream",
     "text": [
      "gs_mts best params: {'C': 0.5623413251903491}\n",
      "gs_mts best score: 0.8825033948059766\n"
     ]
    }
   ],
   "source": [
    "print('gs_mts best params:', gs_mts.best_params_)\n",
    "print('gs_mts best score:', gs_mts.best_score_)"
   ]
  },
  {
   "cell_type": "markdown",
   "metadata": {},
   "source": [
    "### choose best estimator"
   ]
  },
  {
   "cell_type": "code",
   "execution_count": 39,
   "metadata": {
    "ExecuteTime": {
     "end_time": "2018-03-28T20:39:14.304159Z",
     "start_time": "2018-03-28T20:38:05.570578Z"
    }
   },
   "outputs": [],
   "source": [
    "#best_estimator = gs.best_estimator_\n",
    "best_estimator = ms_best_estimator\n",
    "#best_ensemble = lrs[16:20]\n",
    "\n",
    "# best_estimator = LogisticRegression(C=1.0, class_weight='balanced', random_state=14)\n",
    "# best_estimator.fit(X_train, y_train)"
   ]
  },
  {
   "cell_type": "code",
   "execution_count": 40,
   "metadata": {
    "ExecuteTime": {
     "end_time": "2018-03-28T20:39:14.355204Z",
     "start_time": "2018-03-28T20:39:14.308320Z"
    }
   },
   "outputs": [
    {
     "name": "stdout",
     "output_type": "stream",
     "text": [
      "max estimator coefficient: 0.0\n",
      "min estimator coefficient: -0.9913002782342334\n",
      "mean estimator coefficient: -0.049040669083211176\n"
     ]
    }
   ],
   "source": [
    "estimator_coeffs = best_estimator.coef_[0][100001:]\n",
    "print('max estimator coefficient:', np.max(estimator_coeffs))\n",
    "print('min estimator coefficient:', np.min(estimator_coeffs))\n",
    "print('mean estimator coefficient:', np.mean(estimator_coeffs))"
   ]
  },
  {
   "cell_type": "code",
   "execution_count": 41,
   "metadata": {
    "ExecuteTime": {
     "end_time": "2018-03-28T20:39:14.448948Z",
     "start_time": "2018-03-28T20:39:14.355204Z"
    }
   },
   "outputs": [
    {
     "name": "stdout",
     "output_type": "stream",
     "text": [
      "holdout_score = 0.9601740731663095\n"
     ]
    }
   ],
   "source": [
    "holdout_score = roc_auc_score(y_holdout, best_estimator.predict_proba(X_holdout)[:, 1])\n",
    "print('holdout_score =', holdout_score)"
   ]
  },
  {
   "cell_type": "markdown",
   "metadata": {},
   "source": [
    "### refit, predict and make submission"
   ]
  },
  {
   "cell_type": "code",
   "execution_count": 47,
   "metadata": {
    "ExecuteTime": {
     "end_time": "2018-03-28T20:40:39.639401Z",
     "start_time": "2018-03-28T20:39:14.448948Z"
    }
   },
   "outputs": [
    {
     "name": "stdout",
     "output_type": "stream",
     "text": [
      "Wall time: 43 s\n"
     ]
    }
   ],
   "source": [
    "%%time\n",
    "\n",
    "# refit\n",
    "#best_estimator.fit(X_train_full, y_train_full)\n",
    "best_estimator.fit(X_train_truncated, y_train_truncated)\n",
    "\n",
    "# prediction\n",
    "prediction = best_estimator.predict_proba(X_test)"
   ]
  },
  {
   "cell_type": "code",
   "execution_count": 48,
   "metadata": {
    "ExecuteTime": {
     "end_time": "2018-03-28T20:40:40.103885Z",
     "start_time": "2018-03-28T20:40:39.639401Z"
    }
   },
   "outputs": [],
   "source": [
    "write_to_submission_file(prediction, filename='prediction', timestamp=True)"
   ]
  },
  {
   "cell_type": "code",
   "execution_count": null,
   "metadata": {},
   "outputs": [],
   "source": []
  }
 ],
 "metadata": {
  "kernelspec": {
   "display_name": "Python 3",
   "language": "python",
   "name": "python3"
  },
  "language_info": {
   "codemirror_mode": {
    "name": "ipython",
    "version": 3
   },
   "file_extension": ".py",
   "mimetype": "text/x-python",
   "name": "python",
   "nbconvert_exporter": "python",
   "pygments_lexer": "ipython3",
   "version": "3.6.5"
  }
 },
 "nbformat": 4,
 "nbformat_minor": 2
}
