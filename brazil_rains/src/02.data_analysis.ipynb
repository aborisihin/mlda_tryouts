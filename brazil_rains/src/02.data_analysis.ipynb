{
 "cells": [
  {
   "cell_type": "code",
   "execution_count": 76,
   "metadata": {
    "ExecuteTime": {
     "end_time": "2018-04-22T13:28:52.151283Z",
     "start_time": "2018-04-22T13:28:52.135277Z"
    },
    "collapsed": true
   },
   "outputs": [],
   "source": [
    "import operator\n",
    "\n",
    "import numpy as np\n",
    "import pandas as pd\n",
    "import matplotlib.pyplot as plt\n",
    "import seaborn as sns\n",
    "\n",
    "from scipy import stats\n",
    "\n",
    "%matplotlib inline"
   ]
  },
  {
   "cell_type": "code",
   "execution_count": 29,
   "metadata": {
    "ExecuteTime": {
     "end_time": "2018-04-22T13:10:23.037059Z",
     "start_time": "2018-04-22T13:10:23.030055Z"
    },
    "collapsed": true
   },
   "outputs": [],
   "source": [
    "import warnings\n",
    "warnings.filterwarnings(\"ignore\")"
   ]
  },
  {
   "cell_type": "code",
   "execution_count": 30,
   "metadata": {
    "ExecuteTime": {
     "end_time": "2018-04-22T13:10:23.435490Z",
     "start_time": "2018-04-22T13:10:23.427485Z"
    },
    "collapsed": true
   },
   "outputs": [],
   "source": [
    "PROCESSED_DATA_FILE = './../data/project_brazil/processed.csv'"
   ]
  },
  {
   "cell_type": "code",
   "execution_count": 31,
   "metadata": {
    "ExecuteTime": {
     "end_time": "2018-04-22T13:10:23.776598Z",
     "start_time": "2018-04-22T13:10:23.770600Z"
    },
    "collapsed": true
   },
   "outputs": [],
   "source": [
    "RANDOM_STATE = 14"
   ]
  },
  {
   "cell_type": "markdown",
   "metadata": {},
   "source": [
    "---"
   ]
  },
  {
   "cell_type": "markdown",
   "metadata": {},
   "source": [
    "Загрузим предварительно обработанные данные."
   ]
  },
  {
   "cell_type": "code",
   "execution_count": 5,
   "metadata": {
    "ExecuteTime": {
     "end_time": "2018-04-22T10:37:09.757387Z",
     "start_time": "2018-04-22T10:37:00.131877Z"
    }
   },
   "outputs": [
    {
     "name": "stdout",
     "output_type": "stream",
     "text": [
      "Размер предварительно обработанного датасета: (1407984, 31)\n"
     ]
    }
   ],
   "source": [
    "df = pd.read_csv(PROCESSED_DATA_FILE)\n",
    "print('Размер предварительно обработанного датасета: {}'.format(df.shape))"
   ]
  },
  {
   "cell_type": "code",
   "execution_count": 6,
   "metadata": {
    "ExecuteTime": {
     "end_time": "2018-04-22T10:37:09.816060Z",
     "start_time": "2018-04-22T10:37:09.758500Z"
    }
   },
   "outputs": [
    {
     "data": {
      "text/html": [
       "<div>\n",
       "<style scoped>\n",
       "    .dataframe tbody tr th:only-of-type {\n",
       "        vertical-align: middle;\n",
       "    }\n",
       "\n",
       "    .dataframe tbody tr th {\n",
       "        vertical-align: top;\n",
       "    }\n",
       "\n",
       "    .dataframe thead th {\n",
       "        text-align: right;\n",
       "    }\n",
       "</style>\n",
       "<table border=\"1\" class=\"dataframe\">\n",
       "  <thead>\n",
       "    <tr style=\"text-align: right;\">\n",
       "      <th></th>\n",
       "      <th>wsid</th>\n",
       "      <th>wsnm</th>\n",
       "      <th>elvt</th>\n",
       "      <th>lat</th>\n",
       "      <th>lon</th>\n",
       "      <th>inme</th>\n",
       "      <th>city</th>\n",
       "      <th>prov</th>\n",
       "      <th>mdct</th>\n",
       "      <th>date</th>\n",
       "      <th>...</th>\n",
       "      <th>tmax</th>\n",
       "      <th>dmax</th>\n",
       "      <th>tmin</th>\n",
       "      <th>dmin</th>\n",
       "      <th>hmdy</th>\n",
       "      <th>hmax</th>\n",
       "      <th>hmin</th>\n",
       "      <th>wdsp</th>\n",
       "      <th>wdct</th>\n",
       "      <th>gust</th>\n",
       "    </tr>\n",
       "  </thead>\n",
       "  <tbody>\n",
       "    <tr>\n",
       "      <th>0</th>\n",
       "      <td>178</td>\n",
       "      <td>SÃO GONÇALO</td>\n",
       "      <td>237.0</td>\n",
       "      <td>-6.835777</td>\n",
       "      <td>-38.311583</td>\n",
       "      <td>A333</td>\n",
       "      <td>São Gonçalo</td>\n",
       "      <td>RJ</td>\n",
       "      <td>2007-11-06 11:00:00</td>\n",
       "      <td>2007-11-06</td>\n",
       "      <td>...</td>\n",
       "      <td>0.0</td>\n",
       "      <td>0.0</td>\n",
       "      <td>0.0</td>\n",
       "      <td>0.0</td>\n",
       "      <td>0.0</td>\n",
       "      <td>0.0</td>\n",
       "      <td>0.0</td>\n",
       "      <td>0.0</td>\n",
       "      <td>0.0</td>\n",
       "      <td>0.0</td>\n",
       "    </tr>\n",
       "    <tr>\n",
       "      <th>1</th>\n",
       "      <td>178</td>\n",
       "      <td>SÃO GONÇALO</td>\n",
       "      <td>237.0</td>\n",
       "      <td>-6.835777</td>\n",
       "      <td>-38.311583</td>\n",
       "      <td>A333</td>\n",
       "      <td>São Gonçalo</td>\n",
       "      <td>RJ</td>\n",
       "      <td>2007-11-06 12:00:00</td>\n",
       "      <td>2007-11-06</td>\n",
       "      <td>...</td>\n",
       "      <td>0.0</td>\n",
       "      <td>0.0</td>\n",
       "      <td>0.0</td>\n",
       "      <td>0.0</td>\n",
       "      <td>0.0</td>\n",
       "      <td>0.0</td>\n",
       "      <td>0.0</td>\n",
       "      <td>0.0</td>\n",
       "      <td>0.0</td>\n",
       "      <td>0.0</td>\n",
       "    </tr>\n",
       "    <tr>\n",
       "      <th>2</th>\n",
       "      <td>178</td>\n",
       "      <td>SÃO GONÇALO</td>\n",
       "      <td>237.0</td>\n",
       "      <td>-6.835777</td>\n",
       "      <td>-38.311583</td>\n",
       "      <td>A333</td>\n",
       "      <td>São Gonçalo</td>\n",
       "      <td>RJ</td>\n",
       "      <td>2007-11-06 13:00:00</td>\n",
       "      <td>2007-11-06</td>\n",
       "      <td>...</td>\n",
       "      <td>0.0</td>\n",
       "      <td>0.0</td>\n",
       "      <td>0.0</td>\n",
       "      <td>0.0</td>\n",
       "      <td>0.0</td>\n",
       "      <td>0.0</td>\n",
       "      <td>0.0</td>\n",
       "      <td>0.0</td>\n",
       "      <td>0.0</td>\n",
       "      <td>0.0</td>\n",
       "    </tr>\n",
       "    <tr>\n",
       "      <th>3</th>\n",
       "      <td>178</td>\n",
       "      <td>SÃO GONÇALO</td>\n",
       "      <td>237.0</td>\n",
       "      <td>-6.835777</td>\n",
       "      <td>-38.311583</td>\n",
       "      <td>A333</td>\n",
       "      <td>São Gonçalo</td>\n",
       "      <td>RJ</td>\n",
       "      <td>2007-11-14 01:00:00</td>\n",
       "      <td>2007-11-14</td>\n",
       "      <td>...</td>\n",
       "      <td>0.0</td>\n",
       "      <td>0.0</td>\n",
       "      <td>0.0</td>\n",
       "      <td>0.0</td>\n",
       "      <td>0.0</td>\n",
       "      <td>0.0</td>\n",
       "      <td>0.0</td>\n",
       "      <td>0.0</td>\n",
       "      <td>0.0</td>\n",
       "      <td>0.0</td>\n",
       "    </tr>\n",
       "    <tr>\n",
       "      <th>4</th>\n",
       "      <td>178</td>\n",
       "      <td>SÃO GONÇALO</td>\n",
       "      <td>237.0</td>\n",
       "      <td>-6.835777</td>\n",
       "      <td>-38.311583</td>\n",
       "      <td>A333</td>\n",
       "      <td>São Gonçalo</td>\n",
       "      <td>RJ</td>\n",
       "      <td>2007-11-14 02:00:00</td>\n",
       "      <td>2007-11-14</td>\n",
       "      <td>...</td>\n",
       "      <td>0.0</td>\n",
       "      <td>0.0</td>\n",
       "      <td>0.0</td>\n",
       "      <td>0.0</td>\n",
       "      <td>0.0</td>\n",
       "      <td>0.0</td>\n",
       "      <td>0.0</td>\n",
       "      <td>0.0</td>\n",
       "      <td>0.0</td>\n",
       "      <td>0.0</td>\n",
       "    </tr>\n",
       "  </tbody>\n",
       "</table>\n",
       "<p>5 rows × 31 columns</p>\n",
       "</div>"
      ],
      "text/plain": [
       "   wsid         wsnm   elvt       lat        lon  inme         city prov  \\\n",
       "0   178  SÃO GONÇALO  237.0 -6.835777 -38.311583  A333  São Gonçalo   RJ   \n",
       "1   178  SÃO GONÇALO  237.0 -6.835777 -38.311583  A333  São Gonçalo   RJ   \n",
       "2   178  SÃO GONÇALO  237.0 -6.835777 -38.311583  A333  São Gonçalo   RJ   \n",
       "3   178  SÃO GONÇALO  237.0 -6.835777 -38.311583  A333  São Gonçalo   RJ   \n",
       "4   178  SÃO GONÇALO  237.0 -6.835777 -38.311583  A333  São Gonçalo   RJ   \n",
       "\n",
       "                  mdct        date  ...   tmax  dmax  tmin  dmin  hmdy  hmax  \\\n",
       "0  2007-11-06 11:00:00  2007-11-06  ...    0.0   0.0   0.0   0.0   0.0   0.0   \n",
       "1  2007-11-06 12:00:00  2007-11-06  ...    0.0   0.0   0.0   0.0   0.0   0.0   \n",
       "2  2007-11-06 13:00:00  2007-11-06  ...    0.0   0.0   0.0   0.0   0.0   0.0   \n",
       "3  2007-11-14 01:00:00  2007-11-14  ...    0.0   0.0   0.0   0.0   0.0   0.0   \n",
       "4  2007-11-14 02:00:00  2007-11-14  ...    0.0   0.0   0.0   0.0   0.0   0.0   \n",
       "\n",
       "   hmin  wdsp  wdct  gust  \n",
       "0   0.0   0.0   0.0   0.0  \n",
       "1   0.0   0.0   0.0   0.0  \n",
       "2   0.0   0.0   0.0   0.0  \n",
       "3   0.0   0.0   0.0   0.0  \n",
       "4   0.0   0.0   0.0   0.0  \n",
       "\n",
       "[5 rows x 31 columns]"
      ]
     },
     "execution_count": 6,
     "metadata": {},
     "output_type": "execute_result"
    }
   ],
   "source": [
    "df.head()"
   ]
  },
  {
   "cell_type": "markdown",
   "metadata": {},
   "source": [
    "---"
   ]
  },
  {
   "cell_type": "markdown",
   "metadata": {},
   "source": [
    "Посмотрим на основную информацию о датасете."
   ]
  },
  {
   "cell_type": "code",
   "execution_count": 7,
   "metadata": {
    "ExecuteTime": {
     "end_time": "2018-04-22T10:37:11.397941Z",
     "start_time": "2018-04-22T10:37:09.820061Z"
    }
   },
   "outputs": [
    {
     "name": "stdout",
     "output_type": "stream",
     "text": [
      "<class 'pandas.core.frame.DataFrame'>\n",
      "RangeIndex: 1407984 entries, 0 to 1407983\n",
      "Data columns (total 31 columns):\n",
      "wsid    1407984 non-null int64\n",
      "wsnm    1407984 non-null object\n",
      "elvt    1407984 non-null float64\n",
      "lat     1407984 non-null float64\n",
      "lon     1407984 non-null float64\n",
      "inme    1407984 non-null object\n",
      "city    1407984 non-null object\n",
      "prov    1407984 non-null object\n",
      "mdct    1407984 non-null object\n",
      "date    1407984 non-null object\n",
      "yr      1407984 non-null int64\n",
      "mo      1407984 non-null int64\n",
      "da      1407984 non-null int64\n",
      "hr      1407984 non-null int64\n",
      "prcp    1407984 non-null float64\n",
      "stp     1407984 non-null float64\n",
      "smax    1407984 non-null float64\n",
      "smin    1407984 non-null float64\n",
      "gbrd    768612 non-null float64\n",
      "temp    1407983 non-null float64\n",
      "dewp    1407973 non-null float64\n",
      "tmax    1407984 non-null float64\n",
      "dmax    1407965 non-null float64\n",
      "tmin    1407981 non-null float64\n",
      "dmin    1407968 non-null float64\n",
      "hmdy    1407984 non-null float64\n",
      "hmax    1407980 non-null float64\n",
      "hmin    1407967 non-null float64\n",
      "wdsp    1335421 non-null float64\n",
      "wdct    1407984 non-null float64\n",
      "gust    1385902 non-null float64\n",
      "dtypes: float64(20), int64(5), object(6)\n",
      "memory usage: 333.0+ MB\n"
     ]
    }
   ],
   "source": [
    "df.info()"
   ]
  },
  {
   "cell_type": "markdown",
   "metadata": {},
   "source": [
    "---"
   ]
  },
  {
   "cell_type": "markdown",
   "metadata": {},
   "source": [
    "Посмотрим на характеристики распределения категориальных признаков. Сразу приведем целочисленные признаки **wsid, yr, mo, da, hr** (которые являются категориальными) к строковому типу для корректной обработки методом describe()."
   ]
  },
  {
   "cell_type": "code",
   "execution_count": 8,
   "metadata": {
    "ExecuteTime": {
     "end_time": "2018-04-22T10:37:23.896806Z",
     "start_time": "2018-04-22T10:37:11.402939Z"
    }
   },
   "outputs": [
    {
     "data": {
      "text/html": [
       "<div>\n",
       "<style scoped>\n",
       "    .dataframe tbody tr th:only-of-type {\n",
       "        vertical-align: middle;\n",
       "    }\n",
       "\n",
       "    .dataframe tbody tr th {\n",
       "        vertical-align: top;\n",
       "    }\n",
       "\n",
       "    .dataframe thead th {\n",
       "        text-align: right;\n",
       "    }\n",
       "</style>\n",
       "<table border=\"1\" class=\"dataframe\">\n",
       "  <thead>\n",
       "    <tr style=\"text-align: right;\">\n",
       "      <th></th>\n",
       "      <th>count</th>\n",
       "      <th>unique</th>\n",
       "      <th>top</th>\n",
       "      <th>freq</th>\n",
       "    </tr>\n",
       "  </thead>\n",
       "  <tbody>\n",
       "    <tr>\n",
       "      <th>wsid</th>\n",
       "      <td>1407984</td>\n",
       "      <td>122</td>\n",
       "      <td>418</td>\n",
       "      <td>48024</td>\n",
       "    </tr>\n",
       "    <tr>\n",
       "      <th>wsnm</th>\n",
       "      <td>1407984</td>\n",
       "      <td>122</td>\n",
       "      <td>MOELA</td>\n",
       "      <td>48024</td>\n",
       "    </tr>\n",
       "    <tr>\n",
       "      <th>inme</th>\n",
       "      <td>1407984</td>\n",
       "      <td>121</td>\n",
       "      <td>ZZZ3</td>\n",
       "      <td>48024</td>\n",
       "    </tr>\n",
       "    <tr>\n",
       "      <th>city</th>\n",
       "      <td>1407984</td>\n",
       "      <td>117</td>\n",
       "      <td>Rio de Janeiro</td>\n",
       "      <td>59186</td>\n",
       "    </tr>\n",
       "    <tr>\n",
       "      <th>prov</th>\n",
       "      <td>1407984</td>\n",
       "      <td>4</td>\n",
       "      <td>MG</td>\n",
       "      <td>526450</td>\n",
       "    </tr>\n",
       "    <tr>\n",
       "      <th>mdct</th>\n",
       "      <td>1407984</td>\n",
       "      <td>129258</td>\n",
       "      <td>2013-06-25 18:00:00</td>\n",
       "      <td>111</td>\n",
       "    </tr>\n",
       "    <tr>\n",
       "      <th>date</th>\n",
       "      <td>1407984</td>\n",
       "      <td>5680</td>\n",
       "      <td>2012-01-01</td>\n",
       "      <td>1481</td>\n",
       "    </tr>\n",
       "    <tr>\n",
       "      <th>yr</th>\n",
       "      <td>1407984</td>\n",
       "      <td>17</td>\n",
       "      <td>2011</td>\n",
       "      <td>143598</td>\n",
       "    </tr>\n",
       "    <tr>\n",
       "      <th>mo</th>\n",
       "      <td>1407984</td>\n",
       "      <td>12</td>\n",
       "      <td>1</td>\n",
       "      <td>167669</td>\n",
       "    </tr>\n",
       "    <tr>\n",
       "      <th>da</th>\n",
       "      <td>1407984</td>\n",
       "      <td>31</td>\n",
       "      <td>16</td>\n",
       "      <td>49439</td>\n",
       "    </tr>\n",
       "    <tr>\n",
       "      <th>hr</th>\n",
       "      <td>1407984</td>\n",
       "      <td>24</td>\n",
       "      <td>9</td>\n",
       "      <td>65108</td>\n",
       "    </tr>\n",
       "  </tbody>\n",
       "</table>\n",
       "</div>"
      ],
      "text/plain": [
       "        count  unique                  top    freq\n",
       "wsid  1407984     122                  418   48024\n",
       "wsnm  1407984     122                MOELA   48024\n",
       "inme  1407984     121                 ZZZ3   48024\n",
       "city  1407984     117       Rio de Janeiro   59186\n",
       "prov  1407984       4                   MG  526450\n",
       "mdct  1407984  129258  2013-06-25 18:00:00     111\n",
       "date  1407984    5680           2012-01-01    1481\n",
       "yr    1407984      17                 2011  143598\n",
       "mo    1407984      12                    1  167669\n",
       "da    1407984      31                   16   49439\n",
       "hr    1407984      24                    9   65108"
      ]
     },
     "execution_count": 8,
     "metadata": {},
     "output_type": "execute_result"
    }
   ],
   "source": [
    "int_features = ['wsid', 'yr', 'mo', 'da', 'hr']\n",
    "\n",
    "for feat in int_features:\n",
    "    df[feat] = df[feat].astype('str')\n",
    "    \n",
    "df.describe(exclude=['float64']).T"
   ]
  },
  {
   "cell_type": "markdown",
   "metadata": {},
   "source": [
    "<p>В выборке представлены 4 провинции и 177 городов. Аномальных значений в дате и времени нет. По описанию и практически совпадающим числам уникальных значений признаков **wsid**, **wsnm** и **inme** можно предположить, что данные признаки дублируют друг друга. Проверим это предположение.\n",
    "<p>Идея состоит в следующем. Используя метод *groupby()*, можно сгруппировать значения одного признака по уникальным значениям другого. Затем с помощью метода *describe()* можно посмотреть на число уникальных значений второго признака в группах. Если на всех позициях стоят единицы, то можно утверждать о полном соответствии в значениях двух признаков."
   ]
  },
  {
   "cell_type": "code",
   "execution_count": 156,
   "metadata": {
    "ExecuteTime": {
     "end_time": "2018-04-22T15:20:32.590015Z",
     "start_time": "2018-04-22T15:20:30.606759Z"
    }
   },
   "outputs": [
    {
     "name": "stdout",
     "output_type": "stream",
     "text": [
      "Число несоответствий между признаками wsid и wsnm: 0\n",
      "Число несоответствий между признаками wsid и inme: 1\n"
     ]
    }
   ],
   "source": [
    "wsid_groupedby_wsnm_descr = df.groupby('wsnm')['wsid'].describe()\n",
    "wsid_wsnm_non_unique = wsid_groupedby_wsnm_descr[wsid_groupedby_wsnm_descr['unique'] != 1].shape[0]\n",
    "print('Число несоответствий между признаками wsid и wsnm: {}'.format(wsid_wsnm_non_unique))\n",
    "\n",
    "wsid_groupedby_inme_descr = df.groupby('inme')['wsid'].describe()\n",
    "wsid_inme_non_unique = wsid_groupedby_inme_descr[wsid_groupedby_inme_descr['unique'] != 1].shape[0]\n",
    "print('Число несоответствий между признаками wsid и inme: {}'.format(wsid_inme_non_unique))"
   ]
  },
  {
   "cell_type": "markdown",
   "metadata": {},
   "source": [
    "Рассмотрим несоответствие детальней. Найдем значение **inme** той станции, по которой происходят расхождения, и посмотрим на уникальные значения координат, соответствующие ей."
   ]
  },
  {
   "cell_type": "code",
   "execution_count": 157,
   "metadata": {
    "ExecuteTime": {
     "end_time": "2018-04-22T15:20:36.515977Z",
     "start_time": "2018-04-22T15:20:36.128051Z"
    }
   },
   "outputs": [
    {
     "name": "stdout",
     "output_type": "stream",
     "text": [
      "-22.041647    18664\n",
      "Name: lat, dtype: int64\n",
      "\n",
      "-41.051871    18664\n",
      "Name: lon, dtype: int64\n"
     ]
    }
   ],
   "source": [
    "non_unique_inme = wsid_groupedby_inme_descr[wsid_groupedby_inme_descr['unique'] != 1].index[0]\n",
    "\n",
    "print(df[df['inme'] == non_unique_inme]['lat'].value_counts())\n",
    "print()\n",
    "print(df[df['inme'] == non_unique_inme]['lon'].value_counts())"
   ]
  },
  {
   "cell_type": "markdown",
   "metadata": {},
   "source": [
    "Видно, что координаты этой проблемной станции принимают во всем датасете лишь одно значение. Значит, предположение о дублировании друг друга признаками **wsid, wsnm, inme** оказывается верным."
   ]
  },
  {
   "cell_type": "markdown",
   "metadata": {},
   "source": [
    "---"
   ]
  },
  {
   "cell_type": "markdown",
   "metadata": {},
   "source": [
    "Выделим вещественные признаки и посмотрим на характеристики их распределения."
   ]
  },
  {
   "cell_type": "code",
   "execution_count": 9,
   "metadata": {
    "ExecuteTime": {
     "end_time": "2018-04-22T10:37:26.810527Z",
     "start_time": "2018-04-22T10:37:23.900811Z"
    }
   },
   "outputs": [
    {
     "data": {
      "text/html": [
       "<div>\n",
       "<style scoped>\n",
       "    .dataframe tbody tr th:only-of-type {\n",
       "        vertical-align: middle;\n",
       "    }\n",
       "\n",
       "    .dataframe tbody tr th {\n",
       "        vertical-align: top;\n",
       "    }\n",
       "\n",
       "    .dataframe thead th {\n",
       "        text-align: right;\n",
       "    }\n",
       "</style>\n",
       "<table border=\"1\" class=\"dataframe\">\n",
       "  <thead>\n",
       "    <tr style=\"text-align: right;\">\n",
       "      <th></th>\n",
       "      <th>count</th>\n",
       "      <th>mean</th>\n",
       "      <th>std</th>\n",
       "      <th>min</th>\n",
       "      <th>25%</th>\n",
       "      <th>50%</th>\n",
       "      <th>75%</th>\n",
       "      <th>max</th>\n",
       "    </tr>\n",
       "  </thead>\n",
       "  <tbody>\n",
       "    <tr>\n",
       "      <th>elvt</th>\n",
       "      <td>1407984.0</td>\n",
       "      <td>593.423665</td>\n",
       "      <td>451.779265</td>\n",
       "      <td>0.000000</td>\n",
       "      <td>189.000000</td>\n",
       "      <td>573.000000</td>\n",
       "      <td>875.000000</td>\n",
       "      <td>1758.000</td>\n",
       "    </tr>\n",
       "    <tr>\n",
       "      <th>lat</th>\n",
       "      <td>1407984.0</td>\n",
       "      <td>-20.163774</td>\n",
       "      <td>4.593603</td>\n",
       "      <td>-24.962819</td>\n",
       "      <td>-22.589806</td>\n",
       "      <td>-21.338432</td>\n",
       "      <td>-19.532768</td>\n",
       "      <td>0.000</td>\n",
       "    </tr>\n",
       "    <tr>\n",
       "      <th>lon</th>\n",
       "      <td>1407984.0</td>\n",
       "      <td>-43.647082</td>\n",
       "      <td>8.730950</td>\n",
       "      <td>-56.677323</td>\n",
       "      <td>-47.585552</td>\n",
       "      <td>-44.835600</td>\n",
       "      <td>-42.622413</td>\n",
       "      <td>0.000</td>\n",
       "    </tr>\n",
       "    <tr>\n",
       "      <th>prcp</th>\n",
       "      <td>1407984.0</td>\n",
       "      <td>0.936654</td>\n",
       "      <td>2.923291</td>\n",
       "      <td>0.000000</td>\n",
       "      <td>0.000000</td>\n",
       "      <td>0.000000</td>\n",
       "      <td>0.600000</td>\n",
       "      <td>100.000</td>\n",
       "    </tr>\n",
       "    <tr>\n",
       "      <th>stp</th>\n",
       "      <td>1407984.0</td>\n",
       "      <td>525.744524</td>\n",
       "      <td>471.432826</td>\n",
       "      <td>0.000000</td>\n",
       "      <td>0.000000</td>\n",
       "      <td>895.100000</td>\n",
       "      <td>949.800000</td>\n",
       "      <td>1049.900</td>\n",
       "    </tr>\n",
       "    <tr>\n",
       "      <th>smax</th>\n",
       "      <td>1407984.0</td>\n",
       "      <td>525.155668</td>\n",
       "      <td>471.643990</td>\n",
       "      <td>0.000000</td>\n",
       "      <td>0.000000</td>\n",
       "      <td>895.100000</td>\n",
       "      <td>950.000000</td>\n",
       "      <td>1049.900</td>\n",
       "    </tr>\n",
       "    <tr>\n",
       "      <th>smin</th>\n",
       "      <td>1407984.0</td>\n",
       "      <td>524.825494</td>\n",
       "      <td>471.337439</td>\n",
       "      <td>0.000000</td>\n",
       "      <td>0.000000</td>\n",
       "      <td>894.400000</td>\n",
       "      <td>949.400000</td>\n",
       "      <td>1050.000</td>\n",
       "    </tr>\n",
       "    <tr>\n",
       "      <th>gbrd</th>\n",
       "      <td>768612.0</td>\n",
       "      <td>342.264637</td>\n",
       "      <td>669.663507</td>\n",
       "      <td>0.000000</td>\n",
       "      <td>0.000000</td>\n",
       "      <td>0.210000</td>\n",
       "      <td>375.053250</td>\n",
       "      <td>5552.683</td>\n",
       "    </tr>\n",
       "    <tr>\n",
       "      <th>temp</th>\n",
       "      <td>1407983.0</td>\n",
       "      <td>11.309906</td>\n",
       "      <td>10.461438</td>\n",
       "      <td>-3.400000</td>\n",
       "      <td>0.000000</td>\n",
       "      <td>15.700000</td>\n",
       "      <td>20.800000</td>\n",
       "      <td>41.000</td>\n",
       "    </tr>\n",
       "    <tr>\n",
       "      <th>dewp</th>\n",
       "      <td>1407973.0</td>\n",
       "      <td>9.886877</td>\n",
       "      <td>9.264952</td>\n",
       "      <td>-10.000000</td>\n",
       "      <td>0.000000</td>\n",
       "      <td>13.500000</td>\n",
       "      <td>18.800000</td>\n",
       "      <td>37.400</td>\n",
       "    </tr>\n",
       "    <tr>\n",
       "      <th>tmax</th>\n",
       "      <td>1407984.0</td>\n",
       "      <td>11.707643</td>\n",
       "      <td>10.877867</td>\n",
       "      <td>-2.900000</td>\n",
       "      <td>0.000000</td>\n",
       "      <td>16.000000</td>\n",
       "      <td>21.400000</td>\n",
       "      <td>42.400</td>\n",
       "    </tr>\n",
       "    <tr>\n",
       "      <th>dmax</th>\n",
       "      <td>1407965.0</td>\n",
       "      <td>10.121976</td>\n",
       "      <td>9.469395</td>\n",
       "      <td>-10.000000</td>\n",
       "      <td>0.000000</td>\n",
       "      <td>14.000000</td>\n",
       "      <td>19.200000</td>\n",
       "      <td>40.600</td>\n",
       "    </tr>\n",
       "    <tr>\n",
       "      <th>tmin</th>\n",
       "      <td>1407981.0</td>\n",
       "      <td>11.082206</td>\n",
       "      <td>10.246110</td>\n",
       "      <td>-3.500000</td>\n",
       "      <td>0.000000</td>\n",
       "      <td>15.400000</td>\n",
       "      <td>20.500000</td>\n",
       "      <td>45.000</td>\n",
       "    </tr>\n",
       "    <tr>\n",
       "      <th>dmin</th>\n",
       "      <td>1407968.0</td>\n",
       "      <td>9.624186</td>\n",
       "      <td>9.048087</td>\n",
       "      <td>-10.000000</td>\n",
       "      <td>0.000000</td>\n",
       "      <td>13.100000</td>\n",
       "      <td>18.300000</td>\n",
       "      <td>41.600</td>\n",
       "    </tr>\n",
       "    <tr>\n",
       "      <th>hmdy</th>\n",
       "      <td>1407984.0</td>\n",
       "      <td>48.648675</td>\n",
       "      <td>44.716946</td>\n",
       "      <td>0.000000</td>\n",
       "      <td>0.000000</td>\n",
       "      <td>72.000000</td>\n",
       "      <td>93.000000</td>\n",
       "      <td>100.000</td>\n",
       "    </tr>\n",
       "    <tr>\n",
       "      <th>hmax</th>\n",
       "      <td>1407980.0</td>\n",
       "      <td>49.581017</td>\n",
       "      <td>45.355747</td>\n",
       "      <td>0.000000</td>\n",
       "      <td>0.000000</td>\n",
       "      <td>77.000000</td>\n",
       "      <td>94.000000</td>\n",
       "      <td>100.000</td>\n",
       "    </tr>\n",
       "    <tr>\n",
       "      <th>hmin</th>\n",
       "      <td>1407967.0</td>\n",
       "      <td>46.654965</td>\n",
       "      <td>43.376760</td>\n",
       "      <td>0.000000</td>\n",
       "      <td>0.000000</td>\n",
       "      <td>62.000000</td>\n",
       "      <td>91.000000</td>\n",
       "      <td>100.000</td>\n",
       "    </tr>\n",
       "    <tr>\n",
       "      <th>wdsp</th>\n",
       "      <td>1335421.0</td>\n",
       "      <td>1.095213</td>\n",
       "      <td>1.615071</td>\n",
       "      <td>0.000000</td>\n",
       "      <td>0.000000</td>\n",
       "      <td>0.100000</td>\n",
       "      <td>1.800000</td>\n",
       "      <td>19.800</td>\n",
       "    </tr>\n",
       "    <tr>\n",
       "      <th>wdct</th>\n",
       "      <td>1407984.0</td>\n",
       "      <td>87.830877</td>\n",
       "      <td>111.128972</td>\n",
       "      <td>0.000000</td>\n",
       "      <td>0.000000</td>\n",
       "      <td>23.000000</td>\n",
       "      <td>159.000000</td>\n",
       "      <td>360.000</td>\n",
       "    </tr>\n",
       "    <tr>\n",
       "      <th>gust</th>\n",
       "      <td>1385902.0</td>\n",
       "      <td>2.877593</td>\n",
       "      <td>3.630337</td>\n",
       "      <td>0.000000</td>\n",
       "      <td>0.000000</td>\n",
       "      <td>1.500000</td>\n",
       "      <td>5.000000</td>\n",
       "      <td>50.000</td>\n",
       "    </tr>\n",
       "  </tbody>\n",
       "</table>\n",
       "</div>"
      ],
      "text/plain": [
       "          count        mean         std        min         25%         50%  \\\n",
       "elvt  1407984.0  593.423665  451.779265   0.000000  189.000000  573.000000   \n",
       "lat   1407984.0  -20.163774    4.593603 -24.962819  -22.589806  -21.338432   \n",
       "lon   1407984.0  -43.647082    8.730950 -56.677323  -47.585552  -44.835600   \n",
       "prcp  1407984.0    0.936654    2.923291   0.000000    0.000000    0.000000   \n",
       "stp   1407984.0  525.744524  471.432826   0.000000    0.000000  895.100000   \n",
       "smax  1407984.0  525.155668  471.643990   0.000000    0.000000  895.100000   \n",
       "smin  1407984.0  524.825494  471.337439   0.000000    0.000000  894.400000   \n",
       "gbrd   768612.0  342.264637  669.663507   0.000000    0.000000    0.210000   \n",
       "temp  1407983.0   11.309906   10.461438  -3.400000    0.000000   15.700000   \n",
       "dewp  1407973.0    9.886877    9.264952 -10.000000    0.000000   13.500000   \n",
       "tmax  1407984.0   11.707643   10.877867  -2.900000    0.000000   16.000000   \n",
       "dmax  1407965.0   10.121976    9.469395 -10.000000    0.000000   14.000000   \n",
       "tmin  1407981.0   11.082206   10.246110  -3.500000    0.000000   15.400000   \n",
       "dmin  1407968.0    9.624186    9.048087 -10.000000    0.000000   13.100000   \n",
       "hmdy  1407984.0   48.648675   44.716946   0.000000    0.000000   72.000000   \n",
       "hmax  1407980.0   49.581017   45.355747   0.000000    0.000000   77.000000   \n",
       "hmin  1407967.0   46.654965   43.376760   0.000000    0.000000   62.000000   \n",
       "wdsp  1335421.0    1.095213    1.615071   0.000000    0.000000    0.100000   \n",
       "wdct  1407984.0   87.830877  111.128972   0.000000    0.000000   23.000000   \n",
       "gust  1385902.0    2.877593    3.630337   0.000000    0.000000    1.500000   \n",
       "\n",
       "             75%       max  \n",
       "elvt  875.000000  1758.000  \n",
       "lat   -19.532768     0.000  \n",
       "lon   -42.622413     0.000  \n",
       "prcp    0.600000   100.000  \n",
       "stp   949.800000  1049.900  \n",
       "smax  950.000000  1049.900  \n",
       "smin  949.400000  1050.000  \n",
       "gbrd  375.053250  5552.683  \n",
       "temp   20.800000    41.000  \n",
       "dewp   18.800000    37.400  \n",
       "tmax   21.400000    42.400  \n",
       "dmax   19.200000    40.600  \n",
       "tmin   20.500000    45.000  \n",
       "dmin   18.300000    41.600  \n",
       "hmdy   93.000000   100.000  \n",
       "hmax   94.000000   100.000  \n",
       "hmin   91.000000   100.000  \n",
       "wdsp    1.800000    19.800  \n",
       "wdct  159.000000   360.000  \n",
       "gust    5.000000    50.000  "
      ]
     },
     "execution_count": 9,
     "metadata": {},
     "output_type": "execute_result"
    }
   ],
   "source": [
    "df.describe(include=['float64']).T"
   ]
  },
  {
   "cell_type": "markdown",
   "metadata": {},
   "source": [
    "Можно сделать предварительные выводы по признакам:<br>\n",
    "- **elvt** (высота) - значения характеристик скорее всего не содержат выбросов из-за ошибок измерений, или их число мало; возможно сделать проверку, используя геосервисы.\n",
    "- **lat, lon** (координаты) - присутствуют выбросы в виде нулевых значений координат (все указанные в выборке регионы не паресекаются экватором или нулевым меридианом)\n",
    "- **prcp** (осадки, целевой признак) - хочется верить, что ошибок измерений нет, иначе у нас вопросы к разметке данных; более 50% данных содержат информацию об отсутствии осадков, а 75% - об отсутствии или незначительных осадках\n",
    "- **stp, smax, smin** (показатели давления) - явно просматриваются выбросы из-за ошибок измерений в виде нулевых значений, причем их более 25%\n",
    "- **gbrd** (солнечное излучение) - с этим признакам вообще все плохо. Почти 50% в выборке у этого признака - пропуски. У оставшихся значений более 50% данных содержат нулевые или близкие к нулю выбросы. Выбросы также наблюдаются в виде максимальных значений, в 6 раз превышающих средний показатель солнечного излучения для жарких пустынных мест (ссылки на справочные источники информации будут даны в конце исследования)\n",
    "- **temp, dewp, tmax, dmax, tmin, dmin** (температурные показатели) - значения скорее всего не содержат значительного числа ошибок измерений\n",
    "- **hmdy, hmax, hmin** (показатели влажности) - более 25% данных содержат ошибки измерений в виде нулевых значений\n",
    "- **wdsp, wdct, gust** (показатели ветра) - значения скорее всего не содержат значительного числа ошибок измерений"
   ]
  },
  {
   "cell_type": "markdown",
   "metadata": {},
   "source": [
    "---"
   ]
  },
  {
   "cell_type": "markdown",
   "metadata": {},
   "source": [
    "Посомтрим на количество пропусков данных для признаков и отобразим их в порядке убывания."
   ]
  },
  {
   "cell_type": "code",
   "execution_count": 10,
   "metadata": {
    "ExecuteTime": {
     "end_time": "2018-04-22T10:37:28.574788Z",
     "start_time": "2018-04-22T10:37:26.810527Z"
    }
   },
   "outputs": [
    {
     "data": {
      "text/plain": [
       "gbrd    639372\n",
       "wdsp     72563\n",
       "gust     22082\n",
       "dmax        19\n",
       "hmin        17\n",
       "dmin        16\n",
       "dewp        11\n",
       "hmax         4\n",
       "tmin         3\n",
       "temp         1\n",
       "dtype: int64"
      ]
     },
     "execution_count": 10,
     "metadata": {},
     "output_type": "execute_result"
    }
   ],
   "source": [
    "null_counts = df.isnull().sum()\n",
    "null_counts[null_counts != 0].sort_values(ascending=False)"
   ]
  },
  {
   "cell_type": "markdown",
   "metadata": {},
   "source": [
    "---"
   ]
  },
  {
   "cell_type": "markdown",
   "metadata": {},
   "source": [
    "Из описания датасета можно увидеть, что признаки **mdct** (дата и время наблюдения) и **date** (дата наблюдения) избыточны, их полностью заменяют следующие признаки: **date, yr, mo, da, hr** (дата, год, месяц, день, час соответственно). Сконвертируем тип признаков **mdct** и **date** во внутренний тип pandas.datetime и проверим, что значения этих признаков соответствуют друг другу."
   ]
  },
  {
   "cell_type": "code",
   "execution_count": 11,
   "metadata": {
    "ExecuteTime": {
     "end_time": "2018-04-22T10:41:04.492157Z",
     "start_time": "2018-04-22T10:37:28.576877Z"
    },
    "collapsed": true
   },
   "outputs": [],
   "source": [
    "df['mdct'] = df['mdct'].apply(pd.to_datetime)\n",
    "df['date'] = df['date'].apply(pd.to_datetime)"
   ]
  },
  {
   "cell_type": "code",
   "execution_count": 12,
   "metadata": {
    "ExecuteTime": {
     "end_time": "2018-04-22T10:46:50.643550Z",
     "start_time": "2018-04-22T10:41:04.495156Z"
    }
   },
   "outputs": [
    {
     "data": {
      "text/plain": [
       "False    1407984\n",
       "dtype: int64"
      ]
     },
     "execution_count": 12,
     "metadata": {},
     "output_type": "execute_result"
    }
   ],
   "source": [
    "def datetime_accordance_check(row):\n",
    "    return ((row['yr'] == row['mdct'].year) & (row['yr'] == row['date'].year) & \n",
    "            (row['mo'] == row['mdct'].month) & (row['mo'] == row['date'].month) & \n",
    "            (row['da'] == row['mdct'].day) & (row['da'] == row['date'].day) & \n",
    "            (row['hr'] == row['mdct'].hour))\n",
    "\n",
    "df.apply(datetime_accordance_check, axis=1).value_counts()"
   ]
  },
  {
   "cell_type": "markdown",
   "metadata": {},
   "source": [
    "Видим, что рассматриваемые признаки полностью соответствуют друг другу. Избыточные признаки можно будет удалить из датасета."
   ]
  },
  {
   "cell_type": "markdown",
   "metadata": {},
   "source": [
    "---"
   ]
  },
  {
   "cell_type": "markdown",
   "metadata": {},
   "source": [
    "Рассмотрим корреляцию вещественных признаков, исключая целевой. Отобразим распределение и топ-20 коррелирующих пар признаков по двум методам: Пирсона и Спирмана (оценивающие силу линейной и монотонной взаимосвязей соответственно)."
   ]
  },
  {
   "cell_type": "code",
   "execution_count": 13,
   "metadata": {
    "ExecuteTime": {
     "end_time": "2018-04-22T10:48:03.436930Z",
     "start_time": "2018-04-22T10:46:50.647557Z"
    },
    "collapsed": true
   },
   "outputs": [],
   "source": [
    "numeric_columns = [col for col in df if (df[col].dtype == 'float64')]\n",
    "\n",
    "pearson_corr = df[numeric_columns].corr(method='pearson')\n",
    "spearman_corr = df[numeric_columns].corr(method='spearman')"
   ]
  },
  {
   "cell_type": "code",
   "execution_count": 14,
   "metadata": {
    "ExecuteTime": {
     "end_time": "2018-04-22T10:48:03.492160Z",
     "start_time": "2018-04-22T10:48:03.440226Z"
    },
    "collapsed": true
   },
   "outputs": [],
   "source": [
    "no_target_unique_pearson_corr = dict()\n",
    "no_target_unique_spearman_corr = dict()\n",
    "\n",
    "for (row, r_name) in enumerate(pearson_corr.index):\n",
    "    for (col, c_name) in enumerate(pearson_corr.columns[row+1:]):\n",
    "        if('prcp' in [r_name, c_name]):\n",
    "            continue\n",
    "        no_target_unique_pearson_corr['{}-{}'.format(r_name, c_name)] = abs(pearson_corr.iloc[row, col])\n",
    "        \n",
    "for (row, r_name) in enumerate(spearman_corr.index):\n",
    "    for (col, c_name) in enumerate(spearman_corr.columns[row+1:]):\n",
    "        if('prcp' in [r_name, c_name]):\n",
    "            continue\n",
    "        no_target_unique_spearman_corr['{}-{}'.format(r_name, c_name)] = abs(spearman_corr.iloc[row, col])\n",
    "\n",
    "pearson_corr_df = pd.DataFrame(sorted(no_target_unique_pearson_corr.items(), key=operator.itemgetter(1), reverse=True))\n",
    "pearson_corr_df.columns = ['', 'pearson corr']\n",
    "\n",
    "spearman_corr_df = pd.DataFrame(sorted(no_target_unique_spearman_corr.items(), key=operator.itemgetter(1), reverse=True))\n",
    "spearman_corr_df.columns = ['', 'spearman corr']"
   ]
  },
  {
   "cell_type": "code",
   "execution_count": 15,
   "metadata": {
    "ExecuteTime": {
     "end_time": "2018-04-22T10:48:03.790547Z",
     "start_time": "2018-04-22T10:48:03.492160Z"
    }
   },
   "outputs": [
    {
     "data": {
      "image/png": "[encoded data removed]",
      "text/plain": [
       "<Figure size 432x288 with 2 Axes>"
      ]
     },
     "metadata": {},
     "output_type": "display_data"
    }
   ],
   "source": [
    "corr_df = pd.concat([pearson_corr_df, spearman_corr_df], axis=1)\n",
    "corr_df.hist()\n",
    "plt.show()"
   ]
  },
  {
   "cell_type": "code",
   "execution_count": 16,
   "metadata": {
    "ExecuteTime": {
     "end_time": "2018-04-22T10:48:03.819561Z",
     "start_time": "2018-04-22T10:48:03.795544Z"
    }
   },
   "outputs": [
    {
     "data": {
      "text/html": [
       "<div>\n",
       "<style scoped>\n",
       "    .dataframe tbody tr th:only-of-type {\n",
       "        vertical-align: middle;\n",
       "    }\n",
       "\n",
       "    .dataframe tbody tr th {\n",
       "        vertical-align: top;\n",
       "    }\n",
       "\n",
       "    .dataframe thead th {\n",
       "        text-align: right;\n",
       "    }\n",
       "</style>\n",
       "<table border=\"1\" class=\"dataframe\">\n",
       "  <thead>\n",
       "    <tr style=\"text-align: right;\">\n",
       "      <th></th>\n",
       "      <th></th>\n",
       "      <th>pearson corr</th>\n",
       "      <th></th>\n",
       "      <th>spearman corr</th>\n",
       "    </tr>\n",
       "  </thead>\n",
       "  <tbody>\n",
       "    <tr>\n",
       "      <th>0</th>\n",
       "      <td>elvt-lat</td>\n",
       "      <td>1.000000</td>\n",
       "      <td>elvt-lat</td>\n",
       "      <td>1.000000</td>\n",
       "    </tr>\n",
       "    <tr>\n",
       "      <th>1</th>\n",
       "      <td>lon-smax</td>\n",
       "      <td>1.000000</td>\n",
       "      <td>lon-smax</td>\n",
       "      <td>1.000000</td>\n",
       "    </tr>\n",
       "    <tr>\n",
       "      <th>2</th>\n",
       "      <td>stp-dewp</td>\n",
       "      <td>1.000000</td>\n",
       "      <td>stp-dewp</td>\n",
       "      <td>1.000000</td>\n",
       "    </tr>\n",
       "    <tr>\n",
       "      <th>3</th>\n",
       "      <td>smax-dmax</td>\n",
       "      <td>1.000000</td>\n",
       "      <td>smax-dmax</td>\n",
       "      <td>1.000000</td>\n",
       "    </tr>\n",
       "    <tr>\n",
       "      <th>4</th>\n",
       "      <td>smin-dmin</td>\n",
       "      <td>1.000000</td>\n",
       "      <td>smin-dmin</td>\n",
       "      <td>1.000000</td>\n",
       "    </tr>\n",
       "    <tr>\n",
       "      <th>5</th>\n",
       "      <td>gbrd-hmax</td>\n",
       "      <td>1.000000</td>\n",
       "      <td>gbrd-hmax</td>\n",
       "      <td>1.000000</td>\n",
       "    </tr>\n",
       "    <tr>\n",
       "      <th>6</th>\n",
       "      <td>temp-wdsp</td>\n",
       "      <td>1.000000</td>\n",
       "      <td>temp-wdsp</td>\n",
       "      <td>1.000000</td>\n",
       "    </tr>\n",
       "    <tr>\n",
       "      <th>7</th>\n",
       "      <td>dewp-gust</td>\n",
       "      <td>1.000000</td>\n",
       "      <td>dewp-gust</td>\n",
       "      <td>1.000000</td>\n",
       "    </tr>\n",
       "    <tr>\n",
       "      <th>8</th>\n",
       "      <td>smax-tmin</td>\n",
       "      <td>0.999967</td>\n",
       "      <td>smax-tmin</td>\n",
       "      <td>0.999931</td>\n",
       "    </tr>\n",
       "    <tr>\n",
       "      <th>9</th>\n",
       "      <td>smin-tmin</td>\n",
       "      <td>0.999967</td>\n",
       "      <td>smin-tmin</td>\n",
       "      <td>0.999931</td>\n",
       "    </tr>\n",
       "    <tr>\n",
       "      <th>10</th>\n",
       "      <td>stp-dmax</td>\n",
       "      <td>0.998353</td>\n",
       "      <td>stp-dmax</td>\n",
       "      <td>0.998268</td>\n",
       "    </tr>\n",
       "    <tr>\n",
       "      <th>11</th>\n",
       "      <td>smin-dmax</td>\n",
       "      <td>0.998353</td>\n",
       "      <td>smin-dmax</td>\n",
       "      <td>0.998268</td>\n",
       "    </tr>\n",
       "    <tr>\n",
       "      <th>12</th>\n",
       "      <td>stp-tmax</td>\n",
       "      <td>0.998351</td>\n",
       "      <td>stp-tmax</td>\n",
       "      <td>0.998265</td>\n",
       "    </tr>\n",
       "    <tr>\n",
       "      <th>13</th>\n",
       "      <td>smax-tmax</td>\n",
       "      <td>0.998351</td>\n",
       "      <td>smax-tmax</td>\n",
       "      <td>0.998265</td>\n",
       "    </tr>\n",
       "    <tr>\n",
       "      <th>14</th>\n",
       "      <td>temp-gust</td>\n",
       "      <td>0.995601</td>\n",
       "      <td>temp-gust</td>\n",
       "      <td>0.991240</td>\n",
       "    </tr>\n",
       "    <tr>\n",
       "      <th>15</th>\n",
       "      <td>tmax-gust</td>\n",
       "      <td>0.995601</td>\n",
       "      <td>tmax-gust</td>\n",
       "      <td>0.991240</td>\n",
       "    </tr>\n",
       "    <tr>\n",
       "      <th>16</th>\n",
       "      <td>temp-wdct</td>\n",
       "      <td>0.959244</td>\n",
       "      <td>temp-wdct</td>\n",
       "      <td>0.936651</td>\n",
       "    </tr>\n",
       "    <tr>\n",
       "      <th>17</th>\n",
       "      <td>dewp-wdct</td>\n",
       "      <td>0.959244</td>\n",
       "      <td>dewp-wdct</td>\n",
       "      <td>0.936651</td>\n",
       "    </tr>\n",
       "    <tr>\n",
       "      <th>18</th>\n",
       "      <td>stp-wdsp</td>\n",
       "      <td>0.957720</td>\n",
       "      <td>smin-gust</td>\n",
       "      <td>0.887814</td>\n",
       "    </tr>\n",
       "    <tr>\n",
       "      <th>19</th>\n",
       "      <td>tmin-wdsp</td>\n",
       "      <td>0.957720</td>\n",
       "      <td>tmin-gust</td>\n",
       "      <td>0.887814</td>\n",
       "    </tr>\n",
       "  </tbody>\n",
       "</table>\n",
       "</div>"
      ],
      "text/plain": [
       "               pearson corr             spearman corr\n",
       "0    elvt-lat      1.000000   elvt-lat       1.000000\n",
       "1    lon-smax      1.000000   lon-smax       1.000000\n",
       "2    stp-dewp      1.000000   stp-dewp       1.000000\n",
       "3   smax-dmax      1.000000  smax-dmax       1.000000\n",
       "4   smin-dmin      1.000000  smin-dmin       1.000000\n",
       "5   gbrd-hmax      1.000000  gbrd-hmax       1.000000\n",
       "6   temp-wdsp      1.000000  temp-wdsp       1.000000\n",
       "7   dewp-gust      1.000000  dewp-gust       1.000000\n",
       "8   smax-tmin      0.999967  smax-tmin       0.999931\n",
       "9   smin-tmin      0.999967  smin-tmin       0.999931\n",
       "10   stp-dmax      0.998353   stp-dmax       0.998268\n",
       "11  smin-dmax      0.998353  smin-dmax       0.998268\n",
       "12   stp-tmax      0.998351   stp-tmax       0.998265\n",
       "13  smax-tmax      0.998351  smax-tmax       0.998265\n",
       "14  temp-gust      0.995601  temp-gust       0.991240\n",
       "15  tmax-gust      0.995601  tmax-gust       0.991240\n",
       "16  temp-wdct      0.959244  temp-wdct       0.936651\n",
       "17  dewp-wdct      0.959244  dewp-wdct       0.936651\n",
       "18   stp-wdsp      0.957720  smin-gust       0.887814\n",
       "19  tmin-wdsp      0.957720  tmin-gust       0.887814"
      ]
     },
     "execution_count": 16,
     "metadata": {},
     "output_type": "execute_result"
    }
   ],
   "source": [
    "corr_df = pd.concat([pearson_corr_df.head(20), spearman_corr_df.head(20)], axis=1)\n",
    "corr_df"
   ]
  },
  {
   "cell_type": "markdown",
   "metadata": {},
   "source": [
    "Видим, что оба метода на топ-результатах дают очень схожие показатели. Можно предположить, что корреляция между этими признаками есть, и взаимосвязь линейна. Но зависимость не объясняется физической природой признаков."
   ]
  },
  {
   "cell_type": "markdown",
   "metadata": {},
   "source": [
    "---"
   ]
  },
  {
   "cell_type": "markdown",
   "metadata": {},
   "source": [
    "Рассмотри корреляцию с целевым признаком."
   ]
  },
  {
   "cell_type": "code",
   "execution_count": 17,
   "metadata": {
    "ExecuteTime": {
     "end_time": "2018-04-22T10:48:03.855242Z",
     "start_time": "2018-04-22T10:48:03.823946Z"
    },
    "collapsed": true
   },
   "outputs": [],
   "source": [
    "target_pearson_corr = dict(pearson_corr.apply(abs).loc['prcp', :])\n",
    "target_pearson_corr.pop('prcp')\n",
    "\n",
    "target_spearman_corr = dict(spearman_corr.apply(abs).loc['prcp', :])\n",
    "target_spearman_corr.pop('prcp')\n",
    "\n",
    "target_pearson_corr_df = pd.DataFrame(sorted(target_pearson_corr.items(), key=operator.itemgetter(1), reverse=True))\n",
    "target_pearson_corr_df.columns = ['', 'pearson corr']\n",
    "\n",
    "target_spearman_corr_df = pd.DataFrame(sorted(target_spearman_corr.items(), key=operator.itemgetter(1), reverse=True))\n",
    "target_spearman_corr_df.columns = ['', 'spearman corr']"
   ]
  },
  {
   "cell_type": "code",
   "execution_count": 18,
   "metadata": {
    "ExecuteTime": {
     "end_time": "2018-04-22T10:48:03.890668Z",
     "start_time": "2018-04-22T10:48:03.858629Z"
    }
   },
   "outputs": [
    {
     "data": {
      "text/html": [
       "<div>\n",
       "<style scoped>\n",
       "    .dataframe tbody tr th:only-of-type {\n",
       "        vertical-align: middle;\n",
       "    }\n",
       "\n",
       "    .dataframe tbody tr th {\n",
       "        vertical-align: top;\n",
       "    }\n",
       "\n",
       "    .dataframe thead th {\n",
       "        text-align: right;\n",
       "    }\n",
       "</style>\n",
       "<table border=\"1\" class=\"dataframe\">\n",
       "  <thead>\n",
       "    <tr style=\"text-align: right;\">\n",
       "      <th></th>\n",
       "      <th></th>\n",
       "      <th>pearson corr</th>\n",
       "      <th></th>\n",
       "      <th>spearman corr</th>\n",
       "    </tr>\n",
       "  </thead>\n",
       "  <tbody>\n",
       "    <tr>\n",
       "      <th>0</th>\n",
       "      <td>gust</td>\n",
       "      <td>0.382044</td>\n",
       "      <td>hmdy</td>\n",
       "      <td>0.796693</td>\n",
       "    </tr>\n",
       "    <tr>\n",
       "      <th>1</th>\n",
       "      <td>hmdy</td>\n",
       "      <td>0.305894</td>\n",
       "      <td>hmax</td>\n",
       "      <td>0.794980</td>\n",
       "    </tr>\n",
       "    <tr>\n",
       "      <th>2</th>\n",
       "      <td>hmax</td>\n",
       "      <td>0.303327</td>\n",
       "      <td>hmin</td>\n",
       "      <td>0.769132</td>\n",
       "    </tr>\n",
       "    <tr>\n",
       "      <th>3</th>\n",
       "      <td>dmax</td>\n",
       "      <td>0.301448</td>\n",
       "      <td>gust</td>\n",
       "      <td>0.761979</td>\n",
       "    </tr>\n",
       "    <tr>\n",
       "      <th>4</th>\n",
       "      <td>dewp</td>\n",
       "      <td>0.296092</td>\n",
       "      <td>wdsp</td>\n",
       "      <td>0.745568</td>\n",
       "    </tr>\n",
       "    <tr>\n",
       "      <th>5</th>\n",
       "      <td>dmin</td>\n",
       "      <td>0.292986</td>\n",
       "      <td>dewp</td>\n",
       "      <td>0.745378</td>\n",
       "    </tr>\n",
       "    <tr>\n",
       "      <th>6</th>\n",
       "      <td>tmax</td>\n",
       "      <td>0.287871</td>\n",
       "      <td>dmin</td>\n",
       "      <td>0.744746</td>\n",
       "    </tr>\n",
       "    <tr>\n",
       "      <th>7</th>\n",
       "      <td>hmin</td>\n",
       "      <td>0.282092</td>\n",
       "      <td>dmax</td>\n",
       "      <td>0.744268</td>\n",
       "    </tr>\n",
       "    <tr>\n",
       "      <th>8</th>\n",
       "      <td>smax</td>\n",
       "      <td>0.278865</td>\n",
       "      <td>wdct</td>\n",
       "      <td>0.712490</td>\n",
       "    </tr>\n",
       "    <tr>\n",
       "      <th>9</th>\n",
       "      <td>smin</td>\n",
       "      <td>0.278684</td>\n",
       "      <td>smax</td>\n",
       "      <td>0.683713</td>\n",
       "    </tr>\n",
       "    <tr>\n",
       "      <th>10</th>\n",
       "      <td>stp</td>\n",
       "      <td>0.278414</td>\n",
       "      <td>smin</td>\n",
       "      <td>0.683051</td>\n",
       "    </tr>\n",
       "    <tr>\n",
       "      <th>11</th>\n",
       "      <td>tmin</td>\n",
       "      <td>0.268495</td>\n",
       "      <td>stp</td>\n",
       "      <td>0.682343</td>\n",
       "    </tr>\n",
       "    <tr>\n",
       "      <th>12</th>\n",
       "      <td>temp</td>\n",
       "      <td>0.267287</td>\n",
       "      <td>tmax</td>\n",
       "      <td>0.681979</td>\n",
       "    </tr>\n",
       "    <tr>\n",
       "      <th>13</th>\n",
       "      <td>wdsp</td>\n",
       "      <td>0.245373</td>\n",
       "      <td>tmin</td>\n",
       "      <td>0.673677</td>\n",
       "    </tr>\n",
       "    <tr>\n",
       "      <th>14</th>\n",
       "      <td>wdct</td>\n",
       "      <td>0.225907</td>\n",
       "      <td>temp</td>\n",
       "      <td>0.668856</td>\n",
       "    </tr>\n",
       "    <tr>\n",
       "      <th>15</th>\n",
       "      <td>lon</td>\n",
       "      <td>0.047653</td>\n",
       "      <td>gbrd</td>\n",
       "      <td>0.565889</td>\n",
       "    </tr>\n",
       "    <tr>\n",
       "      <th>16</th>\n",
       "      <td>lat</td>\n",
       "      <td>0.034327</td>\n",
       "      <td>elvt</td>\n",
       "      <td>0.088689</td>\n",
       "    </tr>\n",
       "    <tr>\n",
       "      <th>17</th>\n",
       "      <td>elvt</td>\n",
       "      <td>0.025039</td>\n",
       "      <td>lon</td>\n",
       "      <td>0.033411</td>\n",
       "    </tr>\n",
       "    <tr>\n",
       "      <th>18</th>\n",
       "      <td>gbrd</td>\n",
       "      <td>0.017886</td>\n",
       "      <td>lat</td>\n",
       "      <td>0.005262</td>\n",
       "    </tr>\n",
       "  </tbody>\n",
       "</table>\n",
       "</div>"
      ],
      "text/plain": [
       "          pearson corr        spearman corr\n",
       "0   gust      0.382044  hmdy       0.796693\n",
       "1   hmdy      0.305894  hmax       0.794980\n",
       "2   hmax      0.303327  hmin       0.769132\n",
       "3   dmax      0.301448  gust       0.761979\n",
       "4   dewp      0.296092  wdsp       0.745568\n",
       "5   dmin      0.292986  dewp       0.745378\n",
       "6   tmax      0.287871  dmin       0.744746\n",
       "7   hmin      0.282092  dmax       0.744268\n",
       "8   smax      0.278865  wdct       0.712490\n",
       "9   smin      0.278684  smax       0.683713\n",
       "10   stp      0.278414  smin       0.683051\n",
       "11  tmin      0.268495   stp       0.682343\n",
       "12  temp      0.267287  tmax       0.681979\n",
       "13  wdsp      0.245373  tmin       0.673677\n",
       "14  wdct      0.225907  temp       0.668856\n",
       "15   lon      0.047653  gbrd       0.565889\n",
       "16   lat      0.034327  elvt       0.088689\n",
       "17  elvt      0.025039   lon       0.033411\n",
       "18  gbrd      0.017886   lat       0.005262"
      ]
     },
     "execution_count": 18,
     "metadata": {},
     "output_type": "execute_result"
    }
   ],
   "source": [
    "target_corr_df = pd.concat([target_pearson_corr_df, target_spearman_corr_df], axis=1)\n",
    "target_corr_df"
   ]
  },
  {
   "cell_type": "markdown",
   "metadata": {},
   "source": [
    "Тут мы уже не наблюдаем схожесть в значениях коэффициентов корреляции. На оценку по методу Пирсона скорее всего повлияла ненормальность распределения, а по методу Спирмана вероятно, что оценки завышены. В любом случае, можно говорить о некоторой монотонной зависимости целевого признака от ряда других, некоторые объясняются физической природой признаков (например, осадки от влажности и точки росы)."
   ]
  },
  {
   "cell_type": "markdown",
   "metadata": {},
   "source": [
    "---"
   ]
  },
  {
   "cell_type": "markdown",
   "metadata": {},
   "source": [
    "Наконец, посмотрим на распределение целевого признака. Построим график в разных масштабах оси ординат."
   ]
  },
  {
   "cell_type": "code",
   "execution_count": 26,
   "metadata": {
    "ExecuteTime": {
     "end_time": "2018-04-22T10:51:04.877281Z",
     "start_time": "2018-04-22T10:51:03.090779Z"
    }
   },
   "outputs": [
    {
     "data": {
      "image/png": "[encoded data removed]",
      "text/plain": [
       "<Figure size 1080x360 with 3 Axes>"
      ]
     },
     "metadata": {},
     "output_type": "display_data"
    }
   ],
   "source": [
    "_, axes = plt.subplots(nrows=1, ncols=3, figsize=(15, 5))\n",
    "\n",
    "sns.distplot(df['prcp'], ax=axes[0])\n",
    "\n",
    "sns.distplot(df['prcp'], ax=axes[1])\n",
    "axes[1].set_ylim(0, 0.05)\n",
    "\n",
    "sns.distplot(df['prcp'], ax=axes[2])\n",
    "axes[2].set_ylim(0, 0.01)\n",
    "\n",
    "plt.show()"
   ]
  },
  {
   "cell_type": "markdown",
   "metadata": {
    "ExecuteTime": {
     "end_time": "2018-04-22T06:51:40.519284Z",
     "start_time": "2018-04-22T06:51:40.510286Z"
    }
   },
   "source": [
    "Очевидно, что распределение целевого признака далеко от номрального. Тем не менее, проведем статистические тесты на нормальность и скошенность распределения. Для оценки критерия Шапиро-Уилка в модуле scipy.stats существует метод shapiro(). У него есть ограничение на размер выборки - 5000 (в документации указано, что при выборках большего размера точность p-value не гарантируется). Проведем 10 случайных взятий подвыборки заданного размера и найдем среднее значение p-value на этих разбиениях."
   ]
  },
  {
   "cell_type": "code",
   "execution_count": 20,
   "metadata": {
    "ExecuteTime": {
     "end_time": "2018-04-22T10:48:07.301874Z",
     "start_time": "2018-04-22T10:48:05.664278Z"
    }
   },
   "outputs": [
    {
     "name": "stdout",
     "output_type": "stream",
     "text": [
      "Среднее значение p-value критерия Шапиро-Уилка на случайных разбиениях: 0.0\n",
      "Значение p-value теста на скошенность распределения: 0.0\n"
     ]
    }
   ],
   "source": [
    "shapiro_p_values = []\n",
    "\n",
    "for split_num in range(10):\n",
    "    np.random.seed(RANDOM_STATE + split_num)\n",
    "    rand_split = np.random.randint(0, df.shape[0], size=5000)\n",
    "    shapiro_p_values.append(stats.shapiro(df.loc[rand_split, 'prcp'])[1])\n",
    "    \n",
    "print('Среднее значение p-value критерия Шапиро-Уилка на случайных разбиениях: {}'.format(np.mean(shapiro_p_values)))\n",
    "print('Значение p-value теста на скошенность распределения: {}'.format(stats.skewtest(df['prcp'])[1]))"
   ]
  },
  {
   "cell_type": "markdown",
   "metadata": {
    "ExecuteTime": {
     "end_time": "2018-04-22T07:55:15.333586Z",
     "start_time": "2018-04-22T07:55:15.134434Z"
    }
   },
   "source": [
    "Полученное среднее p-value критерия Шапиро-Уилка меньше уровня значимости в 0.05, значит распределение не нормальное. Тест на скошенность распределения также не прошел."
   ]
  },
  {
   "cell_type": "markdown",
   "metadata": {},
   "source": [
    "Посмотрим внимательней на правый \"хвост\" распределения."
   ]
  },
  {
   "cell_type": "code",
   "execution_count": 21,
   "metadata": {
    "ExecuteTime": {
     "end_time": "2018-04-22T10:48:07.323876Z",
     "start_time": "2018-04-22T10:48:07.305881Z"
    }
   },
   "outputs": [
    {
     "data": {
      "text/plain": [
       "78.4     3\n",
       "77.6     2\n",
       "76.2     2\n",
       "77.8     1\n",
       "81.2     1\n",
       "79.8     1\n",
       "85.4     1\n",
       "75.8     1\n",
       "96.8     1\n",
       "75.2     1\n",
       "77.0     1\n",
       "89.0     1\n",
       "100.0    1\n",
       "Name: prcp, dtype: int64"
      ]
     },
     "execution_count": 21,
     "metadata": {},
     "output_type": "execute_result"
    }
   ],
   "source": [
    "df[df['prcp'] > 75]['prcp'].value_counts().iloc[-25:]"
   ]
  },
  {
   "cell_type": "markdown",
   "metadata": {},
   "source": [
    "Осадки интенсивностью в районе 100 мм/час - это очень сильные ливни. И хоть такие наблюдения значимы, но их слишком мало в общей массе для какого-то вклада в модель. Выполним фильтрацию нашей целевой переменной по 99% квантилю, чтобы избавиться от таких экстремальных единичных значений."
   ]
  },
  {
   "cell_type": "code",
   "execution_count": 27,
   "metadata": {
    "ExecuteTime": {
     "end_time": "2018-04-22T10:51:10.310798Z",
     "start_time": "2018-04-22T10:51:09.023094Z"
    }
   },
   "outputs": [
    {
     "data": {
      "text/plain": [
       "<matplotlib.axes._subplots.AxesSubplot at 0x2ab41c629e8>"
      ]
     },
     "execution_count": 27,
     "metadata": {},
     "output_type": "execute_result"
    },
    {
     "data": {
      "image/png": "[encoded data removed]",
      "text/plain": [
       "<Figure size 1080x360 with 1 Axes>"
      ]
     },
     "metadata": {},
     "output_type": "display_data"
    }
   ],
   "source": [
    "prcp_quantile = df['prcp'].quantile(0.99)\n",
    "prcp_filtered = df[df['prcp'] < prcp_quantile]['prcp']\n",
    "\n",
    "plt.figure(figsize=(15, 5))\n",
    "sns.distplot(prcp_filtered)"
   ]
  },
  {
   "cell_type": "markdown",
   "metadata": {
    "ExecuteTime": {
     "end_time": "2018-04-22T08:28:59.720651Z",
     "start_time": "2018-04-22T08:28:59.662651Z"
    }
   },
   "source": [
    "<p>После фильтрации по квантилю обнаружилась следующая особенность целевого признака - он принимает дискретные значения (видимо, связанные с ограничениями на измерения в погодных станциях). \n",
    "<p>Учитывая все эти факты, принимаем решение перейти от казалось бы предполагаемой задачи регрессии к задаче многоклассовой классификации. Подчерпнув информацию о принятой классификации интенсивности дождей (точнее, об отсутствии единой таковой), выделим \"на глаз\" следующие классы целевой переменной.\n",
    "- Отсутствие осадков: $prcp = 0.0$\n",
    "- Небольшой дождь: $prcp\\in(0.0; 1.2]$\n",
    "- Умеренный дождь: $prcp\\in(1.2; 2.5]$\n",
    "- Сильный дождь: $prcp > 2.5$"
   ]
  }
 ],
 "metadata": {
  "kernelspec": {
   "display_name": "Python 3",
   "language": "python",
   "name": "python3"
  },
  "language_info": {
   "codemirror_mode": {
    "name": "ipython",
    "version": 3
   },
   "file_extension": ".py",
   "mimetype": "text/x-python",
   "name": "python",
   "nbconvert_exporter": "python",
   "pygments_lexer": "ipython3",
   "version": "3.6.3"
  }
 },
 "nbformat": 4,
 "nbformat_minor": 2
}
