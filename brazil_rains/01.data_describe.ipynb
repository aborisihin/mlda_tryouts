{
 "cells": [
  {
   "cell_type": "code",
   "execution_count": 1,
   "metadata": {
    "ExecuteTime": {
     "end_time": "2018-04-19T17:28:51.790038Z",
     "start_time": "2018-04-19T17:28:51.782037Z"
    },
    "collapsed": true
   },
   "outputs": [],
   "source": [
    "ORIGIANL_DATA_FILE = './../data/project_brazil/sudeste.csv'\n",
    "PROCESSED_DATA_FILE = './../data/project_brazil/processed.csv'"
   ]
  },
  {
   "cell_type": "markdown",
   "metadata": {},
   "source": [
    "---"
   ]
  },
  {
   "cell_type": "markdown",
   "metadata": {},
   "source": [
    "<p>Имеется набор данных почасовых наблюдений погодных условий от 122 погодных станций Юго-Восточного региона Бразилии. В регион входят штаты: Рио-де-Жанейро, Сан-Паулу, Минас-Жерайс и Эспириту-Санту. Данные собираются с 2000 года (однако не все станции начали работы по сбору именно с этого года). Источником данных является INMET (Национальный Метеорологический Институт - Бразилия). Описание и ссылку на скачивание данных можно найти на странице <a href=\"https://www.kaggle.com/PROPPG-PPG/hourly-weather-surface-brazil-southeast-region\">Kaggle Datasets</a>."
   ]
  },
  {
   "cell_type": "markdown",
   "metadata": {},
   "source": [
    "**Описания признаков в датасете**<br><br>\n",
    "<b>wsid</b> (Numeric) - Уникальный идентификатор погодной станции<br>\n",
    "<b>wsnm</b> (String) - Наименование погодной станции<br>\n",
    "<b>elvt</b> (Numeric) - Высота расположения погодной станции<br>\n",
    "<b>lat</b> (Numeric) - Широта месторасположения погодной станции (град.)<br>\n",
    "<b>lon</b> (Numericw) - Долгота месторасположения погодной станции (град.)<br>\n",
    "<b>inme</b> (String) - INMET-код станции для области<br>\n",
    "<b>city</b> (String) - Город<br>\n",
    "<b>prov</b> (String) - Штат (провинция)<br>\n",
    "<b>mdct</b> (DateTime) - Дата и время наблюдения<br>\n",
    "<b>date</b> (DateTime) - Дата наблюдения<br>\n",
    "<b>yr</b> (Numeric) - Год наблюдения (2000-2016)<br>\n",
    "<b>mo</b> (Numeric) - Месяц наблюдения (1-12)<br>\n",
    "<b>da</b> (Numeric) - День наблюдения (1-31)<br>\n",
    "<b>hr</b> (Numeric) - Час наблюдения (0-23)<br>\n",
    "<b>prcp</b> (Numeric) - Количество осадков за последний час (мм)<br>\n",
    "<b>stp</b> (Numeric) - Давление воздуха (мгновенное) (гПа)<br>\n",
    "<b>smax</b> (Numeric) - Максимальное давление воздуха за последний час (гПа)<br>\n",
    "<b>smin</b> (Numeric) - Минимальное давление воздуха за последний час (гПа)<br>\n",
    "<b>gbrd</b> (String) - Солнечное излучение (кДж/м2)<br>\n",
    "<b>temp</b> (Numeric) - Температура воздуха (мгновенная) (град. Цельсия)<br>\n",
    "<b>dewp</b> (Numeric) - Температура точки росы (мгновенная) (град. Цельсия)<br>\n",
    "<b>tmax</b> (Numeric) - Максимальная температура за последний час (град. Цельсия)<br>\n",
    "<b>dmax</b> (Numericw) - Максимальная температура точки росы за последний час (град. Цельсия)<br>\n",
    "<b>tmin</b> (Numeric) - Минимальная температура за последний час (град. Цельсия)<br>\n",
    "<b>dmin</b> (Numeric) - Минимальная температура точки росыза последний час (град. Цельсия)<br>\n",
    "<b>hmdy</b> (Numeric) - Относительная влажность (мгновенная) (%)<br>\n",
    "<b>hmax</b> (Numeric) - Максимальная относительная влажность за последний час (%)<br>\n",
    "<b>hmin</b> (Numeric) - Минимальная относительная влажность за последний час (%)<br>\n",
    "<b>wdsp</b> (String) - Скорость ветра (м/с)<br>\n",
    "<b>wdct</b> (Numeric) - Направление ветра (град) (0-360)<br>\n",
    "<b>gust</b> (String) - Порывы ветра (м/с)<br>"
   ]
  },
  {
   "cell_type": "markdown",
   "metadata": {},
   "source": [
    "Данный датасет может быть использован для опробования моделей машинного обучения в области прогнозирования погоды. Явно выделенной целевой переменной нет, а на Kaggle предлагается прогнозировать количество осадков или температуру. Мы попробуем спрогнозировать осадки, т.е. целевой меткой будет являться признак **prcp**. Подробнее последует далее.\n",
    "<p>Необходимо учесть тот факт, что данные по осадкам хранятся для того часа, для которого актуальны и прочие наблюдения параметров. Для прогнозирования осадков на час, следующий за наблюдаемыми данными, в тренировочном датасете надо выполнить сдвиг значений целевой переменной на один шаг \"вперед\".\n",
    "<p>Учитывая, что размер датасета значительный (1.72 Гб), сделаем предобработку файла данных, чтобы не загружать весь датасет в память. В простом предварительном взгляде на данные было выявлено, что примерно в 86% исходных данных отсутствует значение признака **prcp**. Выполним фильтрацию таких данных, оставив для дальнейшего анализа и обработки только корректные.\n",
    "<p>Также стоит отметить, что, несмотря на присутствие в данных признаков с датой и временем, датасет не стоит расматривать как упорядоченный (какого-то тренда в погоде с течением времени не может быть в такой короткий временной отрезок, как 10-20 лет). Соответственно, эти признаки несут категориальный характер."
   ]
  },
  {
   "cell_type": "code",
   "execution_count": 2,
   "metadata": {
    "ExecuteTime": {
     "end_time": "2018-04-19T17:29:30.625764Z",
     "start_time": "2018-04-19T17:28:51.795037Z"
    }
   },
   "outputs": [
    {
     "name": "stdout",
     "output_type": "stream",
     "text": [
      "Обработано строк: 1M 2M 3M 4M 5M 6M 7M 8M 9M \n",
      "Всего обработано строк (с заголовком): 9779169\n",
      "Отфильтрованные строки: 1407984\n",
      "Wall time: 28.8 s\n"
     ]
    }
   ],
   "source": [
    "%%time\n",
    "\n",
    "with open(ORIGIANL_DATA_FILE, 'r', encoding='utf-8') as in_file, open(PROCESSED_DATA_FILE, 'w', encoding='utf-8') as out_file:\n",
    "\n",
    "    total_lines = 0\n",
    "    processed_lines = 0\n",
    "\n",
    "    print('Обработано строк:', end=' ', flush=True)\n",
    "\n",
    "    # read full set\n",
    "    for line in in_file:\n",
    "\n",
    "        total_lines += 1\n",
    "\n",
    "        # write dataset header line\n",
    "        if total_lines == 1:\n",
    "            out_file.write(line)\n",
    "            continue\n",
    "\n",
    "        # progress indication\n",
    "        if total_lines % 1000000 == 0:\n",
    "            print('{}M'.format(total_lines // 1000000), end=' ', flush=True)\n",
    "\n",
    "        # serch 'prcp' field\n",
    "        prcp_field = line.split(',')[14]\n",
    "\n",
    "        if not prcp_field:\n",
    "            continue\n",
    "            \n",
    "        # write line\n",
    "        processed_lines += 1\n",
    "        \n",
    "        out_file.write(line)\n",
    "\n",
    "    print()\n",
    "    print('Всего обработано строк (с заголовком): {}'.format(total_lines))\n",
    "    print('Отфильтрованные строки: {}'.format(processed_lines))"
   ]
  }
 ],
 "metadata": {
  "kernelspec": {
   "display_name": "Python 3",
   "language": "python",
   "name": "python3"
  },
  "language_info": {
   "codemirror_mode": {
    "name": "ipython",
    "version": 3
   },
   "file_extension": ".py",
   "mimetype": "text/x-python",
   "name": "python",
   "nbconvert_exporter": "python",
   "pygments_lexer": "ipython3",
   "version": "3.6.3"
  }
 },
 "nbformat": 4,
 "nbformat_minor": 2
}
