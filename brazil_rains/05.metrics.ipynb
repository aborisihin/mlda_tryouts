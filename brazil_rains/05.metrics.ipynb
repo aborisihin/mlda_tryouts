{
 "cells": [
  {
   "cell_type": "code",
   "execution_count": 1,
   "metadata": {
    "ExecuteTime": {
     "end_time": "2018-04-22T15:54:29.235665Z",
     "start_time": "2018-04-22T15:54:25.637752Z"
    },
    "collapsed": true
   },
   "outputs": [],
   "source": [
    "import numpy as np\n",
    "import pandas as pd"
   ]
  },
  {
   "cell_type": "code",
   "execution_count": 2,
   "metadata": {
    "ExecuteTime": {
     "end_time": "2018-04-22T15:54:47.096719Z",
     "start_time": "2018-04-22T15:54:36.883046Z"
    },
    "collapsed": true
   },
   "outputs": [],
   "source": [
    "PROCESSED_DATA_FILE = './../data/project_brazil/processed.csv'\n",
    "df = pd.read_csv(PROCESSED_DATA_FILE)"
   ]
  },
  {
   "cell_type": "markdown",
   "metadata": {},
   "source": [
    "---"
   ]
  },
  {
   "cell_type": "markdown",
   "metadata": {},
   "source": [
    "Для выбора метрики сначала посмотрим на баланс классов целевой переменной. Выведем долю каждого класса."
   ]
  },
  {
   "cell_type": "code",
   "execution_count": 13,
   "metadata": {
    "ExecuteTime": {
     "end_time": "2018-04-22T16:01:31.704990Z",
     "start_time": "2018-04-22T16:01:30.836905Z"
    }
   },
   "outputs": [
    {
     "data": {
      "text/plain": [
       "0    0.530318\n",
       "1    0.315896\n",
       "3    0.094195\n",
       "2    0.059591\n",
       "Name: prcp, dtype: float64"
      ]
     },
     "execution_count": 13,
     "metadata": {},
     "output_type": "execute_result"
    }
   ],
   "source": [
    "prcp = df['prcp']\n",
    "\n",
    "def prcp_transform(val):\n",
    "    if val == 0.0:\n",
    "        return 0\n",
    "    elif (val > 0.0) & (val <= 1.2):\n",
    "        return 1\n",
    "    elif (val > 1.2) & (val <=2.5):\n",
    "        return 2\n",
    "    elif (val > 2.5):\n",
    "        return 3\n",
    "    \n",
    "prcp = prcp.apply(prcp_transform)\n",
    "\n",
    "prcp.value_counts(normalize=True)"
   ]
  },
  {
   "cell_type": "markdown",
   "metadata": {},
   "source": [
    "<p>Можно видеть, что классы сильно несбалансированы. Обычной выбором метрики для задачи классификации с сильным дисбалансом классов является метрика **ROC-AUC**. В отличие от более простых метрик (например, доли верных ответов), ROC-AUC учитывает как TPR (True Positive Rate), так и FPR (False Positive Rate). Значит, она не чувствительна к дисбалансу классов. Также эта метрика позволяет дать оценку качества классификации, основываясь на вероятностых предположениях принадлежности к классу, не привязываяь к какому-то конкретному порогу классификации.\n",
    "<p>Т.к. классификация в нашей задаче многоклассовая, то необходимо выбрать способ усреднения метрики. После изучения возможных способов в документации sklearn, выберем метод **'macro'** (итоговая оценка метрики усредняется без учета веса класса, что дает более пессимистичную оценку, чем методы 'micro' и 'weighted')."
   ]
  }
 ],
 "metadata": {
  "kernelspec": {
   "display_name": "Python 3",
   "language": "python",
   "name": "python3"
  },
  "language_info": {
   "codemirror_mode": {
    "name": "ipython",
    "version": 3
   },
   "file_extension": ".py",
   "mimetype": "text/x-python",
   "name": "python",
   "nbconvert_exporter": "python",
   "pygments_lexer": "ipython3",
   "version": "3.6.3"
  }
 },
 "nbformat": 4,
 "nbformat_minor": 2
}
