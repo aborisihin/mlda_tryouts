{
 "cells": [
  {
   "cell_type": "code",
   "execution_count": 1,
   "metadata": {
    "ExecuteTime": {
     "end_time": "2018-04-23T20:42:24.077284Z",
     "start_time": "2018-04-23T20:42:22.686728Z"
    },
    "collapsed": true
   },
   "outputs": [],
   "source": [
    "import numpy as np\n",
    "import pandas as pd\n",
    "import matplotlib.pyplot as plt\n",
    "import seaborn as sns\n",
    "\n",
    "import pickle\n",
    "from datetime import datetime\n",
    "from tqdm import tqdm_notebook\n",
    "\n",
    "from sklearn.linear_model import LogisticRegression\n",
    "from sklearn.model_selection import cross_val_score, GroupShuffleSplit\n",
    "from sklearn.metrics import confusion_matrix, make_scorer, log_loss\n",
    "from scipy import sparse\n",
    "\n",
    "from sklearn.preprocessing import Normalizer\n",
    "\n",
    "%matplotlib inline"
   ]
  },
  {
   "cell_type": "code",
   "execution_count": 2,
   "metadata": {
    "ExecuteTime": {
     "end_time": "2018-04-23T20:37:31.516418Z",
     "start_time": "2018-04-23T20:37:31.508423Z"
    },
    "collapsed": true
   },
   "outputs": [],
   "source": [
    "PATH_TO_PROCESSED_DATA = './../data/kaggle_receipts/processed/'"
   ]
  },
  {
   "cell_type": "markdown",
   "metadata": {},
   "source": [
    "## load data"
   ]
  },
  {
   "cell_type": "code",
   "execution_count": 3,
   "metadata": {
    "ExecuteTime": {
     "end_time": "2018-04-23T20:37:32.088523Z",
     "start_time": "2018-04-23T20:37:32.080530Z"
    },
    "collapsed": true
   },
   "outputs": [],
   "source": [
    "loaded_train = []\n",
    "loaded_test = []\n",
    "\n",
    "features_to_load = [\n",
    "    ('name_cvect', 'npz'),\n",
    "    #('name_cvect_mms', 'npz'),\n",
    "    #('name_cvect_norm', 'npz'),\n",
    "    #('name_cvect_tw', 'npz'),\n",
    "    #('name_tfidf', 'npz'),\n",
    "    ('shop_name', 'npz'),\n",
    "    ('price', 'csv'),\n",
    "    #('price_mms', 'csv'),\n",
    "    #('count' , 'csv'),\n",
    "    #('dayofweek', 'npz'),\n",
    "    #('hour', 'npz'),\n",
    "    #('hour_dayofweek_poly', 'csv'),\n",
    "]"
   ]
  },
  {
   "cell_type": "code",
   "execution_count": 4,
   "metadata": {
    "ExecuteTime": {
     "end_time": "2018-04-23T20:37:33.236251Z",
     "start_time": "2018-04-23T20:37:32.477881Z"
    },
    "collapsed": true
   },
   "outputs": [],
   "source": [
    "for (name, tp) in features_to_load:\n",
    "    if tp == 'npz':\n",
    "        loaded_train.append(sparse.load_npz(PATH_TO_PROCESSED_DATA + name + '_train.npz'))\n",
    "        loaded_test.append(sparse.load_npz(PATH_TO_PROCESSED_DATA + name + '_test.npz'))\n",
    "    elif tp == 'csv':\n",
    "        loaded_train.append(pd.read_csv(PATH_TO_PROCESSED_DATA + name + '_train.csv', index_col=0))\n",
    "        loaded_test.append(pd.read_csv(PATH_TO_PROCESSED_DATA + name + '_test.csv', index_col=0))\n",
    "        \n",
    "categories_train = pd.read_csv(PATH_TO_PROCESSED_DATA + 'categories_train.csv', index_col=0)\n",
    "check_id_train = pd.read_csv(PATH_TO_PROCESSED_DATA + 'check_id_train.csv', index_col=0)\n",
    "id_test = pd.read_csv(PATH_TO_PROCESSED_DATA + 'id_test.csv', index_col=0)"
   ]
  },
  {
   "cell_type": "code",
   "execution_count": 5,
   "metadata": {
    "ExecuteTime": {
     "end_time": "2018-04-23T20:37:33.264181Z",
     "start_time": "2018-04-23T20:37:33.236251Z"
    },
    "collapsed": true
   },
   "outputs": [],
   "source": [
    "X_train_full = sparse.csr_matrix(sparse.hstack(loaded_train))\n",
    "X_test_full = sparse.csr_matrix(sparse.hstack(loaded_test))\n",
    "y_train = categories_train['category']\n",
    "check_id_train = check_id_train['check_id']\n",
    "id_test = id_test[['id']]"
   ]
  },
  {
   "cell_type": "code",
   "execution_count": 6,
   "metadata": {
    "ExecuteTime": {
     "end_time": "2018-04-23T20:37:33.316182Z",
     "start_time": "2018-04-23T20:37:33.276180Z"
    }
   },
   "outputs": [
    {
     "name": "stdout",
     "output_type": "stream",
     "text": [
      "(13682, 14432)\n",
      "(3000, 14432)\n",
      "(13682,)\n",
      "(13682,)\n",
      "(3000, 1)\n"
     ]
    }
   ],
   "source": [
    "print(X_train_full.shape)\n",
    "print(X_test_full.shape)\n",
    "print(y_train.shape)\n",
    "print(check_id_train.shape)\n",
    "print(id_test.shape)"
   ]
  },
  {
   "cell_type": "code",
   "execution_count": 7,
   "metadata": {
    "ExecuteTime": {
     "end_time": "2018-04-23T20:37:35.679965Z",
     "start_time": "2018-04-23T20:37:35.639932Z"
    },
    "collapsed": true
   },
   "outputs": [],
   "source": [
    "with open(PATH_TO_PROCESSED_DATA + 'category_labeler.pkl', 'rb') as category_labeler_file:\n",
    "    category_labeler = pickle.load(category_labeler_file)"
   ]
  },
  {
   "cell_type": "code",
   "execution_count": null,
   "metadata": {
    "collapsed": true
   },
   "outputs": [],
   "source": []
  },
  {
   "cell_type": "code",
   "execution_count": null,
   "metadata": {
    "collapsed": true
   },
   "outputs": [],
   "source": []
  },
  {
   "cell_type": "code",
   "execution_count": null,
   "metadata": {
    "collapsed": true
   },
   "outputs": [],
   "source": []
  },
  {
   "cell_type": "code",
   "execution_count": null,
   "metadata": {
    "collapsed": true
   },
   "outputs": [],
   "source": []
  },
  {
   "cell_type": "code",
   "execution_count": null,
   "metadata": {
    "collapsed": true
   },
   "outputs": [],
   "source": []
  },
  {
   "cell_type": "markdown",
   "metadata": {},
   "source": [
    "## make prediction"
   ]
  },
  {
   "cell_type": "code",
   "execution_count": 14,
   "metadata": {
    "ExecuteTime": {
     "end_time": "2018-04-07T19:27:45.955587Z",
     "start_time": "2018-04-07T19:27:45.947582Z"
    },
    "collapsed": true
   },
   "outputs": [],
   "source": [
    "predictions = best_estimator.predict_proba(X_test_full)"
   ]
  },
  {
   "cell_type": "code",
   "execution_count": 15,
   "metadata": {
    "ExecuteTime": {
     "end_time": "2018-04-07T19:27:46.669969Z",
     "start_time": "2018-04-07T19:27:46.595932Z"
    },
    "collapsed": true
   },
   "outputs": [],
   "source": [
    "predictions_df = id_test\n",
    "\n",
    "for idx, category in enumerate(category_labeler.classes_):\n",
    "    predictions_df = pd.concat([predictions_df, pd.Series(predictions[:, idx], name=category)], axis=1)"
   ]
  },
  {
   "cell_type": "code",
   "execution_count": 16,
   "metadata": {
    "ExecuteTime": {
     "end_time": "2018-04-07T19:28:16.746871Z",
     "start_time": "2018-04-07T19:28:16.478826Z"
    },
    "collapsed": true
   },
   "outputs": [],
   "source": [
    "timestamp = datetime.now().strftime('%m%d_%H%M')\n",
    "predictions_df.to_csv('./submissions/submission_{}.csv'.format(timestamp), encoding='utf-8', index=False)"
   ]
  },
  {
   "cell_type": "code",
   "execution_count": null,
   "metadata": {
    "collapsed": true
   },
   "outputs": [],
   "source": []
  }
 ],
 "metadata": {
  "kernelspec": {
   "display_name": "Python 3",
   "language": "python",
   "name": "python3"
  },
  "language_info": {
   "codemirror_mode": {
    "name": "ipython",
    "version": 3
   },
   "file_extension": ".py",
   "mimetype": "text/x-python",
   "name": "python",
   "nbconvert_exporter": "python",
   "pygments_lexer": "ipython3",
   "version": "3.6.3"
  }
 },
 "nbformat": 4,
 "nbformat_minor": 2
}
