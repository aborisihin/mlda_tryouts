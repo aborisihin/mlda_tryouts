{
 "cells": [
  {
   "cell_type": "code",
   "execution_count": 1,
   "metadata": {},
   "outputs": [],
   "source": [
    "import numpy as np\n",
    "import pandas as pd\n",
    "import matplotlib.pyplot as plt\n",
    "\n",
    "from sklearn.feature_extraction.text import CountVectorizer\n",
    "from sklearn.preprocessing import LabelEncoder\n",
    "from sklearn.linear_model import LogisticRegression\n",
    "from sklearn.model_selection import cross_val_score, cross_val_predict, GroupShuffleSplit, GroupKFold\n",
    "\n",
    "%matplotlib inline"
   ]
  },
  {
   "cell_type": "markdown",
   "metadata": {},
   "source": [
    "### load data"
   ]
  },
  {
   "cell_type": "code",
   "execution_count": 2,
   "metadata": {},
   "outputs": [],
   "source": [
    "train_df = pd.read_csv('./data/train.csv')\n",
    "train_checks_df = pd.read_csv('./data/train_checks.csv')\n",
    "\n",
    "test_df = pd.read_csv('./data/test.csv')\n",
    "test_checks_df = pd.read_csv('./data/test_checks.csv')"
   ]
  },
  {
   "cell_type": "code",
   "execution_count": 3,
   "metadata": {},
   "outputs": [
    {
     "data": {
      "text/html": [
       "<div>\n",
       "<style scoped>\n",
       "    .dataframe tbody tr th:only-of-type {\n",
       "        vertical-align: middle;\n",
       "    }\n",
       "\n",
       "    .dataframe tbody tr th {\n",
       "        vertical-align: top;\n",
       "    }\n",
       "\n",
       "    .dataframe thead th {\n",
       "        text-align: right;\n",
       "    }\n",
       "</style>\n",
       "<table border=\"1\" class=\"dataframe\">\n",
       "  <thead>\n",
       "    <tr style=\"text-align: right;\">\n",
       "      <th></th>\n",
       "      <th>check_id</th>\n",
       "      <th>name</th>\n",
       "      <th>category</th>\n",
       "      <th>price</th>\n",
       "      <th>count</th>\n",
       "    </tr>\n",
       "  </thead>\n",
       "  <tbody>\n",
       "    <tr>\n",
       "      <th>0</th>\n",
       "      <td>0</td>\n",
       "      <td>*3479755 ТRUF.Конф.кр.корп.гл.вк.шок180г</td>\n",
       "      <td>Чай и сладкое</td>\n",
       "      <td>49.0</td>\n",
       "      <td>2.0</td>\n",
       "    </tr>\n",
       "    <tr>\n",
       "      <th>1</th>\n",
       "      <td>0</td>\n",
       "      <td>3408392 ECONTA Мешки д/мусора 30л  30шт</td>\n",
       "      <td>Для дома</td>\n",
       "      <td>21.0</td>\n",
       "      <td>1.0</td>\n",
       "    </tr>\n",
       "    <tr>\n",
       "      <th>2</th>\n",
       "      <td>0</td>\n",
       "      <td>3260497 ЯШКИНО Рулет С ВАР.СГУЩ. 200г</td>\n",
       "      <td>Чай и сладкое</td>\n",
       "      <td>39.0</td>\n",
       "      <td>1.0</td>\n",
       "    </tr>\n",
       "    <tr>\n",
       "      <th>3</th>\n",
       "      <td>0</td>\n",
       "      <td>3300573 Пакет ПЯТЕРОЧКА 65х40см</td>\n",
       "      <td>Упаковка</td>\n",
       "      <td>4.0</td>\n",
       "      <td>1.0</td>\n",
       "    </tr>\n",
       "    <tr>\n",
       "      <th>4</th>\n",
       "      <td>0</td>\n",
       "      <td>3413607 ЗЕР/СЕЛ.Сухари с изюмом 250г</td>\n",
       "      <td>Чай и сладкое</td>\n",
       "      <td>35.0</td>\n",
       "      <td>1.0</td>\n",
       "    </tr>\n",
       "  </tbody>\n",
       "</table>\n",
       "</div>"
      ],
      "text/plain": [
       "   check_id                                      name       category  price  \\\n",
       "0         0  *3479755 ТRUF.Конф.кр.корп.гл.вк.шок180г  Чай и сладкое   49.0   \n",
       "1         0   3408392 ECONTA Мешки д/мусора 30л  30шт       Для дома   21.0   \n",
       "2         0     3260497 ЯШКИНО Рулет С ВАР.СГУЩ. 200г  Чай и сладкое   39.0   \n",
       "3         0           3300573 Пакет ПЯТЕРОЧКА 65х40см       Упаковка    4.0   \n",
       "4         0      3413607 ЗЕР/СЕЛ.Сухари с изюмом 250г  Чай и сладкое   35.0   \n",
       "\n",
       "   count  \n",
       "0    2.0  \n",
       "1    1.0  \n",
       "2    1.0  \n",
       "3    1.0  \n",
       "4    1.0  "
      ]
     },
     "execution_count": 3,
     "metadata": {},
     "output_type": "execute_result"
    }
   ],
   "source": [
    "train_df.head()"
   ]
  },
  {
   "cell_type": "code",
   "execution_count": 4,
   "metadata": {},
   "outputs": [
    {
     "name": "stdout",
     "output_type": "stream",
     "text": [
      "<class 'pandas.core.frame.DataFrame'>\n",
      "RangeIndex: 13682 entries, 0 to 13681\n",
      "Data columns (total 5 columns):\n",
      "check_id    13682 non-null int64\n",
      "name        13681 non-null object\n",
      "category    13682 non-null object\n",
      "price       13682 non-null float64\n",
      "count       13682 non-null float64\n",
      "dtypes: float64(2), int64(1), object(2)\n",
      "memory usage: 534.5+ KB\n"
     ]
    }
   ],
   "source": [
    "train_df.info()"
   ]
  },
  {
   "cell_type": "code",
   "execution_count": 5,
   "metadata": {},
   "outputs": [
    {
     "data": {
      "text/plain": [
       "array(['Чай и сладкое', 'Для дома', 'Упаковка', 'Молочка', 'Бакалея',\n",
       "       'Дети', 'Овощи и фрукты', 'Напитки', 'Здоровье', 'Косметика',\n",
       "       'Гастрономия', 'Кафе', 'Мясо и птица', 'Хлеб', 'Услуги',\n",
       "       'Одежда и обувь', 'Рыба', 'Машина', 'Не определена', 'Животные',\n",
       "       'Кулинария', 'Алкоголь', 'Снеки', 'Табак', 'Компьютер'],\n",
       "      dtype=object)"
      ]
     },
     "execution_count": 5,
     "metadata": {},
     "output_type": "execute_result"
    }
   ],
   "source": [
    "train_df['category'].unique()"
   ]
  },
  {
   "cell_type": "code",
   "execution_count": 6,
   "metadata": {},
   "outputs": [],
   "source": [
    "train_df.fillna('', inplace=True)"
   ]
  },
  {
   "cell_type": "code",
   "execution_count": 7,
   "metadata": {},
   "outputs": [
    {
     "data": {
      "text/html": [
       "<div>\n",
       "<style scoped>\n",
       "    .dataframe tbody tr th:only-of-type {\n",
       "        vertical-align: middle;\n",
       "    }\n",
       "\n",
       "    .dataframe tbody tr th {\n",
       "        vertical-align: top;\n",
       "    }\n",
       "\n",
       "    .dataframe thead th {\n",
       "        text-align: right;\n",
       "    }\n",
       "</style>\n",
       "<table border=\"1\" class=\"dataframe\">\n",
       "  <thead>\n",
       "    <tr style=\"text-align: right;\">\n",
       "      <th></th>\n",
       "      <th>check_id</th>\n",
       "      <th>shop_name</th>\n",
       "      <th>datetime</th>\n",
       "      <th>sum</th>\n",
       "    </tr>\n",
       "  </thead>\n",
       "  <tbody>\n",
       "    <tr>\n",
       "      <th>0</th>\n",
       "      <td>0</td>\n",
       "      <td>Не известно</td>\n",
       "      <td>2017-12-30 19:15:00</td>\n",
       "      <td>520.10</td>\n",
       "    </tr>\n",
       "    <tr>\n",
       "      <th>1</th>\n",
       "      <td>1</td>\n",
       "      <td>ЕВРОПА</td>\n",
       "      <td>2018-01-03 18:01:29</td>\n",
       "      <td>188.00</td>\n",
       "    </tr>\n",
       "    <tr>\n",
       "      <th>2</th>\n",
       "      <td>2</td>\n",
       "      <td>ПродвижениеФарм</td>\n",
       "      <td>2017-12-23 11:37:00</td>\n",
       "      <td>377.00</td>\n",
       "    </tr>\n",
       "    <tr>\n",
       "      <th>3</th>\n",
       "      <td>3</td>\n",
       "      <td>Не известно</td>\n",
       "      <td>2017-12-23 14:01:00</td>\n",
       "      <td>1024.00</td>\n",
       "    </tr>\n",
       "    <tr>\n",
       "      <th>4</th>\n",
       "      <td>4</td>\n",
       "      <td>ИП Роздухов М. Е.</td>\n",
       "      <td>2018-01-03 12:24:00</td>\n",
       "      <td>1542.16</td>\n",
       "    </tr>\n",
       "  </tbody>\n",
       "</table>\n",
       "</div>"
      ],
      "text/plain": [
       "   check_id          shop_name             datetime      sum\n",
       "0         0        Не известно  2017-12-30 19:15:00   520.10\n",
       "1         1             ЕВРОПА  2018-01-03 18:01:29   188.00\n",
       "2         2    ПродвижениеФарм  2017-12-23 11:37:00   377.00\n",
       "3         3        Не известно  2017-12-23 14:01:00  1024.00\n",
       "4         4  ИП Роздухов М. Е.  2018-01-03 12:24:00  1542.16"
      ]
     },
     "execution_count": 7,
     "metadata": {},
     "output_type": "execute_result"
    }
   ],
   "source": [
    "train_checks_df.head()"
   ]
  },
  {
   "cell_type": "code",
   "execution_count": 8,
   "metadata": {},
   "outputs": [
    {
     "name": "stdout",
     "output_type": "stream",
     "text": [
      "<class 'pandas.core.frame.DataFrame'>\n",
      "RangeIndex: 2042 entries, 0 to 2041\n",
      "Data columns (total 4 columns):\n",
      "check_id     2042 non-null int64\n",
      "shop_name    1967 non-null object\n",
      "datetime     2042 non-null object\n",
      "sum          2042 non-null float64\n",
      "dtypes: float64(1), int64(1), object(2)\n",
      "memory usage: 63.9+ KB\n"
     ]
    }
   ],
   "source": [
    "train_checks_df.info()"
   ]
  },
  {
   "cell_type": "markdown",
   "metadata": {},
   "source": [
    "### prepare data"
   ]
  },
  {
   "cell_type": "code",
   "execution_count": 9,
   "metadata": {},
   "outputs": [],
   "source": [
    "remove_sep_transform = lambda val: val.replace('/', ' ').replace('*', ' ')\n",
    "no_digits_transform = lambda val: ' '.join([token for token in val.split() if not token.isdigit()])"
   ]
  },
  {
   "cell_type": "code",
   "execution_count": 10,
   "metadata": {},
   "outputs": [],
   "source": [
    "train_df['name_nodigits'] = train_df['name'].apply(remove_sep_transform).apply(no_digits_transform)\n",
    "test_df['name_nodigits'] = test_df['name'].apply(remove_sep_transform).apply(no_digits_transform)"
   ]
  },
  {
   "cell_type": "code",
   "execution_count": 11,
   "metadata": {},
   "outputs": [
    {
     "data": {
      "text/plain": [
       "0    ТRUF.Конф.кр.корп.гл.вк.шок180г\n",
       "1     ECONTA Мешки д мусора 30л 30шт\n",
       "2      ЯШКИНО Рулет С ВАР.СГУЩ. 200г\n",
       "3            Пакет ПЯТЕРОЧКА 65х40см\n",
       "4       ЗЕР СЕЛ.Сухари с изюмом 250г\n",
       "Name: name_nodigits, dtype: object"
      ]
     },
     "execution_count": 11,
     "metadata": {},
     "output_type": "execute_result"
    }
   ],
   "source": [
    "train_df['name_nodigits'].head()"
   ]
  },
  {
   "cell_type": "code",
   "execution_count": 12,
   "metadata": {},
   "outputs": [],
   "source": [
    "vectorizer = CountVectorizer()"
   ]
  },
  {
   "cell_type": "code",
   "execution_count": 13,
   "metadata": {},
   "outputs": [
    {
     "name": "stdout",
     "output_type": "stream",
     "text": [
      "Wall time: 116 ms\n"
     ]
    }
   ],
   "source": [
    "%%time\n",
    "\n",
    "#X = vectorizer.fit_transform(train_df['name'])\n",
    "X = vectorizer.fit_transform(train_df['name_nodigits'])"
   ]
  },
  {
   "cell_type": "code",
   "execution_count": 14,
   "metadata": {},
   "outputs": [
    {
     "data": {
      "text/plain": [
       "[('тruf', 12074),\n",
       " ('конф', 7260),\n",
       " ('кр', 7409),\n",
       " ('корп', 7349),\n",
       " ('гл', 5460),\n",
       " ('вк', 5150),\n",
       " ('шок180г', 13479),\n",
       " ('econta', 2239),\n",
       " ('мешки', 8394),\n",
       " ('мусора', 8719)]"
      ]
     },
     "execution_count": 14,
     "metadata": {},
     "output_type": "execute_result"
    }
   ],
   "source": [
    "list(vectorizer.vocabulary_.items())[:10]"
   ]
  },
  {
   "cell_type": "code",
   "execution_count": 15,
   "metadata": {},
   "outputs": [
    {
     "data": {
      "text/plain": [
       "(13682, 13818)"
      ]
     },
     "execution_count": 15,
     "metadata": {},
     "output_type": "execute_result"
    }
   ],
   "source": [
    "X.shape"
   ]
  },
  {
   "cell_type": "code",
   "execution_count": 16,
   "metadata": {},
   "outputs": [],
   "source": [
    "labeler = LabelEncoder()"
   ]
  },
  {
   "cell_type": "code",
   "execution_count": 17,
   "metadata": {},
   "outputs": [
    {
     "name": "stdout",
     "output_type": "stream",
     "text": [
      "Wall time: 26.6 ms\n"
     ]
    }
   ],
   "source": [
    "%%time\n",
    "\n",
    "y = labeler.fit_transform(train_df['category'])"
   ]
  },
  {
   "cell_type": "code",
   "execution_count": 18,
   "metadata": {},
   "outputs": [
    {
     "data": {
      "text/plain": [
       "array([24,  4, 24, 21, 24, 24, 12,  1, 12,  3], dtype=int64)"
      ]
     },
     "execution_count": 18,
     "metadata": {},
     "output_type": "execute_result"
    }
   ],
   "source": [
    "y[:10]"
   ]
  },
  {
   "cell_type": "code",
   "execution_count": 19,
   "metadata": {},
   "outputs": [
    {
     "data": {
      "text/plain": [
       "(13682,)"
      ]
     },
     "execution_count": 19,
     "metadata": {},
     "output_type": "execute_result"
    }
   ],
   "source": [
    "y.shape"
   ]
  },
  {
   "cell_type": "markdown",
   "metadata": {},
   "source": [
    "### validation"
   ]
  },
  {
   "cell_type": "code",
   "execution_count": 20,
   "metadata": {},
   "outputs": [],
   "source": [
    "gss = GroupShuffleSplit(n_splits=5, random_state=0)"
   ]
  },
  {
   "cell_type": "code",
   "execution_count": 21,
   "metadata": {},
   "outputs": [],
   "source": [
    "# 3rd parameter - group labels for the samples used while splitting the dataset into train/test set.)\n",
    "gss_splits = list(gss.split(X, y, train_df['check_id'].values))"
   ]
  },
  {
   "cell_type": "code",
   "execution_count": 22,
   "metadata": {},
   "outputs": [
    {
     "name": "stdout",
     "output_type": "stream",
     "text": [
      "score: mean = 0.7336617669304685 std = 0.020819982256506723\n",
      "Wall time: 2.38 s\n"
     ]
    }
   ],
   "source": [
    "%%time\n",
    "\n",
    "score = cross_val_score(LogisticRegression(), X, y, scoring='neg_log_loss', cv=gss_splits, n_jobs=-1)\n",
    "print('score: mean = {} std = {}'.format(-score.mean(), score.std()))"
   ]
  },
  {
   "cell_type": "markdown",
   "metadata": {},
   "source": [
    "### prepare submission"
   ]
  },
  {
   "cell_type": "code",
   "execution_count": 31,
   "metadata": {},
   "outputs": [],
   "source": [
    "model = LogisticRegression()"
   ]
  },
  {
   "cell_type": "code",
   "execution_count": 32,
   "metadata": {},
   "outputs": [
    {
     "name": "stdout",
     "output_type": "stream",
     "text": [
      "Wall time: 797 ms\n"
     ]
    },
    {
     "data": {
      "text/plain": [
       "LogisticRegression(C=1.0, class_weight=None, dual=False, fit_intercept=True,\n",
       "          intercept_scaling=1, max_iter=100, multi_class='ovr', n_jobs=1,\n",
       "          penalty='l2', random_state=None, solver='liblinear', tol=0.0001,\n",
       "          verbose=0, warm_start=False)"
      ]
     },
     "execution_count": 32,
     "metadata": {},
     "output_type": "execute_result"
    }
   ],
   "source": [
    "%%time\n",
    "\n",
    "model.fit(X, y)"
   ]
  },
  {
   "cell_type": "code",
   "execution_count": 33,
   "metadata": {},
   "outputs": [],
   "source": [
    "#X_test = vectorizer.transform(test_df['name'])\n",
    "X_test = vectorizer.transform(test_df['name_nodigits'])"
   ]
  },
  {
   "cell_type": "code",
   "execution_count": 34,
   "metadata": {},
   "outputs": [],
   "source": [
    "predictions = model.predict_proba(X_test)"
   ]
  },
  {
   "cell_type": "code",
   "execution_count": 35,
   "metadata": {},
   "outputs": [],
   "source": [
    "predictions_df = test_df[['id']]"
   ]
  },
  {
   "cell_type": "code",
   "execution_count": 36,
   "metadata": {},
   "outputs": [],
   "source": [
    "for idx, category in enumerate(labeler.classes_):\n",
    "    predictions_df = pd.concat([predictions_df, pd.Series(predictions[:, idx], name=category)], axis=1)"
   ]
  },
  {
   "cell_type": "code",
   "execution_count": 37,
   "metadata": {},
   "outputs": [],
   "source": [
    "predictions_df.to_csv('./submissions/starter_submission.csv', encoding='utf-8', index=False)"
   ]
  },
  {
   "cell_type": "markdown",
   "metadata": {},
   "source": [
    "### misclassification analysis"
   ]
  },
  {
   "cell_type": "code",
   "execution_count": 38,
   "metadata": {},
   "outputs": [],
   "source": [
    "gkf = GroupKFold(n_splits=5)\n",
    "\n",
    "gkf_splits = list(gkf.split(X, y, train_df['check_id'].values))"
   ]
  },
  {
   "cell_type": "code",
   "execution_count": 39,
   "metadata": {},
   "outputs": [
    {
     "name": "stdout",
     "output_type": "stream",
     "text": [
      "Wall time: 2.42 s\n"
     ]
    }
   ],
   "source": [
    "%%time\n",
    "\n",
    "cv_predicts = cross_val_predict(LogisticRegression(), X, y, cv=gkf_splits, method='predict_proba', n_jobs=-1)\n",
    "#cv_predicts = 1 - cv_predicts\n",
    "#cv_predicts[np.arange(len(cv_predicts)), y] = 1 - cv_predicts[np.arange(len(cv_predicts)), y]"
   ]
  },
  {
   "cell_type": "code",
   "execution_count": 40,
   "metadata": {},
   "outputs": [],
   "source": [
    "# reverse predict for actual label\n",
    "cv_predicts[np.arange(len(cv_predicts)), y] = 1 - cv_predicts[np.arange(len(cv_predicts)), y]"
   ]
  },
  {
   "cell_type": "code",
   "execution_count": 41,
   "metadata": {},
   "outputs": [
    {
     "data": {
      "image/png": "[encoded data removed]",
      "text/plain": [
       "<Figure size 720x360 with 1 Axes>"
      ]
     },
     "metadata": {},
     "output_type": "display_data"
    }
   ],
   "source": [
    "plt.figure(figsize = (10, 5))\n",
    "plt.hist(np.log(1.0 - cv_predicts.ravel()), bins = 50, log = True)\n",
    "plt.show()"
   ]
  },
  {
   "cell_type": "code",
   "execution_count": 42,
   "metadata": {},
   "outputs": [
    {
     "name": "stderr",
     "output_type": "stream",
     "text": [
      "C:\\ProgramData\\Anaconda3\\lib\\site-packages\\sklearn\\preprocessing\\label.py:151: DeprecationWarning: The truth value of an empty array is ambiguous. Returning False, but in future this will result in an error. Use `array.size > 0` to check that an array is not empty.\n",
      "  if diff:\n"
     ]
    }
   ],
   "source": [
    "train_df['category_mistake'] = cv_predicts[np.arange(len(cv_predicts)), y]\n",
    "\n",
    "train_df['predicted_category'] = cross_val_predict(LogisticRegression(), X, y, cv=gkf_splits, method = 'predict', n_jobs=-1)\n",
    "train_df['predicted_category'] = labeler.inverse_transform(train_df['predicted_category'])"
   ]
  },
  {
   "cell_type": "code",
   "execution_count": 44,
   "metadata": {},
   "outputs": [
    {
     "data": {
      "text/html": [
       "<div>\n",
       "<style scoped>\n",
       "    .dataframe tbody tr th:only-of-type {\n",
       "        vertical-align: middle;\n",
       "    }\n",
       "\n",
       "    .dataframe tbody tr th {\n",
       "        vertical-align: top;\n",
       "    }\n",
       "\n",
       "    .dataframe thead th {\n",
       "        text-align: right;\n",
       "    }\n",
       "</style>\n",
       "<table border=\"1\" class=\"dataframe\">\n",
       "  <thead>\n",
       "    <tr style=\"text-align: right;\">\n",
       "      <th></th>\n",
       "      <th>name_nodigits</th>\n",
       "      <th>category</th>\n",
       "      <th>category_mistake</th>\n",
       "      <th>predicted_category</th>\n",
       "    </tr>\n",
       "  </thead>\n",
       "  <tbody>\n",
       "    <tr>\n",
       "      <th>8393</th>\n",
       "      <td>ТЕМА Биотв.ЯБЛ МОРК.4,2% 100г</td>\n",
       "      <td>Напитки</td>\n",
       "      <td>0.998427</td>\n",
       "      <td>Дети</td>\n",
       "    </tr>\n",
       "    <tr>\n",
       "      <th>6934</th>\n",
       "      <td>Ледоруб кованый 150мм, вес 2,1кг, рукоятка 1,2м</td>\n",
       "      <td>Для дома</td>\n",
       "      <td>0.997473</td>\n",
       "      <td>Овощи и фрукты</td>\n",
       "    </tr>\n",
       "    <tr>\n",
       "      <th>5257</th>\n",
       "      <td>КОП.ДВ.Колб.БРАУН.ОС.с к б с300</td>\n",
       "      <td>Мясо и птица</td>\n",
       "      <td>0.997343</td>\n",
       "      <td>Гастрономия</td>\n",
       "    </tr>\n",
       "    <tr>\n",
       "      <th>11693</th>\n",
       "      <td>СЫКТ.Язычок с ветч сыр.80г</td>\n",
       "      <td>Хлеб</td>\n",
       "      <td>0.997267</td>\n",
       "      <td>Гастрономия</td>\n",
       "    </tr>\n",
       "    <tr>\n",
       "      <th>12977</th>\n",
       "      <td>ФН Пюре ябл бан гр.с печ.90г</td>\n",
       "      <td>Напитки</td>\n",
       "      <td>0.996972</td>\n",
       "      <td>Дети</td>\n",
       "    </tr>\n",
       "    <tr>\n",
       "      <th>7940</th>\n",
       "      <td>ФН Пюре ябл бан гр.с печ.90г</td>\n",
       "      <td>Напитки</td>\n",
       "      <td>0.996972</td>\n",
       "      <td>Дети</td>\n",
       "    </tr>\n",
       "    <tr>\n",
       "      <th>1082</th>\n",
       "      <td>Р к шпроты ВКУСНЫЕ КОНСЕРВЫ В масле 160г</td>\n",
       "      <td>Рыба</td>\n",
       "      <td>0.996925</td>\n",
       "      <td>Гастрономия</td>\n",
       "    </tr>\n",
       "    <tr>\n",
       "      <th>1466</th>\n",
       "      <td>Услуга по предоставлению доступа к ПО Kaspersk...</td>\n",
       "      <td>Компьютер</td>\n",
       "      <td>0.996770</td>\n",
       "      <td>Услуги</td>\n",
       "    </tr>\n",
       "    <tr>\n",
       "      <th>3829</th>\n",
       "      <td>200МЛ БИОЛАКТ ФРУТОНЯНЯ ЧРНСЛВ</td>\n",
       "      <td>Молочка</td>\n",
       "      <td>0.996757</td>\n",
       "      <td>Дети</td>\n",
       "    </tr>\n",
       "    <tr>\n",
       "      <th>6434</th>\n",
       "      <td>КУТАБЫ С ЗЕЛ\\СЫР</td>\n",
       "      <td>Кулинария</td>\n",
       "      <td>0.996703</td>\n",
       "      <td>Гастрономия</td>\n",
       "    </tr>\n",
       "    <tr>\n",
       "      <th>12568</th>\n",
       "      <td>ГОВЯДИНА СМИТ ПЕРЕЦ ЧИЛИ 40Г</td>\n",
       "      <td>Кулинария</td>\n",
       "      <td>0.996439</td>\n",
       "      <td>Овощи и фрукты</td>\n",
       "    </tr>\n",
       "    <tr>\n",
       "      <th>13017</th>\n",
       "      <td>YELLI Суп чечевичный в асс 250г м уп(ТД Ярмарк...</td>\n",
       "      <td>Кулинария</td>\n",
       "      <td>0.996266</td>\n",
       "      <td>Бакалея</td>\n",
       "    </tr>\n",
       "    <tr>\n",
       "      <th>910</th>\n",
       "      <td>Блок питания 150W,12V, 12,5А,металл.IP23</td>\n",
       "      <td>Компьютер</td>\n",
       "      <td>0.996101</td>\n",
       "      <td>Для дома</td>\n",
       "    </tr>\n",
       "    <tr>\n",
       "      <th>3830</th>\n",
       "      <td>200МЛ БИОЛАКТ ФРУТОНЯНЯ ЛЕС ЯГ</td>\n",
       "      <td>Молочка</td>\n",
       "      <td>0.995636</td>\n",
       "      <td>Дети</td>\n",
       "    </tr>\n",
       "    <tr>\n",
       "      <th>7264</th>\n",
       "      <td>РАИФСКИЙ ИСТОЧН ВОДА 1,5Л ГАЗ</td>\n",
       "      <td>Молочка</td>\n",
       "      <td>0.995432</td>\n",
       "      <td>Напитки</td>\n",
       "    </tr>\n",
       "    <tr>\n",
       "      <th>7064</th>\n",
       "      <td>ЧЕХ IPHONE6 6S НА РУ</td>\n",
       "      <td>Компьютер</td>\n",
       "      <td>0.995111</td>\n",
       "      <td>Для дома</td>\n",
       "    </tr>\n",
       "    <tr>\n",
       "      <th>11074</th>\n",
       "      <td>Рычаг стеклоочистителя левый с г.(шт)</td>\n",
       "      <td>Машина</td>\n",
       "      <td>0.995110</td>\n",
       "      <td>Для дома</td>\n",
       "    </tr>\n",
       "    <tr>\n",
       "      <th>11073</th>\n",
       "      <td>Рычаг стеклоочистителя правый с г.(шт)</td>\n",
       "      <td>Машина</td>\n",
       "      <td>0.995110</td>\n",
       "      <td>Для дома</td>\n",
       "    </tr>\n",
       "    <tr>\n",
       "      <th>3984</th>\n",
       "      <td>103463. Набор статусов для рабочего стола \"Нас...</td>\n",
       "      <td>Компьютер</td>\n",
       "      <td>0.995033</td>\n",
       "      <td>Для дома</td>\n",
       "    </tr>\n",
       "    <tr>\n",
       "      <th>9527</th>\n",
       "      <td>ФН Каша мол гречн.с ябл.0.2л</td>\n",
       "      <td>Бакалея</td>\n",
       "      <td>0.994931</td>\n",
       "      <td>Дети</td>\n",
       "    </tr>\n",
       "    <tr>\n",
       "      <th>3986</th>\n",
       "      <td>103465. Набор статусов для рабочего стола \"Зай...</td>\n",
       "      <td>Компьютер</td>\n",
       "      <td>0.994927</td>\n",
       "      <td>Для дома</td>\n",
       "    </tr>\n",
       "    <tr>\n",
       "      <th>7424</th>\n",
       "      <td>Кукуруза Бондюэль сладкая 340г ж б</td>\n",
       "      <td>Бакалея</td>\n",
       "      <td>0.994790</td>\n",
       "      <td>Овощи и фрукты</td>\n",
       "    </tr>\n",
       "    <tr>\n",
       "      <th>3186</th>\n",
       "      <td>ВИТЕК Конф.СЛ.СНЕГ тут-фрут.40г</td>\n",
       "      <td>Хлеб</td>\n",
       "      <td>0.994705</td>\n",
       "      <td>Чай и сладкое</td>\n",
       "    </tr>\n",
       "    <tr>\n",
       "      <th>6645</th>\n",
       "      <td>Нап DC Гор. шок. 0,2л</td>\n",
       "      <td>Кафе</td>\n",
       "      <td>0.994671</td>\n",
       "      <td>Чай и сладкое</td>\n",
       "    </tr>\n",
       "    <tr>\n",
       "      <th>8911</th>\n",
       "      <td>МЯСО МИДИИ ВАРЕНО-МОРОЖЕНОЕ В\\</td>\n",
       "      <td>Рыба</td>\n",
       "      <td>0.994573</td>\n",
       "      <td>Чай и сладкое</td>\n",
       "    </tr>\n",
       "    <tr>\n",
       "      <th>4723</th>\n",
       "      <td>ЛАK-ВО Д ГРЫЗ.В ПЕНЬ</td>\n",
       "      <td>Животные</td>\n",
       "      <td>0.994299</td>\n",
       "      <td>Для дома</td>\n",
       "    </tr>\n",
       "    <tr>\n",
       "      <th>10491</th>\n",
       "      <td>&amp; Кунджа НПСГ шт. от 1,5 до 3,5 кг.</td>\n",
       "      <td>Рыба</td>\n",
       "      <td>0.994209</td>\n",
       "      <td>Овощи и фрукты</td>\n",
       "    </tr>\n",
       "    <tr>\n",
       "      <th>10691</th>\n",
       "      <td>ZALGER ЧЕХОЛ 125Х47</td>\n",
       "      <td>Компьютер</td>\n",
       "      <td>0.994189</td>\n",
       "      <td>Для дома</td>\n",
       "    </tr>\n",
       "    <tr>\n",
       "      <th>8946</th>\n",
       "      <td>Модуль памяти SODIMM DDR3 4GB Kingston HX316LS...</td>\n",
       "      <td>Компьютер</td>\n",
       "      <td>0.994163</td>\n",
       "      <td>Для дома</td>\n",
       "    </tr>\n",
       "    <tr>\n",
       "      <th>4712</th>\n",
       "      <td>ТУАЛЕТ Д K,ПРЯМОУГ С</td>\n",
       "      <td>Животные</td>\n",
       "      <td>0.994145</td>\n",
       "      <td>Для дома</td>\n",
       "    </tr>\n",
       "    <tr>\n",
       "      <th>...</th>\n",
       "      <td>...</td>\n",
       "      <td>...</td>\n",
       "      <td>...</td>\n",
       "      <td>...</td>\n",
       "    </tr>\n",
       "    <tr>\n",
       "      <th>8493</th>\n",
       "      <td>ПЕРЕЦ БОЛГАРСКИЙ свеж. КРАСНЫЙ цена за 1кг</td>\n",
       "      <td>Овощи и фрукты</td>\n",
       "      <td>0.026026</td>\n",
       "      <td>Овощи и фрукты</td>\n",
       "    </tr>\n",
       "    <tr>\n",
       "      <th>5774</th>\n",
       "      <td>ПЕРЕЦ БОЛГАРСКИЙ свеж. КРАСНЫЙ цена за 1кг</td>\n",
       "      <td>Овощи и фрукты</td>\n",
       "      <td>0.026026</td>\n",
       "      <td>Овощи и фрукты</td>\n",
       "    </tr>\n",
       "    <tr>\n",
       "      <th>5799</th>\n",
       "      <td>БАНАНЫ свеж. (цена за 1кг)</td>\n",
       "      <td>Овощи и фрукты</td>\n",
       "      <td>0.025646</td>\n",
       "      <td>Овощи и фрукты</td>\n",
       "    </tr>\n",
       "    <tr>\n",
       "      <th>3904</th>\n",
       "      <td>БАНАНЫ свеж. (цена за 1кг)</td>\n",
       "      <td>Овощи и фрукты</td>\n",
       "      <td>0.025646</td>\n",
       "      <td>Овощи и фрукты</td>\n",
       "    </tr>\n",
       "    <tr>\n",
       "      <th>5744</th>\n",
       "      <td>БАНАНЫ свеж. (цена за 1кг)</td>\n",
       "      <td>Овощи и фрукты</td>\n",
       "      <td>0.025646</td>\n",
       "      <td>Овощи и фрукты</td>\n",
       "    </tr>\n",
       "    <tr>\n",
       "      <th>9765</th>\n",
       "      <td>БАНАНЫ свеж. (цена за 1кг)</td>\n",
       "      <td>Овощи и фрукты</td>\n",
       "      <td>0.025646</td>\n",
       "      <td>Овощи и фрукты</td>\n",
       "    </tr>\n",
       "    <tr>\n",
       "      <th>11807</th>\n",
       "      <td>БАНАНЫ свеж. (цена за 1кг)</td>\n",
       "      <td>Овощи и фрукты</td>\n",
       "      <td>0.025646</td>\n",
       "      <td>Овощи и фрукты</td>\n",
       "    </tr>\n",
       "    <tr>\n",
       "      <th>12666</th>\n",
       "      <td>БАНАНЫ свеж. (цена за 1кг)</td>\n",
       "      <td>Овощи и фрукты</td>\n",
       "      <td>0.025646</td>\n",
       "      <td>Овощи и фрукты</td>\n",
       "    </tr>\n",
       "    <tr>\n",
       "      <th>4052</th>\n",
       "      <td>ЛУК РЕПЧАТЫЙ свеж. цена за 1кг :24,5</td>\n",
       "      <td>Овощи и фрукты</td>\n",
       "      <td>0.025369</td>\n",
       "      <td>Овощи и фрукты</td>\n",
       "    </tr>\n",
       "    <tr>\n",
       "      <th>7659</th>\n",
       "      <td>ЛУК РЕПЧАТЫЙ свеж. цена за 1кг :24,5</td>\n",
       "      <td>Овощи и фрукты</td>\n",
       "      <td>0.025369</td>\n",
       "      <td>Овощи и фрукты</td>\n",
       "    </tr>\n",
       "    <tr>\n",
       "      <th>3445</th>\n",
       "      <td>ЛУК РЕПЧАТЫЙ свеж. цена за 1кг :24,5</td>\n",
       "      <td>Овощи и фрукты</td>\n",
       "      <td>0.025369</td>\n",
       "      <td>Овощи и фрукты</td>\n",
       "    </tr>\n",
       "    <tr>\n",
       "      <th>9685</th>\n",
       "      <td>ЛУК РЕПЧАТЫЙ свеж. цена за 1кг :24,5</td>\n",
       "      <td>Овощи и фрукты</td>\n",
       "      <td>0.025369</td>\n",
       "      <td>Овощи и фрукты</td>\n",
       "    </tr>\n",
       "    <tr>\n",
       "      <th>5803</th>\n",
       "      <td>БАНАНЫ свеж. (цена за 1кг)</td>\n",
       "      <td>Овощи и фрукты</td>\n",
       "      <td>0.025096</td>\n",
       "      <td>Овощи и фрукты</td>\n",
       "    </tr>\n",
       "    <tr>\n",
       "      <th>7194</th>\n",
       "      <td>БАНАНЫ свеж. (цена за 1кг)</td>\n",
       "      <td>Овощи и фрукты</td>\n",
       "      <td>0.025096</td>\n",
       "      <td>Овощи и фрукты</td>\n",
       "    </tr>\n",
       "    <tr>\n",
       "      <th>5609</th>\n",
       "      <td>БАНАНЫ свеж. (цена за 1кг)</td>\n",
       "      <td>Овощи и фрукты</td>\n",
       "      <td>0.025096</td>\n",
       "      <td>Овощи и фрукты</td>\n",
       "    </tr>\n",
       "    <tr>\n",
       "      <th>6388</th>\n",
       "      <td>БАНАНЫ свеж. (цена за 1кг)</td>\n",
       "      <td>Овощи и фрукты</td>\n",
       "      <td>0.025096</td>\n",
       "      <td>Овощи и фрукты</td>\n",
       "    </tr>\n",
       "    <tr>\n",
       "      <th>4327</th>\n",
       "      <td>БАНАНЫ свеж. (цена за 1кг)</td>\n",
       "      <td>Овощи и фрукты</td>\n",
       "      <td>0.025096</td>\n",
       "      <td>Овощи и фрукты</td>\n",
       "    </tr>\n",
       "    <tr>\n",
       "      <th>2945</th>\n",
       "      <td>БАНАНЫ свеж. (цена за 1кг)</td>\n",
       "      <td>Овощи и фрукты</td>\n",
       "      <td>0.025096</td>\n",
       "      <td>Овощи и фрукты</td>\n",
       "    </tr>\n",
       "    <tr>\n",
       "      <th>6874</th>\n",
       "      <td>БАНАНЫ свеж. (цена за 1кг)</td>\n",
       "      <td>Овощи и фрукты</td>\n",
       "      <td>0.025096</td>\n",
       "      <td>Овощи и фрукты</td>\n",
       "    </tr>\n",
       "    <tr>\n",
       "      <th>3444</th>\n",
       "      <td>БАНАНЫ свеж. (цена за 1кг)</td>\n",
       "      <td>Овощи и фрукты</td>\n",
       "      <td>0.025096</td>\n",
       "      <td>Овощи и фрукты</td>\n",
       "    </tr>\n",
       "    <tr>\n",
       "      <th>3178</th>\n",
       "      <td>БАНАНЫ свеж. (цена за 1кг)</td>\n",
       "      <td>Овощи и фрукты</td>\n",
       "      <td>0.025096</td>\n",
       "      <td>Овощи и фрукты</td>\n",
       "    </tr>\n",
       "    <tr>\n",
       "      <th>2951</th>\n",
       "      <td>ЯБЛОКИ красные свеж. (цена за 1кг)</td>\n",
       "      <td>Овощи и фрукты</td>\n",
       "      <td>0.024654</td>\n",
       "      <td>Овощи и фрукты</td>\n",
       "    </tr>\n",
       "    <tr>\n",
       "      <th>4056</th>\n",
       "      <td>ЯБЛОКИ красные свеж. (цена за 1кг)</td>\n",
       "      <td>Овощи и фрукты</td>\n",
       "      <td>0.024654</td>\n",
       "      <td>Овощи и фрукты</td>\n",
       "    </tr>\n",
       "    <tr>\n",
       "      <th>5746</th>\n",
       "      <td>ПЕРЕЦ БОЛГАРСКИЙ свеж. КРАСНЫЙ цена за 1кг</td>\n",
       "      <td>Овощи и фрукты</td>\n",
       "      <td>0.022867</td>\n",
       "      <td>Овощи и фрукты</td>\n",
       "    </tr>\n",
       "    <tr>\n",
       "      <th>3506</th>\n",
       "      <td>ПЕРЕЦ БОЛГАРСКИЙ свеж. КРАСНЫЙ цена за 1кг</td>\n",
       "      <td>Овощи и фрукты</td>\n",
       "      <td>0.022867</td>\n",
       "      <td>Овощи и фрукты</td>\n",
       "    </tr>\n",
       "    <tr>\n",
       "      <th>12670</th>\n",
       "      <td>ПЕРЕЦ БОЛГАРСКИЙ свеж. КРАСНЫЙ цена за 1кг</td>\n",
       "      <td>Овощи и фрукты</td>\n",
       "      <td>0.022867</td>\n",
       "      <td>Овощи и фрукты</td>\n",
       "    </tr>\n",
       "    <tr>\n",
       "      <th>5612</th>\n",
       "      <td>ПЕРЕЦ БОЛГАРСКИЙ свеж. КРАСНЫЙ цена за 1кг</td>\n",
       "      <td>Овощи и фрукты</td>\n",
       "      <td>0.022767</td>\n",
       "      <td>Овощи и фрукты</td>\n",
       "    </tr>\n",
       "    <tr>\n",
       "      <th>4317</th>\n",
       "      <td>ПЕРЕЦ БОЛГАРСКИЙ свеж. КРАСНЫЙ цена за 1кг</td>\n",
       "      <td>Овощи и фрукты</td>\n",
       "      <td>0.022767</td>\n",
       "      <td>Овощи и фрукты</td>\n",
       "    </tr>\n",
       "    <tr>\n",
       "      <th>2949</th>\n",
       "      <td>ПЕРЕЦ БОЛГАРСКИЙ свеж. КРАСНЫЙ цена за 1кг</td>\n",
       "      <td>Овощи и фрукты</td>\n",
       "      <td>0.022767</td>\n",
       "      <td>Овощи и фрукты</td>\n",
       "    </tr>\n",
       "    <tr>\n",
       "      <th>5463</th>\n",
       "      <td>Пакет-майка с логотипом \"Пакет Добра\" п эт 9,5 см</td>\n",
       "      <td>Упаковка</td>\n",
       "      <td>0.021743</td>\n",
       "      <td>Упаковка</td>\n",
       "    </tr>\n",
       "  </tbody>\n",
       "</table>\n",
       "<p>13682 rows × 4 columns</p>\n",
       "</div>"
      ],
      "text/plain": [
       "                                           name_nodigits        category  \\\n",
       "8393                       ТЕМА Биотв.ЯБЛ МОРК.4,2% 100г         Напитки   \n",
       "6934     Ледоруб кованый 150мм, вес 2,1кг, рукоятка 1,2м        Для дома   \n",
       "5257                     КОП.ДВ.Колб.БРАУН.ОС.с к б с300    Мясо и птица   \n",
       "11693                         СЫКТ.Язычок с ветч сыр.80г            Хлеб   \n",
       "12977                       ФН Пюре ябл бан гр.с печ.90г         Напитки   \n",
       "7940                        ФН Пюре ябл бан гр.с печ.90г         Напитки   \n",
       "1082            Р к шпроты ВКУСНЫЕ КОНСЕРВЫ В масле 160г            Рыба   \n",
       "1466   Услуга по предоставлению доступа к ПО Kaspersk...       Компьютер   \n",
       "3829                      200МЛ БИОЛАКТ ФРУТОНЯНЯ ЧРНСЛВ         Молочка   \n",
       "6434                                    КУТАБЫ С ЗЕЛ\\СЫР       Кулинария   \n",
       "12568                       ГОВЯДИНА СМИТ ПЕРЕЦ ЧИЛИ 40Г       Кулинария   \n",
       "13017  YELLI Суп чечевичный в асс 250г м уп(ТД Ярмарк...       Кулинария   \n",
       "910             Блок питания 150W,12V, 12,5А,металл.IP23       Компьютер   \n",
       "3830                      200МЛ БИОЛАКТ ФРУТОНЯНЯ ЛЕС ЯГ         Молочка   \n",
       "7264                       РАИФСКИЙ ИСТОЧН ВОДА 1,5Л ГАЗ         Молочка   \n",
       "7064                                ЧЕХ IPHONE6 6S НА РУ       Компьютер   \n",
       "11074              Рычаг стеклоочистителя левый с г.(шт)          Машина   \n",
       "11073             Рычаг стеклоочистителя правый с г.(шт)          Машина   \n",
       "3984   103463. Набор статусов для рабочего стола \"Нас...       Компьютер   \n",
       "9527                        ФН Каша мол гречн.с ябл.0.2л         Бакалея   \n",
       "3986   103465. Набор статусов для рабочего стола \"Зай...       Компьютер   \n",
       "7424                  Кукуруза Бондюэль сладкая 340г ж б         Бакалея   \n",
       "3186                     ВИТЕК Конф.СЛ.СНЕГ тут-фрут.40г            Хлеб   \n",
       "6645                               Нап DC Гор. шок. 0,2л            Кафе   \n",
       "8911                      МЯСО МИДИИ ВАРЕНО-МОРОЖЕНОЕ В\\            Рыба   \n",
       "4723                                ЛАK-ВО Д ГРЫЗ.В ПЕНЬ        Животные   \n",
       "10491                & Кунджа НПСГ шт. от 1,5 до 3,5 кг.            Рыба   \n",
       "10691                                ZALGER ЧЕХОЛ 125Х47       Компьютер   \n",
       "8946   Модуль памяти SODIMM DDR3 4GB Kingston HX316LS...       Компьютер   \n",
       "4712                                ТУАЛЕТ Д K,ПРЯМОУГ С        Животные   \n",
       "...                                                  ...             ...   \n",
       "8493          ПЕРЕЦ БОЛГАРСКИЙ свеж. КРАСНЫЙ цена за 1кг  Овощи и фрукты   \n",
       "5774          ПЕРЕЦ БОЛГАРСКИЙ свеж. КРАСНЫЙ цена за 1кг  Овощи и фрукты   \n",
       "5799                          БАНАНЫ свеж. (цена за 1кг)  Овощи и фрукты   \n",
       "3904                          БАНАНЫ свеж. (цена за 1кг)  Овощи и фрукты   \n",
       "5744                          БАНАНЫ свеж. (цена за 1кг)  Овощи и фрукты   \n",
       "9765                          БАНАНЫ свеж. (цена за 1кг)  Овощи и фрукты   \n",
       "11807                         БАНАНЫ свеж. (цена за 1кг)  Овощи и фрукты   \n",
       "12666                         БАНАНЫ свеж. (цена за 1кг)  Овощи и фрукты   \n",
       "4052                ЛУК РЕПЧАТЫЙ свеж. цена за 1кг :24,5  Овощи и фрукты   \n",
       "7659                ЛУК РЕПЧАТЫЙ свеж. цена за 1кг :24,5  Овощи и фрукты   \n",
       "3445                ЛУК РЕПЧАТЫЙ свеж. цена за 1кг :24,5  Овощи и фрукты   \n",
       "9685                ЛУК РЕПЧАТЫЙ свеж. цена за 1кг :24,5  Овощи и фрукты   \n",
       "5803                          БАНАНЫ свеж. (цена за 1кг)  Овощи и фрукты   \n",
       "7194                          БАНАНЫ свеж. (цена за 1кг)  Овощи и фрукты   \n",
       "5609                          БАНАНЫ свеж. (цена за 1кг)  Овощи и фрукты   \n",
       "6388                          БАНАНЫ свеж. (цена за 1кг)  Овощи и фрукты   \n",
       "4327                          БАНАНЫ свеж. (цена за 1кг)  Овощи и фрукты   \n",
       "2945                          БАНАНЫ свеж. (цена за 1кг)  Овощи и фрукты   \n",
       "6874                          БАНАНЫ свеж. (цена за 1кг)  Овощи и фрукты   \n",
       "3444                          БАНАНЫ свеж. (цена за 1кг)  Овощи и фрукты   \n",
       "3178                          БАНАНЫ свеж. (цена за 1кг)  Овощи и фрукты   \n",
       "2951                  ЯБЛОКИ красные свеж. (цена за 1кг)  Овощи и фрукты   \n",
       "4056                  ЯБЛОКИ красные свеж. (цена за 1кг)  Овощи и фрукты   \n",
       "5746          ПЕРЕЦ БОЛГАРСКИЙ свеж. КРАСНЫЙ цена за 1кг  Овощи и фрукты   \n",
       "3506          ПЕРЕЦ БОЛГАРСКИЙ свеж. КРАСНЫЙ цена за 1кг  Овощи и фрукты   \n",
       "12670         ПЕРЕЦ БОЛГАРСКИЙ свеж. КРАСНЫЙ цена за 1кг  Овощи и фрукты   \n",
       "5612          ПЕРЕЦ БОЛГАРСКИЙ свеж. КРАСНЫЙ цена за 1кг  Овощи и фрукты   \n",
       "4317          ПЕРЕЦ БОЛГАРСКИЙ свеж. КРАСНЫЙ цена за 1кг  Овощи и фрукты   \n",
       "2949          ПЕРЕЦ БОЛГАРСКИЙ свеж. КРАСНЫЙ цена за 1кг  Овощи и фрукты   \n",
       "5463   Пакет-майка с логотипом \"Пакет Добра\" п эт 9,5 см        Упаковка   \n",
       "\n",
       "       category_mistake predicted_category  \n",
       "8393           0.998427               Дети  \n",
       "6934           0.997473     Овощи и фрукты  \n",
       "5257           0.997343        Гастрономия  \n",
       "11693          0.997267        Гастрономия  \n",
       "12977          0.996972               Дети  \n",
       "7940           0.996972               Дети  \n",
       "1082           0.996925        Гастрономия  \n",
       "1466           0.996770             Услуги  \n",
       "3829           0.996757               Дети  \n",
       "6434           0.996703        Гастрономия  \n",
       "12568          0.996439     Овощи и фрукты  \n",
       "13017          0.996266            Бакалея  \n",
       "910            0.996101           Для дома  \n",
       "3830           0.995636               Дети  \n",
       "7264           0.995432            Напитки  \n",
       "7064           0.995111           Для дома  \n",
       "11074          0.995110           Для дома  \n",
       "11073          0.995110           Для дома  \n",
       "3984           0.995033           Для дома  \n",
       "9527           0.994931               Дети  \n",
       "3986           0.994927           Для дома  \n",
       "7424           0.994790     Овощи и фрукты  \n",
       "3186           0.994705      Чай и сладкое  \n",
       "6645           0.994671      Чай и сладкое  \n",
       "8911           0.994573      Чай и сладкое  \n",
       "4723           0.994299           Для дома  \n",
       "10491          0.994209     Овощи и фрукты  \n",
       "10691          0.994189           Для дома  \n",
       "8946           0.994163           Для дома  \n",
       "4712           0.994145           Для дома  \n",
       "...                 ...                ...  \n",
       "8493           0.026026     Овощи и фрукты  \n",
       "5774           0.026026     Овощи и фрукты  \n",
       "5799           0.025646     Овощи и фрукты  \n",
       "3904           0.025646     Овощи и фрукты  \n",
       "5744           0.025646     Овощи и фрукты  \n",
       "9765           0.025646     Овощи и фрукты  \n",
       "11807          0.025646     Овощи и фрукты  \n",
       "12666          0.025646     Овощи и фрукты  \n",
       "4052           0.025369     Овощи и фрукты  \n",
       "7659           0.025369     Овощи и фрукты  \n",
       "3445           0.025369     Овощи и фрукты  \n",
       "9685           0.025369     Овощи и фрукты  \n",
       "5803           0.025096     Овощи и фрукты  \n",
       "7194           0.025096     Овощи и фрукты  \n",
       "5609           0.025096     Овощи и фрукты  \n",
       "6388           0.025096     Овощи и фрукты  \n",
       "4327           0.025096     Овощи и фрукты  \n",
       "2945           0.025096     Овощи и фрукты  \n",
       "6874           0.025096     Овощи и фрукты  \n",
       "3444           0.025096     Овощи и фрукты  \n",
       "3178           0.025096     Овощи и фрукты  \n",
       "2951           0.024654     Овощи и фрукты  \n",
       "4056           0.024654     Овощи и фрукты  \n",
       "5746           0.022867     Овощи и фрукты  \n",
       "3506           0.022867     Овощи и фрукты  \n",
       "12670          0.022867     Овощи и фрукты  \n",
       "5612           0.022767     Овощи и фрукты  \n",
       "4317           0.022767     Овощи и фрукты  \n",
       "2949           0.022767     Овощи и фрукты  \n",
       "5463           0.021743           Упаковка  \n",
       "\n",
       "[13682 rows x 4 columns]"
      ]
     },
     "execution_count": 44,
     "metadata": {},
     "output_type": "execute_result"
    }
   ],
   "source": [
    "train_df.sort_values('category_mistake', ascending = False)[['name_nodigits', \n",
    "                                                             'category', \n",
    "                                                             'category_mistake', \n",
    "                                                             'predicted_category']]"
   ]
  },
  {
   "cell_type": "code",
   "execution_count": null,
   "metadata": {},
   "outputs": [],
   "source": []
  }
 ],
 "metadata": {
  "kernelspec": {
   "display_name": "Python 3",
   "language": "python",
   "name": "python3"
  },
  "language_info": {
   "codemirror_mode": {
    "name": "ipython",
    "version": 3
   },
   "file_extension": ".py",
   "mimetype": "text/x-python",
   "name": "python",
   "nbconvert_exporter": "python",
   "pygments_lexer": "ipython3",
   "version": "3.6.4"
  }
 },
 "nbformat": 4,
 "nbformat_minor": 2
}
