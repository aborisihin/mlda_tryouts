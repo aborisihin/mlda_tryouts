{
  "cells": [
    {
      "metadata": {
        "_uuid": "8f2839f25d086af736a60e9eeb907d3b93b6e0e5",
        "collapsed": true,
        "_cell_guid": "b1076dfc-b9ad-4769-8c92-a6c4dae69d19",
        "trusted": false
      },
      "cell_type": "code",
      "source": "import numpy as np # linear algebra\nimport pandas as pd # data processing, CSV file I/O (e.g. pd.read_csv)\nimport scipy as sp",
      "execution_count": null,
      "outputs": []
    },
    {
      "metadata": {
        "_uuid": "d629ff2d2480ee46fbb7e2d37f6b5fab8052498a",
        "collapsed": true,
        "_cell_guid": "79c7e3d0-c299-4dcb-8224-4455121ee9b0",
        "trusted": false
      },
      "cell_type": "code",
      "source": "train = pd.read_csv('../input/train.csv.gz')\ntrain_checks = pd.read_csv('../input/train_checks.csv.gz')\n\ntrain.fillna('', inplace=True)",
      "execution_count": null,
      "outputs": []
    },
    {
      "metadata": {
        "_uuid": "7103de55c25425c099158f5d6a2e2dcd6124c114",
        "_cell_guid": "d1b7d834-6a19-4f71-b557-d8475f2cb16d",
        "trusted": false,
        "collapsed": true
      },
      "cell_type": "code",
      "source": "from keras.models import Sequential\nfrom keras.layers import Dense, Dropout\nfrom keras.wrappers.scikit_learn import KerasClassifier\nfrom keras.utils import np_utils\nfrom keras import regularizers\nfrom sklearn.model_selection import cross_val_score, train_test_split\nfrom sklearn.model_selection import KFold\nfrom sklearn.pipeline import Pipeline\nfrom sklearn.preprocessing import LabelEncoder, RobustScaler, Normalizer, LabelBinarizer\nfrom sklearn.pipeline import make_pipeline\nfrom sklearn.feature_extraction.text import CountVectorizer, TfidfVectorizer\nfrom sklearn.metrics import log_loss",
      "execution_count": null,
      "outputs": []
    },
    {
      "metadata": {
        "_uuid": "a14f4555eea3d04f879be5b0a47b21bfdb6c407e",
        "collapsed": true,
        "_cell_guid": "11dd6ec1-180e-477f-a1c3-a80b914c0630",
        "trusted": false
      },
      "cell_type": "code",
      "source": "tfidf_chars = TfidfVectorizer(analyzer='char', ngram_range=(2,7), max_features=10000)\ntfidf_words = TfidfVectorizer(ngram_range=(1,2), max_features=100000)",
      "execution_count": null,
      "outputs": []
    },
    {
      "metadata": {
        "_uuid": "72ca6ab1861bc6a92cc84edbcb32992ce530691e",
        "collapsed": true,
        "_cell_guid": "38257aa5-eeb3-44bb-881a-1730f248df10",
        "trusted": false
      },
      "cell_type": "code",
      "source": "X = sp.sparse.hstack((tfidf_chars.fit_transform(train.name), tfidf_words.fit_transform(train.name)))\n\nlabeler = LabelEncoder()\ny = labeler.fit_transform(train.category)",
      "execution_count": null,
      "outputs": []
    },
    {
      "metadata": {
        "_uuid": "951dd22ab4f39586f995a0fa0f7eeff2fb4bcfff",
        "collapsed": true,
        "_cell_guid": "69851a5d-a739-45cc-9290-ac16b6f3cbc4",
        "trusted": false
      },
      "cell_type": "code",
      "source": "X_train, X_test, y_train, y_test = train_test_split(X, y, test_size=0.1, shuffle=True, random_state=17)",
      "execution_count": null,
      "outputs": []
    },
    {
      "metadata": {
        "_uuid": "9370c836670d836b19bb1c2a2e698b150fe496da",
        "collapsed": true,
        "_cell_guid": "b1f46972-e0d4-44ea-bfc5-17e3ad0ecf19",
        "trusted": false
      },
      "cell_type": "code",
      "source": "from keras.optimizers import Adam\n\ndef baseline_model():\n    # create model\n    model = Sequential()\n    model.add(Dense(1024, input_dim=X.shape[1], activation='sigmoid', ))\n    model.add(Dropout(0.2))\n    model.add(Dense(256, activation='sigmoid'))\n    model.add(Dropout(0.1))\n    model.add(Dense(25, activation='softmax'))\n    # Compile model\n    model.compile(loss='categorical_crossentropy', optimizer=Adam(lr = 0.0001), metrics=['accuracy'])\n    return model\n\nestimator = KerasClassifier(build_fn=baseline_model, epochs=30, batch_size=30, verbose=2)",
      "execution_count": null,
      "outputs": []
    },
    {
      "metadata": {
        "_uuid": "df7e7d04b86804a57f8a1052d3f639f1ff638201",
        "collapsed": true,
        "_cell_guid": "14a85131-edd2-42ab-8340-4e150531e43b",
        "trusted": false
      },
      "cell_type": "code",
      "source": "",
      "execution_count": null,
      "outputs": []
    },
    {
      "metadata": {
        "collapsed": true,
        "_uuid": "300068894adcb660e2c1240daccd31a461277bf8",
        "_cell_guid": "ac2565b3-b696-4d6a-bca6-25c3fe73b078",
        "trusted": false
      },
      "cell_type": "code",
      "source": "",
      "execution_count": null,
      "outputs": []
    },
    {
      "metadata": {
        "_uuid": "d7fdadb7c448c2a2b0ab557aec449089c59cf47a",
        "_cell_guid": "e50eecdf-3875-4acc-93c8-5d57ed8627a6"
      },
      "cell_type": "markdown",
      "source": "estimator.fit(x=X_train.tocsr(), y=y_train, shuffle=True, validation_data=(X_test.tocsr(), pd.get_dummies(y_test)))"
    },
    {
      "metadata": {
        "_uuid": "e98f512fcfdb6b7d76c020897f5419258dc1d30b",
        "_cell_guid": "ba84051d-c126-4015-a179-8b2d07462771"
      },
      "cell_type": "markdown",
      "source": "score = log_loss(y_test, estimator.predict_proba(X_test))\nscore"
    },
    {
      "metadata": {
        "collapsed": true,
        "_uuid": "3a52a10a4ce9c520ec109140d2819da9cb497bf0",
        "_cell_guid": "e74c462f-a7cc-49bc-9904-779474051ab4",
        "trusted": false
      },
      "cell_type": "code",
      "source": "",
      "execution_count": null,
      "outputs": []
    },
    {
      "metadata": {
        "collapsed": true,
        "_uuid": "a4e84ff7645aec3a17befa0560839d019f53c0fb",
        "_cell_guid": "89126e95-c573-4468-b563-12c5b3731f26",
        "trusted": false
      },
      "cell_type": "code",
      "source": "best_epochs = 30\n# Retrain with full data",
      "execution_count": null,
      "outputs": []
    },
    {
      "metadata": {
        "_uuid": "61d5dc22b7c9b8c9e835d5f2940fc16f411ce46b",
        "_cell_guid": "ee72c3d5-f6fa-4bdd-8a69-93b1289b5a65",
        "trusted": false,
        "collapsed": true
      },
      "cell_type": "code",
      "source": "estimator = KerasClassifier(build_fn=baseline_model, epochs=best_epochs, batch_size=30, verbose=2)\n\nestimator.fit(x=X.tocsr(), y=pd.get_dummies(y), shuffle=True)",
      "execution_count": null,
      "outputs": []
    },
    {
      "metadata": {
        "_uuid": "8d82240111a87e669e3f0d42bf5d0a040dd9dda6",
        "_cell_guid": "276f9710-55e7-4dbf-8653-604c690ea7f3",
        "trusted": false,
        "collapsed": true
      },
      "cell_type": "code",
      "source": "test = pd.read_csv('../input/test.csv.gz')\ntest_checks = pd.read_csv('../input/test_checks.csv.gz')\n\n\nX_test_nn = sp.sparse.hstack((tfidf_chars.transform(test.name), tfidf_words.transform(test.name)))\np_test = estimator.predict_proba(X_test_nn.tocsr())\n",
      "execution_count": null,
      "outputs": []
    },
    {
      "metadata": {
        "collapsed": true,
        "_uuid": "2cf0602ab5fd38daf1eb0c9c63d45c410be37743",
        "_cell_guid": "05e9ca8b-90ec-4460-a255-0689d6a16cf4",
        "trusted": false
      },
      "cell_type": "code",
      "source": "clipping = 0.0001",
      "execution_count": null,
      "outputs": []
    },
    {
      "metadata": {
        "collapsed": true,
        "_uuid": "18f383853746dc47d4ebc8a0bc68857f0c51161d",
        "_cell_guid": "80829b1c-f95b-40e3-a1ed-17ee3fb131f2",
        "trusted": false
      },
      "cell_type": "code",
      "source": "for i, c in enumerate(labeler.classes_):\n    p = p_test[:, i]\n    p[p < clipping] = clipping\n    p[p > (1.0 - clipping)] = (1.0 - clipping)\n    p_test[:, i] = p",
      "execution_count": null,
      "outputs": []
    },
    {
      "metadata": {
        "_uuid": "af59f2fa18c30eea029e06e6480e77d637b51a02",
        "collapsed": true,
        "_cell_guid": "38ffd506-eddc-4876-a30e-5824e4861331",
        "trusted": false
      },
      "cell_type": "code",
      "source": "test = test[['id']]\nfor i, c in enumerate(labeler.classes_):\n    test[c] = p_test[:, i]\ntest.to_csv('submission.csv', encoding = 'utf-8', index = False)",
      "execution_count": null,
      "outputs": []
    },
    {
      "metadata": {
        "collapsed": true,
        "_uuid": "a7e150c3f99e4ccfb1541fd1c49c007c186bb082",
        "_cell_guid": "8e5f9d61-acd9-4437-8dbc-fe0fbc194700",
        "trusted": false
      },
      "cell_type": "code",
      "source": "",
      "execution_count": null,
      "outputs": []
    }
  ],
  "metadata": {
    "language_info": {
      "name": "python",
      "version": "3.6.4",
      "mimetype": "text/x-python",
      "codemirror_mode": {
        "name": "ipython",
        "version": 3
      },
      "pygments_lexer": "ipython3",
      "nbconvert_exporter": "python",
      "file_extension": ".py"
    },
    "kernelspec": {
      "display_name": "Python 3",
      "language": "python",
      "name": "python3"
    }
  },
  "nbformat": 4,
  "nbformat_minor": 1
}